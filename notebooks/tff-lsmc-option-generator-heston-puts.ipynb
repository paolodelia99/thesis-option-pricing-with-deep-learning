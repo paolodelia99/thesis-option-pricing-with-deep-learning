{
 "nbformat": 4,
 "nbformat_minor": 0,
 "metadata": {
  "colab": {
   "name": "tff-lsmc-option-generator heston puts.ipynb",
   "provenance": [
    {
     "file_id": "1fQ33ddOfE0RiSYv2HVsgvnWL9W92XQ6J",
     "timestamp": 1649228203323
    }
   ],
   "collapsed_sections": [],
   "authorship_tag": "ABX9TyOdJoF0Kpki34RkM4MPVgEE"
  },
  "kernelspec": {
   "name": "python3",
   "display_name": "Python 3"
  },
  "language_info": {
   "name": "python"
  },
  "accelerator": "GPU"
 },
 "cells": [
  {
   "cell_type": "markdown",
   "source": [
    "# Generating Option Data using the Heston Model with Least Square Montecarlo"
   ],
   "metadata": {
    "id": "J7oe5rM9CfHq"
   }
  },
  {
   "cell_type": "code",
   "execution_count": null,
   "metadata": {
    "id": "uG8UAZXjeUhf",
    "colab": {
     "base_uri": "https://localhost:8080/"
    },
    "executionInfo": {
     "status": "ok",
     "timestamp": 1649252044283,
     "user_tz": -120,
     "elapsed": 6442,
     "user": {
      "displayName": "Paolo D'Elia",
      "userId": "06873635760880783531"
     }
    },
    "outputId": "acc6898c-49bb-4447-b185-d4163ba0d8df"
   },
   "outputs": [
    {
     "output_type": "stream",
     "name": "stdout",
     "text": [
      "Requirement already satisfied: tensorflow in /usr/local/lib/python3.7/dist-packages (2.8.0)\n",
      "Requirement already satisfied: gast>=0.2.1 in /usr/local/lib/python3.7/dist-packages (from tensorflow) (0.5.3)\n",
      "Collecting tf-estimator-nightly==2.8.0.dev2021122109\n",
      "  Downloading tf_estimator_nightly-2.8.0.dev2021122109-py2.py3-none-any.whl (462 kB)\n",
      "\u001B[K     |████████████████████████████████| 462 kB 12.1 MB/s \n",
      "\u001B[?25hRequirement already satisfied: opt-einsum>=2.3.2 in /usr/local/lib/python3.7/dist-packages (from tensorflow) (3.3.0)\n",
      "Requirement already satisfied: wrapt>=1.11.0 in /usr/local/lib/python3.7/dist-packages (from tensorflow) (1.14.0)\n",
      "Requirement already satisfied: absl-py>=0.4.0 in /usr/local/lib/python3.7/dist-packages (from tensorflow) (1.0.0)\n",
      "Requirement already satisfied: termcolor>=1.1.0 in /usr/local/lib/python3.7/dist-packages (from tensorflow) (1.1.0)\n",
      "Requirement already satisfied: libclang>=9.0.1 in /usr/local/lib/python3.7/dist-packages (from tensorflow) (13.0.0)\n",
      "Requirement already satisfied: astunparse>=1.6.0 in /usr/local/lib/python3.7/dist-packages (from tensorflow) (1.6.3)\n",
      "Requirement already satisfied: flatbuffers>=1.12 in /usr/local/lib/python3.7/dist-packages (from tensorflow) (2.0)\n",
      "Requirement already satisfied: google-pasta>=0.1.1 in /usr/local/lib/python3.7/dist-packages (from tensorflow) (0.2.0)\n",
      "Requirement already satisfied: keras-preprocessing>=1.1.1 in /usr/local/lib/python3.7/dist-packages (from tensorflow) (1.1.2)\n",
      "Requirement already satisfied: numpy>=1.20 in /usr/local/lib/python3.7/dist-packages (from tensorflow) (1.21.5)\n",
      "Requirement already satisfied: grpcio<2.0,>=1.24.3 in /usr/local/lib/python3.7/dist-packages (from tensorflow) (1.44.0)\n",
      "Requirement already satisfied: protobuf>=3.9.2 in /usr/local/lib/python3.7/dist-packages (from tensorflow) (3.17.3)\n",
      "Requirement already satisfied: setuptools in /usr/local/lib/python3.7/dist-packages (from tensorflow) (57.4.0)\n",
      "Requirement already satisfied: tensorboard<2.9,>=2.8 in /usr/local/lib/python3.7/dist-packages (from tensorflow) (2.8.0)\n",
      "Requirement already satisfied: keras<2.9,>=2.8.0rc0 in /usr/local/lib/python3.7/dist-packages (from tensorflow) (2.8.0)\n",
      "Requirement already satisfied: six>=1.12.0 in /usr/local/lib/python3.7/dist-packages (from tensorflow) (1.15.0)\n",
      "Requirement already satisfied: h5py>=2.9.0 in /usr/local/lib/python3.7/dist-packages (from tensorflow) (3.1.0)\n",
      "Requirement already satisfied: tensorflow-io-gcs-filesystem>=0.23.1 in /usr/local/lib/python3.7/dist-packages (from tensorflow) (0.24.0)\n",
      "Requirement already satisfied: typing-extensions>=3.6.6 in /usr/local/lib/python3.7/dist-packages (from tensorflow) (3.10.0.2)\n",
      "Requirement already satisfied: wheel<1.0,>=0.23.0 in /usr/local/lib/python3.7/dist-packages (from astunparse>=1.6.0->tensorflow) (0.37.1)\n",
      "Requirement already satisfied: cached-property in /usr/local/lib/python3.7/dist-packages (from h5py>=2.9.0->tensorflow) (1.5.2)\n",
      "Requirement already satisfied: tensorboard-plugin-wit>=1.6.0 in /usr/local/lib/python3.7/dist-packages (from tensorboard<2.9,>=2.8->tensorflow) (1.8.1)\n",
      "Requirement already satisfied: google-auth-oauthlib<0.5,>=0.4.1 in /usr/local/lib/python3.7/dist-packages (from tensorboard<2.9,>=2.8->tensorflow) (0.4.6)\n",
      "Requirement already satisfied: requests<3,>=2.21.0 in /usr/local/lib/python3.7/dist-packages (from tensorboard<2.9,>=2.8->tensorflow) (2.23.0)\n",
      "Requirement already satisfied: google-auth<3,>=1.6.3 in /usr/local/lib/python3.7/dist-packages (from tensorboard<2.9,>=2.8->tensorflow) (1.35.0)\n",
      "Requirement already satisfied: markdown>=2.6.8 in /usr/local/lib/python3.7/dist-packages (from tensorboard<2.9,>=2.8->tensorflow) (3.3.6)\n",
      "Requirement already satisfied: tensorboard-data-server<0.7.0,>=0.6.0 in /usr/local/lib/python3.7/dist-packages (from tensorboard<2.9,>=2.8->tensorflow) (0.6.1)\n",
      "Requirement already satisfied: werkzeug>=0.11.15 in /usr/local/lib/python3.7/dist-packages (from tensorboard<2.9,>=2.8->tensorflow) (1.0.1)\n",
      "Requirement already satisfied: cachetools<5.0,>=2.0.0 in /usr/local/lib/python3.7/dist-packages (from google-auth<3,>=1.6.3->tensorboard<2.9,>=2.8->tensorflow) (4.2.4)\n",
      "Requirement already satisfied: rsa<5,>=3.1.4 in /usr/local/lib/python3.7/dist-packages (from google-auth<3,>=1.6.3->tensorboard<2.9,>=2.8->tensorflow) (4.8)\n",
      "Requirement already satisfied: pyasn1-modules>=0.2.1 in /usr/local/lib/python3.7/dist-packages (from google-auth<3,>=1.6.3->tensorboard<2.9,>=2.8->tensorflow) (0.2.8)\n",
      "Requirement already satisfied: requests-oauthlib>=0.7.0 in /usr/local/lib/python3.7/dist-packages (from google-auth-oauthlib<0.5,>=0.4.1->tensorboard<2.9,>=2.8->tensorflow) (1.3.1)\n",
      "Requirement already satisfied: importlib-metadata>=4.4 in /usr/local/lib/python3.7/dist-packages (from markdown>=2.6.8->tensorboard<2.9,>=2.8->tensorflow) (4.11.3)\n",
      "Requirement already satisfied: zipp>=0.5 in /usr/local/lib/python3.7/dist-packages (from importlib-metadata>=4.4->markdown>=2.6.8->tensorboard<2.9,>=2.8->tensorflow) (3.7.0)\n",
      "Requirement already satisfied: pyasn1<0.5.0,>=0.4.6 in /usr/local/lib/python3.7/dist-packages (from pyasn1-modules>=0.2.1->google-auth<3,>=1.6.3->tensorboard<2.9,>=2.8->tensorflow) (0.4.8)\n",
      "Requirement already satisfied: chardet<4,>=3.0.2 in /usr/local/lib/python3.7/dist-packages (from requests<3,>=2.21.0->tensorboard<2.9,>=2.8->tensorflow) (3.0.4)\n",
      "Requirement already satisfied: certifi>=2017.4.17 in /usr/local/lib/python3.7/dist-packages (from requests<3,>=2.21.0->tensorboard<2.9,>=2.8->tensorflow) (2021.10.8)\n",
      "Requirement already satisfied: urllib3!=1.25.0,!=1.25.1,<1.26,>=1.21.1 in /usr/local/lib/python3.7/dist-packages (from requests<3,>=2.21.0->tensorboard<2.9,>=2.8->tensorflow) (1.24.3)\n",
      "Requirement already satisfied: idna<3,>=2.5 in /usr/local/lib/python3.7/dist-packages (from requests<3,>=2.21.0->tensorboard<2.9,>=2.8->tensorflow) (2.10)\n",
      "Requirement already satisfied: oauthlib>=3.0.0 in /usr/local/lib/python3.7/dist-packages (from requests-oauthlib>=0.7.0->google-auth-oauthlib<0.5,>=0.4.1->tensorboard<2.9,>=2.8->tensorflow) (3.2.0)\n",
      "Installing collected packages: tf-estimator-nightly\n",
      "Successfully installed tf-estimator-nightly-2.8.0.dev2021122109\n"
     ]
    }
   ],
   "source": [
    "#@title Upgrade to TensorFlow 2.5+\n",
    "!pip install --upgrade tensorflow --user"
   ]
  },
  {
   "cell_type": "code",
   "execution_count": null,
   "metadata": {
    "colab": {
     "base_uri": "https://localhost:8080/"
    },
    "id": "aijwbAA8u_IM",
    "outputId": "8344d97f-abe1-42b8-98cf-cfd9bb404599",
    "executionInfo": {
     "status": "ok",
     "timestamp": 1649252047934,
     "user_tz": -120,
     "elapsed": 3664,
     "user": {
      "displayName": "Paolo D'Elia",
      "userId": "06873635760880783531"
     }
    }
   },
   "outputs": [
    {
     "output_type": "stream",
     "name": "stdout",
     "text": [
      "Collecting tf-quant-finance\n",
      "  Downloading tf_quant_finance-0.0.1.dev30-py2.py3-none-any.whl (1.4 MB)\n",
      "\u001B[K     |████████████████████████████████| 1.4 MB 10.6 MB/s \n",
      "\u001B[?25hRequirement already satisfied: attrs>=18.2.0 in /usr/local/lib/python3.7/dist-packages (from tf-quant-finance) (21.4.0)\n",
      "Requirement already satisfied: tensorflow-probability>=0.11.0 in /usr/local/lib/python3.7/dist-packages (from tf-quant-finance) (0.16.0)\n",
      "Requirement already satisfied: protobuf in /usr/local/lib/python3.7/dist-packages (from tf-quant-finance) (3.17.3)\n",
      "Requirement already satisfied: numpy>=1.19.2 in /usr/local/lib/python3.7/dist-packages (from tf-quant-finance) (1.21.5)\n",
      "Requirement already satisfied: decorator in /usr/local/lib/python3.7/dist-packages (from tensorflow-probability>=0.11.0->tf-quant-finance) (4.4.2)\n",
      "Requirement already satisfied: dm-tree in /usr/local/lib/python3.7/dist-packages (from tensorflow-probability>=0.11.0->tf-quant-finance) (0.1.6)\n",
      "Requirement already satisfied: six>=1.10.0 in /usr/local/lib/python3.7/dist-packages (from tensorflow-probability>=0.11.0->tf-quant-finance) (1.15.0)\n",
      "Requirement already satisfied: cloudpickle>=1.3 in /usr/local/lib/python3.7/dist-packages (from tensorflow-probability>=0.11.0->tf-quant-finance) (1.3.0)\n",
      "Requirement already satisfied: absl-py in /usr/local/lib/python3.7/dist-packages (from tensorflow-probability>=0.11.0->tf-quant-finance) (1.0.0)\n",
      "Requirement already satisfied: gast>=0.3.2 in /usr/local/lib/python3.7/dist-packages (from tensorflow-probability>=0.11.0->tf-quant-finance) (0.5.3)\n",
      "Installing collected packages: tf-quant-finance\n",
      "Successfully installed tf-quant-finance-0.0.1.dev30\n"
     ]
    }
   ],
   "source": [
    "#@title Install TF Quant Finance\n",
    "!pip install tf-quant-finance"
   ]
  },
  {
   "cell_type": "code",
   "source": [
    "#@title install Scikit Optimize\n",
    "!pip install scikit-optimize"
   ],
   "metadata": {
    "colab": {
     "base_uri": "https://localhost:8080/"
    },
    "id": "sB3OgOlJxNVe",
    "executionInfo": {
     "status": "ok",
     "timestamp": 1649252052354,
     "user_tz": -120,
     "elapsed": 4427,
     "user": {
      "displayName": "Paolo D'Elia",
      "userId": "06873635760880783531"
     }
    },
    "outputId": "4eb7875a-80c0-4831-8dcd-f39a4817816d"
   },
   "execution_count": null,
   "outputs": [
    {
     "output_type": "stream",
     "name": "stdout",
     "text": [
      "Collecting scikit-optimize\n",
      "  Downloading scikit_optimize-0.9.0-py2.py3-none-any.whl (100 kB)\n",
      "\u001B[?25l\r\u001B[K     |███▎                            | 10 kB 22.3 MB/s eta 0:00:01\r\u001B[K     |██████▌                         | 20 kB 1.1 MB/s eta 0:00:01\r\u001B[K     |█████████▉                      | 30 kB 1.6 MB/s eta 0:00:01\r\u001B[K     |█████████████                   | 40 kB 2.0 MB/s eta 0:00:01\r\u001B[K     |████████████████▍               | 51 kB 2.2 MB/s eta 0:00:01\r\u001B[K     |███████████████████▋            | 61 kB 2.6 MB/s eta 0:00:01\r\u001B[K     |██████████████████████▉         | 71 kB 3.1 MB/s eta 0:00:01\r\u001B[K     |██████████████████████████▏     | 81 kB 3.3 MB/s eta 0:00:01\r\u001B[K     |█████████████████████████████▍  | 92 kB 3.7 MB/s eta 0:00:01\r\u001B[K     |████████████████████████████████| 100 kB 3.0 MB/s \n",
      "\u001B[?25hRequirement already satisfied: scikit-learn>=0.20.0 in /usr/local/lib/python3.7/dist-packages (from scikit-optimize) (1.0.2)\n",
      "Collecting pyaml>=16.9\n",
      "  Downloading pyaml-21.10.1-py2.py3-none-any.whl (24 kB)\n",
      "Requirement already satisfied: numpy>=1.13.3 in /usr/local/lib/python3.7/dist-packages (from scikit-optimize) (1.21.5)\n",
      "Requirement already satisfied: joblib>=0.11 in /usr/local/lib/python3.7/dist-packages (from scikit-optimize) (1.1.0)\n",
      "Requirement already satisfied: scipy>=0.19.1 in /usr/local/lib/python3.7/dist-packages (from scikit-optimize) (1.4.1)\n",
      "Requirement already satisfied: PyYAML in /usr/local/lib/python3.7/dist-packages (from pyaml>=16.9->scikit-optimize) (3.13)\n",
      "Requirement already satisfied: threadpoolctl>=2.0.0 in /usr/local/lib/python3.7/dist-packages (from scikit-learn>=0.20.0->scikit-optimize) (3.1.0)\n",
      "Installing collected packages: pyaml, scikit-optimize\n",
      "Successfully installed pyaml-21.10.1 scikit-optimize-0.9.0\n"
     ]
    }
   ]
  },
  {
   "cell_type": "code",
   "execution_count": null,
   "metadata": {
    "id": "bEUjuRSZlNSI"
   },
   "outputs": [],
   "source": [
    "#@title **Imports** { display-mode: \"form\" }\n",
    "\n",
    "import matplotlib.pyplot as plt\n",
    "import numpy as np\n",
    "import time\n",
    "\n",
    "import pandas as pd\n",
    "import seaborn as sns\n",
    "\n",
    "import tensorflow as tf\n",
    "\n",
    "# Import for Tensorflow Quant Finance\n",
    "import tf_quant_finance as tff \n",
    "\n",
    "# Shortcut alias\n",
    "pde = tff.math.pde\n",
    "\n",
    "from IPython.core.pylabtools import figsize\n",
    "figsize(21, 14)  # better graph size for Colab \n",
    "\n",
    "from tf_quant_finance.experimental.lsm_algorithm import lsm\n",
    "from tf_quant_finance.experimental.lsm_algorithm import payoff\n",
    "from typing import Tuple\n",
    "from itertools import product\n",
    "\n",
    "from skopt.space import Space\n",
    "from skopt.sampler import Lhs"
   ]
  },
  {
   "cell_type": "markdown",
   "source": [
    "# Heston model \n",
    "\n",
    "Different form the Geometric Browian process that assumes that the volatility is constant, the Heston model is a stochastic volatility model: the volatility follows a random process.\n",
    "\n",
    "The Heston model assumes that $S_t$, the price of the asset, is determined by a stochastic process:\n",
    "\n",
    "$$\n",
    "dS_t = \\mu S_t dt + \\sqrt{v_t} S_t dW_t^S, S_{t_0} = S_0,\n",
    "$$\n",
    "\n",
    "$$\n",
    "v_t = \\kappa (\\theta - v_t) dt + \\gamma \\sqrt{v_t} dW_t^v, v_{t_0} = v_0\n",
    "$$\n",
    "\n",
    "$$\n",
    "dW_t^S dW_t^v = \\rho dt\n",
    "$$\n",
    "\n",
    "with $v_t$ the instantaneous variance, and $W_t^S$, $W_t^v$ are two Wiener processes with correlation correlation coefficient $\\rho$. The second equation models a mean reversion process for the variance, where $\\kappa$ is the reversion speed, $\\theta$ is the log average variance, $\\gamma$ is the volatility of the variance and $v_0$ is the initial volatility."
   ],
   "metadata": {
    "id": "Zx9ogpa3H7hp"
   }
  },
  {
   "cell_type": "code",
   "source": [
    "def generate_heston_path(S, T, r, kappa, theta, v_0, rho, xi,\n",
    "                         steps, n_paths, return_vol: bool = False):\n",
    "    \"\"\"\n",
    "    \n",
    "    :param S: Underlying price at time t=0\n",
    "    :param T: Time to Expiration (in years)\n",
    "    :param r: Interest Free rate\n",
    "    :param kappa: rate of mean reversion\n",
    "    :param theta: long run average variance\n",
    "    :param v_0: Volatility at time t=0\n",
    "    :param rho: instantaneous correlation of the Weiner processes\n",
    "    :param xi: volatility of volatility\n",
    "    :param steps: number of steps of the simulation\n",
    "    :param n_paths: number of simulations\n",
    "    :param return_vol: return volatility\n",
    "    :return: \n",
    "    \"\"\"\n",
    "    dt = T / steps\n",
    "    size = (n_paths, steps)\n",
    "    prices = np.zeros(size)\n",
    "    sigs = np.zeros(size)\n",
    "    S_t = S\n",
    "    v_t = v_0\n",
    "\n",
    "    for t in range(steps):\n",
    "        mu = np.array([0, 0])\n",
    "        cov = np.array([[1, rho],\n",
    "                        [rho, 1]])\n",
    "        WT = np.random.multivariate_normal(mu, cov=cov, size=n_paths) * np.sqrt(dt)\n",
    "        S_t = S_t * (np.exp((r - v_t / 2) * dt + np.sqrt(v_t) * WT[:, 0]))\n",
    "        v_t = np.abs(v_t + kappa * (theta - v_t) * dt + xi * np.sqrt(v_t) * WT[:, 1])\n",
    "        prices[:, t] = S_t\n",
    "        sigs[:, t] = v_t\n",
    "\n",
    "    if return_vol:\n",
    "        return prices, sigs\n",
    "\n",
    "    return prices"
   ],
   "metadata": {
    "id": "4dQ9T8m6nLqi"
   },
   "execution_count": null,
   "outputs": []
  },
  {
   "cell_type": "code",
   "source": [
    "S = 100 # Underlying Price\n",
    "N = 50 # Number of simulations\n",
    "\n",
    "dtype = np.float64"
   ],
   "metadata": {
    "id": "yzx0E43TuQCV"
   },
   "execution_count": null,
   "outputs": []
  },
  {
   "cell_type": "code",
   "source": [
    "def params_ranges(S,\n",
    "                  strike_step: float = 1.0,\n",
    "                  vol_range: Tuple[float, float, float] = (0.02, 1.02, 0.02),\n",
    "                  interest_range: Tuple[float, float, float] = (0.002, 0.1, 0.01),\n",
    "                  tau_range: Tuple[float, float, float] = (0.15, 1.1, 0.02)) -> Tuple[\n",
    "    np.array, np.array, np.array, np.array]:\n",
    "    \"\"\"\n",
    "    Generate ranges for strike prices, volatility, interest rates and time to expiration\n",
    "    :param strike_step:\n",
    "    :param S: the underlying price\n",
    "    :param vol_range: (start_vol, end_vol, step_vol) for the volatility range\n",
    "    :param interest_range: (start_vol, end_vol, step_vol) for the volatility range\n",
    "    :param tau_range: (start_vol, end_vol, step_vol) for the volatility range\n",
    "    :return: (strike_range, volatility_range, interest_rates_range, time_to_expiration_range)\n",
    "    \"\"\"\n",
    "    strikes = np.arange(S // 2, S + (S // 2) + 1, strike_step)\n",
    "    vols = np.arange(vol_range[0], vol_range[1], vol_range[2])\n",
    "    interests = np.arange(interest_range[0], interest_range[1], interest_range[2])\n",
    "    taus = np.arange(tau_range[0], tau_range[1], tau_range[2])\n",
    "\n",
    "    return strikes, vols, interests, taus"
   ],
   "metadata": {
    "id": "3BoePJY9ABu_"
   },
   "execution_count": null,
   "outputs": []
  },
  {
   "cell_type": "code",
   "source": [
    "s_range, vol_range, r_range, t_range = params_ranges(100, \n",
    "              vol_range=(0.1, 1.05, 0.05), \n",
    "              interest_range=(0.01, 0.11, 0.01),\n",
    "              tau_range=(0.1, 1.2, 0.1))"
   ],
   "metadata": {
    "id": "8rfm5EK3AQT2"
   },
   "execution_count": null,
   "outputs": []
  },
  {
   "cell_type": "markdown",
   "source": [
    "For sampling tecnique used is the ***Latin hypercube sampling (LHS)***, which is able to generate random samples of the parameter values form a multinomial distribution.\n",
    "\n",
    "In our case the variables (dimension of the hyperspace) are 7, namely:\n",
    "\n",
    "- interest rate $r$\n",
    "- time to expiration $\\tau$\n",
    "- correlation $\\rho$\n",
    "- reversion speed $\\kappa$\n",
    "- the volatility of the volatility $x_i$\n",
    "- the long average variance $\\theta$\n",
    "- the initial volatility $v_0$\n"
   ],
   "metadata": {
    "id": "mxr7xQIMDilS"
   }
  },
  {
   "cell_type": "code",
   "source": [
    "space = Space([\n",
    "               (0.01, 0.10), # interest rate\n",
    "               (0.1, 1.1), # time to expiration\n",
    "               (-0.9, 0.0), # correlation\n",
    "               (0.0, 2.0), # reversion speed\n",
    "               (0.0, 0.5), # volatility of volatility\n",
    "               (0.0, 0.5),  # long average variance\n",
    "               (0.05, 0.50), # initial volatility\n",
    "               ])\n",
    "lhs = Lhs(lhs_type=\"classic\", criterion=None)\n",
    "x = lhs.generate(space.dimensions, 3000)"
   ],
   "metadata": {
    "id": "9QFwDkvixhKA"
   },
   "execution_count": null,
   "outputs": []
  },
  {
   "cell_type": "markdown",
   "source": [
    "After we've generated our samples, we are going to generate the heston paths for each of these points whit the following list comprehension."
   ],
   "metadata": {
    "id": "WxIzZjlWGBD9"
   }
  },
  {
   "cell_type": "code",
   "source": [
    "paths_list = [(generate_heston_path(S, t, r, k, theta, v0, rho, xi,\n",
    "                         int(365 * t), N), r ,t, rho, k, xi, theta, v0) for r, t, rho, k, xi, theta, v0 in x]"
   ],
   "metadata": {
    "id": "9FAE1pP5zXn1"
   },
   "execution_count": null,
   "outputs": []
  },
  {
   "cell_type": "code",
   "source": [
    "option_data = pd.DataFrame(\n",
    "        columns=['Price', \n",
    "                 'Strike', \n",
    "                 'Type', \n",
    "                 'Kappa',\n",
    "                 'Rho',\n",
    "                 'Theta',\n",
    "                 'Xi',\n",
    "                 'V_0', \n",
    "                 'Interest Rate', \n",
    "                 'Time to Expiration', \n",
    "                 'Option Price'])"
   ],
   "metadata": {
    "id": "tzppKWEr_mUn"
   },
   "execution_count": null,
   "outputs": []
  },
  {
   "cell_type": "markdown",
   "source": [
    "The generation option loop is going to calculate an option chain for each of the paths generated in the previous step, and append this option chain to the option dataframe. Each option chain is generated in a way that the moneyness values ($m = S/K$ for a call and $m = K/S$ for a put) are between $0.5$ and $1.5$, so in this particular case the strikes are between $50 \\$$ and $150 \\$ $."
   ],
   "metadata": {
    "id": "_9G_UQN3GX_J"
   }
  },
  {
   "cell_type": "code",
   "source": [
    "basis_fn = lsm.make_polynomial_basis(2)\n",
    "payoff_fn = payoff.make_basket_put_payoff(s_range, dtype=dtype)\n",
    "\n",
    "for path, r ,t, rho, k, xi, theta, v0 in paths_list:\n",
    "  # Option price\n",
    "  path = np.expand_dims(path, -1)\n",
    "  steps = int(365 * t)\n",
    "  interest_rates = np.array([0.015] * (steps - 1))\n",
    "  discount_factors = np.exp(-np.cumsum(interest_rates))\n",
    "  opt_prices = lsm.least_square_mc(\n",
    "        path, np.arange(1, steps, 1), payoff_fn, basis_fn,\n",
    "        discount_factors=discount_factors, dtype=dtype).numpy()\n",
    "  opt_chain = pd.DataFrame(\n",
    "        columns=['Price', \n",
    "                 'Strike', \n",
    "                 'Type', \n",
    "                 'Kappa',\n",
    "                 'Rho',\n",
    "                 'Theta',\n",
    "                 'Xi',\n",
    "                 'V_0', \n",
    "                 'Interest Rate', \n",
    "                 'Time to Expiration', \n",
    "                 'Option Price'])\n",
    "  opt_chain['Strike'] = s_range\n",
    "  opt_chain['Option Price'] = opt_prices\n",
    "  opt_chain['Type'] = 'P'\n",
    "  opt_chain['Price'] = S\n",
    "  opt_chain['Interest Rate'] = r\n",
    "  opt_chain['Time to Expiration'] = t\n",
    "  opt_chain['Kappa'] = k\n",
    "  opt_chain['Rho'] = t\n",
    "  opt_chain['V_0'] = t\n",
    "  opt_chain['Theta'] = t\n",
    "  opt_chain['Xi'] = t\n",
    "\n",
    "  option_data = pd.concat([option_data, opt_chain], ignore_index=True)"
   ],
   "metadata": {
    "id": "gXZZANjDBZyY"
   },
   "execution_count": null,
   "outputs": []
  },
  {
   "cell_type": "code",
   "source": [
    "option_data"
   ],
   "metadata": {
    "colab": {
     "base_uri": "https://localhost:8080/",
     "height": 424
    },
    "id": "1xHggqVC--Tx",
    "executionInfo": {
     "status": "ok",
     "timestamp": 1649260323859,
     "user_tz": -120,
     "elapsed": 31,
     "user": {
      "displayName": "Paolo D'Elia",
      "userId": "06873635760880783531"
     }
    },
    "outputId": "fc6f170b-aaf5-4b30-98b7-5c7b248eb601"
   },
   "execution_count": null,
   "outputs": [
    {
     "output_type": "execute_result",
     "data": {
      "text/plain": [
       "       Price  Strike Type     Kappa       Rho     Theta        Xi       V_0  \\\n",
       "0        100    50.0    P  1.547628  0.646792  0.646792  0.646792  0.646792   \n",
       "1        100    51.0    P  1.547628  0.646792  0.646792  0.646792  0.646792   \n",
       "2        100    52.0    P  1.547628  0.646792  0.646792  0.646792  0.646792   \n",
       "3        100    53.0    P  1.547628  0.646792  0.646792  0.646792  0.646792   \n",
       "4        100    54.0    P  1.547628  0.646792  0.646792  0.646792  0.646792   \n",
       "...      ...     ...  ...       ...       ...       ...       ...       ...   \n",
       "302995   100   146.0    P  0.314547  0.438144  0.438144  0.438144  0.438144   \n",
       "302996   100   147.0    P  0.314547  0.438144  0.438144  0.438144  0.438144   \n",
       "302997   100   148.0    P  0.314547  0.438144  0.438144  0.438144  0.438144   \n",
       "302998   100   149.0    P  0.314547  0.438144  0.438144  0.438144  0.438144   \n",
       "302999   100   150.0    P  0.314547  0.438144  0.438144  0.438144  0.438144   \n",
       "\n",
       "        Interest Rate  Time to Expiration  Option Price  \n",
       "0            0.010746            0.646792      0.263583  \n",
       "1            0.010746            0.646792      0.294747  \n",
       "2            0.010746            0.646792      0.330103  \n",
       "3            0.010746            0.646792      0.356858  \n",
       "4            0.010746            0.646792      0.399032  \n",
       "...               ...                 ...           ...  \n",
       "302995       0.034890            0.438144     45.312115  \n",
       "302996       0.034890            0.438144     46.296640  \n",
       "302997       0.034890            0.438144     47.281165  \n",
       "302998       0.034890            0.438144     48.265691  \n",
       "302999       0.034890            0.438144     49.250216  \n",
       "\n",
       "[303000 rows x 11 columns]"
      ],
      "text/html": [
       "\n",
       "  <div id=\"df-339960a5-c8ce-4dc4-be44-db2ec5530edb\">\n",
       "    <div class=\"colab-df-container\">\n",
       "      <div>\n",
       "<style scoped>\n",
       "    .dataframe tbody tr th:only-of-type {\n",
       "        vertical-align: middle;\n",
       "    }\n",
       "\n",
       "    .dataframe tbody tr th {\n",
       "        vertical-align: top;\n",
       "    }\n",
       "\n",
       "    .dataframe thead th {\n",
       "        text-align: right;\n",
       "    }\n",
       "</style>\n",
       "<table border=\"1\" class=\"dataframe\">\n",
       "  <thead>\n",
       "    <tr style=\"text-align: right;\">\n",
       "      <th></th>\n",
       "      <th>Price</th>\n",
       "      <th>Strike</th>\n",
       "      <th>Type</th>\n",
       "      <th>Kappa</th>\n",
       "      <th>Rho</th>\n",
       "      <th>Theta</th>\n",
       "      <th>Xi</th>\n",
       "      <th>V_0</th>\n",
       "      <th>Interest Rate</th>\n",
       "      <th>Time to Expiration</th>\n",
       "      <th>Option Price</th>\n",
       "    </tr>\n",
       "  </thead>\n",
       "  <tbody>\n",
       "    <tr>\n",
       "      <th>0</th>\n",
       "      <td>100</td>\n",
       "      <td>50.0</td>\n",
       "      <td>P</td>\n",
       "      <td>1.547628</td>\n",
       "      <td>0.646792</td>\n",
       "      <td>0.646792</td>\n",
       "      <td>0.646792</td>\n",
       "      <td>0.646792</td>\n",
       "      <td>0.010746</td>\n",
       "      <td>0.646792</td>\n",
       "      <td>0.263583</td>\n",
       "    </tr>\n",
       "    <tr>\n",
       "      <th>1</th>\n",
       "      <td>100</td>\n",
       "      <td>51.0</td>\n",
       "      <td>P</td>\n",
       "      <td>1.547628</td>\n",
       "      <td>0.646792</td>\n",
       "      <td>0.646792</td>\n",
       "      <td>0.646792</td>\n",
       "      <td>0.646792</td>\n",
       "      <td>0.010746</td>\n",
       "      <td>0.646792</td>\n",
       "      <td>0.294747</td>\n",
       "    </tr>\n",
       "    <tr>\n",
       "      <th>2</th>\n",
       "      <td>100</td>\n",
       "      <td>52.0</td>\n",
       "      <td>P</td>\n",
       "      <td>1.547628</td>\n",
       "      <td>0.646792</td>\n",
       "      <td>0.646792</td>\n",
       "      <td>0.646792</td>\n",
       "      <td>0.646792</td>\n",
       "      <td>0.010746</td>\n",
       "      <td>0.646792</td>\n",
       "      <td>0.330103</td>\n",
       "    </tr>\n",
       "    <tr>\n",
       "      <th>3</th>\n",
       "      <td>100</td>\n",
       "      <td>53.0</td>\n",
       "      <td>P</td>\n",
       "      <td>1.547628</td>\n",
       "      <td>0.646792</td>\n",
       "      <td>0.646792</td>\n",
       "      <td>0.646792</td>\n",
       "      <td>0.646792</td>\n",
       "      <td>0.010746</td>\n",
       "      <td>0.646792</td>\n",
       "      <td>0.356858</td>\n",
       "    </tr>\n",
       "    <tr>\n",
       "      <th>4</th>\n",
       "      <td>100</td>\n",
       "      <td>54.0</td>\n",
       "      <td>P</td>\n",
       "      <td>1.547628</td>\n",
       "      <td>0.646792</td>\n",
       "      <td>0.646792</td>\n",
       "      <td>0.646792</td>\n",
       "      <td>0.646792</td>\n",
       "      <td>0.010746</td>\n",
       "      <td>0.646792</td>\n",
       "      <td>0.399032</td>\n",
       "    </tr>\n",
       "    <tr>\n",
       "      <th>...</th>\n",
       "      <td>...</td>\n",
       "      <td>...</td>\n",
       "      <td>...</td>\n",
       "      <td>...</td>\n",
       "      <td>...</td>\n",
       "      <td>...</td>\n",
       "      <td>...</td>\n",
       "      <td>...</td>\n",
       "      <td>...</td>\n",
       "      <td>...</td>\n",
       "      <td>...</td>\n",
       "    </tr>\n",
       "    <tr>\n",
       "      <th>302995</th>\n",
       "      <td>100</td>\n",
       "      <td>146.0</td>\n",
       "      <td>P</td>\n",
       "      <td>0.314547</td>\n",
       "      <td>0.438144</td>\n",
       "      <td>0.438144</td>\n",
       "      <td>0.438144</td>\n",
       "      <td>0.438144</td>\n",
       "      <td>0.034890</td>\n",
       "      <td>0.438144</td>\n",
       "      <td>45.312115</td>\n",
       "    </tr>\n",
       "    <tr>\n",
       "      <th>302996</th>\n",
       "      <td>100</td>\n",
       "      <td>147.0</td>\n",
       "      <td>P</td>\n",
       "      <td>0.314547</td>\n",
       "      <td>0.438144</td>\n",
       "      <td>0.438144</td>\n",
       "      <td>0.438144</td>\n",
       "      <td>0.438144</td>\n",
       "      <td>0.034890</td>\n",
       "      <td>0.438144</td>\n",
       "      <td>46.296640</td>\n",
       "    </tr>\n",
       "    <tr>\n",
       "      <th>302997</th>\n",
       "      <td>100</td>\n",
       "      <td>148.0</td>\n",
       "      <td>P</td>\n",
       "      <td>0.314547</td>\n",
       "      <td>0.438144</td>\n",
       "      <td>0.438144</td>\n",
       "      <td>0.438144</td>\n",
       "      <td>0.438144</td>\n",
       "      <td>0.034890</td>\n",
       "      <td>0.438144</td>\n",
       "      <td>47.281165</td>\n",
       "    </tr>\n",
       "    <tr>\n",
       "      <th>302998</th>\n",
       "      <td>100</td>\n",
       "      <td>149.0</td>\n",
       "      <td>P</td>\n",
       "      <td>0.314547</td>\n",
       "      <td>0.438144</td>\n",
       "      <td>0.438144</td>\n",
       "      <td>0.438144</td>\n",
       "      <td>0.438144</td>\n",
       "      <td>0.034890</td>\n",
       "      <td>0.438144</td>\n",
       "      <td>48.265691</td>\n",
       "    </tr>\n",
       "    <tr>\n",
       "      <th>302999</th>\n",
       "      <td>100</td>\n",
       "      <td>150.0</td>\n",
       "      <td>P</td>\n",
       "      <td>0.314547</td>\n",
       "      <td>0.438144</td>\n",
       "      <td>0.438144</td>\n",
       "      <td>0.438144</td>\n",
       "      <td>0.438144</td>\n",
       "      <td>0.034890</td>\n",
       "      <td>0.438144</td>\n",
       "      <td>49.250216</td>\n",
       "    </tr>\n",
       "  </tbody>\n",
       "</table>\n",
       "<p>303000 rows × 11 columns</p>\n",
       "</div>\n",
       "      <button class=\"colab-df-convert\" onclick=\"convertToInteractive('df-339960a5-c8ce-4dc4-be44-db2ec5530edb')\"\n",
       "              title=\"Convert this dataframe to an interactive table.\"\n",
       "              style=\"display:none;\">\n",
       "        \n",
       "  <svg xmlns=\"http://www.w3.org/2000/svg\" height=\"24px\"viewBox=\"0 0 24 24\"\n",
       "       width=\"24px\">\n",
       "    <path d=\"M0 0h24v24H0V0z\" fill=\"none\"/>\n",
       "    <path d=\"M18.56 5.44l.94 2.06.94-2.06 2.06-.94-2.06-.94-.94-2.06-.94 2.06-2.06.94zm-11 1L8.5 8.5l.94-2.06 2.06-.94-2.06-.94L8.5 2.5l-.94 2.06-2.06.94zm10 10l.94 2.06.94-2.06 2.06-.94-2.06-.94-.94-2.06-.94 2.06-2.06.94z\"/><path d=\"M17.41 7.96l-1.37-1.37c-.4-.4-.92-.59-1.43-.59-.52 0-1.04.2-1.43.59L10.3 9.45l-7.72 7.72c-.78.78-.78 2.05 0 2.83L4 21.41c.39.39.9.59 1.41.59.51 0 1.02-.2 1.41-.59l7.78-7.78 2.81-2.81c.8-.78.8-2.07 0-2.86zM5.41 20L4 18.59l7.72-7.72 1.47 1.35L5.41 20z\"/>\n",
       "  </svg>\n",
       "      </button>\n",
       "      \n",
       "  <style>\n",
       "    .colab-df-container {\n",
       "      display:flex;\n",
       "      flex-wrap:wrap;\n",
       "      gap: 12px;\n",
       "    }\n",
       "\n",
       "    .colab-df-convert {\n",
       "      background-color: #E8F0FE;\n",
       "      border: none;\n",
       "      border-radius: 50%;\n",
       "      cursor: pointer;\n",
       "      display: none;\n",
       "      fill: #1967D2;\n",
       "      height: 32px;\n",
       "      padding: 0 0 0 0;\n",
       "      width: 32px;\n",
       "    }\n",
       "\n",
       "    .colab-df-convert:hover {\n",
       "      background-color: #E2EBFA;\n",
       "      box-shadow: 0px 1px 2px rgba(60, 64, 67, 0.3), 0px 1px 3px 1px rgba(60, 64, 67, 0.15);\n",
       "      fill: #174EA6;\n",
       "    }\n",
       "\n",
       "    [theme=dark] .colab-df-convert {\n",
       "      background-color: #3B4455;\n",
       "      fill: #D2E3FC;\n",
       "    }\n",
       "\n",
       "    [theme=dark] .colab-df-convert:hover {\n",
       "      background-color: #434B5C;\n",
       "      box-shadow: 0px 1px 3px 1px rgba(0, 0, 0, 0.15);\n",
       "      filter: drop-shadow(0px 1px 2px rgba(0, 0, 0, 0.3));\n",
       "      fill: #FFFFFF;\n",
       "    }\n",
       "  </style>\n",
       "\n",
       "      <script>\n",
       "        const buttonEl =\n",
       "          document.querySelector('#df-339960a5-c8ce-4dc4-be44-db2ec5530edb button.colab-df-convert');\n",
       "        buttonEl.style.display =\n",
       "          google.colab.kernel.accessAllowed ? 'block' : 'none';\n",
       "\n",
       "        async function convertToInteractive(key) {\n",
       "          const element = document.querySelector('#df-339960a5-c8ce-4dc4-be44-db2ec5530edb');\n",
       "          const dataTable =\n",
       "            await google.colab.kernel.invokeFunction('convertToInteractive',\n",
       "                                                     [key], {});\n",
       "          if (!dataTable) return;\n",
       "\n",
       "          const docLinkHtml = 'Like what you see? Visit the ' +\n",
       "            '<a target=\"_blank\" href=https://colab.research.google.com/notebooks/data_table.ipynb>data table notebook</a>'\n",
       "            + ' to learn more about interactive tables.';\n",
       "          element.innerHTML = '';\n",
       "          dataTable['output_type'] = 'display_data';\n",
       "          await google.colab.output.renderOutput(dataTable, element);\n",
       "          const docLink = document.createElement('div');\n",
       "          docLink.innerHTML = docLinkHtml;\n",
       "          element.appendChild(docLink);\n",
       "        }\n",
       "      </script>\n",
       "    </div>\n",
       "  </div>\n",
       "  "
      ]
     },
     "metadata": {},
     "execution_count": 14
    }
   ]
  },
  {
   "cell_type": "code",
   "source": [
    "option_data.to_csv('../data/heston_mc_synthetic_puts.csv')"
   ],
   "metadata": {
    "id": "Q-QUM_Ko7Vd5"
   },
   "execution_count": null,
   "outputs": []
  }
 ]
}