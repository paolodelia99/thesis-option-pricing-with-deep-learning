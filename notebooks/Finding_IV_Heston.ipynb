{
 "cells": [
  {
   "cell_type": "markdown",
   "metadata": {
    "id": "nB0kfVjUkuOm",
    "pycharm": {
     "name": "#%% md\n"
    }
   },
   "source": [
    "# IV Surface\n",
    "\n",
    "Content:\n",
    "\n",
    "- [Load Data](#load-data)\n",
    "- [Model](#Model) \n",
    "- [IV Code](#IV-code)\n",
    "- [Calls IV](#Call-IV)\n",
    "- [Puts IV](#Puts-IV)"
   ]
  },
  {
   "cell_type": "code",
   "execution_count": 1,
   "metadata": {
    "id": "d5WqaKnRuqZ5",
    "pycharm": {
     "name": "#%%\n"
    }
   },
   "outputs": [],
   "source": [
    "import warnings\n",
    "import time\n",
    "\n",
    "import pandas as pd\n",
    "import numpy as np\n",
    "import matplotlib.pyplot as plt\n",
    "\n",
    "from sklearn.preprocessing import StandardScaler\n",
    "from sklearn.utils import shuffle\n",
    "\n",
    "from scipy.optimize import fsolve\n",
    "import scipy as sq\n",
    "from scipy import stats\n",
    "\n",
    "from typing import Tuple\n",
    "from itertools import product\n",
    "\n",
    "import torch\n",
    "import torch.nn as nn\n",
    "from torch.autograd import Variable\n",
    "from torch.utils.data import Dataset, DataLoader"
   ]
  },
  {
   "cell_type": "code",
   "execution_count": 2,
   "metadata": {
    "id": "QvVjZvRAu4V6",
    "pycharm": {
     "name": "#%%\n"
    }
   },
   "outputs": [],
   "source": [
    "# Set seeds\n",
    "torch.manual_seed(0)\n",
    "np.random.seed(0)"
   ]
  },
  {
   "cell_type": "code",
   "execution_count": 3,
   "metadata": {
    "id": "de8X7ZZFu5jM",
    "pycharm": {
     "name": "#%%\n"
    }
   },
   "outputs": [],
   "source": [
    "synthetic_calls_path = '../data/heston_mc_synthetic_calls.csv'\n",
    "synthetic_puts_path = '../data/heston_mc_synthetic_puts.csv'\n",
    "call_sample_path = '../data/heston_calls_iv.csv'\n",
    "put_sample_path = '../data/heston_puts_iv.csv'"
   ]
  },
  {
   "cell_type": "code",
   "execution_count": 4,
   "metadata": {
    "id": "qlQic-lZu61e",
    "pycharm": {
     "name": "#%%\n"
    }
   },
   "outputs": [],
   "source": [
    "def reduce_mem_usage(df):\n",
    "    \"\"\" iterate through all the columns of a dataframe and modify the data type\n",
    "        to reduce memory usage.        \n",
    "    \"\"\"    \n",
    "    for col in df.columns:\n",
    "        col_type = df[col].dtype\n",
    "        \n",
    "        if col_type != object:\n",
    "            c_min = df[col].min()\n",
    "            c_max = df[col].max()\n",
    "            if str(col_type)[:3] == 'int':\n",
    "                if c_min > np.iinfo(np.int8).min and c_max < np.iinfo(np.int8).max:\n",
    "                    df[col] = df[col].astype(np.int8)\n",
    "                elif c_min > np.iinfo(np.int16).min and c_max < np.iinfo(np.int16).max:\n",
    "                    df[col] = df[col].astype(np.int16)\n",
    "                elif c_min > np.iinfo(np.int32).min and c_max < np.iinfo(np.int32).max:\n",
    "                    df[col] = df[col].astype(np.int32)\n",
    "                elif c_min > np.iinfo(np.int64).min and c_max < np.iinfo(np.int64).max:\n",
    "                    df[col] = df[col].astype(np.int64)  \n",
    "            else:\n",
    "                if c_min > np.finfo(np.float16).min and c_max < np.finfo(np.float16).max:\n",
    "                    df[col] = df[col].astype(np.float16)\n",
    "                elif c_min > np.finfo(np.float32).min and c_max < np.finfo(np.float32).max:\n",
    "                    df[col] = df[col].astype(np.float32)\n",
    "                else:\n",
    "                    df[col] = df[col].astype(np.float64)\n",
    "        else:\n",
    "            df[col] = df[col].astype('category')\n",
    "    \n",
    "    return df"
   ]
  },
  {
   "cell_type": "code",
   "execution_count": 5,
   "metadata": {
    "id": "ZDbfn4f9u9zi",
    "pycharm": {
     "name": "#%%\n"
    }
   },
   "outputs": [],
   "source": [
    "synthetic_calls = pd.read_csv(synthetic_calls_path, index_col=0)\n",
    "synthetic_puts = pd.read_csv(synthetic_puts_path, index_col=0)\n",
    "\n",
    "synthetic_calls = reduce_mem_usage(synthetic_calls)\n",
    "synthetic_puts = reduce_mem_usage(synthetic_puts)"
   ]
  },
  {
   "cell_type": "code",
   "execution_count": 6,
   "metadata": {
    "id": "ckdSVfv6u-fm",
    "pycharm": {
     "name": "#%%\n"
    }
   },
   "outputs": [],
   "source": [
    "synthetic_options = pd.concat([synthetic_calls, synthetic_puts], axis=0)\n",
    "synthetic_options = shuffle(synthetic_options, random_state=0)\n",
    "synthetic_options = synthetic_options.reset_index()\n",
    "synthetic_options = synthetic_options.drop('index', axis=1)"
   ]
  },
  {
   "cell_type": "code",
   "execution_count": 7,
   "metadata": {
    "colab": {
     "base_uri": "https://localhost:8080/",
     "height": 424
    },
    "id": "t_8gd-LSu_jn",
    "outputId": "e3ab8d16-13a0-4cbf-9610-e1aeedb8b37c",
    "pycharm": {
     "name": "#%%\n"
    }
   },
   "outputs": [
    {
     "data": {
      "text/plain": "        Price  Strike Type     Kappa       Rho     Theta        Xi       V_0  \\\n0         100    63.0    P  1.877930 -0.603516  0.252441  0.050323  0.364258   \n1         100   131.0    P  1.459961 -0.262451  0.310059  0.153198  0.338867   \n2         100   105.0    C  0.247192 -0.742676  0.471924  0.463135  0.268311   \n3         100    68.0    P  1.594727 -0.576172  0.099670  0.465088  0.366455   \n4         100    77.0    C  1.563477 -0.328125  0.308838  0.409912  0.241455   \n...       ...     ...  ...       ...       ...       ...       ...       ...   \n605995    100    71.0    P  1.039062 -0.757324  0.227661  0.312500  0.445068   \n605996    100    57.0    C  1.905273 -0.276855  0.322266  0.061432  0.120117   \n605997    100   135.0    C  0.971680 -0.711426  0.270508  0.438477  0.483887   \n605998    100    64.0    P  1.767578 -0.417480  0.054260  0.137573  0.226440   \n605999    100   135.0    P  1.183594 -0.541504  0.479980  0.091614  0.104736   \n\n        Interest Rate  Time to Expiration  Option Price  \n0            0.065308            1.000977      0.002708  \n1            0.069153            0.363525     28.703125  \n2            0.040802            1.099609      2.324219  \n3            0.062683            1.072266      0.060577  \n4            0.011162            0.940430     24.359375  \n...               ...                 ...           ...  \n605995       0.016006            0.487061      1.505859  \n605996       0.025070            0.947754     41.687500  \n605997       0.097107            0.289307      0.180542  \n605998       0.070374            0.365479      0.001135  \n605999       0.095215            0.864746     32.093750  \n\n[606000 rows x 11 columns]",
      "text/html": "<div>\n<style scoped>\n    .dataframe tbody tr th:only-of-type {\n        vertical-align: middle;\n    }\n\n    .dataframe tbody tr th {\n        vertical-align: top;\n    }\n\n    .dataframe thead th {\n        text-align: right;\n    }\n</style>\n<table border=\"1\" class=\"dataframe\">\n  <thead>\n    <tr style=\"text-align: right;\">\n      <th></th>\n      <th>Price</th>\n      <th>Strike</th>\n      <th>Type</th>\n      <th>Kappa</th>\n      <th>Rho</th>\n      <th>Theta</th>\n      <th>Xi</th>\n      <th>V_0</th>\n      <th>Interest Rate</th>\n      <th>Time to Expiration</th>\n      <th>Option Price</th>\n    </tr>\n  </thead>\n  <tbody>\n    <tr>\n      <th>0</th>\n      <td>100</td>\n      <td>63.0</td>\n      <td>P</td>\n      <td>1.877930</td>\n      <td>-0.603516</td>\n      <td>0.252441</td>\n      <td>0.050323</td>\n      <td>0.364258</td>\n      <td>0.065308</td>\n      <td>1.000977</td>\n      <td>0.002708</td>\n    </tr>\n    <tr>\n      <th>1</th>\n      <td>100</td>\n      <td>131.0</td>\n      <td>P</td>\n      <td>1.459961</td>\n      <td>-0.262451</td>\n      <td>0.310059</td>\n      <td>0.153198</td>\n      <td>0.338867</td>\n      <td>0.069153</td>\n      <td>0.363525</td>\n      <td>28.703125</td>\n    </tr>\n    <tr>\n      <th>2</th>\n      <td>100</td>\n      <td>105.0</td>\n      <td>C</td>\n      <td>0.247192</td>\n      <td>-0.742676</td>\n      <td>0.471924</td>\n      <td>0.463135</td>\n      <td>0.268311</td>\n      <td>0.040802</td>\n      <td>1.099609</td>\n      <td>2.324219</td>\n    </tr>\n    <tr>\n      <th>3</th>\n      <td>100</td>\n      <td>68.0</td>\n      <td>P</td>\n      <td>1.594727</td>\n      <td>-0.576172</td>\n      <td>0.099670</td>\n      <td>0.465088</td>\n      <td>0.366455</td>\n      <td>0.062683</td>\n      <td>1.072266</td>\n      <td>0.060577</td>\n    </tr>\n    <tr>\n      <th>4</th>\n      <td>100</td>\n      <td>77.0</td>\n      <td>C</td>\n      <td>1.563477</td>\n      <td>-0.328125</td>\n      <td>0.308838</td>\n      <td>0.409912</td>\n      <td>0.241455</td>\n      <td>0.011162</td>\n      <td>0.940430</td>\n      <td>24.359375</td>\n    </tr>\n    <tr>\n      <th>...</th>\n      <td>...</td>\n      <td>...</td>\n      <td>...</td>\n      <td>...</td>\n      <td>...</td>\n      <td>...</td>\n      <td>...</td>\n      <td>...</td>\n      <td>...</td>\n      <td>...</td>\n      <td>...</td>\n    </tr>\n    <tr>\n      <th>605995</th>\n      <td>100</td>\n      <td>71.0</td>\n      <td>P</td>\n      <td>1.039062</td>\n      <td>-0.757324</td>\n      <td>0.227661</td>\n      <td>0.312500</td>\n      <td>0.445068</td>\n      <td>0.016006</td>\n      <td>0.487061</td>\n      <td>1.505859</td>\n    </tr>\n    <tr>\n      <th>605996</th>\n      <td>100</td>\n      <td>57.0</td>\n      <td>C</td>\n      <td>1.905273</td>\n      <td>-0.276855</td>\n      <td>0.322266</td>\n      <td>0.061432</td>\n      <td>0.120117</td>\n      <td>0.025070</td>\n      <td>0.947754</td>\n      <td>41.687500</td>\n    </tr>\n    <tr>\n      <th>605997</th>\n      <td>100</td>\n      <td>135.0</td>\n      <td>C</td>\n      <td>0.971680</td>\n      <td>-0.711426</td>\n      <td>0.270508</td>\n      <td>0.438477</td>\n      <td>0.483887</td>\n      <td>0.097107</td>\n      <td>0.289307</td>\n      <td>0.180542</td>\n    </tr>\n    <tr>\n      <th>605998</th>\n      <td>100</td>\n      <td>64.0</td>\n      <td>P</td>\n      <td>1.767578</td>\n      <td>-0.417480</td>\n      <td>0.054260</td>\n      <td>0.137573</td>\n      <td>0.226440</td>\n      <td>0.070374</td>\n      <td>0.365479</td>\n      <td>0.001135</td>\n    </tr>\n    <tr>\n      <th>605999</th>\n      <td>100</td>\n      <td>135.0</td>\n      <td>P</td>\n      <td>1.183594</td>\n      <td>-0.541504</td>\n      <td>0.479980</td>\n      <td>0.091614</td>\n      <td>0.104736</td>\n      <td>0.095215</td>\n      <td>0.864746</td>\n      <td>32.093750</td>\n    </tr>\n  </tbody>\n</table>\n<p>606000 rows × 11 columns</p>\n</div>"
     },
     "execution_count": 7,
     "metadata": {},
     "output_type": "execute_result"
    }
   ],
   "source": [
    "synthetic_options"
   ]
  },
  {
   "cell_type": "code",
   "execution_count": 8,
   "metadata": {
    "id": "VozXSoqI9aIa",
    "pycharm": {
     "name": "#%%\n"
    }
   },
   "outputs": [],
   "source": [
    "call_sample = pd.read_csv(call_sample_path, index_col=0)\n",
    "put_sample = pd.read_csv(put_sample_path, index_col=0)"
   ]
  },
  {
   "cell_type": "code",
   "execution_count": 20,
   "outputs": [
    {
     "data": {
      "text/plain": "     Price  Strike  Kappa   Rho  Theta   Xi   V_0  Interest Rate  \\\n0      100      66    1.5 -0.05   0.45  0.3  0.25           0.02   \n1      100      71    1.5 -0.05   0.45  0.3  0.25           0.02   \n2      100      76    1.5 -0.05   0.45  0.3  0.25           0.02   \n3      100      81    1.5 -0.05   0.45  0.3  0.25           0.02   \n4      100      86    1.5 -0.05   0.45  0.3  0.25           0.02   \n..     ...     ...    ...   ...    ...  ...   ...            ...   \n845    100     126    1.5 -0.05   0.45  0.3  0.25           0.02   \n846    100     131    1.5 -0.05   0.45  0.3  0.25           0.02   \n847    100     136    1.5 -0.05   0.45  0.3  0.25           0.02   \n848    100     141    1.5 -0.05   0.45  0.3  0.25           0.02   \n849    100     146    1.5 -0.05   0.45  0.3  0.25           0.02   \n\n     Time to Expiration  C  P  Option Price  \n0              0.443166  0  1      0.185020  \n1              0.443166  0  1      0.321809  \n2              0.443166  0  1      0.573322  \n3              0.443166  0  1      0.828163  \n4              0.443166  0  1      1.336206  \n..                  ... .. ..           ...  \n845            0.940808  0  1     24.916916  \n846            0.940808  0  1     29.799266  \n847            0.940808  0  1     34.710163  \n848            0.940808  0  1     39.561434  \n849            0.940808  0  1     44.387525  \n\n[850 rows x 12 columns]",
      "text/html": "<div>\n<style scoped>\n    .dataframe tbody tr th:only-of-type {\n        vertical-align: middle;\n    }\n\n    .dataframe tbody tr th {\n        vertical-align: top;\n    }\n\n    .dataframe thead th {\n        text-align: right;\n    }\n</style>\n<table border=\"1\" class=\"dataframe\">\n  <thead>\n    <tr style=\"text-align: right;\">\n      <th></th>\n      <th>Price</th>\n      <th>Strike</th>\n      <th>Kappa</th>\n      <th>Rho</th>\n      <th>Theta</th>\n      <th>Xi</th>\n      <th>V_0</th>\n      <th>Interest Rate</th>\n      <th>Time to Expiration</th>\n      <th>C</th>\n      <th>P</th>\n      <th>Option Price</th>\n    </tr>\n  </thead>\n  <tbody>\n    <tr>\n      <th>0</th>\n      <td>100</td>\n      <td>66</td>\n      <td>1.5</td>\n      <td>-0.05</td>\n      <td>0.45</td>\n      <td>0.3</td>\n      <td>0.25</td>\n      <td>0.02</td>\n      <td>0.443166</td>\n      <td>0</td>\n      <td>1</td>\n      <td>0.185020</td>\n    </tr>\n    <tr>\n      <th>1</th>\n      <td>100</td>\n      <td>71</td>\n      <td>1.5</td>\n      <td>-0.05</td>\n      <td>0.45</td>\n      <td>0.3</td>\n      <td>0.25</td>\n      <td>0.02</td>\n      <td>0.443166</td>\n      <td>0</td>\n      <td>1</td>\n      <td>0.321809</td>\n    </tr>\n    <tr>\n      <th>2</th>\n      <td>100</td>\n      <td>76</td>\n      <td>1.5</td>\n      <td>-0.05</td>\n      <td>0.45</td>\n      <td>0.3</td>\n      <td>0.25</td>\n      <td>0.02</td>\n      <td>0.443166</td>\n      <td>0</td>\n      <td>1</td>\n      <td>0.573322</td>\n    </tr>\n    <tr>\n      <th>3</th>\n      <td>100</td>\n      <td>81</td>\n      <td>1.5</td>\n      <td>-0.05</td>\n      <td>0.45</td>\n      <td>0.3</td>\n      <td>0.25</td>\n      <td>0.02</td>\n      <td>0.443166</td>\n      <td>0</td>\n      <td>1</td>\n      <td>0.828163</td>\n    </tr>\n    <tr>\n      <th>4</th>\n      <td>100</td>\n      <td>86</td>\n      <td>1.5</td>\n      <td>-0.05</td>\n      <td>0.45</td>\n      <td>0.3</td>\n      <td>0.25</td>\n      <td>0.02</td>\n      <td>0.443166</td>\n      <td>0</td>\n      <td>1</td>\n      <td>1.336206</td>\n    </tr>\n    <tr>\n      <th>...</th>\n      <td>...</td>\n      <td>...</td>\n      <td>...</td>\n      <td>...</td>\n      <td>...</td>\n      <td>...</td>\n      <td>...</td>\n      <td>...</td>\n      <td>...</td>\n      <td>...</td>\n      <td>...</td>\n      <td>...</td>\n    </tr>\n    <tr>\n      <th>845</th>\n      <td>100</td>\n      <td>126</td>\n      <td>1.5</td>\n      <td>-0.05</td>\n      <td>0.45</td>\n      <td>0.3</td>\n      <td>0.25</td>\n      <td>0.02</td>\n      <td>0.940808</td>\n      <td>0</td>\n      <td>1</td>\n      <td>24.916916</td>\n    </tr>\n    <tr>\n      <th>846</th>\n      <td>100</td>\n      <td>131</td>\n      <td>1.5</td>\n      <td>-0.05</td>\n      <td>0.45</td>\n      <td>0.3</td>\n      <td>0.25</td>\n      <td>0.02</td>\n      <td>0.940808</td>\n      <td>0</td>\n      <td>1</td>\n      <td>29.799266</td>\n    </tr>\n    <tr>\n      <th>847</th>\n      <td>100</td>\n      <td>136</td>\n      <td>1.5</td>\n      <td>-0.05</td>\n      <td>0.45</td>\n      <td>0.3</td>\n      <td>0.25</td>\n      <td>0.02</td>\n      <td>0.940808</td>\n      <td>0</td>\n      <td>1</td>\n      <td>34.710163</td>\n    </tr>\n    <tr>\n      <th>848</th>\n      <td>100</td>\n      <td>141</td>\n      <td>1.5</td>\n      <td>-0.05</td>\n      <td>0.45</td>\n      <td>0.3</td>\n      <td>0.25</td>\n      <td>0.02</td>\n      <td>0.940808</td>\n      <td>0</td>\n      <td>1</td>\n      <td>39.561434</td>\n    </tr>\n    <tr>\n      <th>849</th>\n      <td>100</td>\n      <td>146</td>\n      <td>1.5</td>\n      <td>-0.05</td>\n      <td>0.45</td>\n      <td>0.3</td>\n      <td>0.25</td>\n      <td>0.02</td>\n      <td>0.940808</td>\n      <td>0</td>\n      <td>1</td>\n      <td>44.387525</td>\n    </tr>\n  </tbody>\n</table>\n<p>850 rows × 12 columns</p>\n</div>"
     },
     "execution_count": 20,
     "metadata": {},
     "output_type": "execute_result"
    }
   ],
   "source": [
    "put_sample"
   ],
   "metadata": {
    "collapsed": false,
    "pycharm": {
     "name": "#%%\n"
    }
   }
  },
  {
   "cell_type": "markdown",
   "metadata": {
    "id": "iKLZO13NvMTW",
    "pycharm": {
     "name": "#%% md\n"
    }
   },
   "source": [
    "## Preprocessing"
   ]
  },
  {
   "cell_type": "code",
   "execution_count": 9,
   "metadata": {
    "id": "cQ9KfnGrvcs4",
    "pycharm": {
     "name": "#%%\n"
    }
   },
   "outputs": [],
   "source": [
    "synthetic_options = pd.get_dummies(synthetic_options, prefix='', prefix_sep='')"
   ]
  },
  {
   "cell_type": "code",
   "execution_count": 10,
   "metadata": {
    "colab": {
     "base_uri": "https://localhost:8080/"
    },
    "id": "SsAVHmvJ64Yd",
    "outputId": "674a79b3-6bbd-4ce3-dee9-90523873d68f",
    "pycharm": {
     "name": "#%%\n"
    }
   },
   "outputs": [
    {
     "data": {
      "text/plain": "Index(['Price', 'Strike', 'Kappa', 'Rho', 'Theta', 'Xi', 'V_0',\n       'Interest Rate', 'Time to Expiration', 'C', 'P'],\n      dtype='object')"
     },
     "execution_count": 10,
     "metadata": {},
     "output_type": "execute_result"
    }
   ],
   "source": [
    "synthetic_options.drop('Option Price', axis=1).columns"
   ]
  },
  {
   "cell_type": "code",
   "execution_count": 11,
   "metadata": {
    "id": "2oZN9QcKvPU8",
    "pycharm": {
     "name": "#%%\n"
    }
   },
   "outputs": [],
   "source": [
    "input_sc = StandardScaler()\n",
    "output_sc = StandardScaler()\n",
    "input_data = input_sc.fit_transform(synthetic_options.drop('Option Price', axis=1))\n",
    "output_data = output_sc.fit_transform(synthetic_options['Option Price'].values.reshape(-1, 1))"
   ]
  },
  {
   "cell_type": "markdown",
   "metadata": {
    "id": "jBAVivmLvg29",
    "pycharm": {
     "name": "#%% md\n"
    }
   },
   "source": [
    "## Model"
   ]
  },
  {
   "cell_type": "code",
   "execution_count": 12,
   "metadata": {
    "id": "LYiQyIkBvh-p",
    "pycharm": {
     "name": "#%%\n"
    }
   },
   "outputs": [],
   "source": [
    "CUDA = torch.cuda.is_available()\n",
    "device = 'cuda:0' if CUDA else 'cpu'"
   ]
  },
  {
   "cell_type": "code",
   "execution_count": 13,
   "metadata": {
    "id": "BiH0caYUvjUL",
    "pycharm": {
     "name": "#%%\n"
    }
   },
   "outputs": [],
   "source": [
    "class ResBlock(nn.Module):\n",
    "\n",
    "  def __init__(self, module):\n",
    "    super(ResBlock, self).__init__()\n",
    "    self.module = module\n",
    "\n",
    "  def forward(self, x):\n",
    "    return self.module(x) + x"
   ]
  },
  {
   "cell_type": "code",
   "execution_count": 14,
   "metadata": {
    "id": "7uOXXLiYvk79",
    "pycharm": {
     "name": "#%%\n"
    }
   },
   "outputs": [],
   "source": [
    "class HiddenLayer(nn.Module):\n",
    "\n",
    "  def __init__(self, layer_size, act_fn):\n",
    "      super(HiddenLayer, self).__init__()\n",
    "      \n",
    "      if act_fn == 'ReLU':\n",
    "        self.layer = nn.Sequential(\n",
    "          nn.Linear(layer_size, layer_size),\n",
    "          nn.ReLU())\n",
    "      elif act_fn == 'LeakyReLU':\n",
    "        self.layer = nn.Sequential(\n",
    "          nn.Linear(layer_size, layer_size),\n",
    "          nn.LeakyReLU())\n",
    "      elif act_fn == 'ELU':\n",
    "        self.layer = nn.Sequential(\n",
    "          nn.Linear(layer_size, layer_size),\n",
    "          nn.ELU())\n",
    "    \n",
    "  def forward(self, x):\n",
    "    return self.layer(x)"
   ]
  },
  {
   "cell_type": "code",
   "execution_count": 15,
   "metadata": {
    "id": "uuAjyuRUvlpe",
    "pycharm": {
     "name": "#%%\n"
    }
   },
   "outputs": [],
   "source": [
    "class Net(nn.Module):\n",
    "\n",
    "  def __init__(self, input_size, output_size, hidden_size, num_layers, act_fn):\n",
    "    super(Net, self).__init__()\n",
    "    self.input_size = input_size\n",
    "    self.output_size = output_size\n",
    "    self.hidden_size = hidden_size\n",
    "\n",
    "    if act_fn == 'ReLU':\n",
    "      self.initial_layer = nn.Sequential(\n",
    "          nn.Linear(self.input_size, self.hidden_size),\n",
    "          nn.ReLU())\n",
    "    elif act_fn == 'LeakyReLU':\n",
    "      self.initial_layer = nn.Sequential(\n",
    "          nn.Linear(self.input_size, self.hidden_size),\n",
    "          nn.LeakyReLU())\n",
    "    elif act_fn == 'ELU':\n",
    "      self.initial_layer = nn.Sequential(\n",
    "          nn.Linear(self.input_size, self.hidden_size),\n",
    "          nn.ELU())\n",
    "\n",
    "    self.hidden_layers_list = []\n",
    "\n",
    "    for i in range(num_layers // 2):\n",
    "      self.hidden_layers_list.append(\n",
    "          ResBlock(\n",
    "            nn.Sequential(\n",
    "                HiddenLayer(self.hidden_size, act_fn),\n",
    "                HiddenLayer(self.hidden_size, act_fn)\n",
    "            )\n",
    "        )\n",
    "      )\n",
    "\n",
    "    self.hidden_layers = nn.Sequential(*self.hidden_layers_list)\n",
    "\n",
    "    self.net = nn.Sequential(\n",
    "        self.initial_layer,\n",
    "        self.hidden_layers,\n",
    "        nn.Linear(self.hidden_size, self.output_size)\n",
    "    )\n",
    "  \n",
    "  def forward(self, x):\n",
    "    return self.net(x)"
   ]
  },
  {
   "cell_type": "code",
   "execution_count": 16,
   "metadata": {
    "id": "r1gV4YAkvrFF",
    "pycharm": {
     "name": "#%%\n"
    }
   },
   "outputs": [],
   "source": [
    "def init_weights(m, init_m: str):\n",
    "\n",
    "  @torch.no_grad()\n",
    "  def init_uniform(m):\n",
    "    if isinstance(m, nn.Linear):\n",
    "      torch.nn.init.uniform_(m.weight)\n",
    "      m.bias.data.fill_(0.01)\n",
    "\n",
    "  @torch.no_grad()\n",
    "  def init_normal(m):\n",
    "    if isinstance(m, nn.Linear):\n",
    "      torch.nn.init.normal_(m.weight)\n",
    "      m.bias.data.fill_(0.01)\n",
    "\n",
    "  @torch.no_grad()\n",
    "  def init_xuniform(m):\n",
    "    if isinstance(m, nn.Linear):\n",
    "      torch.nn.init.xavier_uniform_(m.weight)\n",
    "      m.bias.data.fill_(0.01)\n",
    "\n",
    "  @torch.no_grad()\n",
    "  def init_xnormal(m):\n",
    "    if isinstance(m, nn.Linear):\n",
    "      torch.nn.init.xavier_normal_(m.weight)\n",
    "      m.bias.data.fill_(0.01)\n",
    "\n",
    "  if init_m == 'uniform':\n",
    "    m.apply(init_uniform)\n",
    "  elif init_m == 'normal':\n",
    "    m.apply(init_normal)\n",
    "  elif init_m == 'xaiver uniform':\n",
    "    m.apply(init_xuniform)\n",
    "  elif init_m == 'xavier normal':\n",
    "    m.apply(init_xnormal)"
   ]
  },
  {
   "cell_type": "code",
   "execution_count": 21,
   "metadata": {
    "id": "6f0_pFsMvtlS",
    "pycharm": {
     "name": "#%%\n"
    }
   },
   "outputs": [],
   "source": [
    "input_size = 11\n",
    "output_size = 1\n",
    "num_layers = 4\n",
    "hidden_size = 600\n",
    "batch_size = 585\n",
    "epochs = 2000\n",
    "lr = 0.000656\n",
    "init_method = 'xaiver uniform'\n",
    "act_fn = 'LeakyReLU'\n",
    "\n",
    "model = Net(input_size, output_size, hidden_size, num_layers, act_fn)\n",
    "init_weights(model, init_method)\n",
    "\n",
    "loss_fn = nn.MSELoss()"
   ]
  },
  {
   "cell_type": "code",
   "execution_count": 18,
   "metadata": {
    "id": "-GGFW7Ywvyg-",
    "pycharm": {
     "name": "#%%\n"
    }
   },
   "outputs": [],
   "source": [
    "class OptDataset(Dataset):\n",
    "\n",
    "  def __init__(self, X, y):\n",
    "    self.X = X\n",
    "    self.y = y\n",
    "\n",
    "  def __getitem__(self, idx):\n",
    "    return self.X[idx], self.y[idx]\n",
    "\n",
    "  def __len__(self):\n",
    "    return len(self.X)"
   ]
  },
  {
   "cell_type": "code",
   "execution_count": 22,
   "metadata": {
    "id": "7EEL4yyXwakY",
    "pycharm": {
     "name": "#%%\n"
    }
   },
   "outputs": [
    {
     "ename": "RuntimeError",
     "evalue": "Error(s) in loading state_dict for Net:\n\tsize mismatch for initial_layer.0.weight: copying a param with shape torch.Size([600, 10]) from checkpoint, the shape in current model is torch.Size([600, 11]).\n\tsize mismatch for net.0.0.weight: copying a param with shape torch.Size([600, 10]) from checkpoint, the shape in current model is torch.Size([600, 11]).",
     "output_type": "error",
     "traceback": [
      "\u001B[0;31m---------------------------------------------------------------------------\u001B[0m",
      "\u001B[0;31mRuntimeError\u001B[0m                              Traceback (most recent call last)",
      "\u001B[0;32m/tmp/ipykernel_207129/4252955963.py\u001B[0m in \u001B[0;36m<module>\u001B[0;34m\u001B[0m\n\u001B[1;32m      2\u001B[0m \u001B[0;34m\u001B[0m\u001B[0m\n\u001B[1;32m      3\u001B[0m \u001B[0mmodel\u001B[0m \u001B[0;34m=\u001B[0m \u001B[0mNet\u001B[0m\u001B[0;34m(\u001B[0m\u001B[0minput_size\u001B[0m\u001B[0;34m,\u001B[0m \u001B[0moutput_size\u001B[0m\u001B[0;34m,\u001B[0m \u001B[0mhidden_size\u001B[0m\u001B[0;34m,\u001B[0m \u001B[0mnum_layers\u001B[0m\u001B[0;34m,\u001B[0m \u001B[0mact_fn\u001B[0m\u001B[0;34m)\u001B[0m\u001B[0;34m\u001B[0m\u001B[0;34m\u001B[0m\u001B[0m\n\u001B[0;32m----> 4\u001B[0;31m \u001B[0mmodel\u001B[0m\u001B[0;34m.\u001B[0m\u001B[0mload_state_dict\u001B[0m\u001B[0;34m(\u001B[0m\u001B[0mtorch\u001B[0m\u001B[0;34m.\u001B[0m\u001B[0mload\u001B[0m\u001B[0;34m(\u001B[0m\u001B[0msave_model_path\u001B[0m\u001B[0;34m,\u001B[0m \u001B[0mmap_location\u001B[0m\u001B[0;34m=\u001B[0m\u001B[0mdevice\u001B[0m\u001B[0;34m)\u001B[0m\u001B[0;34m)\u001B[0m\u001B[0;34m\u001B[0m\u001B[0;34m\u001B[0m\u001B[0m\n\u001B[0m\u001B[1;32m      5\u001B[0m \u001B[0mmodel\u001B[0m \u001B[0;34m=\u001B[0m \u001B[0mmodel\u001B[0m\u001B[0;34m.\u001B[0m\u001B[0mto\u001B[0m\u001B[0;34m(\u001B[0m\u001B[0mdevice\u001B[0m\u001B[0;34m)\u001B[0m\u001B[0;34m\u001B[0m\u001B[0;34m\u001B[0m\u001B[0m\n",
      "\u001B[0;32m~/PycharmProjects/backtesting_experiments/venv/lib/python3.8/site-packages/torch/nn/modules/module.py\u001B[0m in \u001B[0;36mload_state_dict\u001B[0;34m(self, state_dict, strict)\u001B[0m\n\u001B[1;32m   1049\u001B[0m \u001B[0;34m\u001B[0m\u001B[0m\n\u001B[1;32m   1050\u001B[0m         \u001B[0;32mif\u001B[0m \u001B[0mlen\u001B[0m\u001B[0;34m(\u001B[0m\u001B[0merror_msgs\u001B[0m\u001B[0;34m)\u001B[0m \u001B[0;34m>\u001B[0m \u001B[0;36m0\u001B[0m\u001B[0;34m:\u001B[0m\u001B[0;34m\u001B[0m\u001B[0;34m\u001B[0m\u001B[0m\n\u001B[0;32m-> 1051\u001B[0;31m             raise RuntimeError('Error(s) in loading state_dict for {}:\\n\\t{}'.format(\n\u001B[0m\u001B[1;32m   1052\u001B[0m                                self.__class__.__name__, \"\\n\\t\".join(error_msgs)))\n\u001B[1;32m   1053\u001B[0m         \u001B[0;32mreturn\u001B[0m \u001B[0m_IncompatibleKeys\u001B[0m\u001B[0;34m(\u001B[0m\u001B[0mmissing_keys\u001B[0m\u001B[0;34m,\u001B[0m \u001B[0munexpected_keys\u001B[0m\u001B[0;34m)\u001B[0m\u001B[0;34m\u001B[0m\u001B[0;34m\u001B[0m\u001B[0m\n",
      "\u001B[0;31mRuntimeError\u001B[0m: Error(s) in loading state_dict for Net:\n\tsize mismatch for initial_layer.0.weight: copying a param with shape torch.Size([600, 10]) from checkpoint, the shape in current model is torch.Size([600, 11]).\n\tsize mismatch for net.0.0.weight: copying a param with shape torch.Size([600, 10]) from checkpoint, the shape in current model is torch.Size([600, 11])."
     ]
    }
   ],
   "source": [
    "save_model_path = '../models/final_heston_model.chkpt'\n",
    "\n",
    "model = Net(input_size, output_size, hidden_size, num_layers, act_fn)\n",
    "model.load_state_dict(torch.load(save_model_path, map_location=device))\n",
    "model = model.to(device)"
   ]
  },
  {
   "cell_type": "markdown",
   "metadata": {
    "id": "bje7jxJPQDbU",
    "pycharm": {
     "name": "#%% md\n"
    }
   },
   "source": [
    "## IV code\n",
    "\n",
    "There two different approaches for derive IV:\n",
    "\n",
    "**Closed form approximations**: usually are closed form solution derived directly from the Black Scholes model, they tend to work fine when finding IV of ATM options. As soon the underlying price departs from the strike price it very quickly loses accuracy. Close form solutions are: Brenner & Subrahmanyam formula, Bharadia, Christofides and Salkin formula, Corrado & Miller and others\n",
    "\n",
    "**Numerical methods**: they involves the use of root finding algorithm for obtaining the volatility value $\\sigma$ such that the function:\n",
    "\n",
    "$$\n",
    "f(\\sigma) = C - g(\\sigma)\n",
    "$$\n",
    "\n",
    "vanishes i.e. that the price of the call $C$ (or the put $P$) observed on the market is the same as the expressed by the value $g(\\sigma)$ proposed by the algorithm."
   ]
  },
  {
   "cell_type": "code",
   "execution_count": null,
   "metadata": {
    "id": "AGBbr0qCTSOQ",
    "pycharm": {
     "name": "#%%\n"
    }
   },
   "outputs": [],
   "source": [
    "def get_d1_d2(S, X, T, t, r, sigma):\n",
    "    \"\"\"\n",
    "    Compute d1 and d2 values for the black-scholes pricing model\n",
    "\n",
    "\n",
    "    :param S: underlying price\n",
    "    :param X: option's strike price\n",
    "    :param T: option's time to maturity (in years)\n",
    "    :param t: current time (in years)\n",
    "    :param r: interest rate\n",
    "    :param sigma: underlying volatility\n",
    "    :return: (d1, d2)\n",
    "    \"\"\"\n",
    "    d1 = (np.log(S / X) + (r + sigma * sigma / 2.) * (T - t)) / (sigma * np.sqrt(T - t))\n",
    "    d2 = d1 - sigma * np.sqrt(T - t)\n",
    "    return d1, d2\n",
    "\n",
    "\n",
    "def black_scholes(S, X, T, t, r, sigma, o_type: str = \"C\") -> np.single:\n",
    "    \"\"\"\n",
    "    Compute option price using the black-scholes model\n",
    "\n",
    "    :param S: underlying price\n",
    "    :param X: option's strike price\n",
    "    :param T: option's time to maturity (in years)\n",
    "    :param t: current time (in years)\n",
    "    :param r: interest rate (in percentual)\n",
    "    :param sigma: underlying volatility\n",
    "    :param o_type: option type, \"C\" for a call option and \"P\" for a put option\n",
    "    :return: the black-scholes option price\n",
    "    \"\"\"\n",
    "    d1, d2 = get_d1_d2(S, X, T, t, r, sigma)\n",
    "    if o_type == \"C\":\n",
    "        return S * stats.norm.cdf(d1, 0, 1) - X * np.exp(-r * (T - t)) * stats.norm.cdf(d2, 0, 1)\n",
    "    else:\n",
    "        return X * np.exp(-r * (T - t)) * stats.norm.cdf(-d2, 0, 1) - S * stats.norm.cdf(-d1, 0, 1)"
   ]
  },
  {
   "cell_type": "markdown",
   "metadata": {
    "id": "jNe6HjYsV6_i",
    "pycharm": {
     "name": "#%% md\n"
    }
   },
   "source": [
    "### Newton method\n",
    "\n",
    "In the newton method the starting point used is the inflecion point of $g(\\sigma)$ which is $\\sigma_F = \\sqrt{\\frac{2 |\\log(S/K)|}{T}}$.\n",
    "\n",
    "As shown in [Giuseppe Orlando et al](https://www.sciencedirect.com/science/article/pii/S0377042717300602) $\\sigma_F$ gives faster performance comparing to others starting points."
   ]
  },
  {
   "cell_type": "code",
   "execution_count": null,
   "metadata": {
    "id": "nrN0ZgOEIkXK",
    "pycharm": {
     "name": "#%%\n"
    }
   },
   "outputs": [],
   "source": [
    "def IV_newton(CallPutFlag, S, X, T, r, Option_Value):\n",
    "\n",
    "    def obj_function(IV):\n",
    "        result = Option_Value - black_scholes(S, X, T, 0, r, IV, CallPutFlag)\n",
    "        return result\n",
    "\n",
    "    x0 = np.sqrt((2 * np.abs(np.log(S/X))) / T)\n",
    "    \n",
    "    try:\n",
    "      IV_Result = sq.optimize.newton(obj_function, x0=x0)\n",
    "    except RuntimeError:\n",
    "      IV_Result = np.nan\n",
    "    except ValueError:\n",
    "      IV_Result = np.nan\n",
    "\n",
    "    return IV_Result"
   ]
  },
  {
   "cell_type": "markdown",
   "metadata": {
    "id": "GaFoVqk0YBez",
    "pycharm": {
     "name": "#%% md\n"
    }
   },
   "source": [
    "### Brent method"
   ]
  },
  {
   "cell_type": "code",
   "execution_count": null,
   "metadata": {
    "id": "s3H75z3H4pVb",
    "pycharm": {
     "name": "#%%\n"
    }
   },
   "outputs": [],
   "source": [
    "def IV_brent(CallPutFlag, S, X, T, r, Option_Value):\n",
    "\n",
    "    def obj_function(IV):\n",
    "        result = Option_Value - black_scholes(S, X, T, 0, r, IV, CallPutFlag)\n",
    "        return result\n",
    "\n",
    "    x0 = np.sqrt((2 * np.abs(np.log(S/X))) / T)\n",
    "    \n",
    "    try:\n",
    "      IV_Result = sq.optimize.brenth(obj_function, a=0.01, b=2.5, xtol=0.000001)\n",
    "    except RuntimeError:\n",
    "      IV_Result = np.nan\n",
    "    except ValueError:\n",
    "      IV_Result = np.nan\n",
    "\n",
    "    return IV_Result"
   ]
  },
  {
   "cell_type": "markdown",
   "metadata": {
    "id": "_g34fgeZYP1t",
    "pycharm": {
     "name": "#%% md\n"
    }
   },
   "source": [
    "### Brenner & Subrahmanyam formula"
   ]
  },
  {
   "cell_type": "code",
   "execution_count": null,
   "metadata": {
    "id": "-NHfwiDc4Vqy",
    "pycharm": {
     "name": "#%%\n"
    }
   },
   "outputs": [],
   "source": [
    "def iv_bs(CallPutFlag, S, X, T, r, Option_Value):\n",
    "    if CallPutFlag == 'C':\n",
    "      return (np.sqrt(2 * np.pi / T) * S / X) / 10\n",
    "    else:\n",
    "      return (np.sqrt(2 * np.pi / T) * X / S) / 10"
   ]
  },
  {
   "cell_type": "markdown",
   "metadata": {
    "id": "6rU3zgmVlXeV",
    "pycharm": {
     "name": "#%% md\n"
    }
   },
   "source": [
    "## Calls IV"
   ]
  },
  {
   "cell_type": "code",
   "execution_count": null,
   "metadata": {
    "colab": {
     "base_uri": "https://localhost:8080/",
     "height": 424
    },
    "id": "pJRJe_ih4f_7",
    "outputId": "0fafff60-699c-48ac-b3c3-41a9b7dd6f0a",
    "pycharm": {
     "name": "#%%\n"
    }
   },
   "outputs": [],
   "source": [
    "call_sample"
   ]
  },
  {
   "cell_type": "code",
   "execution_count": null,
   "metadata": {
    "id": "8JwMte5ySMlX",
    "pycharm": {
     "name": "#%%\n"
    }
   },
   "outputs": [],
   "source": [
    "call_sample_t = input_sc.transform(call_sample.drop('Option Price', axis=1))\n",
    "call_sample_t = Variable(torch.Tensor(call_sample_t))"
   ]
  },
  {
   "cell_type": "code",
   "execution_count": null,
   "metadata": {
    "id": "i3X-zKOPS1Hf",
    "pycharm": {
     "name": "#%%\n"
    }
   },
   "outputs": [],
   "source": [
    "with torch.no_grad():\n",
    "    pred = model(call_sample_t)\n",
    "\n",
    "pred = output_sc.inverse_transform(pred.cpu().detach().numpy())\n",
    "call_sample['Prediction'] = pred\n",
    "call_sample['Prediction'] = np.abs(call_sample['Prediction'].values)\n",
    "call_sample['Moneyness'] = call_sample.Price / call_sample.Strike"
   ]
  },
  {
   "cell_type": "code",
   "execution_count": null,
   "metadata": {
    "colab": {
     "base_uri": "https://localhost:8080/",
     "height": 424
    },
    "id": "O7aTB80Up1bE",
    "outputId": "c4d108ab-d670-4985-c31a-edbbfe8f27e7",
    "pycharm": {
     "name": "#%%\n"
    }
   },
   "outputs": [],
   "source": [
    "call_sample.sort_values(['Moneyness', 'Time to Expiration'], ascending = [True, True])"
   ]
  },
  {
   "cell_type": "code",
   "execution_count": null,
   "metadata": {
    "id": "2TiZAC9gpJJ0",
    "pycharm": {
     "name": "#%%\n"
    }
   },
   "outputs": [],
   "source": [
    "call_sample_iv = call_sample.copy()\n",
    "call_sample_iv_ = call_sample.copy()\n",
    "call_sample_iv['IV'] = np.nan\n",
    "call_sample_iv['Model IV'] = np.nan\n",
    "call_sample_iv_['IV'] = np.nan\n",
    "call_sample_iv_['Model IV'] = np.nan"
   ]
  },
  {
   "cell_type": "code",
   "execution_count": null,
   "metadata": {
    "id": "njibI2u4yrsk",
    "pycharm": {
     "name": "#%%\n"
    }
   },
   "outputs": [],
   "source": [
    "call_sample_iv['Model IV'] = call_sample_iv.apply(lambda x: IV_newton('C', x[0], x[1], x[8], x[7], x[12]), axis=1)\n",
    "call_sample_iv['IV'] = call_sample_iv.apply(lambda x: IV_newton('C', x[0], x[1], x[8], x[7], x[11]), axis=1)\n",
    "call_sample_iv_['Model IV'] = call_sample_iv_.apply(lambda x: IV_brent('C', x[0], x[1], x[8], x[7], x[12]), axis=1)\n",
    "call_sample_iv_['IV'] = call_sample_iv_.apply(lambda x: IV_brent('C', x[0], x[1], x[8], x[7], x[11]), axis=1)"
   ]
  },
  {
   "cell_type": "code",
   "execution_count": null,
   "metadata": {
    "colab": {
     "base_uri": "https://localhost:8080/",
     "height": 424
    },
    "id": "ybP7ChlqH9AE",
    "outputId": "7d362ac2-f96d-4077-ccf2-d99f9418466d",
    "pycharm": {
     "name": "#%%\n"
    }
   },
   "outputs": [],
   "source": [
    "call_sample_iv = call_sample_iv.dropna()\n",
    "call_sample_iv = call_sample_iv[call_sample_iv.IV != 0]\n",
    "call_sample_iv = call_sample_iv[call_sample_iv['Model IV'] != 0]\n",
    "call_sample_iv = call_sample_iv.sort_values(['Moneyness', 'Time to Expiration'], ascending = [True, True])\n",
    "call_sample_iv"
   ]
  },
  {
   "cell_type": "code",
   "execution_count": null,
   "metadata": {
    "colab": {
     "base_uri": "https://localhost:8080/",
     "height": 424
    },
    "id": "5CJBwDPd81Fh",
    "outputId": "015f7ac9-e1a7-413f-e636-cba18dc91efd",
    "pycharm": {
     "name": "#%%\n"
    }
   },
   "outputs": [],
   "source": [
    "call_sample_iv_ = call_sample_iv_.dropna()\n",
    "call_sample_iv_ = call_sample_iv_[call_sample_iv_.IV != 0]\n",
    "call_sample_iv_ = call_sample_iv_[call_sample_iv_['Model IV'] != 0]\n",
    "call_sample_iv_ = call_sample_iv_.sort_values(['Moneyness', 'Time to Expiration'], ascending = [True, True])\n",
    "call_sample_iv_"
   ]
  },
  {
   "cell_type": "code",
   "execution_count": null,
   "metadata": {
    "id": "ZgL0FT8TKHZH",
    "pycharm": {
     "name": "#%%\n"
    }
   },
   "outputs": [],
   "source": [
    "X_axis = call_sample_iv.Moneyness\n",
    "Y_axis = call_sample_iv['Time to Expiration']\n",
    "Z_axis = call_sample_iv.IV\n",
    "X_axis_ = call_sample_iv_.Moneyness\n",
    "Y_axis_ = call_sample_iv_['Time to Expiration']\n",
    "Z_axis_ = call_sample_iv_.IV"
   ]
  },
  {
   "cell_type": "code",
   "execution_count": null,
   "metadata": {
    "colab": {
     "base_uri": "https://localhost:8080/",
     "height": 575
    },
    "id": "pqYYp-MzKQL1",
    "outputId": "10655d6a-8a3f-48ea-b098-7bca36d95bff",
    "pycharm": {
     "name": "#%%\n"
    }
   },
   "outputs": [],
   "source": [
    "fig = plt.figure(figsize=(20, 10))\n",
    "ax = fig.add_subplot(1, 2, 1, projection='3d')\n",
    "\n",
    "ax.plot_trisurf(X_axis, Y_axis, Z_axis, \n",
    "                linewidth=0.2, antialiased=True, cmap='viridis')\n",
    "ax.set_xlabel('Moneyness')\n",
    "ax.set_ylabel('Time to expiration')\n",
    "ax.set_zlabel('IV')\n",
    "ax.set_title('IV Surface')\n",
    "ax.view_init(30, 60)\n",
    "\n",
    "ax = fig.add_subplot(1, 2, 2, projection='3d')\n",
    "\n",
    "ax.plot_trisurf(X_axis, Y_axis, call_sample_iv['Model IV'], \n",
    "                linewidth=0.2, antialiased=True, cmap='viridis')\n",
    "ax.set_xlabel('Moneyness')\n",
    "ax.set_ylabel('Time to expiration')\n",
    "ax.set_zlabel('IV')\n",
    "ax.set_title('ANN\\'s IV Surface')\n",
    "ax.view_init(30, 60)"
   ]
  },
  {
   "cell_type": "code",
   "execution_count": null,
   "metadata": {
    "colab": {
     "base_uri": "https://localhost:8080/",
     "height": 575
    },
    "id": "wwkemnxm9NT-",
    "outputId": "c5aa8813-3927-4132-e712-20c2592f5517",
    "pycharm": {
     "name": "#%%\n"
    }
   },
   "outputs": [],
   "source": [
    "fig = plt.figure(figsize=(20, 10))\n",
    "ax = fig.add_subplot(1, 2, 1, projection='3d')\n",
    "\n",
    "ax.plot_trisurf(X_axis_, Y_axis_, call_sample_iv_['Model IV'], \n",
    "                linewidth=0.2, antialiased=True, cmap='binary')\n",
    "ax.set_xlabel('Moneyness')\n",
    "ax.set_ylabel('Time to expiration')\n",
    "ax.set_zlabel('IV')\n",
    "ax.set_title('Brent IV Surface')\n",
    "ax.view_init(30, 60)\n",
    "\n",
    "ax = fig.add_subplot(1, 2, 2, projection='3d')\n",
    "\n",
    "ax.plot_trisurf(X_axis, Y_axis, call_sample_iv['Model IV'], \n",
    "                linewidth=0.2, antialiased=True, cmap='plasma')\n",
    "ax.set_xlabel('Moneyness')\n",
    "ax.set_ylabel('Time to expiration')\n",
    "ax.set_zlabel('IV')\n",
    "ax.set_title('Newton IV Surface')\n",
    "ax.view_init(30, 60)"
   ]
  },
  {
   "cell_type": "code",
   "execution_count": null,
   "metadata": {
    "colab": {
     "base_uri": "https://localhost:8080/",
     "height": 575
    },
    "id": "0D4eF_KTLW5X",
    "outputId": "d2a392c6-a568-4e3d-90d3-719a49cad4af",
    "pycharm": {
     "name": "#%%\n"
    }
   },
   "outputs": [],
   "source": [
    "fig = plt.figure(figsize=(20, 10))\n",
    "ax = fig.add_subplot(1, 2, 1, projection='3d')\n",
    "\n",
    "ax.scatter(X_axis, Y_axis, call_sample_iv.IV)\n",
    "ax.set_xlabel('Moneyness')\n",
    "ax.set_ylabel('Time to expiration')\n",
    "ax.set_zlabel('IV')\n",
    "ax.set_title('IV')\n",
    "\n",
    "ax = fig.add_subplot(1, 2, 2, projection='3d')\n",
    "\n",
    "ax.scatter(X_axis, Y_axis, call_sample_iv['Model IV'])\n",
    "ax.set_xlabel('Moneyness')\n",
    "ax.set_ylabel('Time to expiration')\n",
    "ax.set_zlabel('IV')\n",
    "ax.set_title('ANN\\'s IV')\n",
    "\n",
    "plt.show()"
   ]
  },
  {
   "cell_type": "markdown",
   "metadata": {
    "id": "Ne9LxXkMBhsi",
    "pycharm": {
     "name": "#%% md\n"
    }
   },
   "source": [
    "## Puts IV"
   ]
  },
  {
   "cell_type": "code",
   "execution_count": null,
   "metadata": {
    "id": "CXcIRQBzBuW0",
    "pycharm": {
     "name": "#%%\n"
    }
   },
   "outputs": [],
   "source": [
    "put_sample_t = input_sc.transform(put_sample.drop('Option Price', axis=1))\n",
    "put_sample_t = Variable(torch.Tensor(put_sample_t))"
   ]
  },
  {
   "cell_type": "code",
   "execution_count": null,
   "metadata": {
    "id": "7hnIqOA_B0vO",
    "pycharm": {
     "name": "#%%\n"
    }
   },
   "outputs": [],
   "source": [
    "with torch.no_grad():\n",
    "    pred = model(put_sample_t)\n",
    "\n",
    "pred = output_sc.inverse_transform(pred.cpu().detach().numpy())\n",
    "put_sample['Prediction'] = pred\n",
    "put_sample['Prediction'] = np.abs(put_sample['Prediction'].values)\n",
    "put_sample['Moneyness'] = put_sample.Strike / put_sample.Price"
   ]
  },
  {
   "cell_type": "code",
   "execution_count": null,
   "metadata": {
    "id": "EvfloDpjB1Yn",
    "pycharm": {
     "name": "#%%\n"
    }
   },
   "outputs": [],
   "source": [
    "put_sample_iv = put_sample.copy()\n",
    "put_sample_iv_ = put_sample.copy()\n",
    "put_sample_iv['IV'] = np.nan\n",
    "put_sample_iv['Model IV'] = np.nan\n",
    "put_sample_iv_['IV'] = np.nan\n",
    "put_sample_iv_['Model IV'] = np.nan"
   ]
  },
  {
   "cell_type": "code",
   "execution_count": null,
   "metadata": {
    "id": "36qO1sXgB_ig",
    "pycharm": {
     "name": "#%%\n"
    }
   },
   "outputs": [],
   "source": [
    "put_sample_iv['Model IV'] = put_sample_iv.apply(lambda x: IV_newton('P', x[0], x[1], x[8], x[7], x[12]), axis=1)\n",
    "put_sample_iv['IV'] = put_sample_iv.apply(lambda x: IV_newton('P', x[0], x[1], x[8], x[7], x[11]), axis=1)\n",
    "put_sample_iv_['Model IV'] = put_sample_iv_.apply(lambda x: IV_brent('P', x[0], x[1], x[8], x[7], x[12]), axis=1)\n",
    "put_sample_iv_['IV'] = put_sample_iv_.apply(lambda x: IV_brent('P', x[0], x[1], x[8], x[7], x[11]), axis=1)"
   ]
  },
  {
   "cell_type": "code",
   "execution_count": null,
   "metadata": {
    "colab": {
     "base_uri": "https://localhost:8080/",
     "height": 424
    },
    "id": "SCOIMcYRCRjt",
    "outputId": "36d5f205-d418-43f2-8316-cca399b069af",
    "pycharm": {
     "name": "#%%\n"
    }
   },
   "outputs": [],
   "source": [
    "put_sample_iv = put_sample_iv.dropna()\n",
    "put_sample_iv = put_sample_iv[put_sample_iv.IV != 0]\n",
    "put_sample_iv = put_sample_iv[put_sample_iv['Model IV'] != 0]\n",
    "put_sample_iv = put_sample_iv.sort_values(['Moneyness', 'Time to Expiration'], ascending = [True, True])\n",
    "put_sample_iv"
   ]
  },
  {
   "cell_type": "code",
   "execution_count": null,
   "metadata": {
    "colab": {
     "base_uri": "https://localhost:8080/",
     "height": 424
    },
    "id": "vDoKger-CJIB",
    "outputId": "5421db52-e27a-4660-c36c-279f08f7893a",
    "pycharm": {
     "name": "#%%\n"
    }
   },
   "outputs": [],
   "source": [
    "put_sample_iv_ = put_sample_iv_.dropna()\n",
    "put_sample_iv_ = put_sample_iv_[put_sample_iv_.IV != 0]\n",
    "put_sample_iv_ = put_sample_iv_[put_sample_iv_['Model IV'] != 0]\n",
    "put_sample_iv_ = put_sample_iv_.sort_values(['Moneyness', 'Time to Expiration'], ascending = [True, True])\n",
    "put_sample_iv_"
   ]
  },
  {
   "cell_type": "code",
   "execution_count": null,
   "metadata": {
    "id": "ZHgP-CBWNoqB",
    "pycharm": {
     "name": "#%%\n"
    }
   },
   "outputs": [],
   "source": [
    "X_axis = put_sample_iv.Moneyness\n",
    "Y_axis = put_sample_iv['Time to Expiration']\n",
    "Z_axis = put_sample_iv.IV\n",
    "X_axis_ = put_sample_iv_.Moneyness\n",
    "Y_axis_ = put_sample_iv_['Time to Expiration']\n",
    "Z_axis_ = put_sample_iv_.IV"
   ]
  },
  {
   "cell_type": "code",
   "execution_count": null,
   "metadata": {
    "colab": {
     "base_uri": "https://localhost:8080/",
     "height": 575
    },
    "id": "Yszw9SxkNpMU",
    "outputId": "af8b9015-4b52-45a1-f0f2-de3d75c2e360",
    "pycharm": {
     "name": "#%%\n"
    }
   },
   "outputs": [],
   "source": [
    "fig = plt.figure(figsize=(20, 10))\n",
    "ax = fig.add_subplot(1, 2, 1, projection='3d')\n",
    "\n",
    "ax.plot_trisurf(X_axis, Y_axis, Z_axis, \n",
    "                linewidth=0.2, antialiased=True, cmap='viridis')\n",
    "ax.set_xlabel('Moneyness')\n",
    "ax.set_ylabel('Time to expiration')\n",
    "ax.set_zlabel('IV')\n",
    "ax.set_title('IV Surface')\n",
    "ax.view_init(30, 60)\n",
    "\n",
    "ax = fig.add_subplot(1, 2, 2, projection='3d')\n",
    "\n",
    "ax.plot_trisurf(X_axis, Y_axis, put_sample_iv['Model IV'], \n",
    "                linewidth=0.2, antialiased=True, cmap='viridis')\n",
    "ax.set_xlabel('Moneyness')\n",
    "ax.set_ylabel('Time to expiration')\n",
    "ax.set_zlabel('IV')\n",
    "ax.set_title('ANN\\'s IV Surface')\n",
    "ax.view_init(30, 60)\n",
    "plt.savefig('../results/IV-surface-heston.png')"
   ]
  },
  {
   "cell_type": "code",
   "execution_count": null,
   "metadata": {
    "colab": {
     "base_uri": "https://localhost:8080/",
     "height": 575
    },
    "id": "DceGrcRROSyF",
    "outputId": "3572f269-8a9f-492e-db53-7a0cbd733206",
    "pycharm": {
     "name": "#%%\n"
    }
   },
   "outputs": [],
   "source": [
    "fig = plt.figure(figsize=(20, 10))\n",
    "ax = fig.add_subplot(1, 2, 1, projection='3d')\n",
    "\n",
    "ax.plot_trisurf(X_axis_, Y_axis_, put_sample_iv_['Model IV'], \n",
    "                linewidth=0.2, antialiased=True, cmap='magma')\n",
    "ax.set_xlabel('Moneyness')\n",
    "ax.set_ylabel('Time to expiration')\n",
    "ax.set_zlabel('IV')\n",
    "ax.set_title('Brent IV Surface')\n",
    "ax.view_init(30, 60)\n",
    "\n",
    "ax = fig.add_subplot(1, 2, 2, projection='3d')\n",
    "\n",
    "ax.plot_trisurf(X_axis, Y_axis, put_sample_iv['Model IV'], \n",
    "                linewidth=0.2, antialiased=True, cmap='magma')\n",
    "ax.set_xlabel('Moneyness')\n",
    "ax.set_ylabel('Time to expiration')\n",
    "ax.set_zlabel('IV')\n",
    "ax.set_title('Newton IV Surface')\n",
    "ax.view_init(30, 60)"
   ]
  }
 ],
 "metadata": {
  "colab": {
   "collapsed_sections": [],
   "name": "Finding IV - Heston.ipynb",
   "provenance": []
  },
  "kernelspec": {
   "display_name": "Python 3 (ipykernel)",
   "language": "python",
   "name": "python3"
  },
  "language_info": {
   "codemirror_mode": {
    "name": "ipython",
    "version": 3
   },
   "file_extension": ".py",
   "mimetype": "text/x-python",
   "name": "python",
   "nbconvert_exporter": "python",
   "pygments_lexer": "ipython3",
   "version": "3.8.10"
  }
 },
 "nbformat": 4,
 "nbformat_minor": 1
}