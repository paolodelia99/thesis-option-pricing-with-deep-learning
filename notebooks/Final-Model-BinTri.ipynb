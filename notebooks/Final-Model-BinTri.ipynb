{
 "cells": [
  {
   "cell_type": "markdown",
   "metadata": {
    "id": "ju-WUaXnY5cr",
    "pycharm": {
     "name": "#%% md\n"
    }
   },
   "source": [
    "# Models Testing on Heston data\n"
   ]
  },
  {
   "cell_type": "code",
   "execution_count": 1,
   "metadata": {
    "id": "hH3-v8y-AuXg",
    "pycharm": {
     "name": "#%%\n"
    }
   },
   "outputs": [],
   "source": [
    "import time\n",
    "\n",
    "import pandas as pd\n",
    "import numpy as np\n",
    "import matplotlib.pyplot as plt\n",
    "\n",
    "from sklearn.preprocessing import StandardScaler\n",
    "from sklearn.utils import shuffle\n",
    "\n",
    "import torch\n",
    "import torch.nn as nn\n",
    "from torch.autograd import Variable\n",
    "from torch.utils.data import Dataset, DataLoader"
   ]
  },
  {
   "cell_type": "code",
   "execution_count": 2,
   "metadata": {
    "id": "QXEzFQ3iAyj_",
    "pycharm": {
     "name": "#%%\n"
    }
   },
   "outputs": [],
   "source": [
    "# Set seeds\n",
    "torch.manual_seed(0)\n",
    "np.random.seed(0)"
   ]
  },
  {
   "cell_type": "code",
   "execution_count": 3,
   "metadata": {
    "id": "gsH02HCWA0gC",
    "pycharm": {
     "name": "#%%\n"
    }
   },
   "outputs": [],
   "source": [
    "b_synthetic_opt_path = '../data/binom_synthetic_options.csv'\n",
    "t_synthetic_opt_path = '../data/trinomial_synthetic_options.csv'"
   ]
  },
  {
   "cell_type": "code",
   "execution_count": 4,
   "metadata": {
    "id": "jT4n95T6A4S6",
    "pycharm": {
     "name": "#%%\n"
    }
   },
   "outputs": [],
   "source": [
    "def reduce_mem_usage(df):\n",
    "    \"\"\" iterate through all the columns of a dataframe and modify the data type\n",
    "        to reduce memory usage.        \n",
    "    \"\"\"    \n",
    "    for col in df.columns:\n",
    "        col_type = df[col].dtype\n",
    "        \n",
    "        if col_type != object:\n",
    "            c_min = df[col].min()\n",
    "            c_max = df[col].max()\n",
    "            if str(col_type)[:3] == 'int':\n",
    "                if c_min > np.iinfo(np.int8).min and c_max < np.iinfo(np.int8).max:\n",
    "                    df[col] = df[col].astype(np.int8)\n",
    "                elif c_min > np.iinfo(np.int16).min and c_max < np.iinfo(np.int16).max:\n",
    "                    df[col] = df[col].astype(np.int16)\n",
    "                elif c_min > np.iinfo(np.int32).min and c_max < np.iinfo(np.int32).max:\n",
    "                    df[col] = df[col].astype(np.int32)\n",
    "                elif c_min > np.iinfo(np.int64).min and c_max < np.iinfo(np.int64).max:\n",
    "                    df[col] = df[col].astype(np.int64)  \n",
    "            else:\n",
    "                if c_min > np.finfo(np.float16).min and c_max < np.finfo(np.float16).max:\n",
    "                    df[col] = df[col].astype(np.float16)\n",
    "                elif c_min > np.finfo(np.float32).min and c_max < np.finfo(np.float32).max:\n",
    "                    df[col] = df[col].astype(np.float32)\n",
    "                else:\n",
    "                    df[col] = df[col].astype(np.float64)\n",
    "        else:\n",
    "            df[col] = df[col].astype('category')\n",
    "    \n",
    "    return df"
   ]
  },
  {
   "cell_type": "code",
   "execution_count": 5,
   "metadata": {
    "id": "7H8lEQPCA5IS",
    "pycharm": {
     "name": "#%%\n"
    }
   },
   "outputs": [
    {
     "name": "stderr",
     "output_type": "stream",
     "text": [
      "/home/paolo/PycharmProjects/th-bot/venv/lib/python3.8/site-packages/numpy/lib/arraysetops.py:580: FutureWarning: elementwise comparison failed; returning scalar instead, but in the future will perform elementwise comparison\n",
      "  mask |= (ar1 == a)\n"
     ]
    }
   ],
   "source": [
    "b_synthetic_opt = pd.read_csv(b_synthetic_opt_path, index_col=0)\n",
    "t_synthetic_opt = pd.read_csv(t_synthetic_opt_path, index_col=0)\n",
    "\n",
    "b_synthetic_opt = reduce_mem_usage(b_synthetic_opt)\n",
    "t_synthetic_opt = reduce_mem_usage(t_synthetic_opt)\n",
    "  \n",
    "b_synthetic_opt = shuffle(b_synthetic_opt, random_state=0)\n",
    "t_synthetic_opt = shuffle(t_synthetic_opt, random_state=0)"
   ]
  },
  {
   "cell_type": "code",
   "execution_count": 6,
   "metadata": {
    "id": "9TKRgvuOA8pC",
    "pycharm": {
     "name": "#%%\n"
    }
   },
   "outputs": [],
   "source": [
    "synthetic_options = pd.concat([b_synthetic_opt,\n",
    "                               t_synthetic_opt],\n",
    "                              ignore_index=True)\n",
    "synthetic_options = shuffle(synthetic_options, random_state=0)\n",
    "synthetic_options = synthetic_options.reset_index()\n",
    "synthetic_options = synthetic_options.drop('index', axis=1)"
   ]
  },
  {
   "cell_type": "code",
   "execution_count": 7,
   "metadata": {
    "colab": {
     "base_uri": "https://localhost:8080/",
     "height": 424
    },
    "executionInfo": {
     "elapsed": 29,
     "status": "ok",
     "timestamp": 1650895608891,
     "user": {
      "displayName": "Paolo D'Elia",
      "userId": "06873635760880783531"
     },
     "user_tz": -120
    },
    "id": "3HXliAsq132p",
    "outputId": "4c7dc4f1-abd1-46f1-ce79-8614e549dbdd",
    "pycharm": {
     "name": "#%%\n"
    }
   },
   "outputs": [
    {
     "data": {
      "text/plain": "         Price  Strike Type       Vol  Interest Rate  Time to Expiration  \\\n0         94.0    76.0    C  0.300049       0.070007            0.700195   \n1         93.0   114.0    C  0.899902       0.010002            0.700195   \n2         98.0    97.0    C  0.300049       0.049988            0.500000   \n3         90.0   119.0    P  0.899902       0.049988            0.899902   \n4         84.0   114.0    P  0.700195       0.070007            0.899902   \n...        ...     ...  ...       ...            ...                 ...   \n3223035  117.0    80.0    C  0.300049       0.070007            0.700195   \n3223036   88.0    97.0    C  0.500000       0.010002            0.099976   \n3223037  100.0    65.0    C  0.500000       0.049988            0.010002   \n3223038   99.0   100.0    C  0.300049       0.070007            0.700195   \n3223039  100.0   157.0    P  1.000000       0.049988            0.899902   \n\n         Option Price  \n0           23.218750  \n1           21.140625  \n2            9.953125  \n3           47.750000  \n4           39.593750  \n...               ...  \n3223035     41.250000  \n3223036      2.419922  \n3223037     35.031250  \n3223038     11.703125  \n3223039     74.437500  \n\n[3223040 rows x 7 columns]",
      "text/html": "<div>\n<style scoped>\n    .dataframe tbody tr th:only-of-type {\n        vertical-align: middle;\n    }\n\n    .dataframe tbody tr th {\n        vertical-align: top;\n    }\n\n    .dataframe thead th {\n        text-align: right;\n    }\n</style>\n<table border=\"1\" class=\"dataframe\">\n  <thead>\n    <tr style=\"text-align: right;\">\n      <th></th>\n      <th>Price</th>\n      <th>Strike</th>\n      <th>Type</th>\n      <th>Vol</th>\n      <th>Interest Rate</th>\n      <th>Time to Expiration</th>\n      <th>Option Price</th>\n    </tr>\n  </thead>\n  <tbody>\n    <tr>\n      <th>0</th>\n      <td>94.0</td>\n      <td>76.0</td>\n      <td>C</td>\n      <td>0.300049</td>\n      <td>0.070007</td>\n      <td>0.700195</td>\n      <td>23.218750</td>\n    </tr>\n    <tr>\n      <th>1</th>\n      <td>93.0</td>\n      <td>114.0</td>\n      <td>C</td>\n      <td>0.899902</td>\n      <td>0.010002</td>\n      <td>0.700195</td>\n      <td>21.140625</td>\n    </tr>\n    <tr>\n      <th>2</th>\n      <td>98.0</td>\n      <td>97.0</td>\n      <td>C</td>\n      <td>0.300049</td>\n      <td>0.049988</td>\n      <td>0.500000</td>\n      <td>9.953125</td>\n    </tr>\n    <tr>\n      <th>3</th>\n      <td>90.0</td>\n      <td>119.0</td>\n      <td>P</td>\n      <td>0.899902</td>\n      <td>0.049988</td>\n      <td>0.899902</td>\n      <td>47.750000</td>\n    </tr>\n    <tr>\n      <th>4</th>\n      <td>84.0</td>\n      <td>114.0</td>\n      <td>P</td>\n      <td>0.700195</td>\n      <td>0.070007</td>\n      <td>0.899902</td>\n      <td>39.593750</td>\n    </tr>\n    <tr>\n      <th>...</th>\n      <td>...</td>\n      <td>...</td>\n      <td>...</td>\n      <td>...</td>\n      <td>...</td>\n      <td>...</td>\n      <td>...</td>\n    </tr>\n    <tr>\n      <th>3223035</th>\n      <td>117.0</td>\n      <td>80.0</td>\n      <td>C</td>\n      <td>0.300049</td>\n      <td>0.070007</td>\n      <td>0.700195</td>\n      <td>41.250000</td>\n    </tr>\n    <tr>\n      <th>3223036</th>\n      <td>88.0</td>\n      <td>97.0</td>\n      <td>C</td>\n      <td>0.500000</td>\n      <td>0.010002</td>\n      <td>0.099976</td>\n      <td>2.419922</td>\n    </tr>\n    <tr>\n      <th>3223037</th>\n      <td>100.0</td>\n      <td>65.0</td>\n      <td>C</td>\n      <td>0.500000</td>\n      <td>0.049988</td>\n      <td>0.010002</td>\n      <td>35.031250</td>\n    </tr>\n    <tr>\n      <th>3223038</th>\n      <td>99.0</td>\n      <td>100.0</td>\n      <td>C</td>\n      <td>0.300049</td>\n      <td>0.070007</td>\n      <td>0.700195</td>\n      <td>11.703125</td>\n    </tr>\n    <tr>\n      <th>3223039</th>\n      <td>100.0</td>\n      <td>157.0</td>\n      <td>P</td>\n      <td>1.000000</td>\n      <td>0.049988</td>\n      <td>0.899902</td>\n      <td>74.437500</td>\n    </tr>\n  </tbody>\n</table>\n<p>3223040 rows × 7 columns</p>\n</div>"
     },
     "execution_count": 7,
     "metadata": {},
     "output_type": "execute_result"
    }
   ],
   "source": [
    "synthetic_options"
   ]
  },
  {
   "cell_type": "markdown",
   "metadata": {
    "id": "pn28_RUMBAFH",
    "pycharm": {
     "name": "#%% md\n"
    }
   },
   "source": [
    "# Preprocessing"
   ]
  },
  {
   "cell_type": "code",
   "execution_count": 8,
   "metadata": {
    "id": "32oPe6XUBCTF",
    "pycharm": {
     "name": "#%%\n"
    }
   },
   "outputs": [],
   "source": [
    "synthetic_options = pd.get_dummies(synthetic_options, prefix='', prefix_sep='')"
   ]
  },
  {
   "cell_type": "code",
   "execution_count": 9,
   "metadata": {
    "id": "_Tlc7k7xBDPV",
    "pycharm": {
     "name": "#%%\n"
    }
   },
   "outputs": [],
   "source": [
    "input_sc = StandardScaler()\n",
    "output_sc = StandardScaler()\n",
    "input_data = input_sc.fit_transform(synthetic_options.drop('Option Price', axis=1))\n",
    "output_data = output_sc.fit_transform(synthetic_options['Option Price'].values.reshape(-1, 1))\n",
    "\n",
    "train_size = 0.8\n",
    "val_size = 0.1\n",
    "\n",
    "last_train_idx = int(np.round(len(input_data) * train_size))\n",
    "last_val_idx = last_train_idx + int(np.round(len(input_data) * val_size))\n",
    "\n",
    "X_train = input_data[0:last_train_idx]\n",
    "X_val = input_data[last_train_idx:last_val_idx]\n",
    "X_test = input_data[last_val_idx:]\n",
    "\n",
    "y_train = output_data[0:last_train_idx]\n",
    "y_val = output_data[last_train_idx:last_val_idx]\n",
    "y_test = output_data[last_val_idx:]"
   ]
  },
  {
   "cell_type": "code",
   "execution_count": 10,
   "metadata": {
    "id": "IwMVtvfABIhR",
    "pycharm": {
     "name": "#%%\n"
    }
   },
   "outputs": [],
   "source": [
    "X_train = Variable(torch.Tensor(X_train))\n",
    "X_val = Variable(torch.Tensor(X_val))\n",
    "X_test = Variable(torch.Tensor(X_test))\n",
    "\n",
    "y_train = Variable(torch.Tensor(y_train))\n",
    "y_val = Variable(torch.Tensor(y_val))\n",
    "y_test = Variable(torch.Tensor(y_test))"
   ]
  },
  {
   "cell_type": "markdown",
   "metadata": {
    "id": "Ra2l5P1nBVCz",
    "pycharm": {
     "name": "#%% md\n"
    }
   },
   "source": [
    "# Model"
   ]
  },
  {
   "cell_type": "code",
   "execution_count": 11,
   "metadata": {
    "id": "xTLMLFoSBWDy",
    "pycharm": {
     "name": "#%%\n"
    }
   },
   "outputs": [],
   "source": [
    "CUDA = torch.cuda.is_available()\n",
    "device = 'cuda:0' if CUDA else 'cpu'"
   ]
  },
  {
   "cell_type": "code",
   "execution_count": 12,
   "metadata": {
    "id": "CQ9Gl3bUBWsj",
    "pycharm": {
     "name": "#%%\n"
    }
   },
   "outputs": [],
   "source": [
    "class ResBlock(nn.Module):\n",
    "\n",
    "  def __init__(self, module):\n",
    "    super(ResBlock, self).__init__()\n",
    "    self.module = module\n",
    "\n",
    "  def forward(self, x):\n",
    "    return self.module(x) + x"
   ]
  },
  {
   "cell_type": "code",
   "execution_count": 13,
   "metadata": {
    "id": "YL3SicQPBYq0",
    "pycharm": {
     "name": "#%%\n"
    }
   },
   "outputs": [],
   "source": [
    "class HiddenLayer(nn.Module):\n",
    "\n",
    "  def __init__(self, layer_size, act_fn):\n",
    "      super(HiddenLayer, self).__init__()\n",
    "      \n",
    "      if act_fn == 'ReLU':\n",
    "        self.layer = nn.Sequential(\n",
    "          nn.Linear(layer_size, layer_size),\n",
    "          nn.ReLU())\n",
    "      elif act_fn == 'LeakyReLU':\n",
    "        self.layer = nn.Sequential(\n",
    "          nn.Linear(layer_size, layer_size),\n",
    "          nn.LeakyReLU())\n",
    "      elif act_fn == 'ELU':\n",
    "        self.layer = nn.Sequential(\n",
    "          nn.Linear(layer_size, layer_size),\n",
    "          nn.ELU())\n",
    "    \n",
    "  def forward(self, x):\n",
    "    return self.layer(x)"
   ]
  },
  {
   "cell_type": "code",
   "execution_count": 14,
   "metadata": {
    "id": "lHUFGf9xBawS",
    "pycharm": {
     "name": "#%%\n"
    }
   },
   "outputs": [],
   "source": [
    "class Net(nn.Module):\n",
    "\n",
    "  def __init__(self, input_size, output_size, hidden_size, num_layers, act_fn):\n",
    "    super(Net, self).__init__()\n",
    "    self.input_size = input_size\n",
    "    self.output_size = output_size\n",
    "    self.hidden_size = hidden_size\n",
    "\n",
    "    if act_fn == 'ReLU':\n",
    "      self.initial_layer = nn.Sequential(\n",
    "          nn.Linear(self.input_size, self.hidden_size),\n",
    "          nn.ReLU())\n",
    "    elif act_fn == 'LeakyReLU':\n",
    "      self.initial_layer = nn.Sequential(\n",
    "          nn.Linear(self.input_size, self.hidden_size),\n",
    "          nn.LeakyReLU())\n",
    "    elif act_fn == 'ELU':\n",
    "      self.initial_layer = nn.Sequential(\n",
    "          nn.Linear(self.input_size, self.hidden_size),\n",
    "          nn.ELU())\n",
    "\n",
    "    self.hidden_layers_list = []\n",
    "\n",
    "    for i in range(num_layers // 2):\n",
    "      self.hidden_layers_list.append(\n",
    "          ResBlock(\n",
    "            nn.Sequential(\n",
    "                HiddenLayer(self.hidden_size, act_fn),\n",
    "                HiddenLayer(self.hidden_size, act_fn)\n",
    "            )\n",
    "        )\n",
    "      )\n",
    "\n",
    "    self.hidden_layers = nn.Sequential(*self.hidden_layers_list)\n",
    "\n",
    "    self.net = nn.Sequential(\n",
    "        self.initial_layer,\n",
    "        self.hidden_layers,\n",
    "        nn.Linear(self.hidden_size, self.output_size)\n",
    "    )\n",
    "  \n",
    "  def forward(self, x):\n",
    "    return self.net(x)"
   ]
  },
  {
   "cell_type": "code",
   "execution_count": 15,
   "metadata": {
    "id": "zcq_lQrHBdH8",
    "pycharm": {
     "name": "#%%\n"
    }
   },
   "outputs": [],
   "source": [
    "def init_weights(m, init_m: str):\n",
    "\n",
    "  @torch.no_grad()\n",
    "  def init_uniform(m):\n",
    "    if isinstance(m, nn.Linear):\n",
    "      torch.nn.init.uniform_(m.weight)\n",
    "      m.bias.data.fill_(0.01)\n",
    "\n",
    "  @torch.no_grad()\n",
    "  def init_normal(m):\n",
    "    if isinstance(m, nn.Linear):\n",
    "      torch.nn.init.normal_(m.weight)\n",
    "      m.bias.data.fill_(0.01)\n",
    "\n",
    "  @torch.no_grad()\n",
    "  def init_xuniform(m):\n",
    "    if isinstance(m, nn.Linear):\n",
    "      torch.nn.init.xavier_uniform_(m.weight)\n",
    "      m.bias.data.fill_(0.01)\n",
    "\n",
    "  @torch.no_grad()\n",
    "  def init_xnormal(m):\n",
    "    if isinstance(m, nn.Linear):\n",
    "      torch.nn.init.xavier_normal_(m.weight)\n",
    "      m.bias.data.fill_(0.01)\n",
    "\n",
    "  if init_m == 'uniform':\n",
    "    m.apply(init_uniform)\n",
    "  elif init_m == 'normal':\n",
    "    m.apply(init_normal)\n",
    "  elif init_m == 'xaiver uniform':\n",
    "    m.apply(init_xuniform)\n",
    "  elif init_m == 'xavier normal':\n",
    "    m.apply(init_xnormal)"
   ]
  },
  {
   "cell_type": "markdown",
   "metadata": {
    "id": "vuCpyycNCKEZ",
    "pycharm": {
     "name": "#%% md\n"
    }
   },
   "source": [
    "# Training"
   ]
  },
  {
   "cell_type": "code",
   "execution_count": 16,
   "metadata": {
    "id": "YbCOnCSNCL25",
    "pycharm": {
     "name": "#%%\n"
    }
   },
   "outputs": [],
   "source": [
    "input_size = 7\n",
    "output_size = 1\n",
    "num_layers = 6\n",
    "hidden_size = 600\n",
    "batch_size = 1393\n",
    "epochs = 2000\n",
    "lr = 9.193458959442868e-05\n",
    "init_method = 'xaiver uniform'\n",
    "act_fn = 'LeakyReLU'\n",
    "\n",
    "model = Net(input_size, output_size, hidden_size, num_layers, act_fn)\n",
    "init_weights(model, init_method)\n",
    "\n",
    "loss_fn = nn.MSELoss()\n",
    "optimizer = torch.optim.Adam(model.parameters(), lr=lr)"
   ]
  },
  {
   "cell_type": "code",
   "execution_count": 17,
   "metadata": {
    "id": "QqZbxrppvDpZ",
    "pycharm": {
     "name": "#%%\n"
    }
   },
   "outputs": [],
   "source": [
    "model = model.to(device)"
   ]
  },
  {
   "cell_type": "code",
   "execution_count": 18,
   "metadata": {
    "id": "Q-9T0GArCMgp",
    "pycharm": {
     "name": "#%%\n"
    }
   },
   "outputs": [],
   "source": [
    "class OptDataset(Dataset):\n",
    "\n",
    "  def __init__(self, X, y):\n",
    "    self.X = X\n",
    "    self.y = y\n",
    "\n",
    "  def __getitem__(self, idx):\n",
    "    return self.X[idx], self.y[idx]\n",
    "\n",
    "  def __len__(self):\n",
    "    return len(self.X)"
   ]
  },
  {
   "cell_type": "markdown",
   "metadata": {
    "id": "J6-hCH2ivDpb",
    "pycharm": {
     "name": "#%% md\n"
    }
   },
   "source": [
    "### Losses Metrics"
   ]
  },
  {
   "cell_type": "code",
   "execution_count": 19,
   "metadata": {
    "id": "mVaO8TruHW4M",
    "pycharm": {
     "name": "#%%\n"
    }
   },
   "outputs": [],
   "source": [
    "def MAPELoss(output, target):\n",
    "  return torch.mean(torch.abs((target - output) / target))"
   ]
  },
  {
   "cell_type": "code",
   "execution_count": 20,
   "metadata": {
    "id": "tVLW5dHhvDpe",
    "pycharm": {
     "name": "#%%\n"
    }
   },
   "outputs": [],
   "source": [
    "def evaluate(model, loss_fn, X_val, y_val):\n",
    "    model.eval()\n",
    "    losses = []\n",
    "    with torch.no_grad():\n",
    "        for batch, batch_labels in DataLoader(OptDataset(X_val, y_val), batch_size=batch_size):\n",
    "            out = model(batch.to(device))\n",
    "            loss = loss_fn(out, batch_labels.to(device))\n",
    "            losses.append(loss.item())\n",
    "\n",
    "    losses = np.array(losses)\n",
    "    print('\\nVal set: Average loss: {:.8f}\\n'.format(\n",
    "                losses.mean()))\n",
    "    return losses.mean()"
   ]
  },
  {
   "cell_type": "markdown",
   "metadata": {
    "id": "68eF5_EovDpf",
    "pycharm": {
     "name": "#%% md\n"
    }
   },
   "source": [
    "### Early Stopping class"
   ]
  },
  {
   "cell_type": "code",
   "execution_count": 21,
   "metadata": {
    "id": "n2So2ffSvDpg",
    "pycharm": {
     "name": "#%%\n"
    }
   },
   "outputs": [],
   "source": [
    "# Code took form: https://github.com/Bjarten/early-stopping-pytorch/blob/master/pytorchtools.py\n",
    "\n",
    "class EarlyStopping:\n",
    "    \"\"\"Early stops the training if validation loss doesn't improve after a given patience.\"\"\"\n",
    "    def __init__(self, \n",
    "                 patience=10, \n",
    "                 verbose=False, \n",
    "                 delta=0, \n",
    "                 path='../models/final_bintri_model.chkpt',\n",
    "                 trace_func=print):\n",
    "        \"\"\"\n",
    "        Args:\n",
    "            patience (int): How long to wait after last time validation loss improved.\n",
    "                            Default: 7\n",
    "            verbose (bool): If True, prints a message for each validation loss improvement.\n",
    "                            Default: False\n",
    "            delta (float): Minimum change in the monitored quantity to qualify as an improvement.\n",
    "                            Default: 0\n",
    "            path (str): Path for the checkpoint to be saved to.\n",
    "                            Default: 'checkpoint.pt'\n",
    "            trace_func (function): trace print function.\n",
    "                            Default: print\n",
    "        \"\"\"\n",
    "        self.patience = patience\n",
    "        self.verbose = verbose\n",
    "        self.counter = 0\n",
    "        self.best_score = None\n",
    "        self.early_stop = False\n",
    "        self.val_loss_min = np.Inf\n",
    "        self.delta = delta\n",
    "        self.path = path\n",
    "        self.trace_func = trace_func\n",
    "\n",
    "    def __call__(self, val_loss, model):\n",
    "\n",
    "        score = val_loss\n",
    "\n",
    "        if self.best_score is None:\n",
    "            self.best_score = score\n",
    "            self.save_checkpoint(val_loss, model)\n",
    "        elif score > self.best_score + self.delta:\n",
    "            self.counter += 1\n",
    "            self.trace_func(f'EarlyStopping counter: {self.counter} out of {self.patience}')\n",
    "            if self.counter >= self.patience:\n",
    "                self.early_stop = True\n",
    "        else:\n",
    "            self.best_score = score\n",
    "            self.save_checkpoint(val_loss, model)\n",
    "            self.counter = 0\n",
    "\n",
    "    def save_checkpoint(self, val_loss, model):\n",
    "        '''Saves model when validation loss decrease.'''\n",
    "        if self.verbose:\n",
    "            self.trace_func(f'Validation loss decreased ({self.val_loss_min:.6f} --> {val_loss:.6f}).  Saving model ...')\n",
    "        torch.save(model.state_dict(), self.path)\n",
    "        self.val_loss_min = val_loss"
   ]
  },
  {
   "cell_type": "markdown",
   "metadata": {
    "id": "dL_xmnKXvDph",
    "pycharm": {
     "name": "#%% md\n"
    }
   },
   "source": [
    "### Train Loop"
   ]
  },
  {
   "cell_type": "code",
   "execution_count": 22,
   "metadata": {
    "id": "DrBBTGKJvDph",
    "pycharm": {
     "name": "#%%\n"
    }
   },
   "outputs": [],
   "source": [
    "def train(\n",
    "    epochs,\n",
    "    batch_size,\n",
    "    model,\n",
    "    optimizer,\n",
    "    loss_fn,\n",
    "    X_train,\n",
    "    y_train,\n",
    "    X_val,\n",
    "    y_val\n",
    "):\n",
    "\n",
    "  training_losses = []\n",
    "  validation_losses = []\n",
    "\n",
    "  early_stopping = EarlyStopping(patience=20)\n",
    "\n",
    "  for epoch in range(epochs):\n",
    "    model.train()\n",
    "    epoch_losses = []\n",
    "    total_loss = 0\n",
    "    start_time = time.time()\n",
    "    i = 0\n",
    "\n",
    "    for batch, batch_labels in DataLoader(OptDataset(X_train, y_train), batch_size=batch_size):\n",
    "      out = model(batch.to(device))\n",
    "      optimizer.zero_grad()\n",
    "\n",
    "      loss = loss_fn(out, batch_labels.to(device))\n",
    "      epoch_losses.append(loss.item())\n",
    "      total_loss += loss.item()\n",
    "      loss.backward()\n",
    "      optimizer.step()\n",
    "\n",
    "      if i > 0 and i % 50 == 0:\n",
    "        avg_loss = total_loss / 50\n",
    "        elapsed = time.time() - start_time\n",
    "        print('| Epoch {:3d} | {:5d}/{:5d} batches | lr {:2.5f} | ms/batch {:5.2f} | '\n",
    "                  'loss {:5.8f}'.format(\n",
    "              epoch, i, len(X_train) // batch_size+1, lr, elapsed * 1000 / 50,\n",
    "              avg_loss))\n",
    "        start_time = time.time()\n",
    "        total_loss = 0\n",
    "\n",
    "      i += 1\n",
    "\n",
    "    training_losses.append(np.array(epoch_losses).mean())\n",
    "    val_loss = evaluate(model, loss_fn, X_val, y_val)\n",
    "    validation_losses.append(val_loss)\n",
    "\n",
    "    early_stopping(val_loss, model)\n",
    "\n",
    "    if early_stopping.early_stop:\n",
    "        print(f\"Stopping at Epoch: {epoch}\")\n",
    "        break\n",
    "\n",
    "  return training_losses, validation_losses"
   ]
  },
  {
   "cell_type": "code",
   "execution_count": 23,
   "metadata": {
    "colab": {
     "base_uri": "https://localhost:8080/"
    },
    "executionInfo": {
     "elapsed": 2032901,
     "status": "ok",
     "timestamp": 1650897655994,
     "user": {
      "displayName": "Paolo D'Elia",
      "userId": "06873635760880783531"
     },
     "user_tz": -120
    },
    "id": "hBETWoCfvDpj",
    "outputId": "b5793201-7136-4ffd-b311-f34256b9fb54",
    "pycharm": {
     "name": "#%%\n"
    }
   },
   "outputs": [],
   "source": [
    "load = True\n",
    "save_model_path = '../models/final_bintri_model.chkpt'\n",
    "val_err_df_path = '../results/val_final_bintri_model.csv'\n",
    "\n",
    "if not load:\n",
    "  train_losses, val_losses = train(\n",
    "      epochs,\n",
    "      batch_size,\n",
    "      model,\n",
    "      optimizer,\n",
    "      loss_fn,\n",
    "      X_train,\n",
    "      y_train,\n",
    "      X_val,\n",
    "      y_val)\n",
    "  val_err_df = pd.DataFrame({\n",
    "      'Training': train_losses,\n",
    "      'Validation': val_losses})\n",
    "  val_err_df.to_csv(val_err_df_path)\n",
    "  torch.save(model.state_dict(), save_model_path)\n",
    "else:\n",
    "  model = Net(input_size, output_size, hidden_size, num_layers, act_fn)\n",
    "  model.load_state_dict(torch.load(save_model_path, map_location=device))\n",
    "  model = model.to(device)\n",
    "  val_err_df = pd.read_csv(val_err_df_path, index_col=0)"
   ]
  },
  {
   "cell_type": "code",
   "execution_count": 41,
   "metadata": {
    "colab": {
     "base_uri": "https://localhost:8080/",
     "height": 279
    },
    "executionInfo": {
     "elapsed": 544,
     "status": "ok",
     "timestamp": 1650897656528,
     "user": {
      "displayName": "Paolo D'Elia",
      "userId": "06873635760880783531"
     },
     "user_tz": -120
    },
    "id": "KkenWSRYvDpl",
    "outputId": "0553c656-a241-482b-8f61-708a5bc7831e",
    "pycharm": {
     "name": "#%%\n"
    }
   },
   "outputs": [
    {
     "data": {
      "text/plain": "<Figure size 864x432 with 1 Axes>",
      "image/png": "[encoded data removed]"
     },
     "metadata": {
      "needs_background": "light"
     },
     "output_type": "display_data"
    }
   ],
   "source": [
    "fig, ax = plt.subplots(figsize=(12, 6))\n",
    "val_err_df[1:].plot(xlabel='epoch', ylabel='MSE', ax=ax)\n",
    "plt.title('Losses during training')\n",
    "plt.plot();"
   ]
  },
  {
   "cell_type": "markdown",
   "metadata": {
    "id": "FlG5Ky25vDpm",
    "pycharm": {
     "name": "#%% md\n"
    }
   },
   "source": [
    "# Test the model"
   ]
  },
  {
   "cell_type": "code",
   "execution_count": 25,
   "metadata": {
    "id": "TBZ4eHAdvDpn",
    "pycharm": {
     "name": "#%%\n"
    }
   },
   "outputs": [],
   "source": [
    "test_size = 30\n",
    "\n",
    "with torch.no_grad():\n",
    "    test_out = model(X_test[0:test_size].to(device))\n",
    "\n",
    "test_out = output_sc.inverse_transform(test_out.cpu().detach().numpy())\n",
    "real_out = output_sc.inverse_transform(y_test[0:test_size].cpu().detach().numpy())"
   ]
  },
  {
   "cell_type": "code",
   "execution_count": 26,
   "metadata": {
    "id": "wK1WeGIZvDpo",
    "pycharm": {
     "name": "#%%\n"
    }
   },
   "outputs": [],
   "source": [
    "cols = ['Price', 'Strike', 'Vol', 'Interest Rate', 'Time to Expiration', 'C', 'P', 'Prediction', 'Real']\n",
    "test_options = pd.DataFrame(columns=cols)"
   ]
  },
  {
   "cell_type": "code",
   "execution_count": 27,
   "metadata": {
    "id": "_dvE5LGXvDpq",
    "pycharm": {
     "name": "#%%\n"
    }
   },
   "outputs": [],
   "source": [
    "for i, item in enumerate(input_sc.inverse_transform(X_test[0:test_size].cpu().detach().numpy())):\n",
    "  opt = {\n",
    "      'Price': item[0],\n",
    "      'Strike': item[1],\n",
    "      'Vol': item[2],\n",
    "      'Interest Rate': item[3],\n",
    "      'Time to Expiration': item[4],\n",
    "      'C': item[5],\n",
    "      'P': item[6],\n",
    "      'Prediction': test_out[i][0],\n",
    "      'Real': real_out[i][0]\n",
    "  }\n",
    "  test_options = test_options.append(opt, ignore_index=True)"
   ]
  },
  {
   "cell_type": "code",
   "execution_count": 28,
   "metadata": {
    "id": "TNw5-1jgvDpr",
    "pycharm": {
     "name": "#%%\n"
    }
   },
   "outputs": [],
   "source": [
    "test_options['Moneyness'] = test_options.Price / test_options.Strike\n",
    "test_options['Abs Error'] = np.abs(test_options.Prediction - test_options.Real)"
   ]
  },
  {
   "cell_type": "code",
   "execution_count": 29,
   "metadata": {
    "colab": {
     "base_uri": "https://localhost:8080/",
     "height": 990
    },
    "executionInfo": {
     "elapsed": 41,
     "status": "ok",
     "timestamp": 1650897656540,
     "user": {
      "displayName": "Paolo D'Elia",
      "userId": "06873635760880783531"
     },
     "user_tz": -120
    },
    "id": "lAC6AdeVvDpr",
    "outputId": "6072671a-95f3-4c22-9a55-b484518c38c0",
    "pycharm": {
     "name": "#%%\n"
    }
   },
   "outputs": [
    {
     "data": {
      "text/plain": "         Price      Strike       Vol  Interest Rate  Time to Expiration    C  \\\n18  116.999847  104.000809  0.700287       0.049989            0.700247  1.0   \n20   99.999916  190.992950  0.549789       0.070015            0.499990  1.0   \n19   99.999916  108.000610  0.449973       0.060002            1.109922  1.0   \n21   76.003494   64.998116  0.100124       0.010006            0.499990  0.0   \n5    99.999916   81.988579  0.549789       0.080021            0.710059  1.0   \n10   88.996361   74.009453  0.300038       0.030004            0.099802  1.0   \n29  115.005432  121.998901  0.300038       0.030004            0.099802  1.0   \n2    94.997108  133.992172  0.899779       0.049989            0.499990  1.0   \n16  121.012009  175.001923  0.700287       0.010006            0.099802  0.0   \n8    99.999916   61.000366  0.799752       0.090027            0.499990  1.0   \n27  115.996803  143.003494  0.899779       0.030004            0.300095  1.0   \n25  115.005432  161.992828  0.300038       0.070015            0.300095  1.0   \n17  110.001892   95.997108  0.300038       0.049989            0.499990  0.0   \n12   99.999916   61.983418  0.750019       0.030004            0.099802  1.0   \n1   120.008972  138.989365  0.100124       0.049989            0.099802  1.0   \n23   99.999916  112.999855  0.549789       0.060002            0.910207  1.0   \n15  112.999352  127.995529  0.300038       0.030004            0.099802  0.0   \n3   102.000168  101.993736  0.300038       0.010006            0.499990  1.0   \n7    98.999062  110.999954  0.700287       0.030004            0.300095  0.0   \n9   121.012009  159.010910  0.499995       0.090027            0.499990  1.0   \n11  119.005928  123.997780  0.899779       0.030004            0.899817  0.0   \n24   83.013107   93.998230  0.899779       0.010006            0.099802  1.0   \n13   99.999916  143.003494  0.950074       0.070015            0.300095  0.0   \n4    99.999916   92.998787  0.950074       0.019984            0.210050  0.0   \n14   91.002441   84.003838  0.899779       0.049989            0.700247  0.0   \n28  116.999847  127.995529  0.300038       0.049989            0.099802  0.0   \n26   99.999916  121.998901  0.600119       0.019984            0.710059  0.0   \n22   99.999916  145.002380  0.399924       0.030004            0.509762  0.0   \n6    92.996857  125.996658  0.300038       0.030004            0.700247  0.0   \n0    79.012611   89.001038  0.300038       0.090027            0.700247  0.0   \n\n      P  Prediction       Real  Moneyness  Abs Error  \n18  0.0   34.159718  34.158848   1.124990   0.000870  \n20  0.0    1.283461   1.286829   0.523579   0.003368  \n19  0.0   18.334082  18.328581   0.925920   0.005501  \n21  1.0    0.035336   0.027436   1.169318   0.007900  \n5   0.0   29.887131  29.878733   1.219681   0.008398  \n10  0.0   15.295062  15.286184   1.202500   0.008878  \n29  0.0    1.917613   1.907401   0.942676   0.010212  \n2   0.0   13.647600  13.661748   0.708975   0.014148  \n16  1.0   54.545338  54.528183   0.691490   0.017155  \n8   0.0   45.529526  45.511650   1.639333   0.017876  \n27  0.0   14.231222  14.250379   0.811147   0.019156  \n25  0.0    0.230443   0.209956   0.709942   0.020487  \n17  1.0    2.788264   2.765250   1.145888   0.023014  \n12  0.0   38.335079  38.311199   1.613333   0.023880  \n1   0.0    0.033564   0.009182   0.863440   0.024382  \n23  0.0   18.102432  18.077614   0.884956   0.024818  \n15  1.0   15.270292  15.295311   0.882838   0.025019  \n3   0.0    8.870663   8.843196   1.000063   0.027467  \n7   1.0   22.061502  22.094215   0.891884   0.032713  \n9   0.0    7.420802   7.456037   0.761030   0.035235  \n11  1.0   40.570038  40.510578   0.959742   0.059460  \n24  0.0    5.458788   5.521315   0.883135   0.062527  \n13  1.0   49.498463  49.435848   0.699283   0.062614  \n4   1.0   13.225761  13.146127   1.075282   0.079635  \n14  1.0   20.744480  20.609522   1.083313   0.134958  \n28  1.0   11.670883  11.535379   0.914093   0.135504  \n26  1.0   33.639721  33.812057   0.819679   0.172337  \n22  1.0   45.034760  45.566406   0.689643   0.531647  \n6   1.0   32.773960  33.374008   0.738090   0.600048  \n0   1.0   11.165807  11.955178   0.887772   0.789371  ",
      "text/html": "<div>\n<style scoped>\n    .dataframe tbody tr th:only-of-type {\n        vertical-align: middle;\n    }\n\n    .dataframe tbody tr th {\n        vertical-align: top;\n    }\n\n    .dataframe thead th {\n        text-align: right;\n    }\n</style>\n<table border=\"1\" class=\"dataframe\">\n  <thead>\n    <tr style=\"text-align: right;\">\n      <th></th>\n      <th>Price</th>\n      <th>Strike</th>\n      <th>Vol</th>\n      <th>Interest Rate</th>\n      <th>Time to Expiration</th>\n      <th>C</th>\n      <th>P</th>\n      <th>Prediction</th>\n      <th>Real</th>\n      <th>Moneyness</th>\n      <th>Abs Error</th>\n    </tr>\n  </thead>\n  <tbody>\n    <tr>\n      <th>18</th>\n      <td>116.999847</td>\n      <td>104.000809</td>\n      <td>0.700287</td>\n      <td>0.049989</td>\n      <td>0.700247</td>\n      <td>1.0</td>\n      <td>0.0</td>\n      <td>34.159718</td>\n      <td>34.158848</td>\n      <td>1.124990</td>\n      <td>0.000870</td>\n    </tr>\n    <tr>\n      <th>20</th>\n      <td>99.999916</td>\n      <td>190.992950</td>\n      <td>0.549789</td>\n      <td>0.070015</td>\n      <td>0.499990</td>\n      <td>1.0</td>\n      <td>0.0</td>\n      <td>1.283461</td>\n      <td>1.286829</td>\n      <td>0.523579</td>\n      <td>0.003368</td>\n    </tr>\n    <tr>\n      <th>19</th>\n      <td>99.999916</td>\n      <td>108.000610</td>\n      <td>0.449973</td>\n      <td>0.060002</td>\n      <td>1.109922</td>\n      <td>1.0</td>\n      <td>0.0</td>\n      <td>18.334082</td>\n      <td>18.328581</td>\n      <td>0.925920</td>\n      <td>0.005501</td>\n    </tr>\n    <tr>\n      <th>21</th>\n      <td>76.003494</td>\n      <td>64.998116</td>\n      <td>0.100124</td>\n      <td>0.010006</td>\n      <td>0.499990</td>\n      <td>0.0</td>\n      <td>1.0</td>\n      <td>0.035336</td>\n      <td>0.027436</td>\n      <td>1.169318</td>\n      <td>0.007900</td>\n    </tr>\n    <tr>\n      <th>5</th>\n      <td>99.999916</td>\n      <td>81.988579</td>\n      <td>0.549789</td>\n      <td>0.080021</td>\n      <td>0.710059</td>\n      <td>1.0</td>\n      <td>0.0</td>\n      <td>29.887131</td>\n      <td>29.878733</td>\n      <td>1.219681</td>\n      <td>0.008398</td>\n    </tr>\n    <tr>\n      <th>10</th>\n      <td>88.996361</td>\n      <td>74.009453</td>\n      <td>0.300038</td>\n      <td>0.030004</td>\n      <td>0.099802</td>\n      <td>1.0</td>\n      <td>0.0</td>\n      <td>15.295062</td>\n      <td>15.286184</td>\n      <td>1.202500</td>\n      <td>0.008878</td>\n    </tr>\n    <tr>\n      <th>29</th>\n      <td>115.005432</td>\n      <td>121.998901</td>\n      <td>0.300038</td>\n      <td>0.030004</td>\n      <td>0.099802</td>\n      <td>1.0</td>\n      <td>0.0</td>\n      <td>1.917613</td>\n      <td>1.907401</td>\n      <td>0.942676</td>\n      <td>0.010212</td>\n    </tr>\n    <tr>\n      <th>2</th>\n      <td>94.997108</td>\n      <td>133.992172</td>\n      <td>0.899779</td>\n      <td>0.049989</td>\n      <td>0.499990</td>\n      <td>1.0</td>\n      <td>0.0</td>\n      <td>13.647600</td>\n      <td>13.661748</td>\n      <td>0.708975</td>\n      <td>0.014148</td>\n    </tr>\n    <tr>\n      <th>16</th>\n      <td>121.012009</td>\n      <td>175.001923</td>\n      <td>0.700287</td>\n      <td>0.010006</td>\n      <td>0.099802</td>\n      <td>0.0</td>\n      <td>1.0</td>\n      <td>54.545338</td>\n      <td>54.528183</td>\n      <td>0.691490</td>\n      <td>0.017155</td>\n    </tr>\n    <tr>\n      <th>8</th>\n      <td>99.999916</td>\n      <td>61.000366</td>\n      <td>0.799752</td>\n      <td>0.090027</td>\n      <td>0.499990</td>\n      <td>1.0</td>\n      <td>0.0</td>\n      <td>45.529526</td>\n      <td>45.511650</td>\n      <td>1.639333</td>\n      <td>0.017876</td>\n    </tr>\n    <tr>\n      <th>27</th>\n      <td>115.996803</td>\n      <td>143.003494</td>\n      <td>0.899779</td>\n      <td>0.030004</td>\n      <td>0.300095</td>\n      <td>1.0</td>\n      <td>0.0</td>\n      <td>14.231222</td>\n      <td>14.250379</td>\n      <td>0.811147</td>\n      <td>0.019156</td>\n    </tr>\n    <tr>\n      <th>25</th>\n      <td>115.005432</td>\n      <td>161.992828</td>\n      <td>0.300038</td>\n      <td>0.070015</td>\n      <td>0.300095</td>\n      <td>1.0</td>\n      <td>0.0</td>\n      <td>0.230443</td>\n      <td>0.209956</td>\n      <td>0.709942</td>\n      <td>0.020487</td>\n    </tr>\n    <tr>\n      <th>17</th>\n      <td>110.001892</td>\n      <td>95.997108</td>\n      <td>0.300038</td>\n      <td>0.049989</td>\n      <td>0.499990</td>\n      <td>0.0</td>\n      <td>1.0</td>\n      <td>2.788264</td>\n      <td>2.765250</td>\n      <td>1.145888</td>\n      <td>0.023014</td>\n    </tr>\n    <tr>\n      <th>12</th>\n      <td>99.999916</td>\n      <td>61.983418</td>\n      <td>0.750019</td>\n      <td>0.030004</td>\n      <td>0.099802</td>\n      <td>1.0</td>\n      <td>0.0</td>\n      <td>38.335079</td>\n      <td>38.311199</td>\n      <td>1.613333</td>\n      <td>0.023880</td>\n    </tr>\n    <tr>\n      <th>1</th>\n      <td>120.008972</td>\n      <td>138.989365</td>\n      <td>0.100124</td>\n      <td>0.049989</td>\n      <td>0.099802</td>\n      <td>1.0</td>\n      <td>0.0</td>\n      <td>0.033564</td>\n      <td>0.009182</td>\n      <td>0.863440</td>\n      <td>0.024382</td>\n    </tr>\n    <tr>\n      <th>23</th>\n      <td>99.999916</td>\n      <td>112.999855</td>\n      <td>0.549789</td>\n      <td>0.060002</td>\n      <td>0.910207</td>\n      <td>1.0</td>\n      <td>0.0</td>\n      <td>18.102432</td>\n      <td>18.077614</td>\n      <td>0.884956</td>\n      <td>0.024818</td>\n    </tr>\n    <tr>\n      <th>15</th>\n      <td>112.999352</td>\n      <td>127.995529</td>\n      <td>0.300038</td>\n      <td>0.030004</td>\n      <td>0.099802</td>\n      <td>0.0</td>\n      <td>1.0</td>\n      <td>15.270292</td>\n      <td>15.295311</td>\n      <td>0.882838</td>\n      <td>0.025019</td>\n    </tr>\n    <tr>\n      <th>3</th>\n      <td>102.000168</td>\n      <td>101.993736</td>\n      <td>0.300038</td>\n      <td>0.010006</td>\n      <td>0.499990</td>\n      <td>1.0</td>\n      <td>0.0</td>\n      <td>8.870663</td>\n      <td>8.843196</td>\n      <td>1.000063</td>\n      <td>0.027467</td>\n    </tr>\n    <tr>\n      <th>7</th>\n      <td>98.999062</td>\n      <td>110.999954</td>\n      <td>0.700287</td>\n      <td>0.030004</td>\n      <td>0.300095</td>\n      <td>0.0</td>\n      <td>1.0</td>\n      <td>22.061502</td>\n      <td>22.094215</td>\n      <td>0.891884</td>\n      <td>0.032713</td>\n    </tr>\n    <tr>\n      <th>9</th>\n      <td>121.012009</td>\n      <td>159.010910</td>\n      <td>0.499995</td>\n      <td>0.090027</td>\n      <td>0.499990</td>\n      <td>1.0</td>\n      <td>0.0</td>\n      <td>7.420802</td>\n      <td>7.456037</td>\n      <td>0.761030</td>\n      <td>0.035235</td>\n    </tr>\n    <tr>\n      <th>11</th>\n      <td>119.005928</td>\n      <td>123.997780</td>\n      <td>0.899779</td>\n      <td>0.030004</td>\n      <td>0.899817</td>\n      <td>0.0</td>\n      <td>1.0</td>\n      <td>40.570038</td>\n      <td>40.510578</td>\n      <td>0.959742</td>\n      <td>0.059460</td>\n    </tr>\n    <tr>\n      <th>24</th>\n      <td>83.013107</td>\n      <td>93.998230</td>\n      <td>0.899779</td>\n      <td>0.010006</td>\n      <td>0.099802</td>\n      <td>1.0</td>\n      <td>0.0</td>\n      <td>5.458788</td>\n      <td>5.521315</td>\n      <td>0.883135</td>\n      <td>0.062527</td>\n    </tr>\n    <tr>\n      <th>13</th>\n      <td>99.999916</td>\n      <td>143.003494</td>\n      <td>0.950074</td>\n      <td>0.070015</td>\n      <td>0.300095</td>\n      <td>0.0</td>\n      <td>1.0</td>\n      <td>49.498463</td>\n      <td>49.435848</td>\n      <td>0.699283</td>\n      <td>0.062614</td>\n    </tr>\n    <tr>\n      <th>4</th>\n      <td>99.999916</td>\n      <td>92.998787</td>\n      <td>0.950074</td>\n      <td>0.019984</td>\n      <td>0.210050</td>\n      <td>0.0</td>\n      <td>1.0</td>\n      <td>13.225761</td>\n      <td>13.146127</td>\n      <td>1.075282</td>\n      <td>0.079635</td>\n    </tr>\n    <tr>\n      <th>14</th>\n      <td>91.002441</td>\n      <td>84.003838</td>\n      <td>0.899779</td>\n      <td>0.049989</td>\n      <td>0.700247</td>\n      <td>0.0</td>\n      <td>1.0</td>\n      <td>20.744480</td>\n      <td>20.609522</td>\n      <td>1.083313</td>\n      <td>0.134958</td>\n    </tr>\n    <tr>\n      <th>28</th>\n      <td>116.999847</td>\n      <td>127.995529</td>\n      <td>0.300038</td>\n      <td>0.049989</td>\n      <td>0.099802</td>\n      <td>0.0</td>\n      <td>1.0</td>\n      <td>11.670883</td>\n      <td>11.535379</td>\n      <td>0.914093</td>\n      <td>0.135504</td>\n    </tr>\n    <tr>\n      <th>26</th>\n      <td>99.999916</td>\n      <td>121.998901</td>\n      <td>0.600119</td>\n      <td>0.019984</td>\n      <td>0.710059</td>\n      <td>0.0</td>\n      <td>1.0</td>\n      <td>33.639721</td>\n      <td>33.812057</td>\n      <td>0.819679</td>\n      <td>0.172337</td>\n    </tr>\n    <tr>\n      <th>22</th>\n      <td>99.999916</td>\n      <td>145.002380</td>\n      <td>0.399924</td>\n      <td>0.030004</td>\n      <td>0.509762</td>\n      <td>0.0</td>\n      <td>1.0</td>\n      <td>45.034760</td>\n      <td>45.566406</td>\n      <td>0.689643</td>\n      <td>0.531647</td>\n    </tr>\n    <tr>\n      <th>6</th>\n      <td>92.996857</td>\n      <td>125.996658</td>\n      <td>0.300038</td>\n      <td>0.030004</td>\n      <td>0.700247</td>\n      <td>0.0</td>\n      <td>1.0</td>\n      <td>32.773960</td>\n      <td>33.374008</td>\n      <td>0.738090</td>\n      <td>0.600048</td>\n    </tr>\n    <tr>\n      <th>0</th>\n      <td>79.012611</td>\n      <td>89.001038</td>\n      <td>0.300038</td>\n      <td>0.090027</td>\n      <td>0.700247</td>\n      <td>0.0</td>\n      <td>1.0</td>\n      <td>11.165807</td>\n      <td>11.955178</td>\n      <td>0.887772</td>\n      <td>0.789371</td>\n    </tr>\n  </tbody>\n</table>\n</div>"
     },
     "execution_count": 29,
     "metadata": {},
     "output_type": "execute_result"
    }
   ],
   "source": [
    "test_options.sort_values('Abs Error')"
   ]
  },
  {
   "cell_type": "markdown",
   "metadata": {
    "id": "6pEX68IzB5tC",
    "pycharm": {
     "name": "#%% md\n"
    }
   },
   "source": [
    "### MSE on the test set"
   ]
  },
  {
   "cell_type": "code",
   "execution_count": 30,
   "outputs": [],
   "source": [
    "def get_mse(model, X, y, batch_size):\n",
    "    losses = []\n",
    "    with torch.no_grad():\n",
    "        for batch, batch_labels in DataLoader(OptDataset(X, y), batch_size=batch_size):\n",
    "            out = model(batch.to(device))\n",
    "            loss = loss_fn(out, batch_labels.to(device))\n",
    "            losses.append(loss.item())\n",
    "\n",
    "    losses = np.array(losses)\n",
    "    return losses"
   ],
   "metadata": {
    "collapsed": false,
    "pycharm": {
     "name": "#%%\n"
    }
   }
  },
  {
   "cell_type": "code",
   "execution_count": 31,
   "metadata": {
    "colab": {
     "base_uri": "https://localhost:8080/"
    },
    "executionInfo": {
     "elapsed": 275,
     "status": "ok",
     "timestamp": 1650897656778,
     "user": {
      "displayName": "Paolo D'Elia",
      "userId": "06873635760880783531"
     },
     "user_tz": -120
    },
    "id": "KtpraFD0B-Al",
    "outputId": "dbd334f9-719f-4df1-85fe-307b256da619",
    "pycharm": {
     "name": "#%%\n"
    }
   },
   "outputs": [
    {
     "name": "stdout",
     "output_type": "stream",
     "text": [
      "The MSE on the train set is:  0.0007476699862586156\n",
      "The MSE on the val set is:  0.0007516679524369778\n",
      "The MSE on the test set is:  0.0007464769828245686\n"
     ]
    }
   ],
   "source": [
    "model.eval()\n",
    "\n",
    "print('The MSE on the train set is: ', get_mse(model, X_train, y_train, batch_size).mean())\n",
    "print('The MSE on the val set is: ', get_mse(model, X_val, y_val, batch_size).mean())\n",
    "print('The MSE on the test set is: ', get_mse(model, X_test, y_test, batch_size).mean())"
   ]
  },
  {
   "cell_type": "markdown",
   "metadata": {
    "id": "Xu3MVJm3B_lQ",
    "pycharm": {
     "name": "#%% md\n"
    }
   },
   "source": [
    "### MAE on the test set"
   ]
  },
  {
   "cell_type": "code",
   "execution_count": 32,
   "outputs": [],
   "source": [
    "def get_mae(model, X, y, batch_size):\n",
    "    mae_loss = nn.L1Loss()\n",
    "    losses = []\n",
    "    with torch.no_grad():\n",
    "        for batch, batch_labels in DataLoader(OptDataset(X, y), batch_size=batch_size):\n",
    "            out = model(batch.to(device))\n",
    "            loss = mae_loss(out, batch_labels.to(device))\n",
    "            losses.append(loss.item())\n",
    "\n",
    "    losses = np.array(losses)\n",
    "    return losses"
   ],
   "metadata": {
    "collapsed": false,
    "pycharm": {
     "name": "#%%\n"
    }
   }
  },
  {
   "cell_type": "code",
   "execution_count": 33,
   "metadata": {
    "colab": {
     "base_uri": "https://localhost:8080/"
    },
    "executionInfo": {
     "elapsed": 266,
     "status": "ok",
     "timestamp": 1650897657039,
     "user": {
      "displayName": "Paolo D'Elia",
      "userId": "06873635760880783531"
     },
     "user_tz": -120
    },
    "id": "IyaCSKrxB_5x",
    "outputId": "64961e8a-9494-4a93-ab1c-7baa2d8681a0",
    "pycharm": {
     "name": "#%%\n"
    }
   },
   "outputs": [
    {
     "name": "stdout",
     "output_type": "stream",
     "text": [
      "The MAE on the train set is:  0.0089406122547599\n",
      "The MAE on the val set is:  0.008979437174275517\n",
      "The MAE on the test set is:  0.008958502088528898\n"
     ]
    }
   ],
   "source": [
    "model.eval()\n",
    "\n",
    "print('The MAE on the train set is: ', get_mae(model, X_train, y_train, batch_size).mean())\n",
    "print('The MAE on the val set is: ', get_mae(model, X_val, y_val, batch_size).mean())\n",
    "print('The MAE on the test set is: ', get_mae(model, X_test, y_test, batch_size).mean())"
   ]
  },
  {
   "cell_type": "markdown",
   "metadata": {
    "id": "GS_Kd66dCEAB",
    "pycharm": {
     "name": "#%% md\n"
    }
   },
   "source": [
    "\n",
    "### RSME on the test set"
   ]
  },
  {
   "cell_type": "code",
   "execution_count": 34,
   "metadata": {
    "colab": {
     "base_uri": "https://localhost:8080/"
    },
    "executionInfo": {
     "elapsed": 252,
     "status": "ok",
     "timestamp": 1650897657287,
     "user": {
      "displayName": "Paolo D'Elia",
      "userId": "06873635760880783531"
     },
     "user_tz": -120
    },
    "id": "3o2eAsuGCJR0",
    "outputId": "24a53a2a-909f-47bd-b25a-fa9d6d7fe111",
    "pycharm": {
     "name": "#%%\n"
    }
   },
   "outputs": [
    {
     "name": "stdout",
     "output_type": "stream",
     "text": [
      "The RMSE on the train set is:  0.02724238228696881\n",
      "The RMSE on the val set is:  0.027314732455948135\n",
      "The RMSE on the test set is:  0.02720377512608648\n"
     ]
    }
   ],
   "source": [
    "model.eval()\n",
    "\n",
    "print('The RMSE on the train set is: ', np.sqrt(get_mse(model, X_train, y_train, batch_size)).mean())\n",
    "print('The RMSE on the val set is: ', np.sqrt(get_mse(model, X_val, y_val, batch_size)).mean())\n",
    "print('The RMSE on the test set is: ', np.sqrt(get_mse(model, X_test, y_test, batch_size)).mean())"
   ]
  },
  {
   "cell_type": "markdown",
   "metadata": {
    "id": "qx5IOiPyCLqp",
    "pycharm": {
     "name": "#%% md\n"
    }
   },
   "source": [
    "### MAPE on the test set"
   ]
  },
  {
   "cell_type": "code",
   "execution_count": 37,
   "outputs": [],
   "source": [
    "def get_mape(model, X, y, batch_size):\n",
    "    losses = []\n",
    "    with torch.no_grad():\n",
    "        for batch, batch_labels in DataLoader(OptDataset(X, y), batch_size=batch_size):\n",
    "            out = model(batch.to(device))\n",
    "            loss = MAPELoss(out, batch_labels.to(device)).detach().cpu().item()\n",
    "            losses.append(loss)\n",
    "\n",
    "    return np.array(losses)"
   ],
   "metadata": {
    "collapsed": false,
    "pycharm": {
     "name": "#%%\n"
    }
   }
  },
  {
   "cell_type": "code",
   "execution_count": 38,
   "metadata": {
    "colab": {
     "base_uri": "https://localhost:8080/"
    },
    "executionInfo": {
     "elapsed": 216,
     "status": "ok",
     "timestamp": 1650897657495,
     "user": {
      "displayName": "Paolo D'Elia",
      "userId": "06873635760880783531"
     },
     "user_tz": -120
    },
    "id": "3XPMVO1gCNjj",
    "outputId": "9d5d2a7f-c582-49fc-884b-3a62fdabca94",
    "pycharm": {
     "name": "#%%\n"
    }
   },
   "outputs": [
    {
     "name": "stdout",
     "output_type": "stream",
     "text": [
      "The MAPE on the train set is:  0.057546743396558936\n",
      "The MAPE on the val set is:  0.0549638356114256\n",
      "The MAPE on the test set is:  0.05649706213895617\n"
     ]
    }
   ],
   "source": [
    "model.eval()\n",
    "\n",
    "print('The MAPE on the train set is: ', get_mape(model, X_train, y_train, batch_size).mean())\n",
    "print('The MAPE on the val set is: ', get_mape(model, X_val, y_val, batch_size).mean())\n",
    "print('The MAPE on the test set is: ', get_mape(model, X_test, y_test, batch_size).mean())"
   ]
  },
  {
   "cell_type": "markdown",
   "metadata": {
    "id": "wqC3Fbq-CPJA",
    "pycharm": {
     "name": "#%% md\n"
    }
   },
   "source": [
    "### $R^2$"
   ]
  },
  {
   "cell_type": "code",
   "execution_count": 39,
   "metadata": {
    "colab": {
     "base_uri": "https://localhost:8080/"
    },
    "executionInfo": {
     "elapsed": 454,
     "status": "ok",
     "timestamp": 1650897657945,
     "user": {
      "displayName": "Paolo D'Elia",
      "userId": "06873635760880783531"
     },
     "user_tz": -120
    },
    "id": "XuSzgxzJCRlZ",
    "outputId": "3dd0e5cc-76f3-4447-e802-8b29a8685ad1",
    "pycharm": {
     "name": "#%%\n"
    }
   },
   "outputs": [
    {
     "name": "stdout",
     "output_type": "stream",
     "text": [
      "the R^2 score is:  0.9990178889319195\n"
     ]
    }
   ],
   "source": [
    "from sklearn.metrics import r2_score\n",
    "\n",
    "model.eval()\n",
    "with torch.no_grad():\n",
    "    out = model(X_test[0:batch_size].to(device)).squeeze().cpu().detach().numpy()\n",
    "\n",
    "y_true = y_test[0:batch_size].cpu().squeeze().detach().numpy()\n",
    "\n",
    "r2 = r2_score(y_pred=out, y_true=y_true)\n",
    "\n",
    "print('the R^2 score is: ', r2)"
   ]
  },
  {
   "cell_type": "code",
   "execution_count": 40,
   "metadata": {
    "colab": {
     "base_uri": "https://localhost:8080/",
     "height": 391
    },
    "executionInfo": {
     "elapsed": 854,
     "status": "ok",
     "timestamp": 1650897658794,
     "user": {
      "displayName": "Paolo D'Elia",
      "userId": "06873635760880783531"
     },
     "user_tz": -120
    },
    "id": "-uPoA13hCTiS",
    "outputId": "0326c983-e975-47d0-c346-7c78cd3fd9a6",
    "pycharm": {
     "name": "#%%\n"
    }
   },
   "outputs": [
    {
     "data": {
      "text/plain": "<Figure size 648x432 with 1 Axes>",
      "image/png": "[encoded data removed]"
     },
     "metadata": {
      "needs_background": "light"
     },
     "output_type": "display_data"
    }
   ],
   "source": [
    "fig = plt.figure(figsize=(9, 6))\n",
    "ax = fig.add_subplot()\n",
    "\n",
    "ax.scatter(\n",
    "    y=output_sc.inverse_transform(out.reshape(-1, 1)),\n",
    "    x=output_sc.inverse_transform(y_true.squeeze().reshape(-1, 1))\n",
    ")\n",
    "ax.set_xlabel('Actual Value')\n",
    "ax.set_ylabel('Predicted Value')\n",
    "\n",
    "ax.text(20, 80, f'$R^2$ = {np.round(r2, 6)}', fontsize=12)\n",
    "\n",
    "plt.show()"
   ]
  }
 ],
 "metadata": {
  "accelerator": "GPU",
  "colab": {
   "collapsed_sections": [],
   "name": "Model-Testing-BinTri.ipynb",
   "provenance": [
    {
     "file_id": "1ZV7E7ZTGkmteKOCzj6i2wPn7a_ehMFhO",
     "timestamp": 1650894363435
    }
   ]
  },
  "kernelspec": {
   "display_name": "pytorch",
   "language": "python",
   "name": "pytorch"
  },
  "language_info": {
   "codemirror_mode": {
    "name": "ipython",
    "version": 3
   },
   "file_extension": ".py",
   "mimetype": "text/x-python",
   "name": "python",
   "nbconvert_exporter": "python",
   "pygments_lexer": "ipython3",
   "version": "3.8.10"
  }
 },
 "nbformat": 4,
 "nbformat_minor": 1
}