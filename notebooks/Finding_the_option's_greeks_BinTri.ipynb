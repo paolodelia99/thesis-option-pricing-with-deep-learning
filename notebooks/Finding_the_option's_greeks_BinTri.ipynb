{
 "nbformat": 4,
 "nbformat_minor": 0,
 "metadata": {
  "colab": {
   "name": "Finding the option's greeks - BinTri.ipynb",
   "provenance": [],
   "collapsed_sections": []
  },
  "kernelspec": {
   "name": "python3",
   "display_name": "Python 3"
  },
  "language_info": {
   "name": "python"
  }
 },
 "cells": [
  {
   "cell_type": "markdown",
   "source": [
    "# Greeks \n",
    "\n",
    "The Greeks are the quantities representing the sensitivity of the price of options to a change of the underlying parameters.\n",
    "The Greeks in the Black–Scholes model are relatively easy to calculate, a desirable property of financial models, and are very useful for derivatives traders, especially those who seek to hedge their portfolios from adverse changes in market conditions.\n",
    "\n",
    "The most important Greeks are:\n",
    "\n",
    "Delta\n",
    "$$\n",
    "Δ = \\frac{\\partial V}{\\partial S}\n",
    "$$\n",
    "\n",
    "\n",
    "Vega\n",
    "$$\n",
    "\\mathcal{V} = \\frac{\\partial V}{\\partial \\sigma}\n",
    "$$\n",
    "\n",
    "Theta\n",
    "$$\n",
    "\\Theta = \\frac{\\partial V}{\\partial \\tau}\n",
    "$$\n",
    "\n",
    "Gamma\n",
    "\n",
    "$$\n",
    "\\Gamma = \\frac{\\partial^2 V}{\\partial S^2}\n",
    "$$"
   ],
   "metadata": {
    "id": "nyZ6zK-zq-kb",
    "pycharm": {
     "name": "#%% md\n"
    }
   }
  },
  {
   "cell_type": "code",
   "execution_count": 1,
   "metadata": {
    "id": "d5WqaKnRuqZ5",
    "pycharm": {
     "name": "#%%\n"
    }
   },
   "outputs": [],
   "source": [
    "import numpy as np\n",
    "import pandas as pd\n",
    "import torch\n",
    "import torch.nn as nn\n",
    "from scipy import stats\n",
    "from sklearn.preprocessing import StandardScaler\n",
    "from sklearn.utils import shuffle\n",
    "from torch.autograd import Variable\n",
    "from torch.utils.data import Dataset"
   ]
  },
  {
   "cell_type": "code",
   "source": [
    "# Set seeds\n",
    "torch.manual_seed(0)\n",
    "np.random.seed(0)"
   ],
   "metadata": {
    "id": "QvVjZvRAu4V6",
    "pycharm": {
     "name": "#%%\n"
    }
   },
   "execution_count": 2,
   "outputs": []
  },
  {
   "cell_type": "code",
   "source": [
    "b_synthetic_opt_path = '../data/binom_synthetic_options.csv'\n",
    "t_synthetic_opt_path = '../data/trinomial_synthetic_options.csv'"
   ],
   "metadata": {
    "id": "de8X7ZZFu5jM",
    "pycharm": {
     "name": "#%%\n"
    }
   },
   "execution_count": 3,
   "outputs": []
  },
  {
   "cell_type": "code",
   "source": [
    "def reduce_mem_usage(df):\n",
    "    \"\"\" iterate through all the columns of a dataframe and modify the data type\n",
    "        to reduce memory usage.        \n",
    "    \"\"\"    \n",
    "    for col in df.columns:\n",
    "        col_type = df[col].dtype\n",
    "        \n",
    "        if col_type != object:\n",
    "            c_min = df[col].min()\n",
    "            c_max = df[col].max()\n",
    "            if str(col_type)[:3] == 'int':\n",
    "                if c_min > np.iinfo(np.int8).min and c_max < np.iinfo(np.int8).max:\n",
    "                    df[col] = df[col].astype(np.int8)\n",
    "                elif c_min > np.iinfo(np.int16).min and c_max < np.iinfo(np.int16).max:\n",
    "                    df[col] = df[col].astype(np.int16)\n",
    "                elif c_min > np.iinfo(np.int32).min and c_max < np.iinfo(np.int32).max:\n",
    "                    df[col] = df[col].astype(np.int32)\n",
    "                elif c_min > np.iinfo(np.int64).min and c_max < np.iinfo(np.int64).max:\n",
    "                    df[col] = df[col].astype(np.int64)  \n",
    "            else:\n",
    "                if c_min > np.finfo(np.float16).min and c_max < np.finfo(np.float16).max:\n",
    "                    df[col] = df[col].astype(np.float16)\n",
    "                elif c_min > np.finfo(np.float32).min and c_max < np.finfo(np.float32).max:\n",
    "                    df[col] = df[col].astype(np.float32)\n",
    "                else:\n",
    "                    df[col] = df[col].astype(np.float64)\n",
    "        else:\n",
    "            df[col] = df[col].astype('category')\n",
    "    \n",
    "    return df"
   ],
   "metadata": {
    "id": "qlQic-lZu61e",
    "pycharm": {
     "name": "#%%\n"
    }
   },
   "execution_count": 4,
   "outputs": []
  },
  {
   "cell_type": "code",
   "source": [
    "b_synthetic_opt = pd.read_csv(b_synthetic_opt_path, index_col=0)\n",
    "t_synthetic_opt = pd.read_csv(t_synthetic_opt_path, index_col=0)\n",
    "\n",
    "b_synthetic_opt = reduce_mem_usage(b_synthetic_opt)\n",
    "t_synthetic_opt = reduce_mem_usage(t_synthetic_opt)\n",
    "  \n",
    "b_synthetic_opt = shuffle(b_synthetic_opt, random_state=0)\n",
    "t_synthetic_opt = shuffle(t_synthetic_opt, random_state=0)"
   ],
   "metadata": {
    "id": "ZDbfn4f9u9zi",
    "pycharm": {
     "name": "#%%\n"
    }
   },
   "execution_count": 5,
   "outputs": [
    {
     "name": "stderr",
     "output_type": "stream",
     "text": [
      "/home/paolo/PycharmProjects/backtesting_experiments/venv/lib/python3.8/site-packages/numpy/lib/arraysetops.py:583: FutureWarning: elementwise comparison failed; returning scalar instead, but in the future will perform elementwise comparison\n",
      "  mask |= (ar1 == a)\n"
     ]
    }
   ]
  },
  {
   "cell_type": "code",
   "source": [
    "synthetic_options = pd.concat([b_synthetic_opt,\n",
    "                               t_synthetic_opt],\n",
    "                              ignore_index=True)\n",
    "synthetic_options = shuffle(synthetic_options, random_state=0)\n",
    "synthetic_options = synthetic_options.reset_index()\n",
    "synthetic_options = synthetic_options.drop('index', axis=1)"
   ],
   "metadata": {
    "id": "ckdSVfv6u-fm",
    "pycharm": {
     "name": "#%%\n"
    }
   },
   "execution_count": 6,
   "outputs": []
  },
  {
   "cell_type": "code",
   "source": [
    "synthetic_options"
   ],
   "metadata": {
    "colab": {
     "base_uri": "https://localhost:8080/",
     "height": 424
    },
    "id": "t_8gd-LSu_jn",
    "outputId": "731290ec-efb7-4b23-b812-74c506c837c5",
    "pycharm": {
     "name": "#%%\n"
    }
   },
   "execution_count": 7,
   "outputs": [
    {
     "data": {
      "text/plain": "         Price  Strike Type       Vol  Interest Rate  Time to Expiration  \\\n0         94.0    76.0    C  0.300049       0.070007            0.700195   \n1         93.0   114.0    C  0.899902       0.010002            0.700195   \n2         98.0    97.0    C  0.300049       0.049988            0.500000   \n3         90.0   119.0    P  0.899902       0.049988            0.899902   \n4         84.0   114.0    P  0.700195       0.070007            0.899902   \n...        ...     ...  ...       ...            ...                 ...   \n3223035  117.0    80.0    C  0.300049       0.070007            0.700195   \n3223036   88.0    97.0    C  0.500000       0.010002            0.099976   \n3223037  100.0    65.0    C  0.500000       0.049988            0.010002   \n3223038   99.0   100.0    C  0.300049       0.070007            0.700195   \n3223039  100.0   157.0    P  1.000000       0.049988            0.899902   \n\n         Option Price  \n0           23.218750  \n1           21.140625  \n2            9.953125  \n3           47.750000  \n4           39.593750  \n...               ...  \n3223035     41.250000  \n3223036      2.419922  \n3223037     35.031250  \n3223038     11.703125  \n3223039     74.437500  \n\n[3223040 rows x 7 columns]",
      "text/html": "<div>\n<style scoped>\n    .dataframe tbody tr th:only-of-type {\n        vertical-align: middle;\n    }\n\n    .dataframe tbody tr th {\n        vertical-align: top;\n    }\n\n    .dataframe thead th {\n        text-align: right;\n    }\n</style>\n<table border=\"1\" class=\"dataframe\">\n  <thead>\n    <tr style=\"text-align: right;\">\n      <th></th>\n      <th>Price</th>\n      <th>Strike</th>\n      <th>Type</th>\n      <th>Vol</th>\n      <th>Interest Rate</th>\n      <th>Time to Expiration</th>\n      <th>Option Price</th>\n    </tr>\n  </thead>\n  <tbody>\n    <tr>\n      <th>0</th>\n      <td>94.0</td>\n      <td>76.0</td>\n      <td>C</td>\n      <td>0.300049</td>\n      <td>0.070007</td>\n      <td>0.700195</td>\n      <td>23.218750</td>\n    </tr>\n    <tr>\n      <th>1</th>\n      <td>93.0</td>\n      <td>114.0</td>\n      <td>C</td>\n      <td>0.899902</td>\n      <td>0.010002</td>\n      <td>0.700195</td>\n      <td>21.140625</td>\n    </tr>\n    <tr>\n      <th>2</th>\n      <td>98.0</td>\n      <td>97.0</td>\n      <td>C</td>\n      <td>0.300049</td>\n      <td>0.049988</td>\n      <td>0.500000</td>\n      <td>9.953125</td>\n    </tr>\n    <tr>\n      <th>3</th>\n      <td>90.0</td>\n      <td>119.0</td>\n      <td>P</td>\n      <td>0.899902</td>\n      <td>0.049988</td>\n      <td>0.899902</td>\n      <td>47.750000</td>\n    </tr>\n    <tr>\n      <th>4</th>\n      <td>84.0</td>\n      <td>114.0</td>\n      <td>P</td>\n      <td>0.700195</td>\n      <td>0.070007</td>\n      <td>0.899902</td>\n      <td>39.593750</td>\n    </tr>\n    <tr>\n      <th>...</th>\n      <td>...</td>\n      <td>...</td>\n      <td>...</td>\n      <td>...</td>\n      <td>...</td>\n      <td>...</td>\n      <td>...</td>\n    </tr>\n    <tr>\n      <th>3223035</th>\n      <td>117.0</td>\n      <td>80.0</td>\n      <td>C</td>\n      <td>0.300049</td>\n      <td>0.070007</td>\n      <td>0.700195</td>\n      <td>41.250000</td>\n    </tr>\n    <tr>\n      <th>3223036</th>\n      <td>88.0</td>\n      <td>97.0</td>\n      <td>C</td>\n      <td>0.500000</td>\n      <td>0.010002</td>\n      <td>0.099976</td>\n      <td>2.419922</td>\n    </tr>\n    <tr>\n      <th>3223037</th>\n      <td>100.0</td>\n      <td>65.0</td>\n      <td>C</td>\n      <td>0.500000</td>\n      <td>0.049988</td>\n      <td>0.010002</td>\n      <td>35.031250</td>\n    </tr>\n    <tr>\n      <th>3223038</th>\n      <td>99.0</td>\n      <td>100.0</td>\n      <td>C</td>\n      <td>0.300049</td>\n      <td>0.070007</td>\n      <td>0.700195</td>\n      <td>11.703125</td>\n    </tr>\n    <tr>\n      <th>3223039</th>\n      <td>100.0</td>\n      <td>157.0</td>\n      <td>P</td>\n      <td>1.000000</td>\n      <td>0.049988</td>\n      <td>0.899902</td>\n      <td>74.437500</td>\n    </tr>\n  </tbody>\n</table>\n<p>3223040 rows × 7 columns</p>\n</div>"
     },
     "execution_count": 7,
     "metadata": {},
     "output_type": "execute_result"
    }
   ]
  },
  {
   "cell_type": "markdown",
   "source": [
    "## Preprocessing"
   ],
   "metadata": {
    "id": "iKLZO13NvMTW",
    "pycharm": {
     "name": "#%% md\n"
    }
   }
  },
  {
   "cell_type": "code",
   "source": [
    "synthetic_options = pd.get_dummies(synthetic_options, prefix='', prefix_sep='')"
   ],
   "metadata": {
    "id": "cQ9KfnGrvcs4",
    "pycharm": {
     "name": "#%%\n"
    }
   },
   "execution_count": 8,
   "outputs": []
  },
  {
   "cell_type": "code",
   "source": [
    "df_cols = synthetic_options.drop('Option Price', axis=1).columns\n",
    "df_cols"
   ],
   "metadata": {
    "colab": {
     "base_uri": "https://localhost:8080/"
    },
    "id": "SsAVHmvJ64Yd",
    "outputId": "64072fde-6aee-446e-8e35-2d118b8cbc59",
    "pycharm": {
     "name": "#%%\n"
    }
   },
   "execution_count": 9,
   "outputs": [
    {
     "data": {
      "text/plain": "Index(['Price', 'Strike', 'Vol', 'Interest Rate', 'Time to Expiration', 'C',\n       'P'],\n      dtype='object')"
     },
     "execution_count": 9,
     "metadata": {},
     "output_type": "execute_result"
    }
   ]
  },
  {
   "cell_type": "code",
   "source": [
    "input_sc = StandardScaler()\n",
    "output_sc = StandardScaler()\n",
    "input_data = input_sc.fit_transform(synthetic_options.drop('Option Price', axis=1))\n",
    "output_data = output_sc.fit_transform(synthetic_options['Option Price'].values.reshape(-1, 1))\n",
    "\n",
    "train_size = 0.8\n",
    "val_size = 0.1\n",
    "\n",
    "last_train_idx = int(np.round(len(input_data) * train_size))\n",
    "last_val_idx = last_train_idx + int(np.round(len(input_data) * val_size))\n",
    "\n",
    "X_train = input_data[0:last_train_idx]\n",
    "X_val = input_data[last_train_idx:last_val_idx]\n",
    "X_test = input_data[last_val_idx:]\n",
    "\n",
    "y_train = output_data[0:last_train_idx]\n",
    "y_val = output_data[last_train_idx:last_val_idx]\n",
    "y_test = output_data[last_val_idx:]"
   ],
   "metadata": {
    "id": "2oZN9QcKvPU8",
    "pycharm": {
     "name": "#%%\n"
    }
   },
   "execution_count": 10,
   "outputs": []
  },
  {
   "cell_type": "code",
   "source": [
    "X_train = Variable(torch.Tensor(X_train))\n",
    "X_val = Variable(torch.Tensor(X_val))\n",
    "X_test = Variable(torch.Tensor(X_test))\n",
    "\n",
    "y_train = Variable(torch.Tensor(y_train))\n",
    "y_val = Variable(torch.Tensor(y_val))\n",
    "y_test = Variable(torch.Tensor(y_test))"
   ],
   "metadata": {
    "id": "Ku4go32rvfhL",
    "pycharm": {
     "name": "#%%\n"
    }
   },
   "execution_count": 11,
   "outputs": []
  },
  {
   "cell_type": "markdown",
   "source": [
    "## Model"
   ],
   "metadata": {
    "id": "jBAVivmLvg29",
    "pycharm": {
     "name": "#%% md\n"
    }
   }
  },
  {
   "cell_type": "code",
   "source": [
    "CUDA = torch.cuda.is_available()\n",
    "device = 'cuda:0' if CUDA else 'cpu'"
   ],
   "metadata": {
    "id": "LYiQyIkBvh-p",
    "pycharm": {
     "name": "#%%\n"
    }
   },
   "execution_count": 12,
   "outputs": []
  },
  {
   "cell_type": "code",
   "source": [
    "class ResBlock(nn.Module):\n",
    "\n",
    "  def __init__(self, module):\n",
    "    super(ResBlock, self).__init__()\n",
    "    self.module = module\n",
    "\n",
    "  def forward(self, x):\n",
    "    return self.module(x) + x"
   ],
   "metadata": {
    "id": "BiH0caYUvjUL",
    "pycharm": {
     "name": "#%%\n"
    }
   },
   "execution_count": 13,
   "outputs": []
  },
  {
   "cell_type": "code",
   "source": [
    "class HiddenLayer(nn.Module):\n",
    "\n",
    "  def __init__(self, layer_size, act_fn):\n",
    "      super(HiddenLayer, self).__init__()\n",
    "      \n",
    "      if act_fn == 'ReLU':\n",
    "        self.layer = nn.Sequential(\n",
    "          nn.Linear(layer_size, layer_size),\n",
    "          nn.ReLU())\n",
    "      elif act_fn == 'LeakyReLU':\n",
    "        self.layer = nn.Sequential(\n",
    "          nn.Linear(layer_size, layer_size),\n",
    "          nn.LeakyReLU())\n",
    "      elif act_fn == 'ELU':\n",
    "        self.layer = nn.Sequential(\n",
    "          nn.Linear(layer_size, layer_size),\n",
    "          nn.ELU())\n",
    "    \n",
    "  def forward(self, x):\n",
    "    return self.layer(x)"
   ],
   "metadata": {
    "id": "7uOXXLiYvk79",
    "pycharm": {
     "name": "#%%\n"
    }
   },
   "execution_count": 14,
   "outputs": []
  },
  {
   "cell_type": "code",
   "source": [
    "class Net(nn.Module):\n",
    "\n",
    "  def __init__(self, input_size, output_size, hidden_size, num_layers, act_fn):\n",
    "    super(Net, self).__init__()\n",
    "    self.input_size = input_size\n",
    "    self.output_size = output_size\n",
    "    self.hidden_size = hidden_size\n",
    "\n",
    "    if act_fn == 'ReLU':\n",
    "      self.initial_layer = nn.Sequential(\n",
    "          nn.Linear(self.input_size, self.hidden_size),\n",
    "          nn.ReLU())\n",
    "    elif act_fn == 'LeakyReLU':\n",
    "      self.initial_layer = nn.Sequential(\n",
    "          nn.Linear(self.input_size, self.hidden_size),\n",
    "          nn.LeakyReLU())\n",
    "    elif act_fn == 'ELU':\n",
    "      self.initial_layer = nn.Sequential(\n",
    "          nn.Linear(self.input_size, self.hidden_size),\n",
    "          nn.ELU())\n",
    "\n",
    "    self.hidden_layers_list = []\n",
    "\n",
    "    for i in range(num_layers // 2):\n",
    "      self.hidden_layers_list.append(\n",
    "          ResBlock(\n",
    "            nn.Sequential(\n",
    "                HiddenLayer(self.hidden_size, act_fn),\n",
    "                HiddenLayer(self.hidden_size, act_fn)\n",
    "            )\n",
    "        )\n",
    "      )\n",
    "\n",
    "    self.hidden_layers = nn.Sequential(*self.hidden_layers_list)\n",
    "\n",
    "    self.net = nn.Sequential(\n",
    "        self.initial_layer,\n",
    "        self.hidden_layers,\n",
    "        nn.Linear(self.hidden_size, self.output_size)\n",
    "    )\n",
    "  \n",
    "  def forward(self, x):\n",
    "    return self.net(x)"
   ],
   "metadata": {
    "id": "uuAjyuRUvlpe",
    "pycharm": {
     "name": "#%%\n"
    }
   },
   "execution_count": 15,
   "outputs": []
  },
  {
   "cell_type": "code",
   "source": [
    "def init_weights(m, init_m: str):\n",
    "\n",
    "  @torch.no_grad()\n",
    "  def init_uniform(m):\n",
    "    if isinstance(m, nn.Linear):\n",
    "      torch.nn.init.uniform_(m.weight)\n",
    "      m.bias.data.fill_(0.01)\n",
    "\n",
    "  @torch.no_grad()\n",
    "  def init_normal(m):\n",
    "    if isinstance(m, nn.Linear):\n",
    "      torch.nn.init.normal_(m.weight)\n",
    "      m.bias.data.fill_(0.01)\n",
    "\n",
    "  @torch.no_grad()\n",
    "  def init_xuniform(m):\n",
    "    if isinstance(m, nn.Linear):\n",
    "      torch.nn.init.xavier_uniform_(m.weight)\n",
    "      m.bias.data.fill_(0.01)\n",
    "\n",
    "  @torch.no_grad()\n",
    "  def init_xnormal(m):\n",
    "    if isinstance(m, nn.Linear):\n",
    "      torch.nn.init.xavier_normal_(m.weight)\n",
    "      m.bias.data.fill_(0.01)\n",
    "\n",
    "  if init_m == 'uniform':\n",
    "    m.apply(init_uniform)\n",
    "  elif init_m == 'normal':\n",
    "    m.apply(init_normal)\n",
    "  elif init_m == 'xaiver uniform':\n",
    "    m.apply(init_xuniform)\n",
    "  elif init_m == 'xavier normal':\n",
    "    m.apply(init_xnormal)"
   ],
   "metadata": {
    "id": "r1gV4YAkvrFF",
    "pycharm": {
     "name": "#%%\n"
    }
   },
   "execution_count": 16,
   "outputs": []
  },
  {
   "cell_type": "code",
   "source": [
    "input_size = 7\n",
    "output_size = 1\n",
    "num_layers = 6\n",
    "hidden_size = 600\n",
    "batch_size = 1393\n",
    "epochs = 2000\n",
    "lr = 9.193458959442868e-05\n",
    "init_method = 'xaiver uniform'\n",
    "act_fn = 'LeakyReLU'\n",
    "\n",
    "model = Net(input_size, output_size, hidden_size, num_layers, act_fn)\n",
    "init_weights(model, init_method)\n",
    "\n",
    "loss_fn = nn.MSELoss()"
   ],
   "metadata": {
    "id": "6f0_pFsMvtlS",
    "pycharm": {
     "name": "#%%\n"
    }
   },
   "execution_count": 17,
   "outputs": []
  },
  {
   "cell_type": "code",
   "source": [
    "X_train = X_train.to(device)\n",
    "y_train = y_train.to(device)\n",
    "\n",
    "X_val = X_val.to(device)\n",
    "y_val = y_val.to(device)\n",
    "\n",
    "X_test = X_test.to(device)\n",
    "y_test = y_test.to(device)"
   ],
   "metadata": {
    "id": "9PQyiOVqvwoX",
    "pycharm": {
     "name": "#%%\n"
    }
   },
   "execution_count": 18,
   "outputs": []
  },
  {
   "cell_type": "code",
   "source": [
    "class OptDataset(Dataset):\n",
    "\n",
    "  def __init__(self, X, y):\n",
    "    self.X = X\n",
    "    self.y = y\n",
    "\n",
    "  def __getitem__(self, idx):\n",
    "    return self.X[idx], self.y[idx]\n",
    "\n",
    "  def __len__(self):\n",
    "    return len(self.X)"
   ],
   "metadata": {
    "id": "-GGFW7Ywvyg-",
    "pycharm": {
     "name": "#%%\n"
    }
   },
   "execution_count": 19,
   "outputs": []
  },
  {
   "cell_type": "code",
   "source": [
    "save_model_path = '../models/final_bintri_model.chkpt'\n",
    "\n",
    "model = Net(input_size, output_size, hidden_size, num_layers, act_fn)\n",
    "model.load_state_dict(torch.load(save_model_path, map_location=device))\n",
    "model = model.to(device)"
   ],
   "metadata": {
    "id": "7EEL4yyXwakY",
    "pycharm": {
     "name": "#%%\n"
    }
   },
   "execution_count": 20,
   "outputs": []
  },
  {
   "cell_type": "code",
   "source": [
    "test_size = 30\n",
    "\n",
    "with torch.no_grad():\n",
    "    test_out = model(X_test[0:test_size])\n",
    "\n",
    "test_out = output_sc.inverse_transform(test_out.cpu().detach().numpy())\n",
    "real_out = output_sc.inverse_transform(y_test[0:test_size].cpu().detach().numpy())"
   ],
   "metadata": {
    "id": "5EIzKims8ErS",
    "pycharm": {
     "name": "#%%\n"
    }
   },
   "execution_count": 21,
   "outputs": []
  },
  {
   "cell_type": "code",
   "source": [
    "model.zero_grad()\n",
    "inp_g = X_test[0].clone().detach().requires_grad_(True)\n",
    "test_out_g = model(inp_g)"
   ],
   "metadata": {
    "id": "Ruq7rZqsw4gX",
    "pycharm": {
     "name": "#%%\n"
    }
   },
   "execution_count": 22,
   "outputs": []
  },
  {
   "cell_type": "code",
   "source": [
    "cols = ['Price', 'Strike', 'Vol', 'Interest Rate', 'Time to Expiration', 'C', 'P']\n",
    "test_options = pd.DataFrame(input_sc.inverse_transform(X_test[0:test_size].cpu().detach().numpy()), columns=cols)\n",
    "test_options['Prediction'] = test_out\n",
    "test_options['Real'] = real_out"
   ],
   "metadata": {
    "id": "7r98qV_88TOv",
    "pycharm": {
     "name": "#%%\n"
    }
   },
   "execution_count": 23,
   "outputs": []
  },
  {
   "cell_type": "code",
   "source": [
    "test_options"
   ],
   "metadata": {
    "colab": {
     "base_uri": "https://localhost:8080/",
     "height": 990
    },
    "id": "08iBR9Cg8lyb",
    "outputId": "452b4eba-4951-4dd3-be42-b6bcac19e202",
    "pycharm": {
     "name": "#%%\n"
    }
   },
   "execution_count": 24,
   "outputs": [
    {
     "data": {
      "text/plain": "         Price      Strike       Vol  Interest Rate  Time to Expiration    C  \\\n0    79.012611   89.001038  0.300038       0.090027            0.700247  0.0   \n1   120.008972  138.989365  0.100124       0.049989            0.099802  1.0   \n2    94.997108  133.992172  0.899779       0.049989            0.499990  1.0   \n3   102.000168  101.993736  0.300038       0.010006            0.499990  1.0   \n4    99.999916   92.998787  0.950074       0.019984            0.210050  0.0   \n5    99.999916   81.988579  0.549789       0.080021            0.710059  1.0   \n6    92.996857  125.996658  0.300038       0.030004            0.700247  0.0   \n7    98.999062  110.999954  0.700287       0.030004            0.300095  0.0   \n8    99.999916   61.000366  0.799752       0.090027            0.499990  1.0   \n9   121.012009  159.010910  0.499995       0.090027            0.499990  1.0   \n10   88.996361   74.009453  0.300038       0.030004            0.099802  1.0   \n11  119.005928  123.997780  0.899779       0.030004            0.899817  0.0   \n12   99.999916   61.983418  0.750019       0.030004            0.099802  1.0   \n13   99.999916  143.003494  0.950074       0.070015            0.300095  0.0   \n14   91.002441   84.003838  0.899779       0.049989            0.700247  0.0   \n15  112.999352  127.995529  0.300038       0.030004            0.099802  0.0   \n16  121.012009  175.001923  0.700287       0.010006            0.099802  0.0   \n17  110.001892   95.997108  0.300038       0.049989            0.499990  0.0   \n18  116.999847  104.000809  0.700287       0.049989            0.700247  1.0   \n19   99.999916  108.000610  0.449973       0.060002            1.109922  1.0   \n20   99.999916  190.992950  0.549789       0.070015            0.499990  1.0   \n21   76.003494   64.998116  0.100124       0.010006            0.499990  0.0   \n22   99.999916  145.002380  0.399924       0.030004            0.509762  0.0   \n23   99.999916  112.999855  0.549789       0.060002            0.910207  1.0   \n24   83.013107   93.998230  0.899779       0.010006            0.099802  1.0   \n25  115.005432  161.992828  0.300038       0.070015            0.300095  1.0   \n26   99.999916  121.998901  0.600119       0.019984            0.710059  0.0   \n27  115.996803  143.003494  0.899779       0.030004            0.300095  1.0   \n28  116.999847  127.995529  0.300038       0.049989            0.099802  0.0   \n29  115.005432  121.998901  0.300038       0.030004            0.099802  1.0   \n\n      P  Prediction       Real  \n0   1.0   11.165807  11.955178  \n1   0.0    0.033564   0.009182  \n2   0.0   13.647600  13.661748  \n3   0.0    8.870663   8.843196  \n4   1.0   13.225761  13.146127  \n5   0.0   29.887131  29.878733  \n6   1.0   32.773960  33.374008  \n7   1.0   22.061502  22.094215  \n8   0.0   45.529526  45.511650  \n9   0.0    7.420802   7.456037  \n10  0.0   15.295062  15.286184  \n11  1.0   40.570038  40.510578  \n12  0.0   38.335079  38.311199  \n13  1.0   49.498463  49.435848  \n14  1.0   20.744480  20.609522  \n15  1.0   15.270292  15.295311  \n16  1.0   54.545338  54.528183  \n17  1.0    2.788264   2.765250  \n18  0.0   34.159718  34.158848  \n19  0.0   18.334082  18.328581  \n20  0.0    1.283461   1.286829  \n21  1.0    0.035336   0.027436  \n22  1.0   45.034760  45.566406  \n23  0.0   18.102432  18.077614  \n24  0.0    5.458788   5.521315  \n25  0.0    0.230443   0.209956  \n26  1.0   33.639721  33.812057  \n27  0.0   14.231222  14.250379  \n28  1.0   11.670883  11.535379  \n29  0.0    1.917613   1.907401  ",
      "text/html": "<div>\n<style scoped>\n    .dataframe tbody tr th:only-of-type {\n        vertical-align: middle;\n    }\n\n    .dataframe tbody tr th {\n        vertical-align: top;\n    }\n\n    .dataframe thead th {\n        text-align: right;\n    }\n</style>\n<table border=\"1\" class=\"dataframe\">\n  <thead>\n    <tr style=\"text-align: right;\">\n      <th></th>\n      <th>Price</th>\n      <th>Strike</th>\n      <th>Vol</th>\n      <th>Interest Rate</th>\n      <th>Time to Expiration</th>\n      <th>C</th>\n      <th>P</th>\n      <th>Prediction</th>\n      <th>Real</th>\n    </tr>\n  </thead>\n  <tbody>\n    <tr>\n      <th>0</th>\n      <td>79.012611</td>\n      <td>89.001038</td>\n      <td>0.300038</td>\n      <td>0.090027</td>\n      <td>0.700247</td>\n      <td>0.0</td>\n      <td>1.0</td>\n      <td>11.165807</td>\n      <td>11.955178</td>\n    </tr>\n    <tr>\n      <th>1</th>\n      <td>120.008972</td>\n      <td>138.989365</td>\n      <td>0.100124</td>\n      <td>0.049989</td>\n      <td>0.099802</td>\n      <td>1.0</td>\n      <td>0.0</td>\n      <td>0.033564</td>\n      <td>0.009182</td>\n    </tr>\n    <tr>\n      <th>2</th>\n      <td>94.997108</td>\n      <td>133.992172</td>\n      <td>0.899779</td>\n      <td>0.049989</td>\n      <td>0.499990</td>\n      <td>1.0</td>\n      <td>0.0</td>\n      <td>13.647600</td>\n      <td>13.661748</td>\n    </tr>\n    <tr>\n      <th>3</th>\n      <td>102.000168</td>\n      <td>101.993736</td>\n      <td>0.300038</td>\n      <td>0.010006</td>\n      <td>0.499990</td>\n      <td>1.0</td>\n      <td>0.0</td>\n      <td>8.870663</td>\n      <td>8.843196</td>\n    </tr>\n    <tr>\n      <th>4</th>\n      <td>99.999916</td>\n      <td>92.998787</td>\n      <td>0.950074</td>\n      <td>0.019984</td>\n      <td>0.210050</td>\n      <td>0.0</td>\n      <td>1.0</td>\n      <td>13.225761</td>\n      <td>13.146127</td>\n    </tr>\n    <tr>\n      <th>5</th>\n      <td>99.999916</td>\n      <td>81.988579</td>\n      <td>0.549789</td>\n      <td>0.080021</td>\n      <td>0.710059</td>\n      <td>1.0</td>\n      <td>0.0</td>\n      <td>29.887131</td>\n      <td>29.878733</td>\n    </tr>\n    <tr>\n      <th>6</th>\n      <td>92.996857</td>\n      <td>125.996658</td>\n      <td>0.300038</td>\n      <td>0.030004</td>\n      <td>0.700247</td>\n      <td>0.0</td>\n      <td>1.0</td>\n      <td>32.773960</td>\n      <td>33.374008</td>\n    </tr>\n    <tr>\n      <th>7</th>\n      <td>98.999062</td>\n      <td>110.999954</td>\n      <td>0.700287</td>\n      <td>0.030004</td>\n      <td>0.300095</td>\n      <td>0.0</td>\n      <td>1.0</td>\n      <td>22.061502</td>\n      <td>22.094215</td>\n    </tr>\n    <tr>\n      <th>8</th>\n      <td>99.999916</td>\n      <td>61.000366</td>\n      <td>0.799752</td>\n      <td>0.090027</td>\n      <td>0.499990</td>\n      <td>1.0</td>\n      <td>0.0</td>\n      <td>45.529526</td>\n      <td>45.511650</td>\n    </tr>\n    <tr>\n      <th>9</th>\n      <td>121.012009</td>\n      <td>159.010910</td>\n      <td>0.499995</td>\n      <td>0.090027</td>\n      <td>0.499990</td>\n      <td>1.0</td>\n      <td>0.0</td>\n      <td>7.420802</td>\n      <td>7.456037</td>\n    </tr>\n    <tr>\n      <th>10</th>\n      <td>88.996361</td>\n      <td>74.009453</td>\n      <td>0.300038</td>\n      <td>0.030004</td>\n      <td>0.099802</td>\n      <td>1.0</td>\n      <td>0.0</td>\n      <td>15.295062</td>\n      <td>15.286184</td>\n    </tr>\n    <tr>\n      <th>11</th>\n      <td>119.005928</td>\n      <td>123.997780</td>\n      <td>0.899779</td>\n      <td>0.030004</td>\n      <td>0.899817</td>\n      <td>0.0</td>\n      <td>1.0</td>\n      <td>40.570038</td>\n      <td>40.510578</td>\n    </tr>\n    <tr>\n      <th>12</th>\n      <td>99.999916</td>\n      <td>61.983418</td>\n      <td>0.750019</td>\n      <td>0.030004</td>\n      <td>0.099802</td>\n      <td>1.0</td>\n      <td>0.0</td>\n      <td>38.335079</td>\n      <td>38.311199</td>\n    </tr>\n    <tr>\n      <th>13</th>\n      <td>99.999916</td>\n      <td>143.003494</td>\n      <td>0.950074</td>\n      <td>0.070015</td>\n      <td>0.300095</td>\n      <td>0.0</td>\n      <td>1.0</td>\n      <td>49.498463</td>\n      <td>49.435848</td>\n    </tr>\n    <tr>\n      <th>14</th>\n      <td>91.002441</td>\n      <td>84.003838</td>\n      <td>0.899779</td>\n      <td>0.049989</td>\n      <td>0.700247</td>\n      <td>0.0</td>\n      <td>1.0</td>\n      <td>20.744480</td>\n      <td>20.609522</td>\n    </tr>\n    <tr>\n      <th>15</th>\n      <td>112.999352</td>\n      <td>127.995529</td>\n      <td>0.300038</td>\n      <td>0.030004</td>\n      <td>0.099802</td>\n      <td>0.0</td>\n      <td>1.0</td>\n      <td>15.270292</td>\n      <td>15.295311</td>\n    </tr>\n    <tr>\n      <th>16</th>\n      <td>121.012009</td>\n      <td>175.001923</td>\n      <td>0.700287</td>\n      <td>0.010006</td>\n      <td>0.099802</td>\n      <td>0.0</td>\n      <td>1.0</td>\n      <td>54.545338</td>\n      <td>54.528183</td>\n    </tr>\n    <tr>\n      <th>17</th>\n      <td>110.001892</td>\n      <td>95.997108</td>\n      <td>0.300038</td>\n      <td>0.049989</td>\n      <td>0.499990</td>\n      <td>0.0</td>\n      <td>1.0</td>\n      <td>2.788264</td>\n      <td>2.765250</td>\n    </tr>\n    <tr>\n      <th>18</th>\n      <td>116.999847</td>\n      <td>104.000809</td>\n      <td>0.700287</td>\n      <td>0.049989</td>\n      <td>0.700247</td>\n      <td>1.0</td>\n      <td>0.0</td>\n      <td>34.159718</td>\n      <td>34.158848</td>\n    </tr>\n    <tr>\n      <th>19</th>\n      <td>99.999916</td>\n      <td>108.000610</td>\n      <td>0.449973</td>\n      <td>0.060002</td>\n      <td>1.109922</td>\n      <td>1.0</td>\n      <td>0.0</td>\n      <td>18.334082</td>\n      <td>18.328581</td>\n    </tr>\n    <tr>\n      <th>20</th>\n      <td>99.999916</td>\n      <td>190.992950</td>\n      <td>0.549789</td>\n      <td>0.070015</td>\n      <td>0.499990</td>\n      <td>1.0</td>\n      <td>0.0</td>\n      <td>1.283461</td>\n      <td>1.286829</td>\n    </tr>\n    <tr>\n      <th>21</th>\n      <td>76.003494</td>\n      <td>64.998116</td>\n      <td>0.100124</td>\n      <td>0.010006</td>\n      <td>0.499990</td>\n      <td>0.0</td>\n      <td>1.0</td>\n      <td>0.035336</td>\n      <td>0.027436</td>\n    </tr>\n    <tr>\n      <th>22</th>\n      <td>99.999916</td>\n      <td>145.002380</td>\n      <td>0.399924</td>\n      <td>0.030004</td>\n      <td>0.509762</td>\n      <td>0.0</td>\n      <td>1.0</td>\n      <td>45.034760</td>\n      <td>45.566406</td>\n    </tr>\n    <tr>\n      <th>23</th>\n      <td>99.999916</td>\n      <td>112.999855</td>\n      <td>0.549789</td>\n      <td>0.060002</td>\n      <td>0.910207</td>\n      <td>1.0</td>\n      <td>0.0</td>\n      <td>18.102432</td>\n      <td>18.077614</td>\n    </tr>\n    <tr>\n      <th>24</th>\n      <td>83.013107</td>\n      <td>93.998230</td>\n      <td>0.899779</td>\n      <td>0.010006</td>\n      <td>0.099802</td>\n      <td>1.0</td>\n      <td>0.0</td>\n      <td>5.458788</td>\n      <td>5.521315</td>\n    </tr>\n    <tr>\n      <th>25</th>\n      <td>115.005432</td>\n      <td>161.992828</td>\n      <td>0.300038</td>\n      <td>0.070015</td>\n      <td>0.300095</td>\n      <td>1.0</td>\n      <td>0.0</td>\n      <td>0.230443</td>\n      <td>0.209956</td>\n    </tr>\n    <tr>\n      <th>26</th>\n      <td>99.999916</td>\n      <td>121.998901</td>\n      <td>0.600119</td>\n      <td>0.019984</td>\n      <td>0.710059</td>\n      <td>0.0</td>\n      <td>1.0</td>\n      <td>33.639721</td>\n      <td>33.812057</td>\n    </tr>\n    <tr>\n      <th>27</th>\n      <td>115.996803</td>\n      <td>143.003494</td>\n      <td>0.899779</td>\n      <td>0.030004</td>\n      <td>0.300095</td>\n      <td>1.0</td>\n      <td>0.0</td>\n      <td>14.231222</td>\n      <td>14.250379</td>\n    </tr>\n    <tr>\n      <th>28</th>\n      <td>116.999847</td>\n      <td>127.995529</td>\n      <td>0.300038</td>\n      <td>0.049989</td>\n      <td>0.099802</td>\n      <td>0.0</td>\n      <td>1.0</td>\n      <td>11.670883</td>\n      <td>11.535379</td>\n    </tr>\n    <tr>\n      <th>29</th>\n      <td>115.005432</td>\n      <td>121.998901</td>\n      <td>0.300038</td>\n      <td>0.030004</td>\n      <td>0.099802</td>\n      <td>1.0</td>\n      <td>0.0</td>\n      <td>1.917613</td>\n      <td>1.907401</td>\n    </tr>\n  </tbody>\n</table>\n</div>"
     },
     "execution_count": 24,
     "metadata": {},
     "output_type": "execute_result"
    }
   ]
  },
  {
   "cell_type": "markdown",
   "source": [
    "# Get the Greeks from the Neural Net\n",
    "\n",
    "One method for obtaining the option's Greek from any pricing model is the finite-difference methods. \n",
    "\n",
    "In numerical analysis, finite-difference methods (FDM) are a class of numerical techniques for solving differential equations by approximating derivatives with finite differences. Both the spatial domain and time interval (if applicable) are discretized, or broken into a finite number of steps, and the value of the solution at these discrete points is approximated by solving algebraic equations containing finite differences and values from nearby points.\n",
    "\n",
    "Finite difference methods convert ordinary differential equations (ODE) or partial differential equations (PDE), which may be nonlinear, into a system of linear equations that can be solved by matrix algebra techniques. \n",
    "\n",
    "The essence of the method is that we will approximate the partial derivative representing the particular sensitivity of interest.\n",
    "\n",
    "For example, if we know that the delta of an option is the derivative of the option's value with respect to the underlying price $\\frac{\\partial V}{\\partial S}$. If we calculate the two option prices, one at $S$ and the other at $S + \\Delta S$, subtract the prices and divide by $\\Delta S$, we have a ***forward difference approximation*** to the derivative: \n",
    "\n",
    "$$\n",
    "\\frac{\\partial V}{\\partial S} \\approx \\frac{V(S + \\Delta S, T, \\sigma, r, X) - V(S, T, \\sigma, r, X)}{\\Delta S}\n",
    "$$\n",
    "\n",
    "The same reasoning can be applied to all the first order derivative of an option. \n",
    "\n",
    "However, $\\Gamma$ on the other hand is a second order derivative and the previous formula cannot be used to approximate this greek. It can be proved that $\\Gamma$ can be approximate with the following formula:\n",
    "\n",
    "$$\n",
    "\\frac{\\partial^2 V}{\\partial S^2} = \\frac{V(S + \\Delta S, T, \\sigma, r, X) - 2 * V(S, T, \\sigma, r, X) + V(S - \\Delta S, T, \\sigma, r, X)}{(\\Delta S)^2}\n",
    "$$"
   ],
   "metadata": {
    "id": "aJEjL20s7o78",
    "pycharm": {
     "name": "#%% md\n"
    }
   }
  },
  {
   "cell_type": "code",
   "source": [
    "def get_d1_d2(S, X, T, t, r, sigma):\n",
    "    \"\"\"\n",
    "    Compute d1 and d2 values for the black-scholes pricing model\n",
    "\n",
    "\n",
    "    :param S: underlying price\n",
    "    :param X: option's strike price\n",
    "    :param T: option's time to maturity (in years)\n",
    "    :param t: current time (in years)\n",
    "    :param r: interest rate\n",
    "    :param sigma: underlying volatility\n",
    "    :return: (d1, d2)\n",
    "    \"\"\"\n",
    "    d1 = (np.log(S / X) + (r + sigma * sigma / 2.) * (T - t)) / (sigma * np.sqrt(T - t))\n",
    "    d2 = d1 - sigma * np.sqrt(T - t)\n",
    "    return d1, d2\n",
    "\n",
    "\n",
    "def black_scholes(S, X, T, t, r, sigma, o_type: str = \"C\") -> np.single:\n",
    "    \"\"\"\n",
    "    Compute option price using the black-scholes model\n",
    "\n",
    "    :param S: underlying price\n",
    "    :param X: option's strike price\n",
    "    :param T: option's time to maturity (in years)\n",
    "    :param t: current time (in years)\n",
    "    :param r: interest rate (in percentual)\n",
    "    :param sigma: underlying volatility\n",
    "    :param o_type: option type, \"C\" for a call option and \"P\" for a put option\n",
    "    :return: the black-scholes option price\n",
    "    \"\"\"\n",
    "    d1, d2 = get_d1_d2(S, X, T, t, r, sigma)\n",
    "    if o_type == \"C\":\n",
    "        return S * stats.norm.cdf(d1, 0, 1) - X * np.exp(-r * (T - t)) * stats.norm.cdf(d2, 0, 1)\n",
    "    else:\n",
    "        return X * np.exp(-r * (T - t)) * stats.norm.cdf(-d2, 0, 1) - S * stats.norm.cdf(-d1, 0, 1)"
   ],
   "metadata": {
    "id": "lRtbY9mUXaxn",
    "pycharm": {
     "name": "#%%\n"
    }
   },
   "execution_count": 25,
   "outputs": []
  },
  {
   "cell_type": "code",
   "source": [
    "def delta_fdm_bs(S, X, sigma, tau, r, delta_S, o_type: str = 'C'):\n",
    "  return (black_scholes(S + delta_S, X, tau, 0, r, sigma, o_type) - black_scholes(S, X, tau, 0, r, sigma, o_type)) / delta_S\n",
    "\n",
    "def theta_fdm_bs(S, X, sigma, tau, r, delta_tau, o_type: str = 'C'):\n",
    "  return (black_scholes(S, X, tau + delta_tau, 0, r, sigma, o_type) - black_scholes(S, X, tau, 0, r, sigma, o_type)) / delta_tau\n",
    "\n",
    "def vega_fdm_bs(S, X, sigma, tau, r, delta_sigma, o_type: str = 'C'):\n",
    "  return (black_scholes(S, X, tau, 0, r, sigma + delta_sigma, o_type) - black_scholes(S, X, tau, 0, r, sigma, o_type)) / delta_sigma\n",
    "\n",
    "def gamma_fdm_bs(S, X, sigma, tau, r, delta_S, o_type: str = 'C'):\n",
    "  return (black_scholes(S + delta_S, X, tau, 0, r, sigma, o_type) - \\\n",
    "          2 * black_scholes(S, X, tau, 0, r, sigma, o_type) + \\\n",
    "          black_scholes(S - delta_S, X, tau, 0, r, sigma, o_type)) / (delta_S ** 2)"
   ],
   "metadata": {
    "id": "kpn9EAeLXbjn",
    "pycharm": {
     "name": "#%%\n"
    }
   },
   "execution_count": 26,
   "outputs": []
  },
  {
   "cell_type": "markdown",
   "source": [
    "But we can use the FDM to get the greeks directly from the neural net? That's simple, we just have to replace the BS Model with out neural net pricer. "
   ],
   "metadata": {
    "id": "MSyvk6wVqMaS",
    "pycharm": {
     "name": "#%% md\n"
    }
   }
  },
  {
   "cell_type": "code",
   "source": [
    "def delta_fdm_net(S, X, sigma, tau, r, delta_S, o_type: str = 'C'):\n",
    "  c = 1 if o_type == 'C' else 0\n",
    "  p = 1 if o_type == 'P' else 0\n",
    "  input_df_1 = pd.DataFrame(np.array([[S + delta_S, X, sigma, r,  tau,  c, p]]), columns=df_cols)\n",
    "  input_df_2 = pd.DataFrame(np.array([[S, X, sigma, r,  tau,  c, p]]), columns=df_cols)\n",
    "  net_input_1 = torch.Tensor(\n",
    "      input_sc.transform(input_df_1)).to(device)\n",
    "  net_input_2 = torch.Tensor(\n",
    "      input_sc.transform(input_df_2)).to(device)\n",
    "  sc_output_1 = output_sc.inverse_transform(model(net_input_1).detach().cpu().numpy())\n",
    "  sc_output_2 = output_sc.inverse_transform(model(net_input_2).detach().cpu().numpy())\n",
    "  return (sc_output_1 - sc_output_2) / delta_S\n",
    "\n",
    "def theta_fdm_net(S, X, sigma, tau, r, delta_tau, o_type: str = 'C'):\n",
    "  c = 1 if o_type == 'C' else 0\n",
    "  p = 1 if o_type == 'P' else 0\n",
    "  input_df_1 = pd.DataFrame(np.array([[S, X, sigma, r,  tau + delta_tau,  c, p]]), columns=df_cols)\n",
    "  input_df_2 = pd.DataFrame(np.array([[S, X, sigma, r,  tau,  c, p]]), columns=df_cols)\n",
    "  net_input_1 = torch.Tensor(\n",
    "      input_sc.transform(input_df_1)).to(device)\n",
    "  net_input_2 = torch.Tensor(\n",
    "      input_sc.transform(input_df_2)).to(device)\n",
    "  sc_output_1 = output_sc.inverse_transform(model(net_input_1).detach().cpu().numpy())\n",
    "  sc_output_2 = output_sc.inverse_transform(model(net_input_2).detach().cpu().numpy())\n",
    "  return (sc_output_1 - sc_output_2) / delta_tau\n",
    "\n",
    "def vega_fdm_net(S, X, sigma, tau, r, delta_sigma, o_type: str = 'C'):\n",
    "  c = 1 if o_type == 'C' else 0\n",
    "  p = 1 if o_type == 'P' else 0\n",
    "  input_df_1 = pd.DataFrame(np.array([[S, X, sigma + delta_sigma, r,  tau,  c, p]]), columns=df_cols)\n",
    "  input_df_2 = pd.DataFrame(np.array([[S, X, sigma, r,  tau,  c, p]]), columns=df_cols)\n",
    "  net_input_1 = torch.Tensor(\n",
    "      input_sc.transform(input_df_1)).to(device)\n",
    "  net_input_2 = torch.Tensor(\n",
    "      input_sc.transform(input_df_2)).to(device)\n",
    "  sc_output_1 = output_sc.inverse_transform(model(net_input_1).detach().cpu().numpy())\n",
    "  sc_output_2 = output_sc.inverse_transform(model(net_input_2).detach().cpu().numpy())\n",
    "  return (sc_output_1 - sc_output_2) / delta_sigma\n",
    "\n",
    "def gamma_fdm_net(S, X, sigma, tau, r, delta_S, o_type: str = 'C'):\n",
    "  c = 1 if o_type == 'C' else 0\n",
    "  p = 1 if o_type == 'P' else 0\n",
    "  input_df_1 = pd.DataFrame(np.array([[S + delta_S, X, sigma, r,  tau,  c, p]]), columns=df_cols)\n",
    "  input_df_2 = pd.DataFrame(np.array([[S, X, sigma, r,  tau,  c, p]]), columns=df_cols)\n",
    "  input_df_3 = pd.DataFrame(np.array([[S - delta_S, X, sigma, r,  tau,  c, p]]), columns=df_cols)\n",
    "  net_input_1 = torch.Tensor(\n",
    "      input_sc.transform(input_df_1)).to(device)\n",
    "  net_input_2 = torch.Tensor(\n",
    "      input_sc.transform(input_df_2)).to(device)\n",
    "  net_input_3 = torch.Tensor(\n",
    "      input_sc.transform(input_df_3)).to(device)\n",
    "  sc_output_1 = output_sc.inverse_transform(model(net_input_1).detach().cpu().numpy())\n",
    "  sc_output_2 = output_sc.inverse_transform(model(net_input_2).detach().cpu().numpy())\n",
    "  sc_output_3 = output_sc.inverse_transform(model(net_input_3).detach().cpu().numpy())\n",
    "  return (sc_output_1 - 2 * sc_output_2 + sc_output_3) / (delta_S ** 2)"
   ],
   "metadata": {
    "id": "2qUfM8N7Zemk",
    "pycharm": {
     "name": "#%%\n"
    }
   },
   "execution_count": 29,
   "outputs": []
  },
  {
   "cell_type": "markdown",
   "source": [
    "### Example 1"
   ],
   "metadata": {
    "id": "gwqxshdkcY0s",
    "pycharm": {
     "name": "#%% md\n"
    }
   }
  },
  {
   "cell_type": "code",
   "source": [
    "S = 100\n",
    "X = 110\n",
    "vol = 0.39\n",
    "tau = 0.910310\n",
    "r = 0.01\n",
    "delta_s = 0.1\n",
    "delta_sigma = 0.01\n",
    "delta_tau = 0.0027\n",
    "type_ = 'C'\n",
    "\n",
    "print('Underlying price: ', S)\n",
    "print('Strike price: ', X)\n",
    "print('Volatility: ', vol)\n",
    "print('Time to Expiration: ', tau)\n",
    "print('Interest rate: ', r)\n",
    "print('Option type: ', type_,'\\n')\n",
    "\n",
    "print('BS Delta: ', delta_fdm_bs(S, X, vol, tau, r, delta_s, type_))\n",
    "print('ANN\\'s Delta: ', delta_fdm_net(S, X, vol, tau, r, delta_s, type_))\n",
    "print('-------------')\n",
    "print('BS Theta: ', theta_fdm_bs(S, X, vol, tau, r, delta_tau, type_) / 364)\n",
    "print('ANN\\'s Theta: ', theta_fdm_net(S, X, vol, tau, r, delta_tau, type_) / 364)\n",
    "print('-------------')\n",
    "print('BS Vega: ', vega_fdm_bs(S, X, vol, tau, r, delta_sigma, type_) / 100)\n",
    "print('ANN\\'s Vega: ', vega_fdm_net(S, X, vol, tau, r, delta_sigma, type_)/ 100)\n",
    "print('-------------')\n",
    "print('BS Gamma: ', gamma_fdm_bs(S, X, vol, tau, r, delta_s, type_))\n",
    "print('ANN\\'s Gamma: ', gamma_fdm_net(S, X, vol, tau, r, delta_s, type_))"
   ],
   "metadata": {
    "colab": {
     "base_uri": "https://localhost:8080/"
    },
    "id": "Vn2NHViaZjKd",
    "outputId": "669f1640-c24e-4ead-e331-30c1a0933a88",
    "pycharm": {
     "name": "#%%\n"
    }
   },
   "execution_count": 37,
   "outputs": [
    {
     "name": "stdout",
     "output_type": "stream",
     "text": [
      "Underlying price:  100\n",
      "Strike price:  110\n",
      "Volatility:  0.39\n",
      "Time to Expiration:  0.91031\n",
      "Interest rate:  0.01\n",
      "Option type:  C \n",
      "\n",
      "BS Delta:  0.4823389002504541\n",
      "ANN's Delta:  [[0.48894882]]\n",
      "-------------\n",
      "BS Theta:  0.023372964785468603\n",
      "ANN's Theta:  [[0.02222329]]\n",
      "-------------\n",
      "BS Vega:  0.38032043130596094\n",
      "ANN's Vega:  [[0.3822813]]\n",
      "-------------\n",
      "BS Gamma:  0.010710223327947686\n",
      "ANN's Gamma:  [[-0.00520611]]\n"
     ]
    }
   ]
  },
  {
   "cell_type": "markdown",
   "source": [
    "### Example 2"
   ],
   "metadata": {
    "id": "JnxetrIpcPFN",
    "pycharm": {
     "name": "#%% md\n"
    }
   }
  },
  {
   "cell_type": "code",
   "source": [
    "S = 79.012611\n",
    "X = 89.001038\n",
    "vol = 0.300038\n",
    "tau = 0.700247\n",
    "r = 0.090027\n",
    "delta_s = 0.1\n",
    "delta_sigma = 0.01\n",
    "delta_tau = 0.0027\n",
    "type_ = 'P'\n",
    "\n",
    "print('Underlying price: ', S)\n",
    "print('Strike price: ', X)\n",
    "print('Volatility: ', vol)\n",
    "print('Time to Expiration: ', tau)\n",
    "print('Interest rate: ', r)\n",
    "print('Option type: ', type_,'\\n')\n",
    "\n",
    "print('BS Delta: ', delta_fdm_bs(S, X, vol, tau, r, delta_s, type_))\n",
    "print('ANN\\'s Delta: ', delta_fdm_net(S, X, vol, tau, r, delta_s, type_))\n",
    "print('-------------')\n",
    "print('BS Theta: ', theta_fdm_bs(S, X, vol, tau, r, delta_tau, type_) / 364)\n",
    "print('ANN\\'s Theta: ', theta_fdm_net(S, X, vol, tau, r, delta_tau, type_) / 364)\n",
    "print('-------------')\n",
    "print('BS Vega: ', vega_fdm_bs(S, X, vol, tau, r, delta_sigma, type_) / 100)\n",
    "print('ANN\\'s Vega: ', vega_fdm_net(S, X, vol, tau, r, delta_sigma, type_) / 100)\n",
    "print('-------------')\n",
    "print('BS Gamma: ', gamma_fdm_bs(S, X, vol, tau, r, delta_s, type_))\n",
    "print('ANN\\'s Gamma: ', gamma_fdm_net(S, X, vol, tau, r, delta_s, type_))"
   ],
   "metadata": {
    "colab": {
     "base_uri": "https://localhost:8080/"
    },
    "id": "m9b6cKLigBcl",
    "outputId": "5c70f75d-4298-4c54-ec29-8cf28dade49e",
    "pycharm": {
     "name": "#%%\n"
    }
   },
   "execution_count": 31,
   "outputs": [
    {
     "name": "stdout",
     "output_type": "stream",
     "text": [
      "Underlying price:  79.012611\n",
      "Strike price:  89.001038\n",
      "Volatility:  0.300038\n",
      "Time to Expiration:  0.700247\n",
      "Interest rate:  0.090027\n",
      "Option type:  P \n",
      "\n",
      "BS Delta:  -0.5378358133078365\n",
      "ANN's Delta:  [[-0.6069088]]\n",
      "-------------\n",
      "BS Theta:  0.0022929478639916265\n",
      "ANN's Theta:  [[0.00218429]]\n",
      "-------------\n",
      "BS Vega:  0.26266418868629415\n",
      "ANN's Vega:  [[0.23565292]]\n",
      "-------------\n",
      "BS Gamma:  0.020014582818816958\n",
      "ANN's Gamma:  [[0.07305145]]\n"
     ]
    }
   ]
  },
  {
   "cell_type": "markdown",
   "source": [
    "### Autodiff results"
   ],
   "metadata": {
    "id": "Ooyx90GtdgcF",
    "pycharm": {
     "name": "#%% md\n"
    }
   }
  },
  {
   "cell_type": "code",
   "source": [
    "model.zero_grad()\n",
    "inp_g = X_test[0].clone().detach().requires_grad_(True)\n",
    "test_out_g = model(inp_g)\n",
    "grad_ns = torch.autograd.grad(test_out_g, inp_g, retain_graph=True)[0].data\n",
    "grad_ns"
   ],
   "metadata": {
    "colab": {
     "base_uri": "https://localhost:8080/"
    },
    "id": "mnpfxeY5dgIb",
    "outputId": "1c2abbd1-a5cb-43c8-ff0d-d30565ae45b1",
    "pycharm": {
     "name": "#%%\n"
    }
   },
   "execution_count": 32,
   "outputs": [
    {
     "data": {
      "text/plain": "tensor([-0.3918,  1.1929,  0.3682, -0.0448,  0.0126,  0.0629,  0.0440],\n       device='cuda:0')"
     },
     "execution_count": 32,
     "metadata": {},
     "output_type": "execute_result"
    }
   ]
  }
 ]
}