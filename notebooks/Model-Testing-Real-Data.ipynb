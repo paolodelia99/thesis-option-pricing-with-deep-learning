{
 "cells": [
  {
   "cell_type": "markdown",
   "metadata": {
    "id": "ju-WUaXnY5cr",
    "pycharm": {
     "name": "#%% md\n"
    }
   },
   "source": [
    "# Models Testing on Heston data\n"
   ]
  },
  {
   "cell_type": "code",
   "execution_count": 1,
   "metadata": {
    "executionInfo": {
     "elapsed": 824,
     "status": "ok",
     "timestamp": 1650891681415,
     "user": {
      "displayName": "Paolo D'Elia",
      "userId": "06873635760880783531"
     },
     "user_tz": -120
    },
    "id": "hH3-v8y-AuXg",
    "pycharm": {
     "name": "#%%\n"
    }
   },
   "outputs": [],
   "source": [
    "import time\n",
    "\n",
    "import pandas as pd\n",
    "import numpy as np\n",
    "import matplotlib.pyplot as plt\n",
    "\n",
    "from sklearn.preprocessing import StandardScaler, MinMaxScaler\n",
    "from sklearn.utils import shuffle\n",
    "\n",
    "from scipy import stats\n",
    "\n",
    "import torch\n",
    "import torch.nn as nn\n",
    "from torch.autograd import Variable\n",
    "from torch.utils.data import Dataset, DataLoader"
   ]
  },
  {
   "cell_type": "code",
   "execution_count": 2,
   "metadata": {
    "executionInfo": {
     "elapsed": 21,
     "status": "ok",
     "timestamp": 1650891681417,
     "user": {
      "displayName": "Paolo D'Elia",
      "userId": "06873635760880783531"
     },
     "user_tz": -120
    },
    "id": "QXEzFQ3iAyj_",
    "pycharm": {
     "name": "#%%\n"
    }
   },
   "outputs": [],
   "source": [
    "# Set seeds\n",
    "torch.manual_seed(0)\n",
    "np.random.seed(0)"
   ]
  },
  {
   "cell_type": "code",
   "execution_count": 3,
   "metadata": {
    "executionInfo": {
     "elapsed": 17,
     "status": "ok",
     "timestamp": 1650891681418,
     "user": {
      "displayName": "Paolo D'Elia",
      "userId": "06873635760880783531"
     },
     "user_tz": -120
    },
    "id": "gsH02HCWA0gC",
    "pycharm": {
     "name": "#%%\n"
    }
   },
   "outputs": [],
   "source": [
    "options_path = '../data/real_options.csv'"
   ]
  },
  {
   "cell_type": "code",
   "execution_count": 4,
   "metadata": {
    "executionInfo": {
     "elapsed": 15,
     "status": "ok",
     "timestamp": 1650891681421,
     "user": {
      "displayName": "Paolo D'Elia",
      "userId": "06873635760880783531"
     },
     "user_tz": -120
    },
    "id": "jT4n95T6A4S6",
    "pycharm": {
     "name": "#%%\n"
    }
   },
   "outputs": [],
   "source": [
    "def reduce_mem_usage(df):\n",
    "    \"\"\" iterate through all the columns of a dataframe and modify the data type\n",
    "        to reduce memory usage.        \n",
    "    \"\"\"    \n",
    "    for col in df.columns:\n",
    "        col_type = df[col].dtype\n",
    "        \n",
    "        if col_type != object:\n",
    "            c_min = df[col].min()\n",
    "            c_max = df[col].max()\n",
    "            if str(col_type)[:3] == 'int':\n",
    "                if c_min > np.iinfo(np.int8).min and c_max < np.iinfo(np.int8).max:\n",
    "                    df[col] = df[col].astype(np.int8)\n",
    "                elif c_min > np.iinfo(np.int16).min and c_max < np.iinfo(np.int16).max:\n",
    "                    df[col] = df[col].astype(np.int16)\n",
    "                elif c_min > np.iinfo(np.int32).min and c_max < np.iinfo(np.int32).max:\n",
    "                    df[col] = df[col].astype(np.int32)\n",
    "                elif c_min > np.iinfo(np.int64).min and c_max < np.iinfo(np.int64).max:\n",
    "                    df[col] = df[col].astype(np.int64)  \n",
    "            else:\n",
    "                if c_min > np.finfo(np.float16).min and c_max < np.finfo(np.float16).max:\n",
    "                    df[col] = df[col].astype(np.float16)\n",
    "                elif c_min > np.finfo(np.float32).min and c_max < np.finfo(np.float32).max:\n",
    "                    df[col] = df[col].astype(np.float32)\n",
    "                else:\n",
    "                    df[col] = df[col].astype(np.float64)\n",
    "        else:\n",
    "            df[col] = df[col].astype('category')\n",
    "    \n",
    "    return df"
   ]
  },
  {
   "cell_type": "code",
   "execution_count": 5,
   "metadata": {
    "executionInfo": {
     "elapsed": 3413,
     "status": "ok",
     "timestamp": 1650891684820,
     "user": {
      "displayName": "Paolo D'Elia",
      "userId": "06873635760880783531"
     },
     "user_tz": -120
    },
    "id": "7H8lEQPCA5IS",
    "pycharm": {
     "name": "#%%\n"
    }
   },
   "outputs": [],
   "source": [
    "options_df = pd.read_csv(options_path, index_col=0)\n",
    "options_df = reduce_mem_usage(options_df)"
   ]
  },
  {
   "cell_type": "code",
   "execution_count": 6,
   "metadata": {
    "executionInfo": {
     "elapsed": 20,
     "status": "ok",
     "timestamp": 1650891684821,
     "user": {
      "displayName": "Paolo D'Elia",
      "userId": "06873635760880783531"
     },
     "user_tz": -120
    },
    "id": "9TKRgvuOA8pC",
    "pycharm": {
     "name": "#%%\n"
    }
   },
   "outputs": [],
   "source": [
    "options_df = shuffle(options_df, random_state=0)\n",
    "options_df = options_df.reset_index()\n",
    "options_df['r'] = options_df['r'] / 100\n",
    "options_df = options_df.drop('index', axis=1)"
   ]
  },
  {
   "cell_type": "code",
   "execution_count": 7,
   "metadata": {
    "colab": {
     "base_uri": "https://localhost:8080/",
     "height": 424
    },
    "executionInfo": {
     "elapsed": 19,
     "status": "ok",
     "timestamp": 1650891684822,
     "user": {
      "displayName": "Paolo D'Elia",
      "userId": "06873635760880783531"
     },
     "user_tz": -120
    },
    "id": "3HXliAsq132p",
    "outputId": "09bc2eb1-d20d-4471-ed50-5fa0eba727fb",
    "pycharm": {
     "name": "#%%\n"
    }
   },
   "outputs": [
    {
     "data": {
      "text/plain": "         strike    lastPrice  impliedVolatility  type     close     hv_21  \\\n0        116.25    48.500000           0.524902  call   162.875  0.253662   \n1        340.00     0.399902           0.589355  call   195.375  0.650391   \n2        270.00     0.070007           0.460938   put   289.750  0.372314   \n3        175.00     8.851562           0.283691   put   170.375  0.258057   \n4       1500.00  1459.000000           0.000010  call  2490.000  0.645020   \n...         ...          ...                ...   ...       ...       ...   \n217542   310.00   123.000000           0.596680   put   197.875  0.581055   \n217543   220.00    32.562500           0.015640  call   209.875  1.515625   \n217544   305.00    33.562500           0.295410   put   289.750  0.372314   \n217545  2476.00    61.750000           0.625000  call  1091.000  0.590332   \n217546   165.00     5.300781           0.856934   put   195.375  0.650391   \n\n           hv_42     hv_63  moneyness       tau         r  \n0       0.292236  0.306396   1.401367  0.145630  0.008430  \n1       0.690918  0.687988   0.574707  0.203247  0.009201  \n2       0.355225  0.351807   0.931641  0.002747  0.008408  \n3       0.292725  0.302979   1.027344  0.120850  0.007851  \n4       0.556152  0.573242   1.660156  0.472412  0.009201  \n...          ...       ...        ...       ...       ...  \n217542  0.671387  0.687988   1.566406  0.137329  0.008408  \n217543  1.135742  1.008789   0.954102  0.741699  0.008430  \n217544  0.355225  0.351807   1.052734  0.387451  0.008408  \n217545  0.614746  0.659180   0.440674  1.200195  0.006832  \n217546  0.690918  0.687988   0.844727  0.068665  0.009201  \n\n[217547 rows x 11 columns]",
      "text/html": "<div>\n<style scoped>\n    .dataframe tbody tr th:only-of-type {\n        vertical-align: middle;\n    }\n\n    .dataframe tbody tr th {\n        vertical-align: top;\n    }\n\n    .dataframe thead th {\n        text-align: right;\n    }\n</style>\n<table border=\"1\" class=\"dataframe\">\n  <thead>\n    <tr style=\"text-align: right;\">\n      <th></th>\n      <th>strike</th>\n      <th>lastPrice</th>\n      <th>impliedVolatility</th>\n      <th>type</th>\n      <th>close</th>\n      <th>hv_21</th>\n      <th>hv_42</th>\n      <th>hv_63</th>\n      <th>moneyness</th>\n      <th>tau</th>\n      <th>r</th>\n    </tr>\n  </thead>\n  <tbody>\n    <tr>\n      <th>0</th>\n      <td>116.25</td>\n      <td>48.500000</td>\n      <td>0.524902</td>\n      <td>call</td>\n      <td>162.875</td>\n      <td>0.253662</td>\n      <td>0.292236</td>\n      <td>0.306396</td>\n      <td>1.401367</td>\n      <td>0.145630</td>\n      <td>0.008430</td>\n    </tr>\n    <tr>\n      <th>1</th>\n      <td>340.00</td>\n      <td>0.399902</td>\n      <td>0.589355</td>\n      <td>call</td>\n      <td>195.375</td>\n      <td>0.650391</td>\n      <td>0.690918</td>\n      <td>0.687988</td>\n      <td>0.574707</td>\n      <td>0.203247</td>\n      <td>0.009201</td>\n    </tr>\n    <tr>\n      <th>2</th>\n      <td>270.00</td>\n      <td>0.070007</td>\n      <td>0.460938</td>\n      <td>put</td>\n      <td>289.750</td>\n      <td>0.372314</td>\n      <td>0.355225</td>\n      <td>0.351807</td>\n      <td>0.931641</td>\n      <td>0.002747</td>\n      <td>0.008408</td>\n    </tr>\n    <tr>\n      <th>3</th>\n      <td>175.00</td>\n      <td>8.851562</td>\n      <td>0.283691</td>\n      <td>put</td>\n      <td>170.375</td>\n      <td>0.258057</td>\n      <td>0.292725</td>\n      <td>0.302979</td>\n      <td>1.027344</td>\n      <td>0.120850</td>\n      <td>0.007851</td>\n    </tr>\n    <tr>\n      <th>4</th>\n      <td>1500.00</td>\n      <td>1459.000000</td>\n      <td>0.000010</td>\n      <td>call</td>\n      <td>2490.000</td>\n      <td>0.645020</td>\n      <td>0.556152</td>\n      <td>0.573242</td>\n      <td>1.660156</td>\n      <td>0.472412</td>\n      <td>0.009201</td>\n    </tr>\n    <tr>\n      <th>...</th>\n      <td>...</td>\n      <td>...</td>\n      <td>...</td>\n      <td>...</td>\n      <td>...</td>\n      <td>...</td>\n      <td>...</td>\n      <td>...</td>\n      <td>...</td>\n      <td>...</td>\n      <td>...</td>\n    </tr>\n    <tr>\n      <th>217542</th>\n      <td>310.00</td>\n      <td>123.000000</td>\n      <td>0.596680</td>\n      <td>put</td>\n      <td>197.875</td>\n      <td>0.581055</td>\n      <td>0.671387</td>\n      <td>0.687988</td>\n      <td>1.566406</td>\n      <td>0.137329</td>\n      <td>0.008408</td>\n    </tr>\n    <tr>\n      <th>217543</th>\n      <td>220.00</td>\n      <td>32.562500</td>\n      <td>0.015640</td>\n      <td>call</td>\n      <td>209.875</td>\n      <td>1.515625</td>\n      <td>1.135742</td>\n      <td>1.008789</td>\n      <td>0.954102</td>\n      <td>0.741699</td>\n      <td>0.008430</td>\n    </tr>\n    <tr>\n      <th>217544</th>\n      <td>305.00</td>\n      <td>33.562500</td>\n      <td>0.295410</td>\n      <td>put</td>\n      <td>289.750</td>\n      <td>0.372314</td>\n      <td>0.355225</td>\n      <td>0.351807</td>\n      <td>1.052734</td>\n      <td>0.387451</td>\n      <td>0.008408</td>\n    </tr>\n    <tr>\n      <th>217545</th>\n      <td>2476.00</td>\n      <td>61.750000</td>\n      <td>0.625000</td>\n      <td>call</td>\n      <td>1091.000</td>\n      <td>0.590332</td>\n      <td>0.614746</td>\n      <td>0.659180</td>\n      <td>0.440674</td>\n      <td>1.200195</td>\n      <td>0.006832</td>\n    </tr>\n    <tr>\n      <th>217546</th>\n      <td>165.00</td>\n      <td>5.300781</td>\n      <td>0.856934</td>\n      <td>put</td>\n      <td>195.375</td>\n      <td>0.650391</td>\n      <td>0.690918</td>\n      <td>0.687988</td>\n      <td>0.844727</td>\n      <td>0.068665</td>\n      <td>0.009201</td>\n    </tr>\n  </tbody>\n</table>\n<p>217547 rows × 11 columns</p>\n</div>"
     },
     "execution_count": 7,
     "metadata": {},
     "output_type": "execute_result"
    }
   ],
   "source": [
    "options_df"
   ]
  },
  {
   "cell_type": "markdown",
   "metadata": {
    "id": "pn28_RUMBAFH",
    "pycharm": {
     "name": "#%% md\n"
    }
   },
   "source": [
    "# Preprocessing"
   ]
  },
  {
   "cell_type": "code",
   "execution_count": 8,
   "metadata": {
    "executionInfo": {
     "elapsed": 515,
     "status": "ok",
     "timestamp": 1650891685322,
     "user": {
      "displayName": "Paolo D'Elia",
      "userId": "06873635760880783531"
     },
     "user_tz": -120
    },
    "id": "32oPe6XUBCTF",
    "pycharm": {
     "name": "#%%\n"
    }
   },
   "outputs": [],
   "source": [
    "options_df = pd.get_dummies(options_df, prefix='', prefix_sep='')"
   ]
  },
  {
   "cell_type": "code",
   "execution_count": 9,
   "metadata": {
    "executionInfo": {
     "elapsed": 1032,
     "status": "ok",
     "timestamp": 1650891686346,
     "user": {
      "displayName": "Paolo D'Elia",
      "userId": "06873635760880783531"
     },
     "user_tz": -120
    },
    "id": "_Tlc7k7xBDPV",
    "pycharm": {
     "name": "#%%\n"
    }
   },
   "outputs": [],
   "source": [
    "input_sc = StandardScaler()\n",
    "output_sc = StandardScaler()\n",
    "input_data = input_sc.fit_transform(options_df.drop(['lastPrice', 'impliedVolatility', 'hv_42', 'hv_63'], axis=1))\n",
    "output_data = output_sc.fit_transform(options_df['lastPrice'].values.reshape(-1, 1))\n",
    "\n",
    "train_size = 0.8\n",
    "val_size = 0.1\n",
    "\n",
    "last_train_idx = int(np.round(len(input_data) * train_size))\n",
    "last_val_idx = last_train_idx + int(np.round(len(input_data) * val_size))\n",
    "\n",
    "X_train = input_data[0:last_train_idx]\n",
    "X_val = input_data[last_train_idx:last_val_idx]\n",
    "X_test = input_data[last_val_idx:]\n",
    "\n",
    "y_train = output_data[0:last_train_idx]\n",
    "y_val = output_data[last_train_idx:last_val_idx]\n",
    "y_test = output_data[last_val_idx:]"
   ]
  },
  {
   "cell_type": "code",
   "execution_count": 10,
   "metadata": {
    "colab": {
     "base_uri": "https://localhost:8080/"
    },
    "executionInfo": {
     "elapsed": 21,
     "status": "ok",
     "timestamp": 1650891686347,
     "user": {
      "displayName": "Paolo D'Elia",
      "userId": "06873635760880783531"
     },
     "user_tz": -120
    },
    "id": "7nEEoQGvvDpL",
    "outputId": "88b4d863-d037-439b-e625-5ebb52ad41ef",
    "pycharm": {
     "name": "#%%\n"
    }
   },
   "outputs": [
    {
     "data": {
      "text/plain": "Index(['strike', 'close', 'hv_21', 'moneyness', 'tau', 'r', 'call', 'put'], dtype='object')"
     },
     "execution_count": 10,
     "metadata": {},
     "output_type": "execute_result"
    }
   ],
   "source": [
    "df_cols = options_df.drop(['lastPrice', 'impliedVolatility', 'hv_42', 'hv_63'], axis=1).columns\n",
    "df_cols"
   ]
  },
  {
   "cell_type": "code",
   "execution_count": 11,
   "metadata": {
    "executionInfo": {
     "elapsed": 19,
     "status": "ok",
     "timestamp": 1650891686349,
     "user": {
      "displayName": "Paolo D'Elia",
      "userId": "06873635760880783531"
     },
     "user_tz": -120
    },
    "id": "IwMVtvfABIhR",
    "pycharm": {
     "name": "#%%\n"
    }
   },
   "outputs": [],
   "source": [
    "X_train = Variable(torch.Tensor(X_train))\n",
    "X_val = Variable(torch.Tensor(X_val))\n",
    "X_test = Variable(torch.Tensor(X_test))\n",
    "\n",
    "y_train = Variable(torch.Tensor(y_train))\n",
    "y_val = Variable(torch.Tensor(y_val))\n",
    "y_test = Variable(torch.Tensor(y_test))"
   ]
  },
  {
   "cell_type": "markdown",
   "metadata": {
    "id": "Ra2l5P1nBVCz",
    "pycharm": {
     "name": "#%% md\n"
    }
   },
   "source": [
    "# Model"
   ]
  },
  {
   "cell_type": "code",
   "execution_count": 12,
   "metadata": {
    "executionInfo": {
     "elapsed": 17,
     "status": "ok",
     "timestamp": 1650891686350,
     "user": {
      "displayName": "Paolo D'Elia",
      "userId": "06873635760880783531"
     },
     "user_tz": -120
    },
    "id": "xTLMLFoSBWDy",
    "pycharm": {
     "name": "#%%\n"
    }
   },
   "outputs": [],
   "source": [
    "CUDA = torch.cuda.is_available()\n",
    "device = 'cuda:0' if CUDA else 'cpu'"
   ]
  },
  {
   "cell_type": "code",
   "execution_count": 13,
   "metadata": {
    "executionInfo": {
     "elapsed": 18,
     "status": "ok",
     "timestamp": 1650891686352,
     "user": {
      "displayName": "Paolo D'Elia",
      "userId": "06873635760880783531"
     },
     "user_tz": -120
    },
    "id": "CQ9Gl3bUBWsj",
    "pycharm": {
     "name": "#%%\n"
    }
   },
   "outputs": [],
   "source": [
    "class ResBlock(nn.Module):\n",
    "\n",
    "  def __init__(self, module):\n",
    "    super(ResBlock, self).__init__()\n",
    "    self.module = module\n",
    "\n",
    "  def forward(self, x):\n",
    "    return self.module(x) + x"
   ]
  },
  {
   "cell_type": "code",
   "execution_count": 14,
   "metadata": {
    "executionInfo": {
     "elapsed": 17,
     "status": "ok",
     "timestamp": 1650891686353,
     "user": {
      "displayName": "Paolo D'Elia",
      "userId": "06873635760880783531"
     },
     "user_tz": -120
    },
    "id": "YL3SicQPBYq0",
    "pycharm": {
     "name": "#%%\n"
    }
   },
   "outputs": [],
   "source": [
    "class HiddenLayer(nn.Module):\n",
    "\n",
    "  def __init__(self, layer_size, act_fn):\n",
    "      super(HiddenLayer, self).__init__()\n",
    "      \n",
    "      if act_fn == 'ReLU':\n",
    "        self.layer = nn.Sequential(\n",
    "          nn.Linear(layer_size, layer_size),\n",
    "          nn.ReLU())\n",
    "      elif act_fn == 'LeakyReLU':\n",
    "        self.layer = nn.Sequential(\n",
    "          nn.Linear(layer_size, layer_size),\n",
    "          nn.LeakyReLU())\n",
    "      elif act_fn == 'ELU':\n",
    "        self.layer = nn.Sequential(\n",
    "          nn.Linear(layer_size, layer_size),\n",
    "          nn.ELU())\n",
    "    \n",
    "  def forward(self, x):\n",
    "    return self.layer(x)"
   ]
  },
  {
   "cell_type": "code",
   "execution_count": 15,
   "metadata": {
    "executionInfo": {
     "elapsed": 455,
     "status": "ok",
     "timestamp": 1650891686792,
     "user": {
      "displayName": "Paolo D'Elia",
      "userId": "06873635760880783531"
     },
     "user_tz": -120
    },
    "id": "lHUFGf9xBawS",
    "pycharm": {
     "name": "#%%\n"
    }
   },
   "outputs": [],
   "source": [
    "class Net(nn.Module):\n",
    "\n",
    "  def __init__(self, input_size, output_size, hidden_size, num_layers, act_fn):\n",
    "    super(Net, self).__init__()\n",
    "    self.input_size = input_size\n",
    "    self.output_size = output_size\n",
    "    self.hidden_size = hidden_size\n",
    "\n",
    "    if act_fn == 'ReLU':\n",
    "      self.initial_layer = nn.Sequential(\n",
    "          nn.Linear(self.input_size, self.hidden_size),\n",
    "          nn.ReLU())\n",
    "    elif act_fn == 'LeakyReLU':\n",
    "      self.initial_layer = nn.Sequential(\n",
    "          nn.Linear(self.input_size, self.hidden_size),\n",
    "          nn.LeakyReLU())\n",
    "    elif act_fn == 'ELU':\n",
    "      self.initial_layer = nn.Sequential(\n",
    "          nn.Linear(self.input_size, self.hidden_size),\n",
    "          nn.ELU())\n",
    "\n",
    "    self.hidden_layers_list = []\n",
    "\n",
    "    for i in range(num_layers // 2):\n",
    "      self.hidden_layers_list.append(\n",
    "          ResBlock(\n",
    "            nn.Sequential(\n",
    "                HiddenLayer(self.hidden_size, act_fn),\n",
    "                HiddenLayer(self.hidden_size, act_fn)\n",
    "            )\n",
    "        )\n",
    "      )\n",
    "\n",
    "    self.hidden_layers = nn.Sequential(*self.hidden_layers_list)\n",
    "\n",
    "    self.net = nn.Sequential(\n",
    "        self.initial_layer,\n",
    "        self.hidden_layers,\n",
    "        nn.Linear(self.hidden_size, self.output_size)\n",
    "    )\n",
    "  \n",
    "  def forward(self, x):\n",
    "    return self.net(x)"
   ]
  },
  {
   "cell_type": "code",
   "execution_count": 16,
   "metadata": {
    "executionInfo": {
     "elapsed": 11,
     "status": "ok",
     "timestamp": 1650891686793,
     "user": {
      "displayName": "Paolo D'Elia",
      "userId": "06873635760880783531"
     },
     "user_tz": -120
    },
    "id": "zcq_lQrHBdH8",
    "pycharm": {
     "name": "#%%\n"
    }
   },
   "outputs": [],
   "source": [
    "def init_weights(m, init_m: str):\n",
    "\n",
    "  @torch.no_grad()\n",
    "  def init_uniform(m):\n",
    "    if isinstance(m, nn.Linear):\n",
    "      torch.nn.init.uniform_(m.weight)\n",
    "      m.bias.data.fill_(0.01)\n",
    "\n",
    "  @torch.no_grad()\n",
    "  def init_normal(m):\n",
    "    if isinstance(m, nn.Linear):\n",
    "      torch.nn.init.normal_(m.weight)\n",
    "      m.bias.data.fill_(0.01)\n",
    "\n",
    "  @torch.no_grad()\n",
    "  def init_xuniform(m):\n",
    "    if isinstance(m, nn.Linear):\n",
    "      torch.nn.init.xavier_uniform_(m.weight)\n",
    "      m.bias.data.fill_(0.01)\n",
    "\n",
    "  @torch.no_grad()\n",
    "  def init_xnormal(m):\n",
    "    if isinstance(m, nn.Linear):\n",
    "      torch.nn.init.xavier_normal_(m.weight)\n",
    "      m.bias.data.fill_(0.01)\n",
    "\n",
    "  if init_m == 'uniform':\n",
    "    m.apply(init_uniform)\n",
    "  elif init_m == 'normal':\n",
    "    m.apply(init_normal)\n",
    "  elif init_m == 'xaiver uniform':\n",
    "    m.apply(init_xuniform)\n",
    "  elif init_m == 'xavier normal':\n",
    "    m.apply(init_xnormal)"
   ]
  },
  {
   "cell_type": "markdown",
   "metadata": {
    "id": "vuCpyycNCKEZ",
    "pycharm": {
     "name": "#%% md\n"
    }
   },
   "source": [
    "# Training"
   ]
  },
  {
   "cell_type": "code",
   "execution_count": 17,
   "metadata": {
    "executionInfo": {
     "elapsed": 10,
     "status": "ok",
     "timestamp": 1650891686794,
     "user": {
      "displayName": "Paolo D'Elia",
      "userId": "06873635760880783531"
     },
     "user_tz": -120
    },
    "id": "YbCOnCSNCL25",
    "pycharm": {
     "name": "#%%\n"
    }
   },
   "outputs": [],
   "source": [
    "input_size = 8\n",
    "output_size = 1\n",
    "num_layers = 8\n",
    "hidden_size = 800\n",
    "batch_size = 1213\n",
    "epochs = 2000\n",
    "lr = 0.00068\n",
    "init_method = 'xaiver uniform'\n",
    "act_fn = 'ReLU'\n",
    "\n",
    "model = Net(input_size, output_size, hidden_size, num_layers, act_fn)\n",
    "init_weights(model, init_method)\n",
    "\n",
    "loss_fn = nn.MSELoss()\n",
    "optimizer = torch.optim.Adam(model.parameters(), lr=lr)"
   ]
  },
  {
   "cell_type": "code",
   "execution_count": 18,
   "metadata": {
    "executionInfo": {
     "elapsed": 7351,
     "status": "ok",
     "timestamp": 1650891694138,
     "user": {
      "displayName": "Paolo D'Elia",
      "userId": "06873635760880783531"
     },
     "user_tz": -120
    },
    "id": "QqZbxrppvDpZ",
    "pycharm": {
     "name": "#%%\n"
    }
   },
   "outputs": [],
   "source": [
    "model = model.to(device)\n",
    "\n",
    "X_train = X_train.to(device)\n",
    "y_train = y_train.to(device)\n",
    "\n",
    "X_val = X_val.to(device)\n",
    "y_val = y_val.to(device)\n",
    "\n",
    "X_test = X_test.to(device)\n",
    "y_test = y_test.to(device)"
   ]
  },
  {
   "cell_type": "code",
   "execution_count": 19,
   "metadata": {
    "executionInfo": {
     "elapsed": 42,
     "status": "ok",
     "timestamp": 1650891694142,
     "user": {
      "displayName": "Paolo D'Elia",
      "userId": "06873635760880783531"
     },
     "user_tz": -120
    },
    "id": "Q-9T0GArCMgp",
    "pycharm": {
     "name": "#%%\n"
    }
   },
   "outputs": [],
   "source": [
    "class OptDataset(Dataset):\n",
    "\n",
    "  def __init__(self, X, y):\n",
    "    self.X = X\n",
    "    self.y = y\n",
    "\n",
    "  def __getitem__(self, idx):\n",
    "    return self.X[idx], self.y[idx]\n",
    "\n",
    "  def __len__(self):\n",
    "    return len(self.X)"
   ]
  },
  {
   "cell_type": "markdown",
   "metadata": {
    "id": "J6-hCH2ivDpb",
    "pycharm": {
     "name": "#%% md\n"
    }
   },
   "source": [
    "### Losses Metrics"
   ]
  },
  {
   "cell_type": "code",
   "execution_count": 20,
   "metadata": {
    "executionInfo": {
     "elapsed": 40,
     "status": "ok",
     "timestamp": 1650891694144,
     "user": {
      "displayName": "Paolo D'Elia",
      "userId": "06873635760880783531"
     },
     "user_tz": -120
    },
    "id": "mVaO8TruHW4M",
    "pycharm": {
     "name": "#%%\n"
    }
   },
   "outputs": [],
   "source": [
    "def MAPELoss(output, target):\n",
    "  return torch.mean(torch.abs((target - output) / target))"
   ]
  },
  {
   "cell_type": "code",
   "execution_count": 21,
   "metadata": {
    "executionInfo": {
     "elapsed": 37,
     "status": "ok",
     "timestamp": 1650891694149,
     "user": {
      "displayName": "Paolo D'Elia",
      "userId": "06873635760880783531"
     },
     "user_tz": -120
    },
    "id": "tVLW5dHhvDpe",
    "pycharm": {
     "name": "#%%\n"
    }
   },
   "outputs": [],
   "source": [
    "def evaluate(model, loss_fn, X_val, y_val):\n",
    "  model.eval()\n",
    "  with torch.no_grad():\n",
    "    out = model(X_val)\n",
    "    loss = loss_fn(out, y_val)\n",
    "    print('\\nVal set: Average loss: {:.8f}\\n'.format(\n",
    "            loss.item()))\n",
    "    return loss.item()"
   ]
  },
  {
   "cell_type": "markdown",
   "metadata": {
    "id": "68eF5_EovDpf",
    "pycharm": {
     "name": "#%% md\n"
    }
   },
   "source": [
    "### Early Stopping class"
   ]
  },
  {
   "cell_type": "code",
   "execution_count": 22,
   "metadata": {
    "executionInfo": {
     "elapsed": 35,
     "status": "ok",
     "timestamp": 1650891694150,
     "user": {
      "displayName": "Paolo D'Elia",
      "userId": "06873635760880783531"
     },
     "user_tz": -120
    },
    "id": "n2So2ffSvDpg",
    "pycharm": {
     "name": "#%%\n"
    }
   },
   "outputs": [],
   "source": [
    "# Code took form: https://github.com/Bjarten/early-stopping-pytorch/blob/master/pytorchtools.py\n",
    "\n",
    "class EarlyStopping:\n",
    "    \"\"\"Early stops the training if validation loss doesn't improve after a given patience.\"\"\"\n",
    "    def __init__(self, \n",
    "                 patience=10, \n",
    "                 verbose=False, \n",
    "                 delta=0, \n",
    "                 path='../models/final_heston_model.chkpt',\n",
    "                 trace_func=print):\n",
    "        \"\"\"\n",
    "        Args:\n",
    "            patience (int): How long to wait after last time validation loss improved.\n",
    "                            Default: 7\n",
    "            verbose (bool): If True, prints a message for each validation loss improvement.\n",
    "                            Default: False\n",
    "            delta (float): Minimum change in the monitored quantity to qualify as an improvement.\n",
    "                            Default: 0\n",
    "            path (str): Path for the checkpoint to be saved to.\n",
    "                            Default: 'checkpoint.pt'\n",
    "            trace_func (function): trace print function.\n",
    "                            Default: print\n",
    "        \"\"\"\n",
    "        self.patience = patience\n",
    "        self.verbose = verbose\n",
    "        self.counter = 0\n",
    "        self.best_score = None\n",
    "        self.early_stop = False\n",
    "        self.val_loss_min = np.Inf\n",
    "        self.delta = delta\n",
    "        self.path = path\n",
    "        self.trace_func = trace_func\n",
    "\n",
    "    def __call__(self, val_loss, model):\n",
    "\n",
    "        score = val_loss\n",
    "\n",
    "        if self.best_score is None:\n",
    "            self.best_score = score\n",
    "            self.save_checkpoint(val_loss, model)\n",
    "        elif score > self.best_score + self.delta:\n",
    "            self.counter += 1\n",
    "            self.trace_func(f'EarlyStopping counter: {self.counter} out of {self.patience}')\n",
    "            if self.counter >= self.patience:\n",
    "                self.early_stop = True\n",
    "        else:\n",
    "            self.best_score = score\n",
    "            self.save_checkpoint(val_loss, model)\n",
    "            self.counter = 0\n",
    "\n",
    "    def save_checkpoint(self, val_loss, model):\n",
    "        '''Saves model when validation loss decrease.'''\n",
    "        if self.verbose:\n",
    "            self.trace_func(f'Validation loss decreased ({self.val_loss_min:.6f} --> {val_loss:.6f}).  Saving model ...')\n",
    "        torch.save(model.state_dict(), self.path)\n",
    "        self.val_loss_min = val_loss"
   ]
  },
  {
   "cell_type": "markdown",
   "metadata": {
    "id": "dL_xmnKXvDph",
    "pycharm": {
     "name": "#%% md\n"
    }
   },
   "source": [
    "### Train Loop"
   ]
  },
  {
   "cell_type": "code",
   "execution_count": 23,
   "metadata": {
    "executionInfo": {
     "elapsed": 34,
     "status": "ok",
     "timestamp": 1650891694152,
     "user": {
      "displayName": "Paolo D'Elia",
      "userId": "06873635760880783531"
     },
     "user_tz": -120
    },
    "id": "DrBBTGKJvDph",
    "pycharm": {
     "name": "#%%\n"
    }
   },
   "outputs": [],
   "source": [
    "def train(\n",
    "    epochs,\n",
    "    batch_size,\n",
    "    model,\n",
    "    optimizer,\n",
    "    loss_fn,\n",
    "    X_train,\n",
    "    y_train,\n",
    "    X_val,\n",
    "    y_val\n",
    "):\n",
    "\n",
    "  training_losses = []\n",
    "  validation_losses = []\n",
    "\n",
    "  early_stopping = EarlyStopping(patience=20)\n",
    "\n",
    "  for epoch in range(epochs):\n",
    "    model.train()\n",
    "    epoch_losses = []\n",
    "    total_loss = 0\n",
    "    start_time = time.time()\n",
    "    i = 0\n",
    "\n",
    "    for batch, batch_labels in DataLoader(OptDataset(X_train, y_train), batch_size=batch_size):\n",
    "      out = model(batch.to(device))\n",
    "      optimizer.zero_grad()\n",
    "\n",
    "      loss = loss_fn(out, batch_labels.to(device))\n",
    "      epoch_losses.append(loss.item())\n",
    "      total_loss += loss.item()\n",
    "      loss.backward()\n",
    "      optimizer.step()\n",
    "\n",
    "      if i > 0 and i % 50 == 0:\n",
    "        avg_loss = total_loss / 50\n",
    "        elapsed = time.time() - start_time\n",
    "        print('| Epoch {:3d} | {:5d}/{:5d} batches | lr {:2.5f} | ms/batch {:5.2f} | '\n",
    "                  'loss {:5.8f}'.format(\n",
    "              epoch, i, len(X_train) // batch_size+1, lr, elapsed * 1000 / 50,\n",
    "              avg_loss))\n",
    "        start_time = time.time()\n",
    "        total_loss = 0\n",
    "\n",
    "      i += 1\n",
    "\n",
    "    training_losses.append(np.array(epoch_losses).mean())\n",
    "    val_loss = evaluate(model, loss_fn, X_val, y_val)\n",
    "    validation_losses.append(val_loss)\n",
    "\n",
    "    early_stopping(val_loss, model)\n",
    "\n",
    "    if early_stopping.early_stop:\n",
    "        print(f\"Stopping at Epoch: {epoch}\")\n",
    "        break\n",
    "\n",
    "  return training_losses, validation_losses"
   ]
  },
  {
   "cell_type": "code",
   "execution_count": 24,
   "metadata": {
    "colab": {
     "base_uri": "https://localhost:8080/"
    },
    "executionInfo": {
     "elapsed": 2525796,
     "status": "ok",
     "timestamp": 1650894219916,
     "user": {
      "displayName": "Paolo D'Elia",
      "userId": "06873635760880783531"
     },
     "user_tz": -120
    },
    "id": "hBETWoCfvDpj",
    "outputId": "30acf99f-3a1e-4d87-d1ff-13068ebe4cd4",
    "pycharm": {
     "name": "#%%\n"
    }
   },
   "outputs": [
    {
     "name": "stdout",
     "output_type": "stream",
     "text": [
      "| Epoch   0 |    50/  144 batches | lr 0.00068 | ms/batch 44.85 | loss 0.87298324\n",
      "| Epoch   0 |   100/  144 batches | lr 0.00068 | ms/batch 38.34 | loss 0.14754409\n",
      "\n",
      "Val set: Average loss: 0.13159057\n",
      "\n",
      "| Epoch   1 |    50/  144 batches | lr 0.00068 | ms/batch 38.33 | loss 0.12356914\n",
      "| Epoch   1 |   100/  144 batches | lr 0.00068 | ms/batch 36.78 | loss 0.12312661\n",
      "\n",
      "Val set: Average loss: 0.11905827\n",
      "\n",
      "| Epoch   2 |    50/  144 batches | lr 0.00068 | ms/batch 39.21 | loss 0.10457141\n",
      "| Epoch   2 |   100/  144 batches | lr 0.00068 | ms/batch 36.55 | loss 0.09978281\n",
      "\n",
      "Val set: Average loss: 0.12044018\n",
      "\n",
      "EarlyStopping counter: 1 out of 20\n",
      "| Epoch   3 |    50/  144 batches | lr 0.00068 | ms/batch 37.10 | loss 0.09624446\n",
      "| Epoch   3 |   100/  144 batches | lr 0.00068 | ms/batch 35.25 | loss 0.09342015\n",
      "\n",
      "Val set: Average loss: 0.10429933\n",
      "\n",
      "| Epoch   4 |    50/  144 batches | lr 0.00068 | ms/batch 37.40 | loss 0.09009929\n",
      "| Epoch   4 |   100/  144 batches | lr 0.00068 | ms/batch 35.24 | loss 0.08759400\n",
      "\n",
      "Val set: Average loss: 0.09247221\n",
      "\n",
      "| Epoch   5 |    50/  144 batches | lr 0.00068 | ms/batch 37.33 | loss 0.08944242\n",
      "| Epoch   5 |   100/  144 batches | lr 0.00068 | ms/batch 35.24 | loss 0.08102284\n",
      "\n",
      "Val set: Average loss: 0.09462140\n",
      "\n",
      "EarlyStopping counter: 1 out of 20\n",
      "| Epoch   6 |    50/  144 batches | lr 0.00068 | ms/batch 37.60 | loss 0.08348236\n",
      "| Epoch   6 |   100/  144 batches | lr 0.00068 | ms/batch 35.50 | loss 0.07756901\n",
      "\n",
      "Val set: Average loss: 0.08557500\n",
      "\n",
      "| Epoch   7 |    50/  144 batches | lr 0.00068 | ms/batch 37.69 | loss 0.07726005\n",
      "| Epoch   7 |   100/  144 batches | lr 0.00068 | ms/batch 35.06 | loss 0.07476407\n",
      "\n",
      "Val set: Average loss: 0.07657830\n",
      "\n",
      "| Epoch   8 |    50/  144 batches | lr 0.00068 | ms/batch 37.34 | loss 0.07761004\n",
      "| Epoch   8 |   100/  144 batches | lr 0.00068 | ms/batch 35.45 | loss 0.07553780\n",
      "\n",
      "Val set: Average loss: 0.07329920\n",
      "\n",
      "| Epoch   9 |    50/  144 batches | lr 0.00068 | ms/batch 37.50 | loss 0.07340407\n",
      "| Epoch   9 |   100/  144 batches | lr 0.00068 | ms/batch 35.24 | loss 0.07367106\n",
      "\n",
      "Val set: Average loss: 0.07201111\n",
      "\n",
      "| Epoch  10 |    50/  144 batches | lr 0.00068 | ms/batch 37.74 | loss 0.07256002\n",
      "| Epoch  10 |   100/  144 batches | lr 0.00068 | ms/batch 35.32 | loss 0.07355105\n",
      "\n",
      "Val set: Average loss: 0.07320505\n",
      "\n",
      "EarlyStopping counter: 1 out of 20\n",
      "| Epoch  11 |    50/  144 batches | lr 0.00068 | ms/batch 37.52 | loss 0.07280458\n",
      "| Epoch  11 |   100/  144 batches | lr 0.00068 | ms/batch 35.13 | loss 0.07147946\n",
      "\n",
      "Val set: Average loss: 0.07086962\n",
      "\n",
      "| Epoch  12 |    50/  144 batches | lr 0.00068 | ms/batch 37.54 | loss 0.07122710\n",
      "| Epoch  12 |   100/  144 batches | lr 0.00068 | ms/batch 35.39 | loss 0.07122871\n",
      "\n",
      "Val set: Average loss: 0.06973351\n",
      "\n",
      "| Epoch  13 |    50/  144 batches | lr 0.00068 | ms/batch 37.54 | loss 0.07074969\n",
      "| Epoch  13 |   100/  144 batches | lr 0.00068 | ms/batch 35.30 | loss 0.07112076\n",
      "\n",
      "Val set: Average loss: 0.07043895\n",
      "\n",
      "EarlyStopping counter: 1 out of 20\n",
      "| Epoch  14 |    50/  144 batches | lr 0.00068 | ms/batch 37.13 | loss 0.07288927\n",
      "| Epoch  14 |   100/  144 batches | lr 0.00068 | ms/batch 35.29 | loss 0.07109493\n",
      "\n",
      "Val set: Average loss: 0.06967653\n",
      "\n",
      "| Epoch  15 |    50/  144 batches | lr 0.00068 | ms/batch 37.52 | loss 0.06993667\n",
      "| Epoch  15 |   100/  144 batches | lr 0.00068 | ms/batch 35.51 | loss 0.06937931\n",
      "\n",
      "Val set: Average loss: 0.06990115\n",
      "\n",
      "EarlyStopping counter: 1 out of 20\n",
      "| Epoch  16 |    50/  144 batches | lr 0.00068 | ms/batch 37.44 | loss 0.06944525\n",
      "| Epoch  16 |   100/  144 batches | lr 0.00068 | ms/batch 35.09 | loss 0.06892568\n",
      "\n",
      "Val set: Average loss: 0.07099446\n",
      "\n",
      "EarlyStopping counter: 2 out of 20\n",
      "| Epoch  17 |    50/  144 batches | lr 0.00068 | ms/batch 37.70 | loss 0.06954757\n",
      "| Epoch  17 |   100/  144 batches | lr 0.00068 | ms/batch 35.20 | loss 0.06898340\n",
      "\n",
      "Val set: Average loss: 0.07046299\n",
      "\n",
      "EarlyStopping counter: 3 out of 20\n",
      "| Epoch  18 |    50/  144 batches | lr 0.00068 | ms/batch 37.51 | loss 0.06997460\n",
      "| Epoch  18 |   100/  144 batches | lr 0.00068 | ms/batch 35.39 | loss 0.07121326\n",
      "\n",
      "Val set: Average loss: 0.07533932\n",
      "\n",
      "EarlyStopping counter: 4 out of 20\n",
      "| Epoch  19 |    50/  144 batches | lr 0.00068 | ms/batch 37.44 | loss 0.07156411\n",
      "| Epoch  19 |   100/  144 batches | lr 0.00068 | ms/batch 35.35 | loss 0.06971452\n",
      "\n",
      "Val set: Average loss: 0.07031710\n",
      "\n",
      "EarlyStopping counter: 5 out of 20\n",
      "| Epoch  20 |    50/  144 batches | lr 0.00068 | ms/batch 37.71 | loss 0.07076394\n",
      "| Epoch  20 |   100/  144 batches | lr 0.00068 | ms/batch 35.62 | loss 0.06902576\n",
      "\n",
      "Val set: Average loss: 0.06903801\n",
      "\n",
      "| Epoch  21 |    50/  144 batches | lr 0.00068 | ms/batch 37.69 | loss 0.06925658\n",
      "| Epoch  21 |   100/  144 batches | lr 0.00068 | ms/batch 35.37 | loss 0.07004859\n",
      "\n",
      "Val set: Average loss: 0.07017698\n",
      "\n",
      "EarlyStopping counter: 1 out of 20\n",
      "| Epoch  22 |    50/  144 batches | lr 0.00068 | ms/batch 37.48 | loss 0.06859488\n",
      "| Epoch  22 |   100/  144 batches | lr 0.00068 | ms/batch 35.33 | loss 0.06741646\n",
      "\n",
      "Val set: Average loss: 0.06831868\n",
      "\n",
      "| Epoch  23 |    50/  144 batches | lr 0.00068 | ms/batch 37.52 | loss 0.06853971\n",
      "| Epoch  23 |   100/  144 batches | lr 0.00068 | ms/batch 35.63 | loss 0.06780036\n",
      "\n",
      "Val set: Average loss: 0.07135446\n",
      "\n",
      "EarlyStopping counter: 1 out of 20\n",
      "| Epoch  24 |    50/  144 batches | lr 0.00068 | ms/batch 37.50 | loss 0.06759825\n",
      "| Epoch  24 |   100/  144 batches | lr 0.00068 | ms/batch 35.45 | loss 0.06698630\n",
      "\n",
      "Val set: Average loss: 0.07000585\n",
      "\n",
      "EarlyStopping counter: 2 out of 20\n",
      "| Epoch  25 |    50/  144 batches | lr 0.00068 | ms/batch 37.97 | loss 0.06725941\n",
      "| Epoch  25 |   100/  144 batches | lr 0.00068 | ms/batch 35.40 | loss 0.06717135\n",
      "\n",
      "Val set: Average loss: 0.07540052\n",
      "\n",
      "EarlyStopping counter: 3 out of 20\n",
      "| Epoch  26 |    50/  144 batches | lr 0.00068 | ms/batch 37.69 | loss 0.06754114\n",
      "| Epoch  26 |   100/  144 batches | lr 0.00068 | ms/batch 35.22 | loss 0.06698293\n",
      "\n",
      "Val set: Average loss: 0.06738387\n",
      "\n",
      "| Epoch  27 |    50/  144 batches | lr 0.00068 | ms/batch 37.73 | loss 0.06839231\n",
      "| Epoch  27 |   100/  144 batches | lr 0.00068 | ms/batch 35.43 | loss 0.06721818\n",
      "\n",
      "Val set: Average loss: 0.07035816\n",
      "\n",
      "EarlyStopping counter: 1 out of 20\n",
      "| Epoch  28 |    50/  144 batches | lr 0.00068 | ms/batch 37.58 | loss 0.06674810\n",
      "| Epoch  28 |   100/  144 batches | lr 0.00068 | ms/batch 35.48 | loss 0.06667607\n",
      "\n",
      "Val set: Average loss: 0.06901985\n",
      "\n",
      "EarlyStopping counter: 2 out of 20\n",
      "| Epoch  29 |    50/  144 batches | lr 0.00068 | ms/batch 37.64 | loss 0.06946624\n",
      "| Epoch  29 |   100/  144 batches | lr 0.00068 | ms/batch 35.63 | loss 0.06609663\n",
      "\n",
      "Val set: Average loss: 0.06716269\n",
      "\n",
      "| Epoch  30 |    50/  144 batches | lr 0.00068 | ms/batch 37.49 | loss 0.06689853\n",
      "| Epoch  30 |   100/  144 batches | lr 0.00068 | ms/batch 35.24 | loss 0.06737370\n",
      "\n",
      "Val set: Average loss: 0.06765082\n",
      "\n",
      "EarlyStopping counter: 1 out of 20\n",
      "| Epoch  31 |    50/  144 batches | lr 0.00068 | ms/batch 37.55 | loss 0.06691085\n",
      "| Epoch  31 |   100/  144 batches | lr 0.00068 | ms/batch 35.33 | loss 0.06643952\n",
      "\n",
      "Val set: Average loss: 0.06865697\n",
      "\n",
      "EarlyStopping counter: 2 out of 20\n",
      "| Epoch  32 |    50/  144 batches | lr 0.00068 | ms/batch 37.46 | loss 0.06662949\n",
      "| Epoch  32 |   100/  144 batches | lr 0.00068 | ms/batch 35.28 | loss 0.06694558\n",
      "\n",
      "Val set: Average loss: 0.06809928\n",
      "\n",
      "EarlyStopping counter: 3 out of 20\n",
      "| Epoch  33 |    50/  144 batches | lr 0.00068 | ms/batch 37.42 | loss 0.06629409\n",
      "| Epoch  33 |   100/  144 batches | lr 0.00068 | ms/batch 35.23 | loss 0.06679625\n",
      "\n",
      "Val set: Average loss: 0.06787339\n",
      "\n",
      "EarlyStopping counter: 4 out of 20\n",
      "| Epoch  34 |    50/  144 batches | lr 0.00068 | ms/batch 37.48 | loss 0.06693408\n",
      "| Epoch  34 |   100/  144 batches | lr 0.00068 | ms/batch 35.33 | loss 0.06584114\n",
      "\n",
      "Val set: Average loss: 0.06822936\n",
      "\n",
      "EarlyStopping counter: 5 out of 20\n",
      "| Epoch  35 |    50/  144 batches | lr 0.00068 | ms/batch 37.54 | loss 0.06755898\n",
      "| Epoch  35 |   100/  144 batches | lr 0.00068 | ms/batch 35.32 | loss 0.06682951\n",
      "\n",
      "Val set: Average loss: 0.06805950\n",
      "\n",
      "EarlyStopping counter: 6 out of 20\n",
      "| Epoch  36 |    50/  144 batches | lr 0.00068 | ms/batch 37.63 | loss 0.06973487\n",
      "| Epoch  36 |   100/  144 batches | lr 0.00068 | ms/batch 35.26 | loss 0.06632023\n",
      "\n",
      "Val set: Average loss: 0.06759419\n",
      "\n",
      "EarlyStopping counter: 7 out of 20\n",
      "| Epoch  37 |    50/  144 batches | lr 0.00068 | ms/batch 38.61 | loss 0.06675567\n",
      "| Epoch  37 |   100/  144 batches | lr 0.00068 | ms/batch 35.24 | loss 0.06561901\n",
      "\n",
      "Val set: Average loss: 0.06846189\n",
      "\n",
      "EarlyStopping counter: 8 out of 20\n",
      "| Epoch  38 |    50/  144 batches | lr 0.00068 | ms/batch 37.51 | loss 0.06550228\n",
      "| Epoch  38 |   100/  144 batches | lr 0.00068 | ms/batch 35.31 | loss 0.06594507\n",
      "\n",
      "Val set: Average loss: 0.07029772\n",
      "\n",
      "EarlyStopping counter: 9 out of 20\n",
      "| Epoch  39 |    50/  144 batches | lr 0.00068 | ms/batch 37.45 | loss 0.06687260\n",
      "| Epoch  39 |   100/  144 batches | lr 0.00068 | ms/batch 35.24 | loss 0.06505762\n",
      "\n",
      "Val set: Average loss: 0.06684720\n",
      "\n",
      "| Epoch  40 |    50/  144 batches | lr 0.00068 | ms/batch 38.08 | loss 0.06473820\n",
      "| Epoch  40 |   100/  144 batches | lr 0.00068 | ms/batch 35.43 | loss 0.06469123\n",
      "\n",
      "Val set: Average loss: 0.06697990\n",
      "\n",
      "EarlyStopping counter: 1 out of 20\n",
      "| Epoch  41 |    50/  144 batches | lr 0.00068 | ms/batch 37.48 | loss 0.06811446\n",
      "| Epoch  41 |   100/  144 batches | lr 0.00068 | ms/batch 35.48 | loss 0.06607793\n",
      "\n",
      "Val set: Average loss: 0.06625701\n",
      "\n",
      "| Epoch  42 |    50/  144 batches | lr 0.00068 | ms/batch 37.55 | loss 0.06545617\n",
      "| Epoch  42 |   100/  144 batches | lr 0.00068 | ms/batch 35.41 | loss 0.06563091\n",
      "\n",
      "Val set: Average loss: 0.06880093\n",
      "\n",
      "EarlyStopping counter: 1 out of 20\n",
      "| Epoch  43 |    50/  144 batches | lr 0.00068 | ms/batch 37.56 | loss 0.06626701\n",
      "| Epoch  43 |   100/  144 batches | lr 0.00068 | ms/batch 35.37 | loss 0.06377905\n",
      "\n",
      "Val set: Average loss: 0.06800777\n",
      "\n",
      "EarlyStopping counter: 2 out of 20\n",
      "| Epoch  44 |    50/  144 batches | lr 0.00068 | ms/batch 37.41 | loss 0.06703130\n",
      "| Epoch  44 |   100/  144 batches | lr 0.00068 | ms/batch 35.31 | loss 0.06560379\n",
      "\n",
      "Val set: Average loss: 0.06630762\n",
      "\n",
      "EarlyStopping counter: 3 out of 20\n",
      "| Epoch  45 |    50/  144 batches | lr 0.00068 | ms/batch 37.41 | loss 0.06478309\n",
      "| Epoch  45 |   100/  144 batches | lr 0.00068 | ms/batch 35.26 | loss 0.06394725\n",
      "\n",
      "Val set: Average loss: 0.06639412\n",
      "\n",
      "EarlyStopping counter: 4 out of 20\n",
      "| Epoch  46 |    50/  144 batches | lr 0.00068 | ms/batch 37.63 | loss 0.06453741\n",
      "| Epoch  46 |   100/  144 batches | lr 0.00068 | ms/batch 35.39 | loss 0.06355978\n",
      "\n",
      "Val set: Average loss: 0.07339988\n",
      "\n",
      "EarlyStopping counter: 5 out of 20\n",
      "| Epoch  47 |    50/  144 batches | lr 0.00068 | ms/batch 37.54 | loss 0.06725218\n",
      "| Epoch  47 |   100/  144 batches | lr 0.00068 | ms/batch 35.34 | loss 0.06434265\n",
      "\n",
      "Val set: Average loss: 0.06674698\n",
      "\n",
      "EarlyStopping counter: 6 out of 20\n",
      "| Epoch  48 |    50/  144 batches | lr 0.00068 | ms/batch 37.52 | loss 0.06391312\n",
      "| Epoch  48 |   100/  144 batches | lr 0.00068 | ms/batch 35.25 | loss 0.06467343\n",
      "\n",
      "Val set: Average loss: 0.06862879\n",
      "\n",
      "EarlyStopping counter: 7 out of 20\n",
      "| Epoch  49 |    50/  144 batches | lr 0.00068 | ms/batch 37.49 | loss 0.06462865\n",
      "| Epoch  49 |   100/  144 batches | lr 0.00068 | ms/batch 35.49 | loss 0.06332338\n",
      "\n",
      "Val set: Average loss: 0.06506750\n",
      "\n",
      "| Epoch  50 |    50/  144 batches | lr 0.00068 | ms/batch 37.47 | loss 0.06400213\n",
      "| Epoch  50 |   100/  144 batches | lr 0.00068 | ms/batch 35.38 | loss 0.06305961\n",
      "\n",
      "Val set: Average loss: 0.06570608\n",
      "\n",
      "EarlyStopping counter: 1 out of 20\n",
      "| Epoch  51 |    50/  144 batches | lr 0.00068 | ms/batch 37.54 | loss 0.06514581\n",
      "| Epoch  51 |   100/  144 batches | lr 0.00068 | ms/batch 35.34 | loss 0.06273469\n",
      "\n",
      "Val set: Average loss: 0.06593402\n",
      "\n",
      "EarlyStopping counter: 2 out of 20\n",
      "| Epoch  52 |    50/  144 batches | lr 0.00068 | ms/batch 37.51 | loss 0.06497542\n",
      "| Epoch  52 |   100/  144 batches | lr 0.00068 | ms/batch 35.54 | loss 0.06406636\n",
      "\n",
      "Val set: Average loss: 0.06544749\n",
      "\n",
      "EarlyStopping counter: 3 out of 20\n",
      "| Epoch  53 |    50/  144 batches | lr 0.00068 | ms/batch 37.65 | loss 0.06557966\n",
      "| Epoch  53 |   100/  144 batches | lr 0.00068 | ms/batch 35.51 | loss 0.06319888\n",
      "\n",
      "Val set: Average loss: 0.06485682\n",
      "\n",
      "| Epoch  54 |    50/  144 batches | lr 0.00068 | ms/batch 37.60 | loss 0.06626539\n",
      "| Epoch  54 |   100/  144 batches | lr 0.00068 | ms/batch 35.41 | loss 0.06333159\n",
      "\n",
      "Val set: Average loss: 0.06610369\n",
      "\n",
      "EarlyStopping counter: 1 out of 20\n",
      "| Epoch  55 |    50/  144 batches | lr 0.00068 | ms/batch 37.68 | loss 0.06342542\n",
      "| Epoch  55 |   100/  144 batches | lr 0.00068 | ms/batch 35.27 | loss 0.06288528\n",
      "\n",
      "Val set: Average loss: 0.06462368\n",
      "\n",
      "| Epoch  56 |    50/  144 batches | lr 0.00068 | ms/batch 37.86 | loss 0.06350601\n",
      "| Epoch  56 |   100/  144 batches | lr 0.00068 | ms/batch 35.49 | loss 0.06419824\n",
      "\n",
      "Val set: Average loss: 0.06486589\n",
      "\n",
      "EarlyStopping counter: 1 out of 20\n",
      "| Epoch  57 |    50/  144 batches | lr 0.00068 | ms/batch 37.67 | loss 0.06292802\n",
      "| Epoch  57 |   100/  144 batches | lr 0.00068 | ms/batch 35.47 | loss 0.06266405\n",
      "\n",
      "Val set: Average loss: 0.06429224\n",
      "\n",
      "| Epoch  58 |    50/  144 batches | lr 0.00068 | ms/batch 37.68 | loss 0.06506558\n",
      "| Epoch  58 |   100/  144 batches | lr 0.00068 | ms/batch 35.75 | loss 0.06400936\n",
      "\n",
      "Val set: Average loss: 0.06506149\n",
      "\n",
      "EarlyStopping counter: 1 out of 20\n",
      "| Epoch  59 |    50/  144 batches | lr 0.00068 | ms/batch 37.62 | loss 0.06357096\n",
      "| Epoch  59 |   100/  144 batches | lr 0.00068 | ms/batch 35.63 | loss 0.06277429\n",
      "\n",
      "Val set: Average loss: 0.06506751\n",
      "\n",
      "EarlyStopping counter: 2 out of 20\n",
      "| Epoch  60 |    50/  144 batches | lr 0.00068 | ms/batch 37.89 | loss 0.07119627\n",
      "| Epoch  60 |   100/  144 batches | lr 0.00068 | ms/batch 35.66 | loss 0.06309437\n",
      "\n",
      "Val set: Average loss: 0.06573600\n",
      "\n",
      "EarlyStopping counter: 3 out of 20\n",
      "| Epoch  61 |    50/  144 batches | lr 0.00068 | ms/batch 37.83 | loss 0.06286363\n",
      "| Epoch  61 |   100/  144 batches | lr 0.00068 | ms/batch 35.73 | loss 0.06198078\n",
      "\n",
      "Val set: Average loss: 0.06447906\n",
      "\n",
      "EarlyStopping counter: 4 out of 20\n",
      "| Epoch  62 |    50/  144 batches | lr 0.00068 | ms/batch 37.70 | loss 0.06535631\n",
      "| Epoch  62 |   100/  144 batches | lr 0.00068 | ms/batch 35.57 | loss 0.06188759\n",
      "\n",
      "Val set: Average loss: 0.06562301\n",
      "\n",
      "EarlyStopping counter: 5 out of 20\n",
      "| Epoch  63 |    50/  144 batches | lr 0.00068 | ms/batch 37.71 | loss 0.06312038\n",
      "| Epoch  63 |   100/  144 batches | lr 0.00068 | ms/batch 35.58 | loss 0.06184458\n",
      "\n",
      "Val set: Average loss: 0.06335165\n",
      "\n",
      "| Epoch  64 |    50/  144 batches | lr 0.00068 | ms/batch 37.62 | loss 0.06276338\n",
      "| Epoch  64 |   100/  144 batches | lr 0.00068 | ms/batch 35.65 | loss 0.06186151\n",
      "\n",
      "Val set: Average loss: 0.06433111\n",
      "\n",
      "EarlyStopping counter: 1 out of 20\n",
      "| Epoch  65 |    50/  144 batches | lr 0.00068 | ms/batch 37.83 | loss 0.06469124\n",
      "| Epoch  65 |   100/  144 batches | lr 0.00068 | ms/batch 35.48 | loss 0.06167569\n",
      "\n",
      "Val set: Average loss: 0.06368441\n",
      "\n",
      "EarlyStopping counter: 2 out of 20\n",
      "| Epoch  66 |    50/  144 batches | lr 0.00068 | ms/batch 37.81 | loss 0.06513054\n",
      "| Epoch  66 |   100/  144 batches | lr 0.00068 | ms/batch 35.47 | loss 0.06232502\n",
      "\n",
      "Val set: Average loss: 0.06534481\n",
      "\n",
      "EarlyStopping counter: 3 out of 20\n",
      "| Epoch  67 |    50/  144 batches | lr 0.00068 | ms/batch 37.68 | loss 0.06260587\n",
      "| Epoch  67 |   100/  144 batches | lr 0.00068 | ms/batch 35.75 | loss 0.06164917\n",
      "\n",
      "Val set: Average loss: 0.06431611\n",
      "\n",
      "EarlyStopping counter: 4 out of 20\n",
      "| Epoch  68 |    50/  144 batches | lr 0.00068 | ms/batch 37.73 | loss 0.06244852\n",
      "| Epoch  68 |   100/  144 batches | lr 0.00068 | ms/batch 35.67 | loss 0.06194457\n",
      "\n",
      "Val set: Average loss: 0.06387553\n",
      "\n",
      "EarlyStopping counter: 5 out of 20\n",
      "| Epoch  69 |    50/  144 batches | lr 0.00068 | ms/batch 37.70 | loss 0.06244522\n",
      "| Epoch  69 |   100/  144 batches | lr 0.00068 | ms/batch 35.57 | loss 0.06156542\n",
      "\n",
      "Val set: Average loss: 0.06337725\n",
      "\n",
      "EarlyStopping counter: 6 out of 20\n",
      "| Epoch  70 |    50/  144 batches | lr 0.00068 | ms/batch 37.86 | loss 0.06253839\n",
      "| Epoch  70 |   100/  144 batches | lr 0.00068 | ms/batch 35.58 | loss 0.06239406\n",
      "\n",
      "Val set: Average loss: 0.06534606\n",
      "\n",
      "EarlyStopping counter: 7 out of 20\n",
      "| Epoch  71 |    50/  144 batches | lr 0.00068 | ms/batch 37.71 | loss 0.06312656\n",
      "| Epoch  71 |   100/  144 batches | lr 0.00068 | ms/batch 35.53 | loss 0.06263961\n",
      "\n",
      "Val set: Average loss: 0.06308193\n",
      "\n",
      "| Epoch  72 |    50/  144 batches | lr 0.00068 | ms/batch 37.61 | loss 0.06221170\n",
      "| Epoch  72 |   100/  144 batches | lr 0.00068 | ms/batch 35.66 | loss 0.06192244\n",
      "\n",
      "Val set: Average loss: 0.06339024\n",
      "\n",
      "EarlyStopping counter: 1 out of 20\n",
      "| Epoch  73 |    50/  144 batches | lr 0.00068 | ms/batch 37.80 | loss 0.06308365\n",
      "| Epoch  73 |   100/  144 batches | lr 0.00068 | ms/batch 35.64 | loss 0.06171410\n",
      "\n",
      "Val set: Average loss: 0.07100169\n",
      "\n",
      "EarlyStopping counter: 2 out of 20\n",
      "| Epoch  74 |    50/  144 batches | lr 0.00068 | ms/batch 37.51 | loss 0.06402451\n",
      "| Epoch  74 |   100/  144 batches | lr 0.00068 | ms/batch 35.78 | loss 0.06187474\n",
      "\n",
      "Val set: Average loss: 0.06426052\n",
      "\n",
      "EarlyStopping counter: 3 out of 20\n",
      "| Epoch  75 |    50/  144 batches | lr 0.00068 | ms/batch 37.61 | loss 0.06220901\n",
      "| Epoch  75 |   100/  144 batches | lr 0.00068 | ms/batch 35.52 | loss 0.06107204\n",
      "\n",
      "Val set: Average loss: 0.06417173\n",
      "\n",
      "EarlyStopping counter: 4 out of 20\n",
      "| Epoch  76 |    50/  144 batches | lr 0.00068 | ms/batch 37.76 | loss 0.06251359\n",
      "| Epoch  76 |   100/  144 batches | lr 0.00068 | ms/batch 35.84 | loss 0.06141559\n",
      "\n",
      "Val set: Average loss: 0.06462998\n",
      "\n",
      "EarlyStopping counter: 5 out of 20\n",
      "| Epoch  77 |    50/  144 batches | lr 0.00068 | ms/batch 37.70 | loss 0.06136847\n",
      "| Epoch  77 |   100/  144 batches | lr 0.00068 | ms/batch 35.39 | loss 0.06155948\n",
      "\n",
      "Val set: Average loss: 0.06340248\n",
      "\n",
      "EarlyStopping counter: 6 out of 20\n",
      "| Epoch  78 |    50/  144 batches | lr 0.00068 | ms/batch 37.80 | loss 0.06421171\n",
      "| Epoch  78 |   100/  144 batches | lr 0.00068 | ms/batch 35.43 | loss 0.06175414\n",
      "\n",
      "Val set: Average loss: 0.06215353\n",
      "\n",
      "| Epoch  79 |    50/  144 batches | lr 0.00068 | ms/batch 37.30 | loss 0.06272673\n",
      "| Epoch  79 |   100/  144 batches | lr 0.00068 | ms/batch 35.39 | loss 0.06208507\n",
      "\n",
      "Val set: Average loss: 0.06511066\n",
      "\n",
      "EarlyStopping counter: 1 out of 20\n",
      "| Epoch  80 |    50/  144 batches | lr 0.00068 | ms/batch 37.69 | loss 0.06180609\n",
      "| Epoch  80 |   100/  144 batches | lr 0.00068 | ms/batch 35.55 | loss 0.06088915\n",
      "\n",
      "Val set: Average loss: 0.06273447\n",
      "\n",
      "EarlyStopping counter: 2 out of 20\n",
      "| Epoch  81 |    50/  144 batches | lr 0.00068 | ms/batch 37.61 | loss 0.06104362\n",
      "| Epoch  81 |   100/  144 batches | lr 0.00068 | ms/batch 35.51 | loss 0.06112181\n",
      "\n",
      "Val set: Average loss: 0.06405656\n",
      "\n",
      "EarlyStopping counter: 3 out of 20\n",
      "| Epoch  82 |    50/  144 batches | lr 0.00068 | ms/batch 37.71 | loss 0.06166566\n",
      "| Epoch  82 |   100/  144 batches | lr 0.00068 | ms/batch 35.63 | loss 0.06149171\n",
      "\n",
      "Val set: Average loss: 0.06345230\n",
      "\n",
      "EarlyStopping counter: 4 out of 20\n",
      "| Epoch  83 |    50/  144 batches | lr 0.00068 | ms/batch 37.82 | loss 0.06163965\n",
      "| Epoch  83 |   100/  144 batches | lr 0.00068 | ms/batch 35.52 | loss 0.06116742\n",
      "\n",
      "Val set: Average loss: 0.06235336\n",
      "\n",
      "EarlyStopping counter: 5 out of 20\n",
      "| Epoch  84 |    50/  144 batches | lr 0.00068 | ms/batch 37.80 | loss 0.06111065\n",
      "| Epoch  84 |   100/  144 batches | lr 0.00068 | ms/batch 35.89 | loss 0.06106015\n",
      "\n",
      "Val set: Average loss: 0.06291085\n",
      "\n",
      "EarlyStopping counter: 6 out of 20\n",
      "| Epoch  85 |    50/  144 batches | lr 0.00068 | ms/batch 37.72 | loss 0.06128525\n",
      "| Epoch  85 |   100/  144 batches | lr 0.00068 | ms/batch 35.35 | loss 0.06020506\n",
      "\n",
      "Val set: Average loss: 0.06270840\n",
      "\n",
      "EarlyStopping counter: 7 out of 20\n",
      "| Epoch  86 |    50/  144 batches | lr 0.00068 | ms/batch 37.48 | loss 0.06249681\n",
      "| Epoch  86 |   100/  144 batches | lr 0.00068 | ms/batch 35.54 | loss 0.06058191\n",
      "\n",
      "Val set: Average loss: 0.06595424\n",
      "\n",
      "EarlyStopping counter: 8 out of 20\n",
      "| Epoch  87 |    50/  144 batches | lr 0.00068 | ms/batch 37.71 | loss 0.06101794\n",
      "| Epoch  87 |   100/  144 batches | lr 0.00068 | ms/batch 35.47 | loss 0.06112023\n",
      "\n",
      "Val set: Average loss: 0.06441177\n",
      "\n",
      "EarlyStopping counter: 9 out of 20\n",
      "| Epoch  88 |    50/  144 batches | lr 0.00068 | ms/batch 37.51 | loss 0.06054518\n",
      "| Epoch  88 |   100/  144 batches | lr 0.00068 | ms/batch 35.33 | loss 0.06070545\n",
      "\n",
      "Val set: Average loss: 0.06401104\n",
      "\n",
      "EarlyStopping counter: 10 out of 20\n",
      "| Epoch  89 |    50/  144 batches | lr 0.00068 | ms/batch 37.60 | loss 0.06335354\n",
      "| Epoch  89 |   100/  144 batches | lr 0.00068 | ms/batch 35.54 | loss 0.06049480\n",
      "\n",
      "Val set: Average loss: 0.06512687\n",
      "\n",
      "EarlyStopping counter: 11 out of 20\n",
      "| Epoch  90 |    50/  144 batches | lr 0.00068 | ms/batch 37.76 | loss 0.06175071\n",
      "| Epoch  90 |   100/  144 batches | lr 0.00068 | ms/batch 35.50 | loss 0.06069874\n",
      "\n",
      "Val set: Average loss: 0.06212160\n",
      "\n",
      "| Epoch  91 |    50/  144 batches | lr 0.00068 | ms/batch 37.53 | loss 0.06241165\n",
      "| Epoch  91 |   100/  144 batches | lr 0.00068 | ms/batch 35.28 | loss 0.06203940\n",
      "\n",
      "Val set: Average loss: 0.06478883\n",
      "\n",
      "EarlyStopping counter: 1 out of 20\n",
      "| Epoch  92 |    50/  144 batches | lr 0.00068 | ms/batch 37.57 | loss 0.06091679\n",
      "| Epoch  92 |   100/  144 batches | lr 0.00068 | ms/batch 35.37 | loss 0.06071365\n",
      "\n",
      "Val set: Average loss: 0.06216129\n",
      "\n",
      "EarlyStopping counter: 2 out of 20\n",
      "| Epoch  93 |    50/  144 batches | lr 0.00068 | ms/batch 37.51 | loss 0.06214109\n",
      "| Epoch  93 |   100/  144 batches | lr 0.00068 | ms/batch 35.29 | loss 0.05999360\n",
      "\n",
      "Val set: Average loss: 0.06115171\n",
      "\n",
      "| Epoch  94 |    50/  144 batches | lr 0.00068 | ms/batch 37.36 | loss 0.06044402\n",
      "| Epoch  94 |   100/  144 batches | lr 0.00068 | ms/batch 34.85 | loss 0.05965932\n",
      "\n",
      "Val set: Average loss: 0.06255245\n",
      "\n",
      "EarlyStopping counter: 1 out of 20\n",
      "| Epoch  95 |    50/  144 batches | lr 0.00068 | ms/batch 36.79 | loss 0.06123862\n",
      "| Epoch  95 |   100/  144 batches | lr 0.00068 | ms/batch 34.68 | loss 0.06028883\n",
      "\n",
      "Val set: Average loss: 0.06427760\n",
      "\n",
      "EarlyStopping counter: 2 out of 20\n",
      "| Epoch  96 |    50/  144 batches | lr 0.00068 | ms/batch 37.00 | loss 0.06485156\n",
      "| Epoch  96 |   100/  144 batches | lr 0.00068 | ms/batch 35.09 | loss 0.06083852\n",
      "\n",
      "Val set: Average loss: 0.06178074\n",
      "\n",
      "EarlyStopping counter: 3 out of 20\n",
      "| Epoch  97 |    50/  144 batches | lr 0.00068 | ms/batch 37.32 | loss 0.06171875\n",
      "| Epoch  97 |   100/  144 batches | lr 0.00068 | ms/batch 35.28 | loss 0.06083506\n",
      "\n",
      "Val set: Average loss: 0.06172768\n",
      "\n",
      "EarlyStopping counter: 4 out of 20\n",
      "| Epoch  98 |    50/  144 batches | lr 0.00068 | ms/batch 37.52 | loss 0.06019837\n",
      "| Epoch  98 |   100/  144 batches | lr 0.00068 | ms/batch 35.29 | loss 0.06183290\n",
      "\n",
      "Val set: Average loss: 0.06161094\n",
      "\n",
      "EarlyStopping counter: 5 out of 20\n",
      "| Epoch  99 |    50/  144 batches | lr 0.00068 | ms/batch 37.43 | loss 0.05999883\n",
      "| Epoch  99 |   100/  144 batches | lr 0.00068 | ms/batch 35.31 | loss 0.06085216\n",
      "\n",
      "Val set: Average loss: 0.06089796\n",
      "\n",
      "| Epoch 100 |    50/  144 batches | lr 0.00068 | ms/batch 37.40 | loss 0.06007418\n",
      "| Epoch 100 |   100/  144 batches | lr 0.00068 | ms/batch 35.47 | loss 0.06087767\n",
      "\n",
      "Val set: Average loss: 0.06337312\n",
      "\n",
      "EarlyStopping counter: 1 out of 20\n",
      "| Epoch 101 |    50/  144 batches | lr 0.00068 | ms/batch 37.72 | loss 0.06134822\n",
      "| Epoch 101 |   100/  144 batches | lr 0.00068 | ms/batch 35.33 | loss 0.06015352\n",
      "\n",
      "Val set: Average loss: 0.06107377\n",
      "\n",
      "EarlyStopping counter: 2 out of 20\n",
      "| Epoch 102 |    50/  144 batches | lr 0.00068 | ms/batch 37.61 | loss 0.05998054\n",
      "| Epoch 102 |   100/  144 batches | lr 0.00068 | ms/batch 35.38 | loss 0.05989857\n",
      "\n",
      "Val set: Average loss: 0.06263883\n",
      "\n",
      "EarlyStopping counter: 3 out of 20\n",
      "| Epoch 103 |    50/  144 batches | lr 0.00068 | ms/batch 37.44 | loss 0.05950654\n",
      "| Epoch 103 |   100/  144 batches | lr 0.00068 | ms/batch 35.28 | loss 0.05939923\n",
      "\n",
      "Val set: Average loss: 0.06191678\n",
      "\n",
      "EarlyStopping counter: 4 out of 20\n",
      "| Epoch 104 |    50/  144 batches | lr 0.00068 | ms/batch 37.47 | loss 0.06537422\n",
      "| Epoch 104 |   100/  144 batches | lr 0.00068 | ms/batch 35.43 | loss 0.06064603\n",
      "\n",
      "Val set: Average loss: 0.06124495\n",
      "\n",
      "EarlyStopping counter: 5 out of 20\n",
      "| Epoch 105 |    50/  144 batches | lr 0.00068 | ms/batch 37.59 | loss 0.05931784\n",
      "| Epoch 105 |   100/  144 batches | lr 0.00068 | ms/batch 35.26 | loss 0.06118395\n",
      "\n",
      "Val set: Average loss: 0.06230834\n",
      "\n",
      "EarlyStopping counter: 6 out of 20\n",
      "| Epoch 106 |    50/  144 batches | lr 0.00068 | ms/batch 37.31 | loss 0.06173094\n",
      "| Epoch 106 |   100/  144 batches | lr 0.00068 | ms/batch 35.29 | loss 0.06036403\n",
      "\n",
      "Val set: Average loss: 0.06153259\n",
      "\n",
      "EarlyStopping counter: 7 out of 20\n",
      "| Epoch 107 |    50/  144 batches | lr 0.00068 | ms/batch 37.27 | loss 0.06127913\n",
      "| Epoch 107 |   100/  144 batches | lr 0.00068 | ms/batch 35.24 | loss 0.05938571\n",
      "\n",
      "Val set: Average loss: 0.06065099\n",
      "\n",
      "| Epoch 108 |    50/  144 batches | lr 0.00068 | ms/batch 37.40 | loss 0.06078317\n",
      "| Epoch 108 |   100/  144 batches | lr 0.00068 | ms/batch 35.29 | loss 0.06002448\n",
      "\n",
      "Val set: Average loss: 0.06363651\n",
      "\n",
      "EarlyStopping counter: 1 out of 20\n",
      "| Epoch 109 |    50/  144 batches | lr 0.00068 | ms/batch 37.38 | loss 0.05964887\n",
      "| Epoch 109 |   100/  144 batches | lr 0.00068 | ms/batch 35.37 | loss 0.05942642\n",
      "\n",
      "Val set: Average loss: 0.06092651\n",
      "\n",
      "EarlyStopping counter: 2 out of 20\n",
      "| Epoch 110 |    50/  144 batches | lr 0.00068 | ms/batch 37.47 | loss 0.05885095\n",
      "| Epoch 110 |   100/  144 batches | lr 0.00068 | ms/batch 35.36 | loss 0.05964352\n",
      "\n",
      "Val set: Average loss: 0.06315015\n",
      "\n",
      "EarlyStopping counter: 3 out of 20\n",
      "| Epoch 111 |    50/  144 batches | lr 0.00068 | ms/batch 37.53 | loss 0.05978757\n",
      "| Epoch 111 |   100/  144 batches | lr 0.00068 | ms/batch 35.15 | loss 0.06016843\n",
      "\n",
      "Val set: Average loss: 0.06109094\n",
      "\n",
      "EarlyStopping counter: 4 out of 20\n",
      "| Epoch 112 |    50/  144 batches | lr 0.00068 | ms/batch 37.65 | loss 0.05919468\n",
      "| Epoch 112 |   100/  144 batches | lr 0.00068 | ms/batch 35.17 | loss 0.06016897\n",
      "\n",
      "Val set: Average loss: 0.06076401\n",
      "\n",
      "EarlyStopping counter: 5 out of 20\n",
      "| Epoch 113 |    50/  144 batches | lr 0.00068 | ms/batch 37.28 | loss 0.06244664\n",
      "| Epoch 113 |   100/  144 batches | lr 0.00068 | ms/batch 35.42 | loss 0.05910937\n",
      "\n",
      "Val set: Average loss: 0.06228304\n",
      "\n",
      "EarlyStopping counter: 6 out of 20\n",
      "| Epoch 114 |    50/  144 batches | lr 0.00068 | ms/batch 37.22 | loss 0.05894701\n",
      "| Epoch 114 |   100/  144 batches | lr 0.00068 | ms/batch 35.40 | loss 0.05924676\n",
      "\n",
      "Val set: Average loss: 0.06251069\n",
      "\n",
      "EarlyStopping counter: 7 out of 20\n",
      "| Epoch 115 |    50/  144 batches | lr 0.00068 | ms/batch 37.31 | loss 0.05972277\n",
      "| Epoch 115 |   100/  144 batches | lr 0.00068 | ms/batch 35.45 | loss 0.05961005\n",
      "\n",
      "Val set: Average loss: 0.06368946\n",
      "\n",
      "EarlyStopping counter: 8 out of 20\n",
      "| Epoch 116 |    50/  144 batches | lr 0.00068 | ms/batch 37.48 | loss 0.06021512\n",
      "| Epoch 116 |   100/  144 batches | lr 0.00068 | ms/batch 34.96 | loss 0.06016001\n",
      "\n",
      "Val set: Average loss: 0.06234121\n",
      "\n",
      "EarlyStopping counter: 9 out of 20\n",
      "| Epoch 117 |    50/  144 batches | lr 0.00068 | ms/batch 37.47 | loss 0.05935742\n",
      "| Epoch 117 |   100/  144 batches | lr 0.00068 | ms/batch 35.24 | loss 0.06035342\n",
      "\n",
      "Val set: Average loss: 0.06161048\n",
      "\n",
      "EarlyStopping counter: 10 out of 20\n",
      "| Epoch 118 |    50/  144 batches | lr 0.00068 | ms/batch 37.48 | loss 0.05980838\n",
      "| Epoch 118 |   100/  144 batches | lr 0.00068 | ms/batch 35.29 | loss 0.05970503\n",
      "\n",
      "Val set: Average loss: 0.06201515\n",
      "\n",
      "EarlyStopping counter: 11 out of 20\n",
      "| Epoch 119 |    50/  144 batches | lr 0.00068 | ms/batch 37.55 | loss 0.05852146\n",
      "| Epoch 119 |   100/  144 batches | lr 0.00068 | ms/batch 35.21 | loss 0.05892615\n",
      "\n",
      "Val set: Average loss: 0.06017641\n",
      "\n",
      "| Epoch 120 |    50/  144 batches | lr 0.00068 | ms/batch 37.33 | loss 0.06016242\n",
      "| Epoch 120 |   100/  144 batches | lr 0.00068 | ms/batch 35.23 | loss 0.05968726\n",
      "\n",
      "Val set: Average loss: 0.06072778\n",
      "\n",
      "EarlyStopping counter: 1 out of 20\n",
      "| Epoch 121 |    50/  144 batches | lr 0.00068 | ms/batch 37.43 | loss 0.05917884\n",
      "| Epoch 121 |   100/  144 batches | lr 0.00068 | ms/batch 35.28 | loss 0.05966170\n",
      "\n",
      "Val set: Average loss: 0.06242830\n",
      "\n",
      "EarlyStopping counter: 2 out of 20\n",
      "| Epoch 122 |    50/  144 batches | lr 0.00068 | ms/batch 37.32 | loss 0.05947316\n",
      "| Epoch 122 |   100/  144 batches | lr 0.00068 | ms/batch 35.16 | loss 0.05964100\n",
      "\n",
      "Val set: Average loss: 0.06197103\n",
      "\n",
      "EarlyStopping counter: 3 out of 20\n",
      "| Epoch 123 |    50/  144 batches | lr 0.00068 | ms/batch 37.55 | loss 0.06019879\n",
      "| Epoch 123 |   100/  144 batches | lr 0.00068 | ms/batch 35.34 | loss 0.06054814\n",
      "\n",
      "Val set: Average loss: 0.06152672\n",
      "\n",
      "EarlyStopping counter: 4 out of 20\n",
      "| Epoch 124 |    50/  144 batches | lr 0.00068 | ms/batch 37.33 | loss 0.05964252\n",
      "| Epoch 124 |   100/  144 batches | lr 0.00068 | ms/batch 35.28 | loss 0.05893138\n",
      "\n",
      "Val set: Average loss: 0.06166440\n",
      "\n",
      "EarlyStopping counter: 5 out of 20\n",
      "| Epoch 125 |    50/  144 batches | lr 0.00068 | ms/batch 37.40 | loss 0.05915944\n",
      "| Epoch 125 |   100/  144 batches | lr 0.00068 | ms/batch 35.10 | loss 0.05944464\n",
      "\n",
      "Val set: Average loss: 0.06120963\n",
      "\n",
      "EarlyStopping counter: 6 out of 20\n",
      "| Epoch 126 |    50/  144 batches | lr 0.00068 | ms/batch 37.22 | loss 0.06049412\n",
      "| Epoch 126 |   100/  144 batches | lr 0.00068 | ms/batch 35.17 | loss 0.05991922\n",
      "\n",
      "Val set: Average loss: 0.06019197\n",
      "\n",
      "EarlyStopping counter: 7 out of 20\n",
      "| Epoch 127 |    50/  144 batches | lr 0.00068 | ms/batch 37.39 | loss 0.05949183\n",
      "| Epoch 127 |   100/  144 batches | lr 0.00068 | ms/batch 35.05 | loss 0.05907568\n",
      "\n",
      "Val set: Average loss: 0.06221382\n",
      "\n",
      "EarlyStopping counter: 8 out of 20\n",
      "| Epoch 128 |    50/  144 batches | lr 0.00068 | ms/batch 37.36 | loss 0.05961210\n",
      "| Epoch 128 |   100/  144 batches | lr 0.00068 | ms/batch 35.17 | loss 0.05928809\n",
      "\n",
      "Val set: Average loss: 0.06010105\n",
      "\n",
      "| Epoch 129 |    50/  144 batches | lr 0.00068 | ms/batch 37.35 | loss 0.06090421\n",
      "| Epoch 129 |   100/  144 batches | lr 0.00068 | ms/batch 35.06 | loss 0.06043715\n",
      "\n",
      "Val set: Average loss: 0.06078241\n",
      "\n",
      "EarlyStopping counter: 1 out of 20\n",
      "| Epoch 130 |    50/  144 batches | lr 0.00068 | ms/batch 37.20 | loss 0.05834764\n",
      "| Epoch 130 |   100/  144 batches | lr 0.00068 | ms/batch 35.13 | loss 0.05916605\n",
      "\n",
      "Val set: Average loss: 0.06086947\n",
      "\n",
      "EarlyStopping counter: 2 out of 20\n",
      "| Epoch 131 |    50/  144 batches | lr 0.00068 | ms/batch 37.23 | loss 0.05868915\n",
      "| Epoch 131 |   100/  144 batches | lr 0.00068 | ms/batch 35.34 | loss 0.05848449\n",
      "\n",
      "Val set: Average loss: 0.06001879\n",
      "\n",
      "| Epoch 132 |    50/  144 batches | lr 0.00068 | ms/batch 37.16 | loss 0.05884267\n",
      "| Epoch 132 |   100/  144 batches | lr 0.00068 | ms/batch 35.35 | loss 0.05889678\n",
      "\n",
      "Val set: Average loss: 0.06047311\n",
      "\n",
      "EarlyStopping counter: 1 out of 20\n",
      "| Epoch 133 |    50/  144 batches | lr 0.00068 | ms/batch 37.42 | loss 0.05886526\n",
      "| Epoch 133 |   100/  144 batches | lr 0.00068 | ms/batch 35.07 | loss 0.05922583\n",
      "\n",
      "Val set: Average loss: 0.06192198\n",
      "\n",
      "EarlyStopping counter: 2 out of 20\n",
      "| Epoch 134 |    50/  144 batches | lr 0.00068 | ms/batch 37.13 | loss 0.05797596\n",
      "| Epoch 134 |   100/  144 batches | lr 0.00068 | ms/batch 35.12 | loss 0.05921334\n",
      "\n",
      "Val set: Average loss: 0.06164079\n",
      "\n",
      "EarlyStopping counter: 3 out of 20\n",
      "| Epoch 135 |    50/  144 batches | lr 0.00068 | ms/batch 37.22 | loss 0.05985489\n",
      "| Epoch 135 |   100/  144 batches | lr 0.00068 | ms/batch 35.21 | loss 0.06016187\n",
      "\n",
      "Val set: Average loss: 0.06083927\n",
      "\n",
      "EarlyStopping counter: 4 out of 20\n",
      "| Epoch 136 |    50/  144 batches | lr 0.00068 | ms/batch 37.32 | loss 0.06020125\n",
      "| Epoch 136 |   100/  144 batches | lr 0.00068 | ms/batch 35.05 | loss 0.05854701\n",
      "\n",
      "Val set: Average loss: 0.06065302\n",
      "\n",
      "EarlyStopping counter: 5 out of 20\n",
      "| Epoch 137 |    50/  144 batches | lr 0.00068 | ms/batch 37.52 | loss 0.05884216\n",
      "| Epoch 137 |   100/  144 batches | lr 0.00068 | ms/batch 35.27 | loss 0.05814251\n",
      "\n",
      "Val set: Average loss: 0.06063984\n",
      "\n",
      "EarlyStopping counter: 6 out of 20\n",
      "| Epoch 138 |    50/  144 batches | lr 0.00068 | ms/batch 37.54 | loss 0.05881326\n",
      "| Epoch 138 |   100/  144 batches | lr 0.00068 | ms/batch 35.14 | loss 0.05855731\n",
      "\n",
      "Val set: Average loss: 0.05979365\n",
      "\n",
      "| Epoch 139 |    50/  144 batches | lr 0.00068 | ms/batch 37.07 | loss 0.05929953\n",
      "| Epoch 139 |   100/  144 batches | lr 0.00068 | ms/batch 35.11 | loss 0.06038274\n",
      "\n",
      "Val set: Average loss: 0.06094642\n",
      "\n",
      "EarlyStopping counter: 1 out of 20\n",
      "| Epoch 140 |    50/  144 batches | lr 0.00068 | ms/batch 37.16 | loss 0.05977971\n",
      "| Epoch 140 |   100/  144 batches | lr 0.00068 | ms/batch 35.13 | loss 0.05947654\n",
      "\n",
      "Val set: Average loss: 0.05983793\n",
      "\n",
      "EarlyStopping counter: 2 out of 20\n",
      "| Epoch 141 |    50/  144 batches | lr 0.00068 | ms/batch 37.34 | loss 0.05992525\n",
      "| Epoch 141 |   100/  144 batches | lr 0.00068 | ms/batch 34.97 | loss 0.05973994\n",
      "\n",
      "Val set: Average loss: 0.06010037\n",
      "\n",
      "EarlyStopping counter: 3 out of 20\n",
      "| Epoch 142 |    50/  144 batches | lr 0.00068 | ms/batch 37.30 | loss 0.05892063\n",
      "| Epoch 142 |   100/  144 batches | lr 0.00068 | ms/batch 35.14 | loss 0.05884994\n",
      "\n",
      "Val set: Average loss: 0.06053546\n",
      "\n",
      "EarlyStopping counter: 4 out of 20\n",
      "| Epoch 143 |    50/  144 batches | lr 0.00068 | ms/batch 37.29 | loss 0.05856795\n",
      "| Epoch 143 |   100/  144 batches | lr 0.00068 | ms/batch 35.02 | loss 0.05952679\n",
      "\n",
      "Val set: Average loss: 0.06071606\n",
      "\n",
      "EarlyStopping counter: 5 out of 20\n",
      "| Epoch 144 |    50/  144 batches | lr 0.00068 | ms/batch 37.33 | loss 0.05915153\n",
      "| Epoch 144 |   100/  144 batches | lr 0.00068 | ms/batch 35.21 | loss 0.05945829\n",
      "\n",
      "Val set: Average loss: 0.06010377\n",
      "\n",
      "EarlyStopping counter: 6 out of 20\n",
      "| Epoch 145 |    50/  144 batches | lr 0.00068 | ms/batch 37.38 | loss 0.05937668\n",
      "| Epoch 145 |   100/  144 batches | lr 0.00068 | ms/batch 35.06 | loss 0.05803110\n",
      "\n",
      "Val set: Average loss: 0.06153073\n",
      "\n",
      "EarlyStopping counter: 7 out of 20\n",
      "| Epoch 146 |    50/  144 batches | lr 0.00068 | ms/batch 37.29 | loss 0.05901124\n",
      "| Epoch 146 |   100/  144 batches | lr 0.00068 | ms/batch 35.08 | loss 0.05946152\n",
      "\n",
      "Val set: Average loss: 0.06044188\n",
      "\n",
      "EarlyStopping counter: 8 out of 20\n",
      "| Epoch 147 |    50/  144 batches | lr 0.00068 | ms/batch 37.39 | loss 0.05915154\n",
      "| Epoch 147 |   100/  144 batches | lr 0.00068 | ms/batch 35.18 | loss 0.05885443\n",
      "\n",
      "Val set: Average loss: 0.06021680\n",
      "\n",
      "EarlyStopping counter: 9 out of 20\n",
      "| Epoch 148 |    50/  144 batches | lr 0.00068 | ms/batch 37.29 | loss 0.05921803\n",
      "| Epoch 148 |   100/  144 batches | lr 0.00068 | ms/batch 34.98 | loss 0.05855024\n",
      "\n",
      "Val set: Average loss: 0.06133535\n",
      "\n",
      "EarlyStopping counter: 10 out of 20\n",
      "| Epoch 149 |    50/  144 batches | lr 0.00068 | ms/batch 37.20 | loss 0.05835456\n",
      "| Epoch 149 |   100/  144 batches | lr 0.00068 | ms/batch 35.10 | loss 0.05877747\n",
      "\n",
      "Val set: Average loss: 0.06078627\n",
      "\n",
      "EarlyStopping counter: 11 out of 20\n",
      "| Epoch 150 |    50/  144 batches | lr 0.00068 | ms/batch 37.23 | loss 0.06128977\n",
      "| Epoch 150 |   100/  144 batches | lr 0.00068 | ms/batch 35.09 | loss 0.06003251\n",
      "\n",
      "Val set: Average loss: 0.06029952\n",
      "\n",
      "EarlyStopping counter: 12 out of 20\n",
      "| Epoch 151 |    50/  144 batches | lr 0.00068 | ms/batch 37.17 | loss 0.06219017\n",
      "| Epoch 151 |   100/  144 batches | lr 0.00068 | ms/batch 35.07 | loss 0.05915713\n",
      "\n",
      "Val set: Average loss: 0.06100406\n",
      "\n",
      "EarlyStopping counter: 13 out of 20\n",
      "| Epoch 152 |    50/  144 batches | lr 0.00068 | ms/batch 37.28 | loss 0.05826718\n",
      "| Epoch 152 |   100/  144 batches | lr 0.00068 | ms/batch 35.02 | loss 0.05916165\n",
      "\n",
      "Val set: Average loss: 0.06068515\n",
      "\n",
      "EarlyStopping counter: 14 out of 20\n",
      "| Epoch 153 |    50/  144 batches | lr 0.00068 | ms/batch 37.36 | loss 0.05831488\n",
      "| Epoch 153 |   100/  144 batches | lr 0.00068 | ms/batch 35.21 | loss 0.05857308\n",
      "\n",
      "Val set: Average loss: 0.06072171\n",
      "\n",
      "EarlyStopping counter: 15 out of 20\n",
      "| Epoch 154 |    50/  144 batches | lr 0.00068 | ms/batch 37.28 | loss 0.05980414\n",
      "| Epoch 154 |   100/  144 batches | lr 0.00068 | ms/batch 34.97 | loss 0.05835638\n",
      "\n",
      "Val set: Average loss: 0.06065664\n",
      "\n",
      "EarlyStopping counter: 16 out of 20\n",
      "| Epoch 155 |    50/  144 batches | lr 0.00068 | ms/batch 37.28 | loss 0.05991576\n",
      "| Epoch 155 |   100/  144 batches | lr 0.00068 | ms/batch 35.13 | loss 0.05970047\n",
      "\n",
      "Val set: Average loss: 0.05967659\n",
      "\n",
      "| Epoch 156 |    50/  144 batches | lr 0.00068 | ms/batch 37.23 | loss 0.05775600\n",
      "| Epoch 156 |   100/  144 batches | lr 0.00068 | ms/batch 35.07 | loss 0.05824698\n",
      "\n",
      "Val set: Average loss: 0.06298858\n",
      "\n",
      "EarlyStopping counter: 1 out of 20\n",
      "| Epoch 157 |    50/  144 batches | lr 0.00068 | ms/batch 37.28 | loss 0.05905299\n",
      "| Epoch 157 |   100/  144 batches | lr 0.00068 | ms/batch 35.07 | loss 0.05876167\n",
      "\n",
      "Val set: Average loss: 0.06300142\n",
      "\n",
      "EarlyStopping counter: 2 out of 20\n",
      "| Epoch 158 |    50/  144 batches | lr 0.00068 | ms/batch 37.38 | loss 0.05725005\n",
      "| Epoch 158 |   100/  144 batches | lr 0.00068 | ms/batch 35.12 | loss 0.05808091\n",
      "\n",
      "Val set: Average loss: 0.06294879\n",
      "\n",
      "EarlyStopping counter: 3 out of 20\n",
      "| Epoch 159 |    50/  144 batches | lr 0.00068 | ms/batch 37.15 | loss 0.05884080\n",
      "| Epoch 159 |   100/  144 batches | lr 0.00068 | ms/batch 35.08 | loss 0.05847336\n",
      "\n",
      "Val set: Average loss: 0.06017606\n",
      "\n",
      "EarlyStopping counter: 4 out of 20\n",
      "| Epoch 160 |    50/  144 batches | lr 0.00068 | ms/batch 37.58 | loss 0.05852781\n",
      "| Epoch 160 |   100/  144 batches | lr 0.00068 | ms/batch 34.95 | loss 0.05928634\n",
      "\n",
      "Val set: Average loss: 0.06181426\n",
      "\n",
      "EarlyStopping counter: 5 out of 20\n",
      "| Epoch 161 |    50/  144 batches | lr 0.00068 | ms/batch 37.18 | loss 0.05942974\n",
      "| Epoch 161 |   100/  144 batches | lr 0.00068 | ms/batch 35.08 | loss 0.05911342\n",
      "\n",
      "Val set: Average loss: 0.06179237\n",
      "\n",
      "EarlyStopping counter: 6 out of 20\n",
      "| Epoch 162 |    50/  144 batches | lr 0.00068 | ms/batch 37.27 | loss 0.05858583\n",
      "| Epoch 162 |   100/  144 batches | lr 0.00068 | ms/batch 35.11 | loss 0.05868262\n",
      "\n",
      "Val set: Average loss: 0.06297223\n",
      "\n",
      "EarlyStopping counter: 7 out of 20\n",
      "| Epoch 163 |    50/  144 batches | lr 0.00068 | ms/batch 37.21 | loss 0.05838671\n",
      "| Epoch 163 |   100/  144 batches | lr 0.00068 | ms/batch 35.06 | loss 0.05726882\n",
      "\n",
      "Val set: Average loss: 0.06026869\n",
      "\n",
      "EarlyStopping counter: 8 out of 20\n",
      "| Epoch 164 |    50/  144 batches | lr 0.00068 | ms/batch 37.16 | loss 0.05763514\n",
      "| Epoch 164 |   100/  144 batches | lr 0.00068 | ms/batch 35.02 | loss 0.05803977\n",
      "\n",
      "Val set: Average loss: 0.05994255\n",
      "\n",
      "EarlyStopping counter: 9 out of 20\n",
      "| Epoch 165 |    50/  144 batches | lr 0.00068 | ms/batch 37.27 | loss 0.05893666\n",
      "| Epoch 165 |   100/  144 batches | lr 0.00068 | ms/batch 35.06 | loss 0.05939125\n",
      "\n",
      "Val set: Average loss: 0.06140525\n",
      "\n",
      "EarlyStopping counter: 10 out of 20\n",
      "| Epoch 166 |    50/  144 batches | lr 0.00068 | ms/batch 37.24 | loss 0.05825814\n",
      "| Epoch 166 |   100/  144 batches | lr 0.00068 | ms/batch 35.07 | loss 0.05828035\n",
      "\n",
      "Val set: Average loss: 0.06077552\n",
      "\n",
      "EarlyStopping counter: 11 out of 20\n",
      "| Epoch 167 |    50/  144 batches | lr 0.00068 | ms/batch 37.20 | loss 0.05980950\n",
      "| Epoch 167 |   100/  144 batches | lr 0.00068 | ms/batch 35.29 | loss 0.05839086\n",
      "\n",
      "Val set: Average loss: 0.05983639\n",
      "\n",
      "EarlyStopping counter: 12 out of 20\n",
      "| Epoch 168 |    50/  144 batches | lr 0.00068 | ms/batch 37.36 | loss 0.06093701\n",
      "| Epoch 168 |   100/  144 batches | lr 0.00068 | ms/batch 34.98 | loss 0.05833371\n",
      "\n",
      "Val set: Average loss: 0.06079131\n",
      "\n",
      "EarlyStopping counter: 13 out of 20\n",
      "| Epoch 169 |    50/  144 batches | lr 0.00068 | ms/batch 37.37 | loss 0.05805949\n",
      "| Epoch 169 |   100/  144 batches | lr 0.00068 | ms/batch 35.02 | loss 0.05791591\n",
      "\n",
      "Val set: Average loss: 0.06084584\n",
      "\n",
      "EarlyStopping counter: 14 out of 20\n",
      "| Epoch 170 |    50/  144 batches | lr 0.00068 | ms/batch 37.24 | loss 0.05805117\n",
      "| Epoch 170 |   100/  144 batches | lr 0.00068 | ms/batch 35.12 | loss 0.05850686\n",
      "\n",
      "Val set: Average loss: 0.06065683\n",
      "\n",
      "EarlyStopping counter: 15 out of 20\n",
      "| Epoch 171 |    50/  144 batches | lr 0.00068 | ms/batch 37.18 | loss 0.05948102\n",
      "| Epoch 171 |   100/  144 batches | lr 0.00068 | ms/batch 35.05 | loss 0.05813689\n",
      "\n",
      "Val set: Average loss: 0.06138283\n",
      "\n",
      "EarlyStopping counter: 16 out of 20\n",
      "| Epoch 172 |    50/  144 batches | lr 0.00068 | ms/batch 37.29 | loss 0.05735248\n",
      "| Epoch 172 |   100/  144 batches | lr 0.00068 | ms/batch 35.01 | loss 0.05762326\n",
      "\n",
      "Val set: Average loss: 0.06012547\n",
      "\n",
      "EarlyStopping counter: 17 out of 20\n",
      "| Epoch 173 |    50/  144 batches | lr 0.00068 | ms/batch 37.19 | loss 0.05784224\n",
      "| Epoch 173 |   100/  144 batches | lr 0.00068 | ms/batch 35.09 | loss 0.05805215\n",
      "\n",
      "Val set: Average loss: 0.06052293\n",
      "\n",
      "EarlyStopping counter: 18 out of 20\n",
      "| Epoch 174 |    50/  144 batches | lr 0.00068 | ms/batch 37.27 | loss 0.05747848\n",
      "| Epoch 174 |   100/  144 batches | lr 0.00068 | ms/batch 35.14 | loss 0.05776850\n",
      "\n",
      "Val set: Average loss: 0.06049920\n",
      "\n",
      "EarlyStopping counter: 19 out of 20\n",
      "| Epoch 175 |    50/  144 batches | lr 0.00068 | ms/batch 37.24 | loss 0.05737780\n",
      "| Epoch 175 |   100/  144 batches | lr 0.00068 | ms/batch 35.11 | loss 0.05818333\n",
      "\n",
      "Val set: Average loss: 0.06125000\n",
      "\n",
      "EarlyStopping counter: 20 out of 20\n",
      "Stopping at Epoch: 175\n"
     ]
    }
   ],
   "source": [
    "load = False\n",
    "save_model_path = '../models/final_real_data_model.chkpt'\n",
    "val_err_df_path = '../results/val_final_real_data_model.csv'\n",
    "\n",
    "if not load:\n",
    "  train_losses, val_losses = train(\n",
    "      epochs,\n",
    "      batch_size,\n",
    "      model,\n",
    "      optimizer,\n",
    "      loss_fn,\n",
    "      X_train,\n",
    "      y_train,\n",
    "      X_val,\n",
    "      y_val)\n",
    "  val_err_df = pd.DataFrame({\n",
    "      'Training': train_losses,\n",
    "      'Validation': val_losses})\n",
    "  val_err_df.to_csv(val_err_df_path)\n",
    "  torch.save(model.state_dict(), save_model_path)\n",
    "else:\n",
    "  model = Net(input_size, output_size, hidden_size, num_layers, act_fn)\n",
    "  model.load_state_dict(torch.load(save_model_path, map_location=device))\n",
    "  model = model.to(device)\n",
    "  val_err_df = pd.read_csv(val_err_df_path, index_col=0)"
   ]
  },
  {
   "cell_type": "code",
   "execution_count": 25,
   "metadata": {
    "colab": {
     "base_uri": "https://localhost:8080/",
     "height": 279
    },
    "executionInfo": {
     "elapsed": 35,
     "status": "ok",
     "timestamp": 1650894219921,
     "user": {
      "displayName": "Paolo D'Elia",
      "userId": "06873635760880783531"
     },
     "user_tz": -120
    },
    "id": "KkenWSRYvDpl",
    "outputId": "37746aa5-0b46-4a80-d14d-397868e89361",
    "pycharm": {
     "name": "#%%\n"
    }
   },
   "outputs": [
    {
     "data": {
      "text/plain": "<Figure size 432x288 with 1 Axes>",
      "image/png": "[encoded data removed]"
     },
     "metadata": {
      "needs_background": "light"
     },
     "output_type": "display_data"
    }
   ],
   "source": [
    "val_err_df[1:].plot(xlabel='epoch', ylabel='MSE')\n",
    "plt.plot();"
   ]
  },
  {
   "cell_type": "markdown",
   "metadata": {
    "id": "FlG5Ky25vDpm",
    "pycharm": {
     "name": "#%% md\n"
    }
   },
   "source": [
    "# Test the model"
   ]
  },
  {
   "cell_type": "code",
   "execution_count": 26,
   "metadata": {
    "pycharm": {
     "name": "#%%\n"
    }
   },
   "outputs": [],
   "source": [
    "model.eval();"
   ]
  },
  {
   "cell_type": "code",
   "execution_count": 27,
   "metadata": {
    "executionInfo": {
     "elapsed": 28,
     "status": "ok",
     "timestamp": 1650894219922,
     "user": {
      "displayName": "Paolo D'Elia",
      "userId": "06873635760880783531"
     },
     "user_tz": -120
    },
    "id": "TBZ4eHAdvDpn",
    "pycharm": {
     "name": "#%%\n"
    }
   },
   "outputs": [],
   "source": [
    "test_size = 30\n",
    "\n",
    "with torch.no_grad():\n",
    "    test_out = model(X_test[0:test_size])\n",
    "\n",
    "test_out = output_sc.inverse_transform(test_out.cpu().detach().numpy())\n",
    "real_out = output_sc.inverse_transform(y_test[0:test_size].cpu().detach().numpy())"
   ]
  },
  {
   "cell_type": "code",
   "execution_count": 32,
   "metadata": {
    "executionInfo": {
     "elapsed": 27,
     "status": "ok",
     "timestamp": 1650894219926,
     "user": {
      "displayName": "Paolo D'Elia",
      "userId": "06873635760880783531"
     },
     "user_tz": -120
    },
    "id": "wK1WeGIZvDpo",
    "pycharm": {
     "name": "#%%\n"
    }
   },
   "outputs": [],
   "source": [
    "cols = ['strike', 'close', 'hv_21', 'moneyness', 'tau', 'r',\n",
    "       'call', 'put']\n",
    "test_options = pd.DataFrame(input_sc.inverse_transform(X_test[0:test_size].detach().cpu().numpy()), columns=cols)"
   ]
  },
  {
   "cell_type": "code",
   "execution_count": 34,
   "metadata": {
    "executionInfo": {
     "elapsed": 68,
     "status": "ok",
     "timestamp": 1650894220542,
     "user": {
      "displayName": "Paolo D'Elia",
      "userId": "06873635760880783531"
     },
     "user_tz": -120
    },
    "id": "_dvE5LGXvDpq",
    "pycharm": {
     "name": "#%%\n"
    }
   },
   "outputs": [
    {
     "data": {
      "text/plain": "         strike        close     hv_21  moneyness       tau         r  \\\n0    168.130478  1094.110352  0.595204   0.153761  0.217177  0.005150   \n1   1900.244019  1009.010193  0.556156   0.531474  2.175713  0.008362   \n2    420.016449   289.492157  0.372215   0.689547  0.214165  0.008408   \n3    414.875916   179.259857  0.322410   0.431638  0.219779  0.005298   \n4    509.853302   199.831390  1.548694   2.556479  0.049287  0.009201   \n5    639.835266   187.022736  0.464121   0.291867  0.222518  0.008431   \n6    120.152206   211.087494  0.780288   1.759768  1.126194  0.009201   \n7   1600.135010  1045.980713  0.620141   1.529417  0.543954  0.006859   \n8    570.070923  1009.010193  0.556156   0.564752  0.079688  0.008362   \n9   3089.909424  2489.868652  0.645044   0.806023  0.049287  0.009201   \n10  5298.868164  2787.961426  0.380332   1.901364  1.738596  0.008331   \n11   599.934937  1091.005249  0.590320   0.549777  0.008205  0.006832   \n12   165.193039   187.798981  0.516128   1.138809  0.738787  0.008331   \n13   990.003174   998.045227  0.554195   1.008190  0.395475  0.008431   \n14  1875.275757  1014.056091  0.597646   0.541457  0.233473  0.005359   \n15   150.016281    90.763527  0.491225   0.604687  0.068733  0.008431   \n16   275.347290   283.281891  0.366849   0.970752  0.313310  0.008232   \n17  1179.835571  1022.498169  0.581059   0.865924  0.101599  0.007851   \n18  1575.166748  1028.029175  0.574218   0.652109  0.046548  0.008202   \n19   729.916870  1091.005249  0.590320   1.494266  0.065994  0.006832   \n20  1149.971558  1022.498169  0.581059   1.125081  0.601572  0.007851   \n21   799.987183  1099.932495  0.595703   0.726986  0.469714  0.005298   \n22  2324.215332  1009.010193  0.556156   0.433302  1.156321  0.008362   \n23  1374.930908   998.045227  0.554195   1.377999  0.222518  0.008431   \n24   370.324646   270.085052  0.333004   0.730314  0.392805  0.008331   \n25   409.980164   209.534943  1.515674   1.953122  0.222518  0.008431   \n26   649.871521   881.481323  0.645044   0.736969  0.486327  0.008232   \n27   118.193954    89.599098  0.541495   0.761096  0.010944  0.009201   \n28  1700.008179  1014.056091  0.597646   0.596367  0.310571  0.005359   \n29   170.088791   198.278839  1.515674   0.856772  1.142627  0.008331   \n\n        call       put   Prediction         Real  \n0  -0.000044  1.000044     3.580143     0.835361  \n1   0.999914  0.000086   184.174286   169.994904  \n2   0.999914  0.000086    -2.991131     0.024723  \n3   0.999914  0.000086   144.796707   116.472633  \n4  -0.000044  1.000044   268.504913   297.447205  \n5   0.999914  0.000086    19.672764     0.024723  \n6   0.999914  0.000086    85.863930    94.707047  \n7  -0.000044  1.000044   527.555969   530.018738  \n8  -0.000044  1.000044     0.448353     0.511112  \n9   0.999914  0.000086     8.256046     2.132389  \n10 -0.000044  1.000044  2598.672119  1974.572632  \n11 -0.000044  1.000044     2.687366     0.024723  \n12  0.999914  0.000086    40.505817    51.256947  \n13  0.999914  0.000086   159.906036   160.490189  \n14  0.999914  0.000086   432.474976     4.240040  \n15  0.999914  0.000086    -6.987713     0.186863  \n16 -0.000044  1.000044    15.948902    17.534473  \n17  0.999914  0.000086    23.040897    21.587650  \n18  0.999914  0.000086     3.500568     0.348987  \n19  0.999914  0.000086   307.064148   349.733246  \n20 -0.000044  1.000044   252.852646   274.465637  \n21 -0.000044  1.000044    55.219318    53.850986  \n22  0.999914  0.000086    47.589069    53.607792  \n23 -0.000044  1.000044   385.453552   377.943390  \n24  0.999914  0.000086    -3.330227     1.483875  \n25 -0.000044  1.000044   206.378357   201.001740  \n26 -0.000044  1.000044    51.232502    52.878223  \n27  0.999914  0.000086    -5.605785     0.186863  \n28  0.999914  0.000086    18.877949    10.887257  \n29 -0.000044  1.000044    29.708057    24.181690  ",
      "text/html": "<div>\n<style scoped>\n    .dataframe tbody tr th:only-of-type {\n        vertical-align: middle;\n    }\n\n    .dataframe tbody tr th {\n        vertical-align: top;\n    }\n\n    .dataframe thead th {\n        text-align: right;\n    }\n</style>\n<table border=\"1\" class=\"dataframe\">\n  <thead>\n    <tr style=\"text-align: right;\">\n      <th></th>\n      <th>strike</th>\n      <th>close</th>\n      <th>hv_21</th>\n      <th>moneyness</th>\n      <th>tau</th>\n      <th>r</th>\n      <th>call</th>\n      <th>put</th>\n      <th>Prediction</th>\n      <th>Real</th>\n    </tr>\n  </thead>\n  <tbody>\n    <tr>\n      <th>0</th>\n      <td>168.130478</td>\n      <td>1094.110352</td>\n      <td>0.595204</td>\n      <td>0.153761</td>\n      <td>0.217177</td>\n      <td>0.005150</td>\n      <td>-0.000044</td>\n      <td>1.000044</td>\n      <td>3.580143</td>\n      <td>0.835361</td>\n    </tr>\n    <tr>\n      <th>1</th>\n      <td>1900.244019</td>\n      <td>1009.010193</td>\n      <td>0.556156</td>\n      <td>0.531474</td>\n      <td>2.175713</td>\n      <td>0.008362</td>\n      <td>0.999914</td>\n      <td>0.000086</td>\n      <td>184.174286</td>\n      <td>169.994904</td>\n    </tr>\n    <tr>\n      <th>2</th>\n      <td>420.016449</td>\n      <td>289.492157</td>\n      <td>0.372215</td>\n      <td>0.689547</td>\n      <td>0.214165</td>\n      <td>0.008408</td>\n      <td>0.999914</td>\n      <td>0.000086</td>\n      <td>-2.991131</td>\n      <td>0.024723</td>\n    </tr>\n    <tr>\n      <th>3</th>\n      <td>414.875916</td>\n      <td>179.259857</td>\n      <td>0.322410</td>\n      <td>0.431638</td>\n      <td>0.219779</td>\n      <td>0.005298</td>\n      <td>0.999914</td>\n      <td>0.000086</td>\n      <td>144.796707</td>\n      <td>116.472633</td>\n    </tr>\n    <tr>\n      <th>4</th>\n      <td>509.853302</td>\n      <td>199.831390</td>\n      <td>1.548694</td>\n      <td>2.556479</td>\n      <td>0.049287</td>\n      <td>0.009201</td>\n      <td>-0.000044</td>\n      <td>1.000044</td>\n      <td>268.504913</td>\n      <td>297.447205</td>\n    </tr>\n    <tr>\n      <th>5</th>\n      <td>639.835266</td>\n      <td>187.022736</td>\n      <td>0.464121</td>\n      <td>0.291867</td>\n      <td>0.222518</td>\n      <td>0.008431</td>\n      <td>0.999914</td>\n      <td>0.000086</td>\n      <td>19.672764</td>\n      <td>0.024723</td>\n    </tr>\n    <tr>\n      <th>6</th>\n      <td>120.152206</td>\n      <td>211.087494</td>\n      <td>0.780288</td>\n      <td>1.759768</td>\n      <td>1.126194</td>\n      <td>0.009201</td>\n      <td>0.999914</td>\n      <td>0.000086</td>\n      <td>85.863930</td>\n      <td>94.707047</td>\n    </tr>\n    <tr>\n      <th>7</th>\n      <td>1600.135010</td>\n      <td>1045.980713</td>\n      <td>0.620141</td>\n      <td>1.529417</td>\n      <td>0.543954</td>\n      <td>0.006859</td>\n      <td>-0.000044</td>\n      <td>1.000044</td>\n      <td>527.555969</td>\n      <td>530.018738</td>\n    </tr>\n    <tr>\n      <th>8</th>\n      <td>570.070923</td>\n      <td>1009.010193</td>\n      <td>0.556156</td>\n      <td>0.564752</td>\n      <td>0.079688</td>\n      <td>0.008362</td>\n      <td>-0.000044</td>\n      <td>1.000044</td>\n      <td>0.448353</td>\n      <td>0.511112</td>\n    </tr>\n    <tr>\n      <th>9</th>\n      <td>3089.909424</td>\n      <td>2489.868652</td>\n      <td>0.645044</td>\n      <td>0.806023</td>\n      <td>0.049287</td>\n      <td>0.009201</td>\n      <td>0.999914</td>\n      <td>0.000086</td>\n      <td>8.256046</td>\n      <td>2.132389</td>\n    </tr>\n    <tr>\n      <th>10</th>\n      <td>5298.868164</td>\n      <td>2787.961426</td>\n      <td>0.380332</td>\n      <td>1.901364</td>\n      <td>1.738596</td>\n      <td>0.008331</td>\n      <td>-0.000044</td>\n      <td>1.000044</td>\n      <td>2598.672119</td>\n      <td>1974.572632</td>\n    </tr>\n    <tr>\n      <th>11</th>\n      <td>599.934937</td>\n      <td>1091.005249</td>\n      <td>0.590320</td>\n      <td>0.549777</td>\n      <td>0.008205</td>\n      <td>0.006832</td>\n      <td>-0.000044</td>\n      <td>1.000044</td>\n      <td>2.687366</td>\n      <td>0.024723</td>\n    </tr>\n    <tr>\n      <th>12</th>\n      <td>165.193039</td>\n      <td>187.798981</td>\n      <td>0.516128</td>\n      <td>1.138809</td>\n      <td>0.738787</td>\n      <td>0.008331</td>\n      <td>0.999914</td>\n      <td>0.000086</td>\n      <td>40.505817</td>\n      <td>51.256947</td>\n    </tr>\n    <tr>\n      <th>13</th>\n      <td>990.003174</td>\n      <td>998.045227</td>\n      <td>0.554195</td>\n      <td>1.008190</td>\n      <td>0.395475</td>\n      <td>0.008431</td>\n      <td>0.999914</td>\n      <td>0.000086</td>\n      <td>159.906036</td>\n      <td>160.490189</td>\n    </tr>\n    <tr>\n      <th>14</th>\n      <td>1875.275757</td>\n      <td>1014.056091</td>\n      <td>0.597646</td>\n      <td>0.541457</td>\n      <td>0.233473</td>\n      <td>0.005359</td>\n      <td>0.999914</td>\n      <td>0.000086</td>\n      <td>432.474976</td>\n      <td>4.240040</td>\n    </tr>\n    <tr>\n      <th>15</th>\n      <td>150.016281</td>\n      <td>90.763527</td>\n      <td>0.491225</td>\n      <td>0.604687</td>\n      <td>0.068733</td>\n      <td>0.008431</td>\n      <td>0.999914</td>\n      <td>0.000086</td>\n      <td>-6.987713</td>\n      <td>0.186863</td>\n    </tr>\n    <tr>\n      <th>16</th>\n      <td>275.347290</td>\n      <td>283.281891</td>\n      <td>0.366849</td>\n      <td>0.970752</td>\n      <td>0.313310</td>\n      <td>0.008232</td>\n      <td>-0.000044</td>\n      <td>1.000044</td>\n      <td>15.948902</td>\n      <td>17.534473</td>\n    </tr>\n    <tr>\n      <th>17</th>\n      <td>1179.835571</td>\n      <td>1022.498169</td>\n      <td>0.581059</td>\n      <td>0.865924</td>\n      <td>0.101599</td>\n      <td>0.007851</td>\n      <td>0.999914</td>\n      <td>0.000086</td>\n      <td>23.040897</td>\n      <td>21.587650</td>\n    </tr>\n    <tr>\n      <th>18</th>\n      <td>1575.166748</td>\n      <td>1028.029175</td>\n      <td>0.574218</td>\n      <td>0.652109</td>\n      <td>0.046548</td>\n      <td>0.008202</td>\n      <td>0.999914</td>\n      <td>0.000086</td>\n      <td>3.500568</td>\n      <td>0.348987</td>\n    </tr>\n    <tr>\n      <th>19</th>\n      <td>729.916870</td>\n      <td>1091.005249</td>\n      <td>0.590320</td>\n      <td>1.494266</td>\n      <td>0.065994</td>\n      <td>0.006832</td>\n      <td>0.999914</td>\n      <td>0.000086</td>\n      <td>307.064148</td>\n      <td>349.733246</td>\n    </tr>\n    <tr>\n      <th>20</th>\n      <td>1149.971558</td>\n      <td>1022.498169</td>\n      <td>0.581059</td>\n      <td>1.125081</td>\n      <td>0.601572</td>\n      <td>0.007851</td>\n      <td>-0.000044</td>\n      <td>1.000044</td>\n      <td>252.852646</td>\n      <td>274.465637</td>\n    </tr>\n    <tr>\n      <th>21</th>\n      <td>799.987183</td>\n      <td>1099.932495</td>\n      <td>0.595703</td>\n      <td>0.726986</td>\n      <td>0.469714</td>\n      <td>0.005298</td>\n      <td>-0.000044</td>\n      <td>1.000044</td>\n      <td>55.219318</td>\n      <td>53.850986</td>\n    </tr>\n    <tr>\n      <th>22</th>\n      <td>2324.215332</td>\n      <td>1009.010193</td>\n      <td>0.556156</td>\n      <td>0.433302</td>\n      <td>1.156321</td>\n      <td>0.008362</td>\n      <td>0.999914</td>\n      <td>0.000086</td>\n      <td>47.589069</td>\n      <td>53.607792</td>\n    </tr>\n    <tr>\n      <th>23</th>\n      <td>1374.930908</td>\n      <td>998.045227</td>\n      <td>0.554195</td>\n      <td>1.377999</td>\n      <td>0.222518</td>\n      <td>0.008431</td>\n      <td>-0.000044</td>\n      <td>1.000044</td>\n      <td>385.453552</td>\n      <td>377.943390</td>\n    </tr>\n    <tr>\n      <th>24</th>\n      <td>370.324646</td>\n      <td>270.085052</td>\n      <td>0.333004</td>\n      <td>0.730314</td>\n      <td>0.392805</td>\n      <td>0.008331</td>\n      <td>0.999914</td>\n      <td>0.000086</td>\n      <td>-3.330227</td>\n      <td>1.483875</td>\n    </tr>\n    <tr>\n      <th>25</th>\n      <td>409.980164</td>\n      <td>209.534943</td>\n      <td>1.515674</td>\n      <td>1.953122</td>\n      <td>0.222518</td>\n      <td>0.008431</td>\n      <td>-0.000044</td>\n      <td>1.000044</td>\n      <td>206.378357</td>\n      <td>201.001740</td>\n    </tr>\n    <tr>\n      <th>26</th>\n      <td>649.871521</td>\n      <td>881.481323</td>\n      <td>0.645044</td>\n      <td>0.736969</td>\n      <td>0.486327</td>\n      <td>0.008232</td>\n      <td>-0.000044</td>\n      <td>1.000044</td>\n      <td>51.232502</td>\n      <td>52.878223</td>\n    </tr>\n    <tr>\n      <th>27</th>\n      <td>118.193954</td>\n      <td>89.599098</td>\n      <td>0.541495</td>\n      <td>0.761096</td>\n      <td>0.010944</td>\n      <td>0.009201</td>\n      <td>0.999914</td>\n      <td>0.000086</td>\n      <td>-5.605785</td>\n      <td>0.186863</td>\n    </tr>\n    <tr>\n      <th>28</th>\n      <td>1700.008179</td>\n      <td>1014.056091</td>\n      <td>0.597646</td>\n      <td>0.596367</td>\n      <td>0.310571</td>\n      <td>0.005359</td>\n      <td>0.999914</td>\n      <td>0.000086</td>\n      <td>18.877949</td>\n      <td>10.887257</td>\n    </tr>\n    <tr>\n      <th>29</th>\n      <td>170.088791</td>\n      <td>198.278839</td>\n      <td>1.515674</td>\n      <td>0.856772</td>\n      <td>1.142627</td>\n      <td>0.008331</td>\n      <td>-0.000044</td>\n      <td>1.000044</td>\n      <td>29.708057</td>\n      <td>24.181690</td>\n    </tr>\n  </tbody>\n</table>\n</div>"
     },
     "execution_count": 34,
     "metadata": {},
     "output_type": "execute_result"
    }
   ],
   "source": [
    "test_options['Prediction'] = test_out\n",
    "test_options['Real'] = real_out\n",
    "test_options"
   ]
  },
  {
   "cell_type": "code",
   "execution_count": 35,
   "metadata": {
    "executionInfo": {
     "elapsed": 67,
     "status": "ok",
     "timestamp": 1650894220545,
     "user": {
      "displayName": "Paolo D'Elia",
      "userId": "06873635760880783531"
     },
     "user_tz": -120
    },
    "id": "TNw5-1jgvDpr",
    "pycharm": {
     "name": "#%%\n"
    }
   },
   "outputs": [],
   "source": [
    "test_options['Abs Error'] = np.abs(test_options.Prediction - test_options.Real)"
   ]
  },
  {
   "cell_type": "code",
   "execution_count": 36,
   "metadata": {
    "colab": {
     "base_uri": "https://localhost:8080/",
     "height": 990
    },
    "executionInfo": {
     "elapsed": 65,
     "status": "ok",
     "timestamp": 1650894220546,
     "user": {
      "displayName": "Paolo D'Elia",
      "userId": "06873635760880783531"
     },
     "user_tz": -120
    },
    "id": "lAC6AdeVvDpr",
    "outputId": "78bd13cc-c5a0-4746-f402-9e84d8b78696",
    "pycharm": {
     "name": "#%%\n"
    }
   },
   "outputs": [
    {
     "data": {
      "text/plain": "         strike        close     hv_21  moneyness       tau         r  \\\n8    570.070923  1009.010193  0.556156   0.564752  0.079688  0.008362   \n13   990.003174   998.045227  0.554195   1.008190  0.395475  0.008431   \n21   799.987183  1099.932495  0.595703   0.726986  0.469714  0.005298   \n17  1179.835571  1022.498169  0.581059   0.865924  0.101599  0.007851   \n16   275.347290   283.281891  0.366849   0.970752  0.313310  0.008232   \n26   649.871521   881.481323  0.645044   0.736969  0.486327  0.008232   \n7   1600.135010  1045.980713  0.620141   1.529417  0.543954  0.006859   \n11   599.934937  1091.005249  0.590320   0.549777  0.008205  0.006832   \n0    168.130478  1094.110352  0.595204   0.153761  0.217177  0.005150   \n2    420.016449   289.492157  0.372215   0.689547  0.214165  0.008408   \n18  1575.166748  1028.029175  0.574218   0.652109  0.046548  0.008202   \n24   370.324646   270.085052  0.333004   0.730314  0.392805  0.008331   \n25   409.980164   209.534943  1.515674   1.953122  0.222518  0.008431   \n29   170.088791   198.278839  1.515674   0.856772  1.142627  0.008331   \n27   118.193954    89.599098  0.541495   0.761096  0.010944  0.009201   \n22  2324.215332  1009.010193  0.556156   0.433302  1.156321  0.008362   \n9   3089.909424  2489.868652  0.645044   0.806023  0.049287  0.009201   \n15   150.016281    90.763527  0.491225   0.604687  0.068733  0.008431   \n23  1374.930908   998.045227  0.554195   1.377999  0.222518  0.008431   \n28  1700.008179  1014.056091  0.597646   0.596367  0.310571  0.005359   \n6    120.152206   211.087494  0.780288   1.759768  1.126194  0.009201   \n12   165.193039   187.798981  0.516128   1.138809  0.738787  0.008331   \n1   1900.244019  1009.010193  0.556156   0.531474  2.175713  0.008362   \n5    639.835266   187.022736  0.464121   0.291867  0.222518  0.008431   \n20  1149.971558  1022.498169  0.581059   1.125081  0.601572  0.007851   \n3    414.875916   179.259857  0.322410   0.431638  0.219779  0.005298   \n4    509.853302   199.831390  1.548694   2.556479  0.049287  0.009201   \n19   729.916870  1091.005249  0.590320   1.494266  0.065994  0.006832   \n14  1875.275757  1014.056091  0.597646   0.541457  0.233473  0.005359   \n10  5298.868164  2787.961426  0.380332   1.901364  1.738596  0.008331   \n\n        call       put   Prediction         Real   Abs Error  \n8  -0.000044  1.000044     0.448353     0.511112    0.062759  \n13  0.999914  0.000086   159.906036   160.490189    0.584152  \n21 -0.000044  1.000044    55.219318    53.850986    1.368332  \n17  0.999914  0.000086    23.040897    21.587650    1.453247  \n16 -0.000044  1.000044    15.948902    17.534473    1.585571  \n26 -0.000044  1.000044    51.232502    52.878223    1.645721  \n7  -0.000044  1.000044   527.555969   530.018738    2.462769  \n11 -0.000044  1.000044     2.687366     0.024723    2.662643  \n0  -0.000044  1.000044     3.580143     0.835361    2.744781  \n2   0.999914  0.000086    -2.991131     0.024723    3.015854  \n18  0.999914  0.000086     3.500568     0.348987    3.151581  \n24  0.999914  0.000086    -3.330227     1.483875    4.814102  \n25 -0.000044  1.000044   206.378357   201.001740    5.376617  \n29 -0.000044  1.000044    29.708057    24.181690    5.526367  \n27  0.999914  0.000086    -5.605785     0.186863    5.792648  \n22  0.999914  0.000086    47.589069    53.607792    6.018723  \n9   0.999914  0.000086     8.256046     2.132389    6.123657  \n15  0.999914  0.000086    -6.987713     0.186863    7.174576  \n23 -0.000044  1.000044   385.453552   377.943390    7.510162  \n28  0.999914  0.000086    18.877949    10.887257    7.990692  \n6   0.999914  0.000086    85.863930    94.707047    8.843117  \n12  0.999914  0.000086    40.505817    51.256947   10.751129  \n1   0.999914  0.000086   184.174286   169.994904   14.179382  \n5   0.999914  0.000086    19.672764     0.024723   19.648041  \n20 -0.000044  1.000044   252.852646   274.465637   21.612991  \n3   0.999914  0.000086   144.796707   116.472633   28.324074  \n4  -0.000044  1.000044   268.504913   297.447205   28.942291  \n19  0.999914  0.000086   307.064148   349.733246   42.669098  \n14  0.999914  0.000086   432.474976     4.240040  428.234924  \n10 -0.000044  1.000044  2598.672119  1974.572632  624.099487  ",
      "text/html": "<div>\n<style scoped>\n    .dataframe tbody tr th:only-of-type {\n        vertical-align: middle;\n    }\n\n    .dataframe tbody tr th {\n        vertical-align: top;\n    }\n\n    .dataframe thead th {\n        text-align: right;\n    }\n</style>\n<table border=\"1\" class=\"dataframe\">\n  <thead>\n    <tr style=\"text-align: right;\">\n      <th></th>\n      <th>strike</th>\n      <th>close</th>\n      <th>hv_21</th>\n      <th>moneyness</th>\n      <th>tau</th>\n      <th>r</th>\n      <th>call</th>\n      <th>put</th>\n      <th>Prediction</th>\n      <th>Real</th>\n      <th>Abs Error</th>\n    </tr>\n  </thead>\n  <tbody>\n    <tr>\n      <th>8</th>\n      <td>570.070923</td>\n      <td>1009.010193</td>\n      <td>0.556156</td>\n      <td>0.564752</td>\n      <td>0.079688</td>\n      <td>0.008362</td>\n      <td>-0.000044</td>\n      <td>1.000044</td>\n      <td>0.448353</td>\n      <td>0.511112</td>\n      <td>0.062759</td>\n    </tr>\n    <tr>\n      <th>13</th>\n      <td>990.003174</td>\n      <td>998.045227</td>\n      <td>0.554195</td>\n      <td>1.008190</td>\n      <td>0.395475</td>\n      <td>0.008431</td>\n      <td>0.999914</td>\n      <td>0.000086</td>\n      <td>159.906036</td>\n      <td>160.490189</td>\n      <td>0.584152</td>\n    </tr>\n    <tr>\n      <th>21</th>\n      <td>799.987183</td>\n      <td>1099.932495</td>\n      <td>0.595703</td>\n      <td>0.726986</td>\n      <td>0.469714</td>\n      <td>0.005298</td>\n      <td>-0.000044</td>\n      <td>1.000044</td>\n      <td>55.219318</td>\n      <td>53.850986</td>\n      <td>1.368332</td>\n    </tr>\n    <tr>\n      <th>17</th>\n      <td>1179.835571</td>\n      <td>1022.498169</td>\n      <td>0.581059</td>\n      <td>0.865924</td>\n      <td>0.101599</td>\n      <td>0.007851</td>\n      <td>0.999914</td>\n      <td>0.000086</td>\n      <td>23.040897</td>\n      <td>21.587650</td>\n      <td>1.453247</td>\n    </tr>\n    <tr>\n      <th>16</th>\n      <td>275.347290</td>\n      <td>283.281891</td>\n      <td>0.366849</td>\n      <td>0.970752</td>\n      <td>0.313310</td>\n      <td>0.008232</td>\n      <td>-0.000044</td>\n      <td>1.000044</td>\n      <td>15.948902</td>\n      <td>17.534473</td>\n      <td>1.585571</td>\n    </tr>\n    <tr>\n      <th>26</th>\n      <td>649.871521</td>\n      <td>881.481323</td>\n      <td>0.645044</td>\n      <td>0.736969</td>\n      <td>0.486327</td>\n      <td>0.008232</td>\n      <td>-0.000044</td>\n      <td>1.000044</td>\n      <td>51.232502</td>\n      <td>52.878223</td>\n      <td>1.645721</td>\n    </tr>\n    <tr>\n      <th>7</th>\n      <td>1600.135010</td>\n      <td>1045.980713</td>\n      <td>0.620141</td>\n      <td>1.529417</td>\n      <td>0.543954</td>\n      <td>0.006859</td>\n      <td>-0.000044</td>\n      <td>1.000044</td>\n      <td>527.555969</td>\n      <td>530.018738</td>\n      <td>2.462769</td>\n    </tr>\n    <tr>\n      <th>11</th>\n      <td>599.934937</td>\n      <td>1091.005249</td>\n      <td>0.590320</td>\n      <td>0.549777</td>\n      <td>0.008205</td>\n      <td>0.006832</td>\n      <td>-0.000044</td>\n      <td>1.000044</td>\n      <td>2.687366</td>\n      <td>0.024723</td>\n      <td>2.662643</td>\n    </tr>\n    <tr>\n      <th>0</th>\n      <td>168.130478</td>\n      <td>1094.110352</td>\n      <td>0.595204</td>\n      <td>0.153761</td>\n      <td>0.217177</td>\n      <td>0.005150</td>\n      <td>-0.000044</td>\n      <td>1.000044</td>\n      <td>3.580143</td>\n      <td>0.835361</td>\n      <td>2.744781</td>\n    </tr>\n    <tr>\n      <th>2</th>\n      <td>420.016449</td>\n      <td>289.492157</td>\n      <td>0.372215</td>\n      <td>0.689547</td>\n      <td>0.214165</td>\n      <td>0.008408</td>\n      <td>0.999914</td>\n      <td>0.000086</td>\n      <td>-2.991131</td>\n      <td>0.024723</td>\n      <td>3.015854</td>\n    </tr>\n    <tr>\n      <th>18</th>\n      <td>1575.166748</td>\n      <td>1028.029175</td>\n      <td>0.574218</td>\n      <td>0.652109</td>\n      <td>0.046548</td>\n      <td>0.008202</td>\n      <td>0.999914</td>\n      <td>0.000086</td>\n      <td>3.500568</td>\n      <td>0.348987</td>\n      <td>3.151581</td>\n    </tr>\n    <tr>\n      <th>24</th>\n      <td>370.324646</td>\n      <td>270.085052</td>\n      <td>0.333004</td>\n      <td>0.730314</td>\n      <td>0.392805</td>\n      <td>0.008331</td>\n      <td>0.999914</td>\n      <td>0.000086</td>\n      <td>-3.330227</td>\n      <td>1.483875</td>\n      <td>4.814102</td>\n    </tr>\n    <tr>\n      <th>25</th>\n      <td>409.980164</td>\n      <td>209.534943</td>\n      <td>1.515674</td>\n      <td>1.953122</td>\n      <td>0.222518</td>\n      <td>0.008431</td>\n      <td>-0.000044</td>\n      <td>1.000044</td>\n      <td>206.378357</td>\n      <td>201.001740</td>\n      <td>5.376617</td>\n    </tr>\n    <tr>\n      <th>29</th>\n      <td>170.088791</td>\n      <td>198.278839</td>\n      <td>1.515674</td>\n      <td>0.856772</td>\n      <td>1.142627</td>\n      <td>0.008331</td>\n      <td>-0.000044</td>\n      <td>1.000044</td>\n      <td>29.708057</td>\n      <td>24.181690</td>\n      <td>5.526367</td>\n    </tr>\n    <tr>\n      <th>27</th>\n      <td>118.193954</td>\n      <td>89.599098</td>\n      <td>0.541495</td>\n      <td>0.761096</td>\n      <td>0.010944</td>\n      <td>0.009201</td>\n      <td>0.999914</td>\n      <td>0.000086</td>\n      <td>-5.605785</td>\n      <td>0.186863</td>\n      <td>5.792648</td>\n    </tr>\n    <tr>\n      <th>22</th>\n      <td>2324.215332</td>\n      <td>1009.010193</td>\n      <td>0.556156</td>\n      <td>0.433302</td>\n      <td>1.156321</td>\n      <td>0.008362</td>\n      <td>0.999914</td>\n      <td>0.000086</td>\n      <td>47.589069</td>\n      <td>53.607792</td>\n      <td>6.018723</td>\n    </tr>\n    <tr>\n      <th>9</th>\n      <td>3089.909424</td>\n      <td>2489.868652</td>\n      <td>0.645044</td>\n      <td>0.806023</td>\n      <td>0.049287</td>\n      <td>0.009201</td>\n      <td>0.999914</td>\n      <td>0.000086</td>\n      <td>8.256046</td>\n      <td>2.132389</td>\n      <td>6.123657</td>\n    </tr>\n    <tr>\n      <th>15</th>\n      <td>150.016281</td>\n      <td>90.763527</td>\n      <td>0.491225</td>\n      <td>0.604687</td>\n      <td>0.068733</td>\n      <td>0.008431</td>\n      <td>0.999914</td>\n      <td>0.000086</td>\n      <td>-6.987713</td>\n      <td>0.186863</td>\n      <td>7.174576</td>\n    </tr>\n    <tr>\n      <th>23</th>\n      <td>1374.930908</td>\n      <td>998.045227</td>\n      <td>0.554195</td>\n      <td>1.377999</td>\n      <td>0.222518</td>\n      <td>0.008431</td>\n      <td>-0.000044</td>\n      <td>1.000044</td>\n      <td>385.453552</td>\n      <td>377.943390</td>\n      <td>7.510162</td>\n    </tr>\n    <tr>\n      <th>28</th>\n      <td>1700.008179</td>\n      <td>1014.056091</td>\n      <td>0.597646</td>\n      <td>0.596367</td>\n      <td>0.310571</td>\n      <td>0.005359</td>\n      <td>0.999914</td>\n      <td>0.000086</td>\n      <td>18.877949</td>\n      <td>10.887257</td>\n      <td>7.990692</td>\n    </tr>\n    <tr>\n      <th>6</th>\n      <td>120.152206</td>\n      <td>211.087494</td>\n      <td>0.780288</td>\n      <td>1.759768</td>\n      <td>1.126194</td>\n      <td>0.009201</td>\n      <td>0.999914</td>\n      <td>0.000086</td>\n      <td>85.863930</td>\n      <td>94.707047</td>\n      <td>8.843117</td>\n    </tr>\n    <tr>\n      <th>12</th>\n      <td>165.193039</td>\n      <td>187.798981</td>\n      <td>0.516128</td>\n      <td>1.138809</td>\n      <td>0.738787</td>\n      <td>0.008331</td>\n      <td>0.999914</td>\n      <td>0.000086</td>\n      <td>40.505817</td>\n      <td>51.256947</td>\n      <td>10.751129</td>\n    </tr>\n    <tr>\n      <th>1</th>\n      <td>1900.244019</td>\n      <td>1009.010193</td>\n      <td>0.556156</td>\n      <td>0.531474</td>\n      <td>2.175713</td>\n      <td>0.008362</td>\n      <td>0.999914</td>\n      <td>0.000086</td>\n      <td>184.174286</td>\n      <td>169.994904</td>\n      <td>14.179382</td>\n    </tr>\n    <tr>\n      <th>5</th>\n      <td>639.835266</td>\n      <td>187.022736</td>\n      <td>0.464121</td>\n      <td>0.291867</td>\n      <td>0.222518</td>\n      <td>0.008431</td>\n      <td>0.999914</td>\n      <td>0.000086</td>\n      <td>19.672764</td>\n      <td>0.024723</td>\n      <td>19.648041</td>\n    </tr>\n    <tr>\n      <th>20</th>\n      <td>1149.971558</td>\n      <td>1022.498169</td>\n      <td>0.581059</td>\n      <td>1.125081</td>\n      <td>0.601572</td>\n      <td>0.007851</td>\n      <td>-0.000044</td>\n      <td>1.000044</td>\n      <td>252.852646</td>\n      <td>274.465637</td>\n      <td>21.612991</td>\n    </tr>\n    <tr>\n      <th>3</th>\n      <td>414.875916</td>\n      <td>179.259857</td>\n      <td>0.322410</td>\n      <td>0.431638</td>\n      <td>0.219779</td>\n      <td>0.005298</td>\n      <td>0.999914</td>\n      <td>0.000086</td>\n      <td>144.796707</td>\n      <td>116.472633</td>\n      <td>28.324074</td>\n    </tr>\n    <tr>\n      <th>4</th>\n      <td>509.853302</td>\n      <td>199.831390</td>\n      <td>1.548694</td>\n      <td>2.556479</td>\n      <td>0.049287</td>\n      <td>0.009201</td>\n      <td>-0.000044</td>\n      <td>1.000044</td>\n      <td>268.504913</td>\n      <td>297.447205</td>\n      <td>28.942291</td>\n    </tr>\n    <tr>\n      <th>19</th>\n      <td>729.916870</td>\n      <td>1091.005249</td>\n      <td>0.590320</td>\n      <td>1.494266</td>\n      <td>0.065994</td>\n      <td>0.006832</td>\n      <td>0.999914</td>\n      <td>0.000086</td>\n      <td>307.064148</td>\n      <td>349.733246</td>\n      <td>42.669098</td>\n    </tr>\n    <tr>\n      <th>14</th>\n      <td>1875.275757</td>\n      <td>1014.056091</td>\n      <td>0.597646</td>\n      <td>0.541457</td>\n      <td>0.233473</td>\n      <td>0.005359</td>\n      <td>0.999914</td>\n      <td>0.000086</td>\n      <td>432.474976</td>\n      <td>4.240040</td>\n      <td>428.234924</td>\n    </tr>\n    <tr>\n      <th>10</th>\n      <td>5298.868164</td>\n      <td>2787.961426</td>\n      <td>0.380332</td>\n      <td>1.901364</td>\n      <td>1.738596</td>\n      <td>0.008331</td>\n      <td>-0.000044</td>\n      <td>1.000044</td>\n      <td>2598.672119</td>\n      <td>1974.572632</td>\n      <td>624.099487</td>\n    </tr>\n  </tbody>\n</table>\n</div>"
     },
     "execution_count": 36,
     "metadata": {},
     "output_type": "execute_result"
    }
   ],
   "source": [
    "test_options.sort_values('Abs Error')"
   ]
  },
  {
   "cell_type": "markdown",
   "metadata": {
    "id": "fDJ-hkrSAqVh",
    "pycharm": {
     "name": "#%% md\n"
    }
   },
   "source": [
    "### MSE on the test set"
   ]
  },
  {
   "cell_type": "code",
   "execution_count": 37,
   "metadata": {
    "colab": {
     "base_uri": "https://localhost:8080/"
    },
    "executionInfo": {
     "elapsed": 276,
     "status": "ok",
     "timestamp": 1650895213041,
     "user": {
      "displayName": "Paolo D'Elia",
      "userId": "06873635760880783531"
     },
     "user_tz": -120
    },
    "id": "GG64Xp3vAib-",
    "outputId": "f846ee65-029d-4a76-b006-d65e4ac07a48",
    "pycharm": {
     "name": "#%%\n"
    }
   },
   "outputs": [
    {
     "name": "stdout",
     "output_type": "stream",
     "text": [
      "The MSE on the test set is:  0.06431712210178375\n"
     ]
    }
   ],
   "source": [
    "model.eval()\n",
    "with torch.no_grad():\n",
    "    out = model(X_test)\n",
    "    loss = loss_fn(out, y_test)\n",
    "    print('The MSE on the test set is: ', loss.item())"
   ]
  },
  {
   "cell_type": "markdown",
   "metadata": {
    "id": "HCLf2KQJAvoE",
    "pycharm": {
     "name": "#%% md\n"
    }
   },
   "source": [
    "### MAE on the test set"
   ]
  },
  {
   "cell_type": "code",
   "execution_count": 38,
   "metadata": {
    "colab": {
     "base_uri": "https://localhost:8080/"
    },
    "executionInfo": {
     "elapsed": 27,
     "status": "ok",
     "timestamp": 1650895213494,
     "user": {
      "displayName": "Paolo D'Elia",
      "userId": "06873635760880783531"
     },
     "user_tz": -120
    },
    "id": "mZohsEyLAu7S",
    "outputId": "4d6bfba3-5751-478d-d53e-73751702414e",
    "pycharm": {
     "name": "#%%\n"
    }
   },
   "outputs": [
    {
     "name": "stdout",
     "output_type": "stream",
     "text": [
      "The MAE on the test set is:  0.08930504322052002\n"
     ]
    }
   ],
   "source": [
    "model.eval()\n",
    "mae_loss = nn.L1Loss()\n",
    "with torch.no_grad():\n",
    "    out = model(X_test)\n",
    "    loss = mae_loss(out, y_test)\n",
    "    print('The MAE on the test set is: ', loss.item())"
   ]
  },
  {
   "cell_type": "markdown",
   "metadata": {
    "id": "VmsZ4aPaA1SJ",
    "pycharm": {
     "name": "#%% md\n"
    }
   },
   "source": [
    "### RSME on the test set"
   ]
  },
  {
   "cell_type": "code",
   "execution_count": 39,
   "metadata": {
    "colab": {
     "base_uri": "https://localhost:8080/"
    },
    "executionInfo": {
     "elapsed": 22,
     "status": "ok",
     "timestamp": 1650895213496,
     "user": {
      "displayName": "Paolo D'Elia",
      "userId": "06873635760880783531"
     },
     "user_tz": -120
    },
    "id": "f01KkBxRA0t7",
    "outputId": "6492967a-db0c-49f4-fee1-8eb52ef33119",
    "pycharm": {
     "name": "#%%\n"
    }
   },
   "outputs": [
    {
     "name": "stdout",
     "output_type": "stream",
     "text": [
      "The RMSE on the test set is:  0.25360820590387795\n"
     ]
    }
   ],
   "source": [
    "model.eval()\n",
    "with torch.no_grad():\n",
    "    out = model(X_test)\n",
    "    loss = loss_fn(out, y_test)\n",
    "    print('The RMSE on the test set is: ', np.sqrt(loss.item()))"
   ]
  },
  {
   "cell_type": "markdown",
   "metadata": {
    "id": "j8Jxp0L4A5zb",
    "pycharm": {
     "name": "#%% md\n"
    }
   },
   "source": [
    "### MAPE on the test set"
   ]
  },
  {
   "cell_type": "code",
   "execution_count": 40,
   "metadata": {
    "colab": {
     "base_uri": "https://localhost:8080/"
    },
    "executionInfo": {
     "elapsed": 335,
     "status": "ok",
     "timestamp": 1650895213818,
     "user": {
      "displayName": "Paolo D'Elia",
      "userId": "06873635760880783531"
     },
     "user_tz": -120
    },
    "id": "fHghkyflA79o",
    "outputId": "37838323-11f0-4eb9-d7d7-50303bf4e9ce",
    "pycharm": {
     "name": "#%%\n"
    }
   },
   "outputs": [
    {
     "name": "stdout",
     "output_type": "stream",
     "text": [
      "The MAPE on the test set is:  0.3327904939651489\n"
     ]
    }
   ],
   "source": [
    "model.eval()\n",
    "with torch.no_grad():\n",
    "    out = model(X_test)\n",
    "    loss = MAPELoss(out, y_test).item()\n",
    "    print('The MAPE on the test set is: ', loss)"
   ]
  },
  {
   "cell_type": "markdown",
   "metadata": {
    "id": "uLLLqkX6BEle",
    "pycharm": {
     "name": "#%% md\n"
    }
   },
   "source": [
    "### $R^2$"
   ]
  },
  {
   "cell_type": "code",
   "execution_count": 41,
   "metadata": {
    "colab": {
     "base_uri": "https://localhost:8080/"
    },
    "executionInfo": {
     "elapsed": 21,
     "status": "ok",
     "timestamp": 1650895213820,
     "user": {
      "displayName": "Paolo D'Elia",
      "userId": "06873635760880783531"
     },
     "user_tz": -120
    },
    "id": "sf8FmLxxBGcu",
    "outputId": "764313a9-78fc-46ca-dd08-9fb8834e4374",
    "pycharm": {
     "name": "#%%\n"
    }
   },
   "outputs": [
    {
     "name": "stdout",
     "output_type": "stream",
     "text": [
      "the R^2 score is:  0.9360338935876047\n"
     ]
    }
   ],
   "source": [
    "from sklearn.metrics import r2_score\n",
    "\n",
    "model.eval()\n",
    "with torch.no_grad():\n",
    "    out = model(X_test).squeeze().cpu().detach().numpy()\n",
    "\n",
    "y_true = y_test.cpu().squeeze().detach().numpy()\n",
    "\n",
    "r2 = r2_score(y_pred=out, y_true=y_true)\n",
    "\n",
    "print('the R^2 score is: ', r2)"
   ]
  },
  {
   "cell_type": "code",
   "execution_count": 42,
   "metadata": {
    "colab": {
     "base_uri": "https://localhost:8080/",
     "height": 551
    },
    "executionInfo": {
     "elapsed": 744,
     "status": "ok",
     "timestamp": 1650895214553,
     "user": {
      "displayName": "Paolo D'Elia",
      "userId": "06873635760880783531"
     },
     "user_tz": -120
    },
    "id": "awvWu7WxBIHB",
    "outputId": "1b3dccd3-90ef-47d5-9895-267fdf93020c",
    "pycharm": {
     "name": "#%%\n"
    }
   },
   "outputs": [
    {
     "data": {
      "text/plain": "<Figure size 648x432 with 1 Axes>",
      "image/png": "[encoded data removed]"
     },
     "metadata": {
      "needs_background": "light"
     },
     "output_type": "display_data"
    }
   ],
   "source": [
    "fig = plt.figure(figsize=(9, 6))\n",
    "ax = fig.add_subplot()\n",
    "\n",
    "ax.scatter(\n",
    "    y=output_sc.inverse_transform(out.reshape(-1, 1)),\n",
    "    x=output_sc.inverse_transform(y_true.squeeze().reshape(-1, 1))\n",
    ")\n",
    "ax.set_xlabel('Actual Value')\n",
    "ax.set_ylabel('Predicted Value')\n",
    "\n",
    "ax.text(20, 80, f'$R^2$ = {np.round(r2, 6)}', fontsize=12)\n",
    "\n",
    "plt.show()"
   ]
  },
  {
   "cell_type": "markdown",
   "source": [
    "## Greeks"
   ],
   "metadata": {
    "collapsed": false,
    "pycharm": {
     "name": "#%% md\n"
    }
   }
  },
  {
   "cell_type": "code",
   "execution_count": 43,
   "outputs": [],
   "source": [
    "def get_d1_d2(S, X, T, t, r, sigma):\n",
    "    \"\"\"\n",
    "    Compute d1 and d2 values for the black-scholes pricing model\n",
    "\n",
    "\n",
    "    :param S: underlying price\n",
    "    :param X: option's strike price\n",
    "    :param T: option's time to maturity (in years)\n",
    "    :param t: current time (in years)\n",
    "    :param r: interest rate\n",
    "    :param sigma: underlying volatility\n",
    "    :return: (d1, d2)\n",
    "    \"\"\"\n",
    "    d1 = (np.log(S / X) + (r + sigma * sigma / 2.) * (T - t)) / (sigma * np.sqrt(T - t))\n",
    "    d2 = d1 - sigma * np.sqrt(T - t)\n",
    "    return d1, d2\n",
    "\n",
    "\n",
    "def black_scholes(S, X, T, t, r, sigma, o_type: str = \"C\") -> np.single:\n",
    "    \"\"\"\n",
    "    Compute option price using the black-scholes model\n",
    "\n",
    "    :param S: underlying price\n",
    "    :param X: option's strike price\n",
    "    :param T: option's time to maturity (in years)\n",
    "    :param t: current time (in years)\n",
    "    :param r: interest rate (in percentual)\n",
    "    :param sigma: underlying volatility\n",
    "    :param o_type: option type, \"C\" for a call option and \"P\" for a put option\n",
    "    :return: the black-scholes option price\n",
    "    \"\"\"\n",
    "    d1, d2 = get_d1_d2(S, X, T, t, r, sigma)\n",
    "    if o_type == \"C\":\n",
    "        return S * stats.norm.cdf(d1, 0, 1) - X * np.exp(-r * (T - t)) * stats.norm.cdf(d2, 0, 1)\n",
    "    else:\n",
    "        return X * np.exp(-r * (T - t)) * stats.norm.cdf(-d2, 0, 1) - S * stats.norm.cdf(-d1, 0, 1)\n",
    "\n",
    "\n",
    "def delta_fdm_bs(S, X, sigma, tau, r, delta_S, o_type: str = 'C'):\n",
    "  return (black_scholes(S + delta_S, X, tau, 0, r, sigma, o_type) - black_scholes(S, X, tau, 0, r, sigma, o_type)) / delta_S\n",
    "\n",
    "def theta_fdm_bs(S, X, sigma, tau, r, delta_tau, o_type: str = 'C'):\n",
    "  return (black_scholes(S, X, tau + delta_tau, 0, r, sigma, o_type) - black_scholes(S, X, tau, 0, r, sigma, o_type)) / delta_tau\n",
    "\n",
    "def vega_fdm_bs(S, X, sigma, tau, r, delta_sigma, o_type: str = 'C'):\n",
    "  return (black_scholes(S, X, tau, 0, r, sigma + delta_sigma, o_type) - black_scholes(S, X, tau, 0, r, sigma, o_type)) / delta_sigma\n",
    "\n",
    "def delta_fdm_net(S, X, sigma_1, m, tau, r, delta_S, o_type: str = 'C'):\n",
    "  c = 1 if o_type == 'C' else 0\n",
    "  p = 1 if o_type == 'P' else 0\n",
    "  input_df_1 = pd.DataFrame(np.array([[X, S + delta_S, sigma_1, m, r,  tau,  c, p]]), columns=df_cols)\n",
    "  input_df_2 = pd.DataFrame(np.array([[X, S, sigma_1,  m, r,  tau,  c, p]]), columns=df_cols)\n",
    "  net_input_1 = torch.Tensor(\n",
    "      input_sc.transform(input_df_1)).to(device)\n",
    "  net_input_2 = torch.Tensor(\n",
    "      input_sc.transform(input_df_2)).to(device)\n",
    "  sc_output_1 = output_sc.inverse_transform(model(net_input_1).detach().cpu().numpy())\n",
    "  sc_output_2 = output_sc.inverse_transform(model(net_input_2).detach().cpu().numpy())\n",
    "  return (sc_output_1 - sc_output_2) / delta_S\n",
    "\n",
    "\n",
    "def theta_fdm_net(S, X, sigma_1, m, tau, r, delta_tau, o_type: str = 'C'):\n",
    "  c = 1 if o_type == 'C' else 0\n",
    "  p = 1 if o_type == 'P' else 0\n",
    "  input_df_1 = pd.DataFrame(np.array([[X, S, sigma_1, m, r,  tau + delta_tau,  c, p]]), columns=df_cols)\n",
    "  input_df_2 = pd.DataFrame(np.array([[X, S, sigma_1, m, r,  tau,  c, p]]), columns=df_cols)\n",
    "  net_input_1 = torch.Tensor(\n",
    "      input_sc.transform(input_df_1)).to(device)\n",
    "  net_input_2 = torch.Tensor(\n",
    "      input_sc.transform(input_df_2)).to(device)\n",
    "  sc_output_1 = output_sc.inverse_transform(model(net_input_1).detach().cpu().numpy())\n",
    "  sc_output_2 = output_sc.inverse_transform(model(net_input_2).detach().cpu().numpy())\n",
    "  return (sc_output_1 - sc_output_2) / delta_tau\n",
    "\n",
    "\n",
    "def vega_fdm_net(S, X, sigma_1, m, tau, r, delta_sigma, o_type: str = 'C'):\n",
    "  c = 1 if o_type == 'C' else 0\n",
    "  p = 1 if o_type == 'P' else 0\n",
    "  input_df_1 = pd.DataFrame(np.array([[X, S, sigma_1 + delta_sigma, m, r,  tau,  c, p]]), columns=df_cols)\n",
    "  input_df_2 = pd.DataFrame(np.array([[X, S, sigma_1, m, r,  tau,  c, p]]), columns=df_cols)\n",
    "  net_input_1 = torch.Tensor(\n",
    "      input_sc.transform(input_df_1)).to(device)\n",
    "  net_input_2 = torch.Tensor(\n",
    "      input_sc.transform(input_df_2)).to(device)\n",
    "  sc_output_1 = output_sc.inverse_transform(model(net_input_1).detach().cpu().numpy())\n",
    "  sc_output_2 = output_sc.inverse_transform(model(net_input_2).detach().cpu().numpy())\n",
    "  return (sc_output_1 - sc_output_2) / delta_sigma"
   ],
   "metadata": {
    "collapsed": false,
    "pycharm": {
     "name": "#%%\n"
    }
   }
  },
  {
   "cell_type": "code",
   "execution_count": 44,
   "outputs": [],
   "source": [
    "test_size = 30\n",
    "\n",
    "with torch.no_grad():\n",
    "    test_out = model(X_test[0:test_size])\n",
    "\n",
    "test_out = output_sc.inverse_transform(test_out.cpu().detach().numpy())\n",
    "real_out = output_sc.inverse_transform(y_test[0:test_size].cpu().detach().numpy())"
   ],
   "metadata": {
    "collapsed": false,
    "pycharm": {
     "name": "#%%\n"
    }
   }
  },
  {
   "cell_type": "code",
   "execution_count": 46,
   "outputs": [],
   "source": [
    "model.zero_grad()\n",
    "inp_g = X_test[0].clone().detach().requires_grad_(True)\n",
    "test_out_g = model(inp_g)"
   ],
   "metadata": {
    "collapsed": false,
    "pycharm": {
     "name": "#%%\n"
    }
   }
  },
  {
   "cell_type": "code",
   "execution_count": 47,
   "outputs": [
    {
     "data": {
      "text/plain": "tensor([-3.3260e-02,  5.4478e-02,  5.6752e-02,  8.1515e-01,  7.4593e-02,\n        -1.8408e-04,  2.1228e-01, -2.1125e-01], device='cuda:0')"
     },
     "execution_count": 47,
     "metadata": {},
     "output_type": "execute_result"
    }
   ],
   "source": [
    "grad_ns = torch.autograd.grad(test_out_g, inp_g, retain_graph=True)[0].data\n",
    "grad_ns"
   ],
   "metadata": {
    "collapsed": false,
    "pycharm": {
     "name": "#%%\n"
    }
   }
  },
  {
   "cell_type": "code",
   "execution_count": 48,
   "outputs": [
    {
     "data": {
      "text/plain": "array([[8.8285150e+02, 8.8745239e+02, 5.8673936e-01, 1.3020522e+01,\n        5.4139084e-01, 7.6687844e-03, 6.2236869e-01, 3.7814638e-01]],\n      dtype=float32)"
     },
     "execution_count": 48,
     "metadata": {},
     "output_type": "execute_result"
    }
   ],
   "source": [
    "input_sc.inverse_transform(grad_ns.detach().cpu().numpy().reshape(1, -1))"
   ],
   "metadata": {
    "collapsed": false,
    "pycharm": {
     "name": "#%%\n"
    }
   }
  },
  {
   "cell_type": "code",
   "execution_count": null,
   "outputs": [],
   "source": [
    "998.045227, 990.003174, 0.554195, 0.395475, 0.008431, 'C'"
   ],
   "metadata": {
    "collapsed": false,
    "pycharm": {
     "name": "#%%\n"
    }
   }
  },
  {
   "cell_type": "code",
   "execution_count": 57,
   "outputs": [
    {
     "data": {
      "text/plain": "0.5820663402130322"
     },
     "execution_count": 57,
     "metadata": {},
     "output_type": "execute_result"
    }
   ],
   "source": [
    "delta_fdm_bs(998.045227, 990.003174, 0.554195, 0.395475, 0.008431, 0.1, 'C')"
   ],
   "metadata": {
    "collapsed": false,
    "pycharm": {
     "name": "#%%\n"
    }
   }
  },
  {
   "cell_type": "code",
   "execution_count": 60,
   "outputs": [
    {
     "data": {
      "text/plain": "array([[0.32714844]], dtype=float32)"
     },
     "execution_count": 60,
     "metadata": {},
     "output_type": "execute_result"
    }
   ],
   "source": [
    "delta_fdm_net(998.045227, 990.003174, 0.554195, 998.045227 / 990.003174, 0.395475, 0.008431, 0.1,'C')"
   ],
   "metadata": {
    "collapsed": false,
    "pycharm": {
     "name": "#%%\n"
    }
   }
  },
  {
   "cell_type": "code",
   "execution_count": 61,
   "outputs": [
    {
     "data": {
      "text/plain": "0.4810723834326066"
     },
     "execution_count": 61,
     "metadata": {},
     "output_type": "execute_result"
    }
   ],
   "source": [
    "theta_fdm_bs(998.045227, 990.003174, 0.554195, 0.395475, 0.008431, 0.0027, 'C') / 364"
   ],
   "metadata": {
    "collapsed": false,
    "pycharm": {
     "name": "#%%\n"
    }
   }
  },
  {
   "cell_type": "code",
   "execution_count": 72,
   "outputs": [
    {
     "data": {
      "text/plain": "array([[10.518689]], dtype=float32)"
     },
     "execution_count": 72,
     "metadata": {},
     "output_type": "execute_result"
    }
   ],
   "source": [
    "theta_fdm_net(998.045227, 990.003174, 0.554195, 998.045227 / 990.003174, 0.395475, 0.008431, 0.0027, 'C') / 364"
   ],
   "metadata": {
    "collapsed": false,
    "pycharm": {
     "name": "#%%\n"
    }
   }
  },
  {
   "cell_type": "code",
   "execution_count": 64,
   "outputs": [
    {
     "data": {
      "text/plain": "245.01700202394545"
     },
     "execution_count": 64,
     "metadata": {},
     "output_type": "execute_result"
    }
   ],
   "source": [
    "vega_fdm_bs(998.045227, 990.003174, 0.554195, 0.395475, 0.008431, 0.01, 'C')"
   ],
   "metadata": {
    "collapsed": false,
    "pycharm": {
     "name": "#%%\n"
    }
   }
  },
  {
   "cell_type": "code",
   "execution_count": 63,
   "outputs": [
    {
     "data": {
      "text/plain": "array([[180.0415]], dtype=float32)"
     },
     "execution_count": 63,
     "metadata": {},
     "output_type": "execute_result"
    }
   ],
   "source": [
    "vega_fdm_net(998.045227, 990.003174, 0.554195, 998.045227 / 990.003174,0.395475, 0.008431, 0.01, 'C')"
   ],
   "metadata": {
    "collapsed": false,
    "pycharm": {
     "name": "#%%\n"
    }
   }
  }
 ],
 "metadata": {
  "accelerator": "GPU",
  "colab": {
   "collapsed_sections": [],
   "name": "Model-Testing-Heston.ipynb",
   "provenance": []
  },
  "kernelspec": {
   "display_name": "pytorch",
   "language": "python",
   "name": "pytorch"
  },
  "language_info": {
   "codemirror_mode": {
    "name": "ipython",
    "version": 3
   },
   "file_extension": ".py",
   "mimetype": "text/x-python",
   "name": "python",
   "nbconvert_exporter": "python",
   "pygments_lexer": "ipython3",
   "version": "3.8.10"
  }
 },
 "nbformat": 4,
 "nbformat_minor": 1
}