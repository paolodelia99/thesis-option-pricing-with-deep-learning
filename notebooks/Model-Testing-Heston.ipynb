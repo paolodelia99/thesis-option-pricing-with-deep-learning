{
 "cells": [
  {
   "cell_type": "markdown",
   "metadata": {
    "id": "ju-WUaXnY5cr",
    "pycharm": {
     "name": "#%% md\n"
    }
   },
   "source": [
    "# Models Testing on Heston data\n"
   ]
  },
  {
   "cell_type": "code",
   "execution_count": 1,
   "metadata": {
    "id": "hH3-v8y-AuXg",
    "pycharm": {
     "name": "#%%\n"
    },
    "executionInfo": {
     "status": "ok",
     "timestamp": 1650891681415,
     "user_tz": -120,
     "elapsed": 824,
     "user": {
      "displayName": "Paolo D'Elia",
      "userId": "06873635760880783531"
     }
    }
   },
   "outputs": [],
   "source": [
    "import time\n",
    "\n",
    "import pandas as pd\n",
    "import numpy as np\n",
    "import matplotlib.pyplot as plt\n",
    "\n",
    "from sklearn.preprocessing import StandardScaler\n",
    "from sklearn.utils import shuffle\n",
    "\n",
    "import torch\n",
    "import torch.nn as nn\n",
    "from torch.autograd import Variable\n",
    "from torch.utils.data import Dataset, DataLoader"
   ]
  },
  {
   "cell_type": "code",
   "execution_count": 2,
   "metadata": {
    "id": "QXEzFQ3iAyj_",
    "pycharm": {
     "name": "#%%\n"
    },
    "executionInfo": {
     "status": "ok",
     "timestamp": 1650891681417,
     "user_tz": -120,
     "elapsed": 21,
     "user": {
      "displayName": "Paolo D'Elia",
      "userId": "06873635760880783531"
     }
    }
   },
   "outputs": [],
   "source": [
    "# Set seeds\n",
    "torch.manual_seed(0)\n",
    "np.random.seed(0)"
   ]
  },
  {
   "cell_type": "code",
   "execution_count": 3,
   "metadata": {
    "id": "gsH02HCWA0gC",
    "pycharm": {
     "name": "#%%\n"
    },
    "executionInfo": {
     "status": "ok",
     "timestamp": 1650891681418,
     "user_tz": -120,
     "elapsed": 17,
     "user": {
      "displayName": "Paolo D'Elia",
      "userId": "06873635760880783531"
     }
    }
   },
   "outputs": [],
   "source": [
    "synthetic_calls_path = '../data/heston_mc_synthetic_calls.csv'\n",
    "synthetic_puts_path = '../data/heston_mc_synthetic_puts.csv'"
   ]
  },
  {
   "cell_type": "code",
   "execution_count": 4,
   "metadata": {
    "id": "jT4n95T6A4S6",
    "pycharm": {
     "name": "#%%\n"
    },
    "executionInfo": {
     "status": "ok",
     "timestamp": 1650891681421,
     "user_tz": -120,
     "elapsed": 15,
     "user": {
      "displayName": "Paolo D'Elia",
      "userId": "06873635760880783531"
     }
    }
   },
   "outputs": [],
   "source": [
    "def reduce_mem_usage(df):\n",
    "    \"\"\" iterate through all the columns of a dataframe and modify the data type\n",
    "        to reduce memory usage.        \n",
    "    \"\"\"    \n",
    "    for col in df.columns:\n",
    "        col_type = df[col].dtype\n",
    "        \n",
    "        if col_type != object:\n",
    "            c_min = df[col].min()\n",
    "            c_max = df[col].max()\n",
    "            if str(col_type)[:3] == 'int':\n",
    "                if c_min > np.iinfo(np.int8).min and c_max < np.iinfo(np.int8).max:\n",
    "                    df[col] = df[col].astype(np.int8)\n",
    "                elif c_min > np.iinfo(np.int16).min and c_max < np.iinfo(np.int16).max:\n",
    "                    df[col] = df[col].astype(np.int16)\n",
    "                elif c_min > np.iinfo(np.int32).min and c_max < np.iinfo(np.int32).max:\n",
    "                    df[col] = df[col].astype(np.int32)\n",
    "                elif c_min > np.iinfo(np.int64).min and c_max < np.iinfo(np.int64).max:\n",
    "                    df[col] = df[col].astype(np.int64)  \n",
    "            else:\n",
    "                if c_min > np.finfo(np.float16).min and c_max < np.finfo(np.float16).max:\n",
    "                    df[col] = df[col].astype(np.float16)\n",
    "                elif c_min > np.finfo(np.float32).min and c_max < np.finfo(np.float32).max:\n",
    "                    df[col] = df[col].astype(np.float32)\n",
    "                else:\n",
    "                    df[col] = df[col].astype(np.float64)\n",
    "        else:\n",
    "            df[col] = df[col].astype('category')\n",
    "    \n",
    "    return df"
   ]
  },
  {
   "cell_type": "code",
   "execution_count": 5,
   "metadata": {
    "id": "7H8lEQPCA5IS",
    "pycharm": {
     "name": "#%%\n"
    },
    "executionInfo": {
     "status": "ok",
     "timestamp": 1650891684820,
     "user_tz": -120,
     "elapsed": 3413,
     "user": {
      "displayName": "Paolo D'Elia",
      "userId": "06873635760880783531"
     }
    }
   },
   "outputs": [],
   "source": [
    "synthetic_calls = pd.read_csv(synthetic_calls_path, index_col=0)\n",
    "synthetic_puts = pd.read_csv(synthetic_puts_path, index_col=0)\n",
    "\n",
    "synthetic_calls = reduce_mem_usage(synthetic_calls)\n",
    "synthetic_puts = reduce_mem_usage(synthetic_puts)"
   ]
  },
  {
   "cell_type": "code",
   "execution_count": 6,
   "metadata": {
    "id": "9TKRgvuOA8pC",
    "pycharm": {
     "name": "#%%\n"
    },
    "executionInfo": {
     "status": "ok",
     "timestamp": 1650891684821,
     "user_tz": -120,
     "elapsed": 20,
     "user": {
      "displayName": "Paolo D'Elia",
      "userId": "06873635760880783531"
     }
    }
   },
   "outputs": [],
   "source": [
    "synthetic_options = pd.concat([synthetic_calls, synthetic_puts], axis=0)\n",
    "synthetic_options = shuffle(synthetic_options, random_state=0)\n",
    "synthetic_options = synthetic_options.reset_index()\n",
    "synthetic_options = synthetic_options.drop('index', axis=1)"
   ]
  },
  {
   "cell_type": "code",
   "execution_count": 7,
   "metadata": {
    "colab": {
     "base_uri": "https://localhost:8080/",
     "height": 424
    },
    "id": "3HXliAsq132p",
    "outputId": "09bc2eb1-d20d-4471-ed50-5fa0eba727fb",
    "pycharm": {
     "name": "#%%\n"
    },
    "executionInfo": {
     "status": "ok",
     "timestamp": 1650891684822,
     "user_tz": -120,
     "elapsed": 19,
     "user": {
      "displayName": "Paolo D'Elia",
      "userId": "06873635760880783531"
     }
    }
   },
   "outputs": [
    {
     "data": {
      "text/plain": "        Price  Strike Type     Kappa       Rho     Theta        Xi       V_0  \\\n0         100    63.0    P  1.512695 -0.217773  0.169189  0.383057  0.170166   \n1         100   131.0    P  1.711914 -0.697754  0.138306  0.284424  0.338379   \n2         100   105.0    C  1.034180 -0.854004  0.064819  0.009300  0.458252   \n3         100    68.0    P  0.064087 -0.727051  0.437988  0.199463  0.429688   \n4         100    77.0    C  1.453125 -0.607910  0.258301  0.198975  0.073425   \n...       ...     ...  ...       ...       ...       ...       ...       ...   \n605995    100    71.0    P  1.464844 -0.116516  0.241699  0.188965  0.128662   \n605996    100    57.0    C  1.024414 -0.244263  0.100403  0.268311  0.241821   \n605997    100   135.0    C  0.631836 -0.868164  0.079468  0.410156  0.410889   \n605998    100    64.0    P  1.348633 -0.256348  0.433105  0.422852  0.160278   \n605999    100   135.0    P  1.585938 -0.060059  0.371826  0.157959  0.474121   \n\n        Interest Rate  Time to Expiration  Option Price  \n0            0.073792            0.464844      0.039307  \n1            0.011772            1.075195     31.203125  \n2            0.044006            0.818848      7.769531  \n3            0.024658            0.580566      0.789551  \n4            0.081238            0.756836     22.828125  \n...               ...                 ...           ...  \n605995       0.054077            0.931152      0.270996  \n605996       0.021622            1.020508     41.593750  \n605997       0.084778            0.396729      1.692383  \n605998       0.024384            0.922852      0.453857  \n605999       0.084351            0.749512     34.937500  \n\n[606000 rows x 11 columns]",
      "text/html": "<div>\n<style scoped>\n    .dataframe tbody tr th:only-of-type {\n        vertical-align: middle;\n    }\n\n    .dataframe tbody tr th {\n        vertical-align: top;\n    }\n\n    .dataframe thead th {\n        text-align: right;\n    }\n</style>\n<table border=\"1\" class=\"dataframe\">\n  <thead>\n    <tr style=\"text-align: right;\">\n      <th></th>\n      <th>Price</th>\n      <th>Strike</th>\n      <th>Type</th>\n      <th>Kappa</th>\n      <th>Rho</th>\n      <th>Theta</th>\n      <th>Xi</th>\n      <th>V_0</th>\n      <th>Interest Rate</th>\n      <th>Time to Expiration</th>\n      <th>Option Price</th>\n    </tr>\n  </thead>\n  <tbody>\n    <tr>\n      <th>0</th>\n      <td>100</td>\n      <td>63.0</td>\n      <td>P</td>\n      <td>1.512695</td>\n      <td>-0.217773</td>\n      <td>0.169189</td>\n      <td>0.383057</td>\n      <td>0.170166</td>\n      <td>0.073792</td>\n      <td>0.464844</td>\n      <td>0.039307</td>\n    </tr>\n    <tr>\n      <th>1</th>\n      <td>100</td>\n      <td>131.0</td>\n      <td>P</td>\n      <td>1.711914</td>\n      <td>-0.697754</td>\n      <td>0.138306</td>\n      <td>0.284424</td>\n      <td>0.338379</td>\n      <td>0.011772</td>\n      <td>1.075195</td>\n      <td>31.203125</td>\n    </tr>\n    <tr>\n      <th>2</th>\n      <td>100</td>\n      <td>105.0</td>\n      <td>C</td>\n      <td>1.034180</td>\n      <td>-0.854004</td>\n      <td>0.064819</td>\n      <td>0.009300</td>\n      <td>0.458252</td>\n      <td>0.044006</td>\n      <td>0.818848</td>\n      <td>7.769531</td>\n    </tr>\n    <tr>\n      <th>3</th>\n      <td>100</td>\n      <td>68.0</td>\n      <td>P</td>\n      <td>0.064087</td>\n      <td>-0.727051</td>\n      <td>0.437988</td>\n      <td>0.199463</td>\n      <td>0.429688</td>\n      <td>0.024658</td>\n      <td>0.580566</td>\n      <td>0.789551</td>\n    </tr>\n    <tr>\n      <th>4</th>\n      <td>100</td>\n      <td>77.0</td>\n      <td>C</td>\n      <td>1.453125</td>\n      <td>-0.607910</td>\n      <td>0.258301</td>\n      <td>0.198975</td>\n      <td>0.073425</td>\n      <td>0.081238</td>\n      <td>0.756836</td>\n      <td>22.828125</td>\n    </tr>\n    <tr>\n      <th>...</th>\n      <td>...</td>\n      <td>...</td>\n      <td>...</td>\n      <td>...</td>\n      <td>...</td>\n      <td>...</td>\n      <td>...</td>\n      <td>...</td>\n      <td>...</td>\n      <td>...</td>\n      <td>...</td>\n    </tr>\n    <tr>\n      <th>605995</th>\n      <td>100</td>\n      <td>71.0</td>\n      <td>P</td>\n      <td>1.464844</td>\n      <td>-0.116516</td>\n      <td>0.241699</td>\n      <td>0.188965</td>\n      <td>0.128662</td>\n      <td>0.054077</td>\n      <td>0.931152</td>\n      <td>0.270996</td>\n    </tr>\n    <tr>\n      <th>605996</th>\n      <td>100</td>\n      <td>57.0</td>\n      <td>C</td>\n      <td>1.024414</td>\n      <td>-0.244263</td>\n      <td>0.100403</td>\n      <td>0.268311</td>\n      <td>0.241821</td>\n      <td>0.021622</td>\n      <td>1.020508</td>\n      <td>41.593750</td>\n    </tr>\n    <tr>\n      <th>605997</th>\n      <td>100</td>\n      <td>135.0</td>\n      <td>C</td>\n      <td>0.631836</td>\n      <td>-0.868164</td>\n      <td>0.079468</td>\n      <td>0.410156</td>\n      <td>0.410889</td>\n      <td>0.084778</td>\n      <td>0.396729</td>\n      <td>1.692383</td>\n    </tr>\n    <tr>\n      <th>605998</th>\n      <td>100</td>\n      <td>64.0</td>\n      <td>P</td>\n      <td>1.348633</td>\n      <td>-0.256348</td>\n      <td>0.433105</td>\n      <td>0.422852</td>\n      <td>0.160278</td>\n      <td>0.024384</td>\n      <td>0.922852</td>\n      <td>0.453857</td>\n    </tr>\n    <tr>\n      <th>605999</th>\n      <td>100</td>\n      <td>135.0</td>\n      <td>P</td>\n      <td>1.585938</td>\n      <td>-0.060059</td>\n      <td>0.371826</td>\n      <td>0.157959</td>\n      <td>0.474121</td>\n      <td>0.084351</td>\n      <td>0.749512</td>\n      <td>34.937500</td>\n    </tr>\n  </tbody>\n</table>\n<p>606000 rows × 11 columns</p>\n</div>"
     },
     "execution_count": 7,
     "metadata": {},
     "output_type": "execute_result"
    }
   ],
   "source": [
    "synthetic_options"
   ]
  },
  {
   "cell_type": "markdown",
   "metadata": {
    "id": "pn28_RUMBAFH",
    "pycharm": {
     "name": "#%% md\n"
    }
   },
   "source": [
    "# Preprocessing"
   ]
  },
  {
   "cell_type": "code",
   "execution_count": 8,
   "metadata": {
    "id": "32oPe6XUBCTF",
    "pycharm": {
     "name": "#%%\n"
    },
    "executionInfo": {
     "status": "ok",
     "timestamp": 1650891685322,
     "user_tz": -120,
     "elapsed": 515,
     "user": {
      "displayName": "Paolo D'Elia",
      "userId": "06873635760880783531"
     }
    }
   },
   "outputs": [],
   "source": [
    "synthetic_options = pd.get_dummies(synthetic_options, prefix='', prefix_sep='')"
   ]
  },
  {
   "cell_type": "code",
   "execution_count": 9,
   "metadata": {
    "id": "_Tlc7k7xBDPV",
    "pycharm": {
     "name": "#%%\n"
    },
    "executionInfo": {
     "status": "ok",
     "timestamp": 1650891686346,
     "user_tz": -120,
     "elapsed": 1032,
     "user": {
      "displayName": "Paolo D'Elia",
      "userId": "06873635760880783531"
     }
    }
   },
   "outputs": [],
   "source": [
    "input_sc = StandardScaler()\n",
    "output_sc = StandardScaler()\n",
    "input_data = input_sc.fit_transform(synthetic_options.drop('Option Price', axis=1))\n",
    "output_data = output_sc.fit_transform(synthetic_options['Option Price'].values.reshape(-1, 1))\n",
    "\n",
    "train_size = 0.8\n",
    "val_size = 0.1\n",
    "\n",
    "last_train_idx = int(np.round(len(input_data) * train_size))\n",
    "last_val_idx = last_train_idx + int(np.round(len(input_data) * val_size))\n",
    "\n",
    "X_train = input_data[0:last_train_idx]\n",
    "X_val = input_data[last_train_idx:last_val_idx]\n",
    "X_test = input_data[last_val_idx:]\n",
    "\n",
    "y_train = output_data[0:last_train_idx]\n",
    "y_val = output_data[last_train_idx:last_val_idx]\n",
    "y_test = output_data[last_val_idx:]"
   ]
  },
  {
   "cell_type": "code",
   "execution_count": 10,
   "outputs": [
    {
     "data": {
      "text/plain": "Index(['Price', 'Strike', 'Kappa', 'Rho', 'Theta', 'Xi', 'V_0',\n       'Interest Rate', 'Time to Expiration', 'C', 'P'],\n      dtype='object')"
     },
     "execution_count": 10,
     "metadata": {},
     "output_type": "execute_result"
    }
   ],
   "source": [
    "synthetic_options.drop('Option Price', axis=1).columns"
   ],
   "metadata": {
    "pycharm": {
     "name": "#%%\n"
    },
    "colab": {
     "base_uri": "https://localhost:8080/"
    },
    "id": "7nEEoQGvvDpL",
    "executionInfo": {
     "status": "ok",
     "timestamp": 1650891686347,
     "user_tz": -120,
     "elapsed": 21,
     "user": {
      "displayName": "Paolo D'Elia",
      "userId": "06873635760880783531"
     }
    },
    "outputId": "88b4d863-d037-439b-e625-5ebb52ad41ef"
   }
  },
  {
   "cell_type": "code",
   "execution_count": 11,
   "metadata": {
    "id": "IwMVtvfABIhR",
    "pycharm": {
     "name": "#%%\n"
    },
    "executionInfo": {
     "status": "ok",
     "timestamp": 1650891686349,
     "user_tz": -120,
     "elapsed": 19,
     "user": {
      "displayName": "Paolo D'Elia",
      "userId": "06873635760880783531"
     }
    }
   },
   "outputs": [],
   "source": [
    "X_train = Variable(torch.Tensor(X_train))\n",
    "X_val = Variable(torch.Tensor(X_val))\n",
    "X_test = Variable(torch.Tensor(X_test))\n",
    "\n",
    "y_train = Variable(torch.Tensor(y_train))\n",
    "y_val = Variable(torch.Tensor(y_val))\n",
    "y_test = Variable(torch.Tensor(y_test))"
   ]
  },
  {
   "cell_type": "markdown",
   "metadata": {
    "id": "Ra2l5P1nBVCz",
    "pycharm": {
     "name": "#%% md\n"
    }
   },
   "source": [
    "# Model"
   ]
  },
  {
   "cell_type": "code",
   "execution_count": 12,
   "metadata": {
    "id": "xTLMLFoSBWDy",
    "pycharm": {
     "name": "#%%\n"
    },
    "executionInfo": {
     "status": "ok",
     "timestamp": 1650891686350,
     "user_tz": -120,
     "elapsed": 17,
     "user": {
      "displayName": "Paolo D'Elia",
      "userId": "06873635760880783531"
     }
    }
   },
   "outputs": [],
   "source": [
    "CUDA = torch.cuda.is_available()\n",
    "device = 'cuda:0' if CUDA else 'cpu'"
   ]
  },
  {
   "cell_type": "code",
   "execution_count": 13,
   "metadata": {
    "id": "CQ9Gl3bUBWsj",
    "pycharm": {
     "name": "#%%\n"
    },
    "executionInfo": {
     "status": "ok",
     "timestamp": 1650891686352,
     "user_tz": -120,
     "elapsed": 18,
     "user": {
      "displayName": "Paolo D'Elia",
      "userId": "06873635760880783531"
     }
    }
   },
   "outputs": [],
   "source": [
    "class ResBlock(nn.Module):\n",
    "\n",
    "  def __init__(self, module):\n",
    "    super(ResBlock, self).__init__()\n",
    "    self.module = module\n",
    "\n",
    "  def forward(self, x):\n",
    "    return self.module(x) + x"
   ]
  },
  {
   "cell_type": "code",
   "execution_count": 14,
   "metadata": {
    "id": "YL3SicQPBYq0",
    "pycharm": {
     "name": "#%%\n"
    },
    "executionInfo": {
     "status": "ok",
     "timestamp": 1650891686353,
     "user_tz": -120,
     "elapsed": 17,
     "user": {
      "displayName": "Paolo D'Elia",
      "userId": "06873635760880783531"
     }
    }
   },
   "outputs": [],
   "source": [
    "class HiddenLayer(nn.Module):\n",
    "\n",
    "  def __init__(self, layer_size, act_fn):\n",
    "      super(HiddenLayer, self).__init__()\n",
    "      \n",
    "      if act_fn == 'ReLU':\n",
    "        self.layer = nn.Sequential(\n",
    "          nn.Linear(layer_size, layer_size),\n",
    "          nn.ReLU())\n",
    "      elif act_fn == 'LeakyReLU':\n",
    "        self.layer = nn.Sequential(\n",
    "          nn.Linear(layer_size, layer_size),\n",
    "          nn.LeakyReLU())\n",
    "      elif act_fn == 'ELU':\n",
    "        self.layer = nn.Sequential(\n",
    "          nn.Linear(layer_size, layer_size),\n",
    "          nn.ELU())\n",
    "    \n",
    "  def forward(self, x):\n",
    "    return self.layer(x)"
   ]
  },
  {
   "cell_type": "code",
   "execution_count": 15,
   "metadata": {
    "id": "lHUFGf9xBawS",
    "pycharm": {
     "name": "#%%\n"
    },
    "executionInfo": {
     "status": "ok",
     "timestamp": 1650891686792,
     "user_tz": -120,
     "elapsed": 455,
     "user": {
      "displayName": "Paolo D'Elia",
      "userId": "06873635760880783531"
     }
    }
   },
   "outputs": [],
   "source": [
    "class Net(nn.Module):\n",
    "\n",
    "  def __init__(self, input_size, output_size, hidden_size, num_layers, act_fn):\n",
    "    super(Net, self).__init__()\n",
    "    self.input_size = input_size\n",
    "    self.output_size = output_size\n",
    "    self.hidden_size = hidden_size\n",
    "\n",
    "    if act_fn == 'ReLU':\n",
    "      self.initial_layer = nn.Sequential(\n",
    "          nn.Linear(self.input_size, self.hidden_size),\n",
    "          nn.ReLU())\n",
    "    elif act_fn == 'LeakyReLU':\n",
    "      self.initial_layer = nn.Sequential(\n",
    "          nn.Linear(self.input_size, self.hidden_size),\n",
    "          nn.LeakyReLU())\n",
    "    elif act_fn == 'ELU':\n",
    "      self.initial_layer = nn.Sequential(\n",
    "          nn.Linear(self.input_size, self.hidden_size),\n",
    "          nn.ELU())\n",
    "\n",
    "    self.hidden_layers_list = []\n",
    "\n",
    "    for i in range(num_layers // 2):\n",
    "      self.hidden_layers_list.append(\n",
    "          ResBlock(\n",
    "            nn.Sequential(\n",
    "                HiddenLayer(self.hidden_size, act_fn),\n",
    "                HiddenLayer(self.hidden_size, act_fn)\n",
    "            )\n",
    "        )\n",
    "      )\n",
    "\n",
    "    self.hidden_layers = nn.Sequential(*self.hidden_layers_list)\n",
    "\n",
    "    self.net = nn.Sequential(\n",
    "        self.initial_layer,\n",
    "        self.hidden_layers,\n",
    "        nn.Linear(self.hidden_size, self.output_size)\n",
    "    )\n",
    "  \n",
    "  def forward(self, x):\n",
    "    return self.net(x)"
   ]
  },
  {
   "cell_type": "code",
   "execution_count": 16,
   "metadata": {
    "id": "zcq_lQrHBdH8",
    "pycharm": {
     "name": "#%%\n"
    },
    "executionInfo": {
     "status": "ok",
     "timestamp": 1650891686793,
     "user_tz": -120,
     "elapsed": 11,
     "user": {
      "displayName": "Paolo D'Elia",
      "userId": "06873635760880783531"
     }
    }
   },
   "outputs": [],
   "source": [
    "def init_weights(m, init_m: str):\n",
    "\n",
    "  @torch.no_grad()\n",
    "  def init_uniform(m):\n",
    "    if isinstance(m, nn.Linear):\n",
    "      torch.nn.init.uniform_(m.weight)\n",
    "      m.bias.data.fill_(0.01)\n",
    "\n",
    "  @torch.no_grad()\n",
    "  def init_normal(m):\n",
    "    if isinstance(m, nn.Linear):\n",
    "      torch.nn.init.normal_(m.weight)\n",
    "      m.bias.data.fill_(0.01)\n",
    "\n",
    "  @torch.no_grad()\n",
    "  def init_xuniform(m):\n",
    "    if isinstance(m, nn.Linear):\n",
    "      torch.nn.init.xavier_uniform_(m.weight)\n",
    "      m.bias.data.fill_(0.01)\n",
    "\n",
    "  @torch.no_grad()\n",
    "  def init_xnormal(m):\n",
    "    if isinstance(m, nn.Linear):\n",
    "      torch.nn.init.xavier_normal_(m.weight)\n",
    "      m.bias.data.fill_(0.01)\n",
    "\n",
    "  if init_m == 'uniform':\n",
    "    m.apply(init_uniform)\n",
    "  elif init_m == 'normal':\n",
    "    m.apply(init_normal)\n",
    "  elif init_m == 'xaiver uniform':\n",
    "    m.apply(init_xuniform)\n",
    "  elif init_m == 'xavier normal':\n",
    "    m.apply(init_xnormal)"
   ]
  },
  {
   "cell_type": "markdown",
   "metadata": {
    "id": "vuCpyycNCKEZ",
    "pycharm": {
     "name": "#%% md\n"
    }
   },
   "source": [
    "# Training"
   ]
  },
  {
   "cell_type": "code",
   "execution_count": 17,
   "metadata": {
    "id": "YbCOnCSNCL25",
    "pycharm": {
     "name": "#%%\n"
    },
    "executionInfo": {
     "status": "ok",
     "timestamp": 1650891686794,
     "user_tz": -120,
     "elapsed": 10,
     "user": {
      "displayName": "Paolo D'Elia",
      "userId": "06873635760880783531"
     }
    }
   },
   "outputs": [],
   "source": [
    "input_size = 11\n",
    "output_size = 1\n",
    "num_layers = 4\n",
    "hidden_size = 600\n",
    "batch_size = 1134\n",
    "epochs = 2000\n",
    "lr = 0.000125\n",
    "init_method = 'xaiver uniform'\n",
    "act_fn = 'LeakyReLU'\n",
    "\n",
    "model = Net(input_size, output_size, hidden_size, num_layers, act_fn)\n",
    "init_weights(model, init_method)\n",
    "\n",
    "loss_fn = nn.MSELoss()\n",
    "optimizer = torch.optim.Adam(model.parameters(), lr=lr)"
   ]
  },
  {
   "cell_type": "code",
   "execution_count": 18,
   "outputs": [],
   "source": [
    "model = model.to(device)\n",
    "\n",
    "X_train = X_train.to(device)\n",
    "y_train = y_train.to(device)\n",
    "\n",
    "X_val = X_val.to(device)\n",
    "y_val = y_val.to(device)\n",
    "\n",
    "X_test = X_test.to(device)\n",
    "y_test = y_test.to(device)"
   ],
   "metadata": {
    "pycharm": {
     "name": "#%%\n"
    },
    "id": "QqZbxrppvDpZ",
    "executionInfo": {
     "status": "ok",
     "timestamp": 1650891694138,
     "user_tz": -120,
     "elapsed": 7351,
     "user": {
      "displayName": "Paolo D'Elia",
      "userId": "06873635760880783531"
     }
    }
   }
  },
  {
   "cell_type": "code",
   "execution_count": 19,
   "metadata": {
    "id": "Q-9T0GArCMgp",
    "pycharm": {
     "name": "#%%\n"
    },
    "executionInfo": {
     "status": "ok",
     "timestamp": 1650891694142,
     "user_tz": -120,
     "elapsed": 42,
     "user": {
      "displayName": "Paolo D'Elia",
      "userId": "06873635760880783531"
     }
    }
   },
   "outputs": [],
   "source": [
    "class OptDataset(Dataset):\n",
    "\n",
    "  def __init__(self, X, y):\n",
    "    self.X = X\n",
    "    self.y = y\n",
    "\n",
    "  def __getitem__(self, idx):\n",
    "    return self.X[idx], self.y[idx]\n",
    "\n",
    "  def __len__(self):\n",
    "    return len(self.X)"
   ]
  },
  {
   "cell_type": "markdown",
   "source": [
    "### Losses Metrics"
   ],
   "metadata": {
    "collapsed": false,
    "pycharm": {
     "name": "#%% md\n"
    },
    "id": "J6-hCH2ivDpb"
   }
  },
  {
   "cell_type": "code",
   "execution_count": 20,
   "metadata": {
    "id": "mVaO8TruHW4M",
    "pycharm": {
     "name": "#%%\n"
    },
    "executionInfo": {
     "status": "ok",
     "timestamp": 1650891694144,
     "user_tz": -120,
     "elapsed": 40,
     "user": {
      "displayName": "Paolo D'Elia",
      "userId": "06873635760880783531"
     }
    }
   },
   "outputs": [],
   "source": [
    "def MAPELoss(output, target):\n",
    "  return torch.mean(torch.abs((target - output) / target))"
   ]
  },
  {
   "cell_type": "code",
   "execution_count": 21,
   "outputs": [],
   "source": [
    "def evaluate(model, loss_fn, X_val, y_val):\n",
    "  model.eval()\n",
    "  with torch.no_grad():\n",
    "    out = model(X_val)\n",
    "    loss = loss_fn(out, y_val)\n",
    "    print('\\nVal set: Average loss: {:.8f}\\n'.format(\n",
    "            loss.item()))\n",
    "    return loss.item()"
   ],
   "metadata": {
    "pycharm": {
     "name": "#%%\n"
    },
    "id": "tVLW5dHhvDpe",
    "executionInfo": {
     "status": "ok",
     "timestamp": 1650891694149,
     "user_tz": -120,
     "elapsed": 37,
     "user": {
      "displayName": "Paolo D'Elia",
      "userId": "06873635760880783531"
     }
    }
   }
  },
  {
   "cell_type": "markdown",
   "source": [
    "### Early Stopping class"
   ],
   "metadata": {
    "collapsed": false,
    "pycharm": {
     "name": "#%% md\n"
    },
    "id": "68eF5_EovDpf"
   }
  },
  {
   "cell_type": "code",
   "execution_count": 22,
   "outputs": [],
   "source": [
    "# Code took form: https://github.com/Bjarten/early-stopping-pytorch/blob/master/pytorchtools.py\n",
    "\n",
    "class EarlyStopping:\n",
    "    \"\"\"Early stops the training if validation loss doesn't improve after a given patience.\"\"\"\n",
    "    def __init__(self, \n",
    "                 patience=10, \n",
    "                 verbose=False, \n",
    "                 delta=0, \n",
    "                 path='../models/final_heston_model.chkpt',\n",
    "                 trace_func=print):\n",
    "        \"\"\"\n",
    "        Args:\n",
    "            patience (int): How long to wait after last time validation loss improved.\n",
    "                            Default: 7\n",
    "            verbose (bool): If True, prints a message for each validation loss improvement.\n",
    "                            Default: False\n",
    "            delta (float): Minimum change in the monitored quantity to qualify as an improvement.\n",
    "                            Default: 0\n",
    "            path (str): Path for the checkpoint to be saved to.\n",
    "                            Default: 'checkpoint.pt'\n",
    "            trace_func (function): trace print function.\n",
    "                            Default: print\n",
    "        \"\"\"\n",
    "        self.patience = patience\n",
    "        self.verbose = verbose\n",
    "        self.counter = 0\n",
    "        self.best_score = None\n",
    "        self.early_stop = False\n",
    "        self.val_loss_min = np.Inf\n",
    "        self.delta = delta\n",
    "        self.path = path\n",
    "        self.trace_func = trace_func\n",
    "\n",
    "    def __call__(self, val_loss, model):\n",
    "\n",
    "        score = val_loss\n",
    "\n",
    "        if self.best_score is None:\n",
    "            self.best_score = score\n",
    "            self.save_checkpoint(val_loss, model)\n",
    "        elif score > self.best_score + self.delta:\n",
    "            self.counter += 1\n",
    "            self.trace_func(f'EarlyStopping counter: {self.counter} out of {self.patience}')\n",
    "            if self.counter >= self.patience:\n",
    "                self.early_stop = True\n",
    "        else:\n",
    "            self.best_score = score\n",
    "            self.save_checkpoint(val_loss, model)\n",
    "            self.counter = 0\n",
    "\n",
    "    def save_checkpoint(self, val_loss, model):\n",
    "        '''Saves model when validation loss decrease.'''\n",
    "        if self.verbose:\n",
    "            self.trace_func(f'Validation loss decreased ({self.val_loss_min:.6f} --> {val_loss:.6f}).  Saving model ...')\n",
    "        torch.save(model.state_dict(), self.path)\n",
    "        self.val_loss_min = val_loss"
   ],
   "metadata": {
    "pycharm": {
     "name": "#%%\n"
    },
    "id": "n2So2ffSvDpg",
    "executionInfo": {
     "status": "ok",
     "timestamp": 1650891694150,
     "user_tz": -120,
     "elapsed": 35,
     "user": {
      "displayName": "Paolo D'Elia",
      "userId": "06873635760880783531"
     }
    }
   }
  },
  {
   "cell_type": "markdown",
   "source": [
    "### Train Loop"
   ],
   "metadata": {
    "collapsed": false,
    "pycharm": {
     "name": "#%% md\n"
    },
    "id": "dL_xmnKXvDph"
   }
  },
  {
   "cell_type": "code",
   "execution_count": 23,
   "outputs": [],
   "source": [
    "def train(\n",
    "    epochs,\n",
    "    batch_size,\n",
    "    model,\n",
    "    optimizer,\n",
    "    loss_fn,\n",
    "    X_train,\n",
    "    y_train,\n",
    "    X_val,\n",
    "    y_val\n",
    "):\n",
    "\n",
    "  training_losses = []\n",
    "  validation_losses = []\n",
    "\n",
    "  early_stopping = EarlyStopping(patience=20)\n",
    "\n",
    "  for epoch in range(epochs):\n",
    "    model.train()\n",
    "    epoch_losses = []\n",
    "    total_loss = 0\n",
    "    start_time = time.time()\n",
    "    i = 0\n",
    "\n",
    "    for batch, batch_labels in DataLoader(OptDataset(X_train, y_train), batch_size=batch_size):\n",
    "      out = model(batch.to(device))\n",
    "      optimizer.zero_grad()\n",
    "\n",
    "      loss = loss_fn(out, batch_labels.to(device))\n",
    "      epoch_losses.append(loss.item())\n",
    "      total_loss += loss.item()\n",
    "      loss.backward()\n",
    "      optimizer.step()\n",
    "\n",
    "      if i > 0 and i % 50 == 0:\n",
    "        avg_loss = total_loss / 50\n",
    "        elapsed = time.time() - start_time\n",
    "        print('| Epoch {:3d} | {:5d}/{:5d} batches | lr {:2.5f} | ms/batch {:5.2f} | '\n",
    "                  'loss {:5.8f}'.format(\n",
    "              epoch, i, len(X_train) // batch_size+1, lr, elapsed * 1000 / 50,\n",
    "              avg_loss))\n",
    "        start_time = time.time()\n",
    "        total_loss = 0\n",
    "\n",
    "      i += 1\n",
    "\n",
    "    training_losses.append(np.array(epoch_losses).mean())\n",
    "    val_loss = evaluate(model, loss_fn, X_val, y_val)\n",
    "    validation_losses.append(val_loss)\n",
    "\n",
    "    early_stopping(val_loss, model)\n",
    "\n",
    "    if early_stopping.early_stop:\n",
    "        print(f\"Stopping at Epoch: {epoch}\")\n",
    "        break\n",
    "\n",
    "  return training_losses, validation_losses"
   ],
   "metadata": {
    "pycharm": {
     "name": "#%%\n"
    },
    "id": "DrBBTGKJvDph",
    "executionInfo": {
     "status": "ok",
     "timestamp": 1650891694152,
     "user_tz": -120,
     "elapsed": 34,
     "user": {
      "displayName": "Paolo D'Elia",
      "userId": "06873635760880783531"
     }
    }
   }
  },
  {
   "cell_type": "code",
   "execution_count": 24,
   "outputs": [
    {
     "name": "stdout",
     "output_type": "stream",
     "text": [
      "| Epoch   0 |    50/  428 batches | lr 0.00013 | ms/batch 24.14 | loss 0.23410818\n",
      "| Epoch   0 |   100/  428 batches | lr 0.00013 | ms/batch 20.13 | loss 0.01525971\n",
      "| Epoch   0 |   150/  428 batches | lr 0.00013 | ms/batch 19.54 | loss 0.00859198\n",
      "| Epoch   0 |   200/  428 batches | lr 0.00013 | ms/batch 18.96 | loss 0.00526474\n",
      "| Epoch   0 |   250/  428 batches | lr 0.00013 | ms/batch 17.29 | loss 0.00349154\n",
      "| Epoch   0 |   300/  428 batches | lr 0.00013 | ms/batch 20.19 | loss 0.00278501\n",
      "| Epoch   0 |   350/  428 batches | lr 0.00013 | ms/batch 19.49 | loss 0.00246913\n",
      "| Epoch   0 |   400/  428 batches | lr 0.00013 | ms/batch 18.94 | loss 0.00220285\n",
      "\n",
      "Val set: Average loss: 0.00206423\n",
      "\n",
      "| Epoch   1 |    50/  428 batches | lr 0.00013 | ms/batch 21.28 | loss 0.00204241\n",
      "| Epoch   1 |   100/  428 batches | lr 0.00013 | ms/batch 19.42 | loss 0.00196730\n",
      "| Epoch   1 |   150/  428 batches | lr 0.00013 | ms/batch 19.32 | loss 0.00193645\n",
      "| Epoch   1 |   200/  428 batches | lr 0.00013 | ms/batch 21.38 | loss 0.00184451\n",
      "| Epoch   1 |   250/  428 batches | lr 0.00013 | ms/batch 19.16 | loss 0.00186464\n",
      "| Epoch   1 |   300/  428 batches | lr 0.00013 | ms/batch 19.22 | loss 0.00172496\n",
      "| Epoch   1 |   350/  428 batches | lr 0.00013 | ms/batch 20.74 | loss 0.00182471\n",
      "| Epoch   1 |   400/  428 batches | lr 0.00013 | ms/batch 19.40 | loss 0.00172603\n",
      "\n",
      "Val set: Average loss: 0.00161694\n",
      "\n",
      "| Epoch   2 |    50/  428 batches | lr 0.00013 | ms/batch 19.76 | loss 0.00169761\n",
      "| Epoch   2 |   100/  428 batches | lr 0.00013 | ms/batch 19.22 | loss 0.00153063\n",
      "| Epoch   2 |   150/  428 batches | lr 0.00013 | ms/batch 21.12 | loss 0.00165950\n",
      "| Epoch   2 |   200/  428 batches | lr 0.00013 | ms/batch 19.46 | loss 0.00159752\n",
      "| Epoch   2 |   250/  428 batches | lr 0.00013 | ms/batch 19.24 | loss 0.00165073\n",
      "| Epoch   2 |   300/  428 batches | lr 0.00013 | ms/batch 22.19 | loss 0.00146770\n",
      "| Epoch   2 |   350/  428 batches | lr 0.00013 | ms/batch 20.13 | loss 0.00152491\n",
      "| Epoch   2 |   400/  428 batches | lr 0.00013 | ms/batch 19.72 | loss 0.00154923\n",
      "\n",
      "Val set: Average loss: 0.00138598\n",
      "\n",
      "| Epoch   3 |    50/  428 batches | lr 0.00013 | ms/batch 20.78 | loss 0.00148062\n",
      "| Epoch   3 |   100/  428 batches | lr 0.00013 | ms/batch 21.36 | loss 0.00132796\n",
      "| Epoch   3 |   150/  428 batches | lr 0.00013 | ms/batch 19.56 | loss 0.00146260\n",
      "| Epoch   3 |   200/  428 batches | lr 0.00013 | ms/batch 19.57 | loss 0.00139102\n",
      "| Epoch   3 |   250/  428 batches | lr 0.00013 | ms/batch 20.90 | loss 0.00144829\n",
      "| Epoch   3 |   300/  428 batches | lr 0.00013 | ms/batch 19.46 | loss 0.00132521\n",
      "| Epoch   3 |   350/  428 batches | lr 0.00013 | ms/batch 19.68 | loss 0.00139405\n",
      "| Epoch   3 |   400/  428 batches | lr 0.00013 | ms/batch 21.04 | loss 0.00141613\n",
      "\n",
      "Val set: Average loss: 0.00123172\n",
      "\n",
      "| Epoch   4 |    50/  428 batches | lr 0.00013 | ms/batch 21.98 | loss 0.00130629\n",
      "| Epoch   4 |   100/  428 batches | lr 0.00013 | ms/batch 20.15 | loss 0.00119578\n",
      "| Epoch   4 |   150/  428 batches | lr 0.00013 | ms/batch 19.53 | loss 0.00132874\n",
      "| Epoch   4 |   200/  428 batches | lr 0.00013 | ms/batch 20.93 | loss 0.00122295\n",
      "| Epoch   4 |   250/  428 batches | lr 0.00013 | ms/batch 19.34 | loss 0.00130580\n",
      "| Epoch   4 |   300/  428 batches | lr 0.00013 | ms/batch 20.08 | loss 0.00128995\n",
      "| Epoch   4 |   350/  428 batches | lr 0.00013 | ms/batch 21.58 | loss 0.00136465\n",
      "| Epoch   4 |   400/  428 batches | lr 0.00013 | ms/batch 20.63 | loss 0.00124278\n",
      "\n",
      "Val set: Average loss: 0.00111507\n",
      "\n",
      "| Epoch   5 |    50/  428 batches | lr 0.00013 | ms/batch 18.23 | loss 0.00116038\n",
      "| Epoch   5 |   100/  428 batches | lr 0.00013 | ms/batch 19.91 | loss 0.00109453\n",
      "| Epoch   5 |   150/  428 batches | lr 0.00013 | ms/batch 17.77 | loss 0.00119499\n",
      "| Epoch   5 |   200/  428 batches | lr 0.00013 | ms/batch 17.78 | loss 0.00110003\n",
      "| Epoch   5 |   250/  428 batches | lr 0.00013 | ms/batch 19.08 | loss 0.00143445\n",
      "| Epoch   5 |   300/  428 batches | lr 0.00013 | ms/batch 17.42 | loss 0.00108668\n",
      "| Epoch   5 |   350/  428 batches | lr 0.00013 | ms/batch 19.49 | loss 0.00117852\n",
      "| Epoch   5 |   400/  428 batches | lr 0.00013 | ms/batch 18.38 | loss 0.00118237\n",
      "\n",
      "Val set: Average loss: 0.00104295\n",
      "\n",
      "| Epoch   6 |    50/  428 batches | lr 0.00013 | ms/batch 20.62 | loss 0.00108761\n",
      "| Epoch   6 |   100/  428 batches | lr 0.00013 | ms/batch 20.21 | loss 0.00100378\n",
      "| Epoch   6 |   150/  428 batches | lr 0.00013 | ms/batch 20.38 | loss 0.00110031\n",
      "| Epoch   6 |   200/  428 batches | lr 0.00013 | ms/batch 19.82 | loss 0.00100463\n",
      "| Epoch   6 |   250/  428 batches | lr 0.00013 | ms/batch 18.08 | loss 0.00140293\n",
      "| Epoch   6 |   300/  428 batches | lr 0.00013 | ms/batch 19.47 | loss 0.00101543\n",
      "| Epoch   6 |   350/  428 batches | lr 0.00013 | ms/batch 19.54 | loss 0.00111591\n",
      "| Epoch   6 |   400/  428 batches | lr 0.00013 | ms/batch 19.50 | loss 0.00109652\n",
      "\n",
      "Val set: Average loss: 0.00095769\n",
      "\n",
      "| Epoch   7 |    50/  428 batches | lr 0.00013 | ms/batch 22.47 | loss 0.00097807\n",
      "| Epoch   7 |   100/  428 batches | lr 0.00013 | ms/batch 19.28 | loss 0.00092101\n",
      "| Epoch   7 |   150/  428 batches | lr 0.00013 | ms/batch 19.17 | loss 0.00102101\n",
      "| Epoch   7 |   200/  428 batches | lr 0.00013 | ms/batch 20.84 | loss 0.00094215\n",
      "| Epoch   7 |   250/  428 batches | lr 0.00013 | ms/batch 23.49 | loss 0.00129788\n",
      "| Epoch   7 |   300/  428 batches | lr 0.00013 | ms/batch 21.81 | loss 0.00094363\n",
      "| Epoch   7 |   350/  428 batches | lr 0.00013 | ms/batch 24.11 | loss 0.00101591\n",
      "| Epoch   7 |   400/  428 batches | lr 0.00013 | ms/batch 19.83 | loss 0.00094864\n",
      "\n",
      "Val set: Average loss: 0.00100949\n",
      "\n",
      "EarlyStopping counter: 1 out of 20\n",
      "| Epoch   8 |    50/  428 batches | lr 0.00013 | ms/batch 17.94 | loss 0.00090150\n",
      "| Epoch   8 |   100/  428 batches | lr 0.00013 | ms/batch 17.59 | loss 0.00085773\n",
      "| Epoch   8 |   150/  428 batches | lr 0.00013 | ms/batch 19.73 | loss 0.00098362\n",
      "| Epoch   8 |   200/  428 batches | lr 0.00013 | ms/batch 17.59 | loss 0.00089363\n",
      "| Epoch   8 |   250/  428 batches | lr 0.00013 | ms/batch 19.33 | loss 0.00139501\n",
      "| Epoch   8 |   300/  428 batches | lr 0.00013 | ms/batch 17.61 | loss 0.00090102\n",
      "| Epoch   8 |   350/  428 batches | lr 0.00013 | ms/batch 20.65 | loss 0.00098139\n",
      "| Epoch   8 |   400/  428 batches | lr 0.00013 | ms/batch 20.66 | loss 0.00092961\n",
      "\n",
      "Val set: Average loss: 0.00086850\n",
      "\n",
      "| Epoch   9 |    50/  428 batches | lr 0.00013 | ms/batch 20.28 | loss 0.00084321\n",
      "| Epoch   9 |   100/  428 batches | lr 0.00013 | ms/batch 22.60 | loss 0.00081663\n",
      "| Epoch   9 |   150/  428 batches | lr 0.00013 | ms/batch 20.64 | loss 0.00091048\n",
      "| Epoch   9 |   200/  428 batches | lr 0.00013 | ms/batch 19.28 | loss 0.00080616\n",
      "| Epoch   9 |   250/  428 batches | lr 0.00013 | ms/batch 20.55 | loss 0.00100453\n",
      "| Epoch   9 |   300/  428 batches | lr 0.00013 | ms/batch 21.69 | loss 0.00086732\n",
      "| Epoch   9 |   350/  428 batches | lr 0.00013 | ms/batch 19.48 | loss 0.00090563\n",
      "| Epoch   9 |   400/  428 batches | lr 0.00013 | ms/batch 19.93 | loss 0.00080883\n",
      "\n",
      "Val set: Average loss: 0.00088756\n",
      "\n",
      "EarlyStopping counter: 1 out of 20\n",
      "| Epoch  10 |    50/  428 batches | lr 0.00013 | ms/batch 20.03 | loss 0.00085565\n",
      "| Epoch  10 |   100/  428 batches | lr 0.00013 | ms/batch 22.61 | loss 0.00075359\n",
      "| Epoch  10 |   150/  428 batches | lr 0.00013 | ms/batch 20.70 | loss 0.00080895\n",
      "| Epoch  10 |   200/  428 batches | lr 0.00013 | ms/batch 20.13 | loss 0.00082554\n",
      "| Epoch  10 |   250/  428 batches | lr 0.00013 | ms/batch 21.54 | loss 0.00113187\n",
      "| Epoch  10 |   300/  428 batches | lr 0.00013 | ms/batch 21.13 | loss 0.00080095\n",
      "| Epoch  10 |   350/  428 batches | lr 0.00013 | ms/batch 20.57 | loss 0.00084154\n",
      "| Epoch  10 |   400/  428 batches | lr 0.00013 | ms/batch 21.41 | loss 0.00076432\n",
      "\n",
      "Val set: Average loss: 0.00077985\n",
      "\n",
      "| Epoch  11 |    50/  428 batches | lr 0.00013 | ms/batch 21.40 | loss 0.00080237\n",
      "| Epoch  11 |   100/  428 batches | lr 0.00013 | ms/batch 19.36 | loss 0.00074023\n",
      "| Epoch  11 |   150/  428 batches | lr 0.00013 | ms/batch 19.87 | loss 0.00073004\n",
      "| Epoch  11 |   200/  428 batches | lr 0.00013 | ms/batch 20.91 | loss 0.00075899\n",
      "| Epoch  11 |   250/  428 batches | lr 0.00013 | ms/batch 19.73 | loss 0.00112766\n",
      "| Epoch  11 |   300/  428 batches | lr 0.00013 | ms/batch 19.35 | loss 0.00072175\n",
      "| Epoch  11 |   350/  428 batches | lr 0.00013 | ms/batch 21.32 | loss 0.00083873\n",
      "| Epoch  11 |   400/  428 batches | lr 0.00013 | ms/batch 19.39 | loss 0.00070549\n",
      "\n",
      "Val set: Average loss: 0.00081421\n",
      "\n",
      "EarlyStopping counter: 1 out of 20\n",
      "| Epoch  12 |    50/  428 batches | lr 0.00013 | ms/batch 19.77 | loss 0.00073828\n",
      "| Epoch  12 |   100/  428 batches | lr 0.00013 | ms/batch 17.69 | loss 0.00068972\n",
      "| Epoch  12 |   150/  428 batches | lr 0.00013 | ms/batch 20.34 | loss 0.00068438\n",
      "| Epoch  12 |   200/  428 batches | lr 0.00013 | ms/batch 20.04 | loss 0.00079888\n",
      "| Epoch  12 |   250/  428 batches | lr 0.00013 | ms/batch 19.46 | loss 0.00108338\n",
      "| Epoch  12 |   300/  428 batches | lr 0.00013 | ms/batch 17.69 | loss 0.00070320\n",
      "| Epoch  12 |   350/  428 batches | lr 0.00013 | ms/batch 19.37 | loss 0.00082908\n",
      "| Epoch  12 |   400/  428 batches | lr 0.00013 | ms/batch 19.82 | loss 0.00072754\n",
      "\n",
      "Val set: Average loss: 0.00069433\n",
      "\n",
      "| Epoch  13 |    50/  428 batches | lr 0.00013 | ms/batch 22.04 | loss 0.00065277\n",
      "| Epoch  13 |   100/  428 batches | lr 0.00013 | ms/batch 19.87 | loss 0.00067626\n",
      "| Epoch  13 |   150/  428 batches | lr 0.00013 | ms/batch 21.50 | loss 0.00080278\n",
      "| Epoch  13 |   200/  428 batches | lr 0.00013 | ms/batch 19.90 | loss 0.00066790\n",
      "| Epoch  13 |   250/  428 batches | lr 0.00013 | ms/batch 20.18 | loss 0.00076400\n",
      "| Epoch  13 |   300/  428 batches | lr 0.00013 | ms/batch 21.10 | loss 0.00061222\n",
      "| Epoch  13 |   350/  428 batches | lr 0.00013 | ms/batch 21.31 | loss 0.00066732\n",
      "| Epoch  13 |   400/  428 batches | lr 0.00013 | ms/batch 20.43 | loss 0.00066935\n",
      "\n",
      "Val set: Average loss: 0.00066461\n",
      "\n",
      "| Epoch  14 |    50/  428 batches | lr 0.00013 | ms/batch 19.98 | loss 0.00074622\n",
      "| Epoch  14 |   100/  428 batches | lr 0.00013 | ms/batch 21.10 | loss 0.00066705\n",
      "| Epoch  14 |   150/  428 batches | lr 0.00013 | ms/batch 19.53 | loss 0.00066795\n",
      "| Epoch  14 |   200/  428 batches | lr 0.00013 | ms/batch 19.69 | loss 0.00060940\n",
      "| Epoch  14 |   250/  428 batches | lr 0.00013 | ms/batch 21.22 | loss 0.00058759\n",
      "| Epoch  14 |   300/  428 batches | lr 0.00013 | ms/batch 19.28 | loss 0.00074003\n",
      "| Epoch  14 |   350/  428 batches | lr 0.00013 | ms/batch 19.53 | loss 0.00077855\n",
      "| Epoch  14 |   400/  428 batches | lr 0.00013 | ms/batch 21.08 | loss 0.00057174\n",
      "\n",
      "Val set: Average loss: 0.00058593\n",
      "\n",
      "| Epoch  15 |    50/  428 batches | lr 0.00013 | ms/batch 21.37 | loss 0.00073739\n",
      "| Epoch  15 |   100/  428 batches | lr 0.00013 | ms/batch 19.38 | loss 0.00068076\n",
      "| Epoch  15 |   150/  428 batches | lr 0.00013 | ms/batch 19.59 | loss 0.00071536\n",
      "| Epoch  15 |   200/  428 batches | lr 0.00013 | ms/batch 21.97 | loss 0.00057912\n",
      "| Epoch  15 |   250/  428 batches | lr 0.00013 | ms/batch 19.64 | loss 0.00057782\n",
      "| Epoch  15 |   300/  428 batches | lr 0.00013 | ms/batch 19.49 | loss 0.00075587\n",
      "| Epoch  15 |   350/  428 batches | lr 0.00013 | ms/batch 21.33 | loss 0.00067504\n",
      "| Epoch  15 |   400/  428 batches | lr 0.00013 | ms/batch 20.60 | loss 0.00056250\n",
      "\n",
      "Val set: Average loss: 0.00065955\n",
      "\n",
      "EarlyStopping counter: 1 out of 20\n",
      "| Epoch  16 |    50/  428 batches | lr 0.00013 | ms/batch 18.34 | loss 0.00059530\n",
      "| Epoch  16 |   100/  428 batches | lr 0.00013 | ms/batch 20.20 | loss 0.00066256\n",
      "| Epoch  16 |   150/  428 batches | lr 0.00013 | ms/batch 19.57 | loss 0.00058876\n",
      "| Epoch  16 |   200/  428 batches | lr 0.00013 | ms/batch 19.57 | loss 0.00051411\n",
      "| Epoch  16 |   250/  428 batches | lr 0.00013 | ms/batch 19.32 | loss 0.00074606\n",
      "| Epoch  16 |   300/  428 batches | lr 0.00013 | ms/batch 17.83 | loss 0.00064760\n",
      "| Epoch  16 |   350/  428 batches | lr 0.00013 | ms/batch 19.51 | loss 0.00066453\n",
      "| Epoch  16 |   400/  428 batches | lr 0.00013 | ms/batch 19.52 | loss 0.00055497\n",
      "\n",
      "Val set: Average loss: 0.00059775\n",
      "\n",
      "EarlyStopping counter: 2 out of 20\n",
      "| Epoch  17 |    50/  428 batches | lr 0.00013 | ms/batch 21.63 | loss 0.00062490\n",
      "| Epoch  17 |   100/  428 batches | lr 0.00013 | ms/batch 20.42 | loss 0.00066266\n",
      "| Epoch  17 |   150/  428 batches | lr 0.00013 | ms/batch 19.73 | loss 0.00072451\n",
      "| Epoch  17 |   200/  428 batches | lr 0.00013 | ms/batch 20.99 | loss 0.00065636\n",
      "| Epoch  17 |   250/  428 batches | lr 0.00013 | ms/batch 19.36 | loss 0.00063557\n",
      "| Epoch  17 |   300/  428 batches | lr 0.00013 | ms/batch 19.58 | loss 0.00055831\n",
      "| Epoch  17 |   350/  428 batches | lr 0.00013 | ms/batch 21.30 | loss 0.00082216\n",
      "| Epoch  17 |   400/  428 batches | lr 0.00013 | ms/batch 19.53 | loss 0.00058089\n",
      "\n",
      "Val set: Average loss: 0.00061731\n",
      "\n",
      "EarlyStopping counter: 3 out of 20\n",
      "| Epoch  18 |    50/  428 batches | lr 0.00013 | ms/batch 20.39 | loss 0.00047607\n",
      "| Epoch  18 |   100/  428 batches | lr 0.00013 | ms/batch 17.45 | loss 0.00061049\n",
      "| Epoch  18 |   150/  428 batches | lr 0.00013 | ms/batch 19.41 | loss 0.00065828\n",
      "| Epoch  18 |   200/  428 batches | lr 0.00013 | ms/batch 20.78 | loss 0.00062895\n",
      "| Epoch  18 |   250/  428 batches | lr 0.00013 | ms/batch 20.18 | loss 0.00054166\n",
      "| Epoch  18 |   300/  428 batches | lr 0.00013 | ms/batch 18.42 | loss 0.00055236\n",
      "| Epoch  18 |   350/  428 batches | lr 0.00013 | ms/batch 20.31 | loss 0.00070338\n",
      "| Epoch  18 |   400/  428 batches | lr 0.00013 | ms/batch 20.36 | loss 0.00054738\n",
      "\n",
      "Val set: Average loss: 0.00057422\n",
      "\n",
      "| Epoch  19 |    50/  428 batches | lr 0.00013 | ms/batch 21.49 | loss 0.00044366\n",
      "| Epoch  19 |   100/  428 batches | lr 0.00013 | ms/batch 19.21 | loss 0.00053045\n",
      "| Epoch  19 |   150/  428 batches | lr 0.00013 | ms/batch 21.07 | loss 0.00055808\n",
      "| Epoch  19 |   200/  428 batches | lr 0.00013 | ms/batch 19.39 | loss 0.00047901\n",
      "| Epoch  19 |   250/  428 batches | lr 0.00013 | ms/batch 19.72 | loss 0.00046363\n",
      "| Epoch  19 |   300/  428 batches | lr 0.00013 | ms/batch 21.07 | loss 0.00043758\n",
      "| Epoch  19 |   350/  428 batches | lr 0.00013 | ms/batch 19.55 | loss 0.00050602\n",
      "| Epoch  19 |   400/  428 batches | lr 0.00013 | ms/batch 19.41 | loss 0.00052644\n",
      "\n",
      "Val set: Average loss: 0.00062567\n",
      "\n",
      "EarlyStopping counter: 1 out of 20\n",
      "| Epoch  20 |    50/  428 batches | lr 0.00013 | ms/batch 19.98 | loss 0.00048475\n",
      "| Epoch  20 |   100/  428 batches | lr 0.00013 | ms/batch 17.73 | loss 0.00040923\n",
      "| Epoch  20 |   150/  428 batches | lr 0.00013 | ms/batch 19.90 | loss 0.00058061\n",
      "| Epoch  20 |   200/  428 batches | lr 0.00013 | ms/batch 19.69 | loss 0.00043324\n",
      "| Epoch  20 |   250/  428 batches | lr 0.00013 | ms/batch 19.68 | loss 0.00077086\n",
      "| Epoch  20 |   300/  428 batches | lr 0.00013 | ms/batch 19.43 | loss 0.00042120\n",
      "| Epoch  20 |   350/  428 batches | lr 0.00013 | ms/batch 17.99 | loss 0.00045124\n",
      "| Epoch  20 |   400/  428 batches | lr 0.00013 | ms/batch 19.15 | loss 0.00052726\n",
      "\n",
      "Val set: Average loss: 0.00051511\n",
      "\n",
      "| Epoch  21 |    50/  428 batches | lr 0.00013 | ms/batch 20.11 | loss 0.00052046\n",
      "| Epoch  21 |   100/  428 batches | lr 0.00013 | ms/batch 19.33 | loss 0.00043014\n",
      "| Epoch  21 |   150/  428 batches | lr 0.00013 | ms/batch 21.17 | loss 0.00052431\n",
      "| Epoch  21 |   200/  428 batches | lr 0.00013 | ms/batch 19.45 | loss 0.00047465\n",
      "| Epoch  21 |   250/  428 batches | lr 0.00013 | ms/batch 19.81 | loss 0.00051554\n",
      "| Epoch  21 |   300/  428 batches | lr 0.00013 | ms/batch 21.08 | loss 0.00045998\n",
      "| Epoch  21 |   350/  428 batches | lr 0.00013 | ms/batch 19.58 | loss 0.00049752\n",
      "| Epoch  21 |   400/  428 batches | lr 0.00013 | ms/batch 19.78 | loss 0.00069638\n",
      "\n",
      "Val set: Average loss: 0.00053469\n",
      "\n",
      "EarlyStopping counter: 1 out of 20\n",
      "| Epoch  22 |    50/  428 batches | lr 0.00013 | ms/batch 20.01 | loss 0.00041911\n",
      "| Epoch  22 |   100/  428 batches | lr 0.00013 | ms/batch 19.31 | loss 0.00044271\n",
      "| Epoch  22 |   150/  428 batches | lr 0.00013 | ms/batch 17.62 | loss 0.00042886\n",
      "| Epoch  22 |   200/  428 batches | lr 0.00013 | ms/batch 19.21 | loss 0.00044638\n",
      "| Epoch  22 |   250/  428 batches | lr 0.00013 | ms/batch 19.44 | loss 0.00042545\n",
      "| Epoch  22 |   300/  428 batches | lr 0.00013 | ms/batch 19.50 | loss 0.00045691\n",
      "| Epoch  22 |   350/  428 batches | lr 0.00013 | ms/batch 17.96 | loss 0.00051967\n",
      "| Epoch  22 |   400/  428 batches | lr 0.00013 | ms/batch 19.22 | loss 0.00050896\n",
      "\n",
      "Val set: Average loss: 0.00039556\n",
      "\n",
      "| Epoch  23 |    50/  428 batches | lr 0.00013 | ms/batch 20.19 | loss 0.00041510\n",
      "| Epoch  23 |   100/  428 batches | lr 0.00013 | ms/batch 19.60 | loss 0.00036361\n",
      "| Epoch  23 |   150/  428 batches | lr 0.00013 | ms/batch 21.34 | loss 0.00051725\n",
      "| Epoch  23 |   200/  428 batches | lr 0.00013 | ms/batch 19.46 | loss 0.00049711\n",
      "| Epoch  23 |   250/  428 batches | lr 0.00013 | ms/batch 19.25 | loss 0.00070939\n",
      "| Epoch  23 |   300/  428 batches | lr 0.00013 | ms/batch 21.38 | loss 0.00044967\n",
      "| Epoch  23 |   350/  428 batches | lr 0.00013 | ms/batch 19.39 | loss 0.00050413\n",
      "| Epoch  23 |   400/  428 batches | lr 0.00013 | ms/batch 19.23 | loss 0.00043099\n",
      "\n",
      "Val set: Average loss: 0.00072047\n",
      "\n",
      "EarlyStopping counter: 1 out of 20\n",
      "| Epoch  24 |    50/  428 batches | lr 0.00013 | ms/batch 19.79 | loss 0.00039546\n",
      "| Epoch  24 |   100/  428 batches | lr 0.00013 | ms/batch 19.19 | loss 0.00042083\n",
      "| Epoch  24 |   150/  428 batches | lr 0.00013 | ms/batch 18.02 | loss 0.00039173\n",
      "| Epoch  24 |   200/  428 batches | lr 0.00013 | ms/batch 19.48 | loss 0.00038407\n",
      "| Epoch  24 |   250/  428 batches | lr 0.00013 | ms/batch 19.57 | loss 0.00059462\n",
      "| Epoch  24 |   300/  428 batches | lr 0.00013 | ms/batch 19.41 | loss 0.00038609\n",
      "| Epoch  24 |   350/  428 batches | lr 0.00013 | ms/batch 19.44 | loss 0.00038714\n",
      "| Epoch  24 |   400/  428 batches | lr 0.00013 | ms/batch 17.84 | loss 0.00040844\n",
      "\n",
      "Val set: Average loss: 0.00037849\n",
      "\n",
      "| Epoch  25 |    50/  428 batches | lr 0.00013 | ms/batch 20.03 | loss 0.00040963\n",
      "| Epoch  25 |   100/  428 batches | lr 0.00013 | ms/batch 19.99 | loss 0.00044478\n",
      "| Epoch  25 |   150/  428 batches | lr 0.00013 | ms/batch 21.31 | loss 0.00037721\n",
      "| Epoch  25 |   200/  428 batches | lr 0.00013 | ms/batch 19.48 | loss 0.00050023\n",
      "| Epoch  25 |   250/  428 batches | lr 0.00013 | ms/batch 20.92 | loss 0.00093658\n",
      "| Epoch  25 |   300/  428 batches | lr 0.00013 | ms/batch 21.86 | loss 0.00049480\n",
      "| Epoch  25 |   350/  428 batches | lr 0.00013 | ms/batch 20.03 | loss 0.00047150\n",
      "| Epoch  25 |   400/  428 batches | lr 0.00013 | ms/batch 19.92 | loss 0.00049124\n",
      "\n",
      "Val set: Average loss: 0.00038516\n",
      "\n",
      "EarlyStopping counter: 1 out of 20\n",
      "| Epoch  26 |    50/  428 batches | lr 0.00013 | ms/batch 20.32 | loss 0.00033756\n",
      "| Epoch  26 |   100/  428 batches | lr 0.00013 | ms/batch 19.46 | loss 0.00042107\n",
      "| Epoch  26 |   150/  428 batches | lr 0.00013 | ms/batch 19.77 | loss 0.00050627\n",
      "| Epoch  26 |   200/  428 batches | lr 0.00013 | ms/batch 18.33 | loss 0.00052989\n",
      "| Epoch  26 |   250/  428 batches | lr 0.00013 | ms/batch 19.25 | loss 0.00041904\n",
      "| Epoch  26 |   300/  428 batches | lr 0.00013 | ms/batch 19.27 | loss 0.00041566\n",
      "| Epoch  26 |   350/  428 batches | lr 0.00013 | ms/batch 19.48 | loss 0.00041824\n",
      "| Epoch  26 |   400/  428 batches | lr 0.00013 | ms/batch 19.62 | loss 0.00041257\n",
      "\n",
      "Val set: Average loss: 0.00039702\n",
      "\n",
      "EarlyStopping counter: 2 out of 20\n",
      "| Epoch  27 |    50/  428 batches | lr 0.00013 | ms/batch 20.25 | loss 0.00034463\n",
      "| Epoch  27 |   100/  428 batches | lr 0.00013 | ms/batch 21.32 | loss 0.00039404\n",
      "| Epoch  27 |   150/  428 batches | lr 0.00013 | ms/batch 19.71 | loss 0.00040451\n",
      "| Epoch  27 |   200/  428 batches | lr 0.00013 | ms/batch 19.54 | loss 0.00037294\n",
      "| Epoch  27 |   250/  428 batches | lr 0.00013 | ms/batch 21.45 | loss 0.00036275\n",
      "| Epoch  27 |   300/  428 batches | lr 0.00013 | ms/batch 19.89 | loss 0.00035932\n",
      "| Epoch  27 |   350/  428 batches | lr 0.00013 | ms/batch 19.56 | loss 0.00035379\n",
      "| Epoch  27 |   400/  428 batches | lr 0.00013 | ms/batch 21.80 | loss 0.00048401\n",
      "\n",
      "Val set: Average loss: 0.00034962\n",
      "\n",
      "| Epoch  28 |    50/  428 batches | lr 0.00013 | ms/batch 21.38 | loss 0.00034239\n",
      "| Epoch  28 |   100/  428 batches | lr 0.00013 | ms/batch 19.78 | loss 0.00036701\n",
      "| Epoch  28 |   150/  428 batches | lr 0.00013 | ms/batch 19.67 | loss 0.00042660\n",
      "| Epoch  28 |   200/  428 batches | lr 0.00013 | ms/batch 21.20 | loss 0.00031925\n",
      "| Epoch  28 |   250/  428 batches | lr 0.00013 | ms/batch 20.27 | loss 0.00085782\n",
      "| Epoch  28 |   300/  428 batches | lr 0.00013 | ms/batch 19.49 | loss 0.00038433\n",
      "| Epoch  28 |   350/  428 batches | lr 0.00013 | ms/batch 21.18 | loss 0.00039237\n",
      "| Epoch  28 |   400/  428 batches | lr 0.00013 | ms/batch 19.40 | loss 0.00038313\n",
      "\n",
      "Val set: Average loss: 0.00036695\n",
      "\n",
      "EarlyStopping counter: 1 out of 20\n",
      "| Epoch  29 |    50/  428 batches | lr 0.00013 | ms/batch 19.95 | loss 0.00031330\n",
      "| Epoch  29 |   100/  428 batches | lr 0.00013 | ms/batch 17.86 | loss 0.00035155\n",
      "| Epoch  29 |   150/  428 batches | lr 0.00013 | ms/batch 19.28 | loss 0.00035423\n",
      "| Epoch  29 |   200/  428 batches | lr 0.00013 | ms/batch 19.63 | loss 0.00031105\n",
      "| Epoch  29 |   250/  428 batches | lr 0.00013 | ms/batch 19.37 | loss 0.00049136\n",
      "| Epoch  29 |   300/  428 batches | lr 0.00013 | ms/batch 19.50 | loss 0.00030537\n",
      "| Epoch  29 |   350/  428 batches | lr 0.00013 | ms/batch 18.02 | loss 0.00043518\n",
      "| Epoch  29 |   400/  428 batches | lr 0.00013 | ms/batch 19.34 | loss 0.00033659\n",
      "\n",
      "Val set: Average loss: 0.00037132\n",
      "\n",
      "EarlyStopping counter: 2 out of 20\n",
      "| Epoch  30 |    50/  428 batches | lr 0.00013 | ms/batch 19.98 | loss 0.00031704\n",
      "| Epoch  30 |   100/  428 batches | lr 0.00013 | ms/batch 19.26 | loss 0.00049318\n",
      "| Epoch  30 |   150/  428 batches | lr 0.00013 | ms/batch 21.49 | loss 0.00032423\n",
      "| Epoch  30 |   200/  428 batches | lr 0.00013 | ms/batch 19.60 | loss 0.00033575\n",
      "| Epoch  30 |   250/  428 batches | lr 0.00013 | ms/batch 19.39 | loss 0.00053056\n",
      "| Epoch  30 |   300/  428 batches | lr 0.00013 | ms/batch 21.03 | loss 0.00031878\n",
      "| Epoch  30 |   350/  428 batches | lr 0.00013 | ms/batch 19.48 | loss 0.00039168\n",
      "| Epoch  30 |   400/  428 batches | lr 0.00013 | ms/batch 19.49 | loss 0.00035843\n",
      "\n",
      "Val set: Average loss: 0.00062501\n",
      "\n",
      "EarlyStopping counter: 3 out of 20\n",
      "| Epoch  31 |    50/  428 batches | lr 0.00013 | ms/batch 18.20 | loss 0.00043640\n",
      "| Epoch  31 |   100/  428 batches | lr 0.00013 | ms/batch 19.15 | loss 0.00036618\n",
      "| Epoch  31 |   150/  428 batches | lr 0.00013 | ms/batch 17.73 | loss 0.00041874\n",
      "| Epoch  31 |   200/  428 batches | lr 0.00013 | ms/batch 19.26 | loss 0.00035222\n",
      "| Epoch  31 |   250/  428 batches | lr 0.00013 | ms/batch 17.67 | loss 0.00054615\n",
      "| Epoch  31 |   300/  428 batches | lr 0.00013 | ms/batch 19.37 | loss 0.00033714\n",
      "| Epoch  31 |   350/  428 batches | lr 0.00013 | ms/batch 17.63 | loss 0.00034793\n",
      "| Epoch  31 |   400/  428 batches | lr 0.00013 | ms/batch 17.81 | loss 0.00032377\n",
      "\n",
      "Val set: Average loss: 0.00034880\n",
      "\n",
      "| Epoch  32 |    50/  428 batches | lr 0.00013 | ms/batch 18.25 | loss 0.00039354\n",
      "| Epoch  32 |   100/  428 batches | lr 0.00013 | ms/batch 19.47 | loss 0.00034438\n",
      "| Epoch  32 |   150/  428 batches | lr 0.00013 | ms/batch 19.47 | loss 0.00042956\n",
      "| Epoch  32 |   200/  428 batches | lr 0.00013 | ms/batch 19.33 | loss 0.00039784\n",
      "| Epoch  32 |   250/  428 batches | lr 0.00013 | ms/batch 19.71 | loss 0.00060722\n",
      "| Epoch  32 |   300/  428 batches | lr 0.00013 | ms/batch 17.98 | loss 0.00035537\n",
      "| Epoch  32 |   350/  428 batches | lr 0.00013 | ms/batch 19.57 | loss 0.00037936\n",
      "| Epoch  32 |   400/  428 batches | lr 0.00013 | ms/batch 19.65 | loss 0.00043638\n",
      "\n",
      "Val set: Average loss: 0.00033458\n",
      "\n",
      "| Epoch  33 |    50/  428 batches | lr 0.00013 | ms/batch 22.00 | loss 0.00032521\n",
      "| Epoch  33 |   100/  428 batches | lr 0.00013 | ms/batch 19.78 | loss 0.00058652\n",
      "| Epoch  33 |   150/  428 batches | lr 0.00013 | ms/batch 19.53 | loss 0.00049182\n",
      "| Epoch  33 |   200/  428 batches | lr 0.00013 | ms/batch 21.54 | loss 0.00040500\n",
      "| Epoch  33 |   250/  428 batches | lr 0.00013 | ms/batch 19.82 | loss 0.00029536\n",
      "| Epoch  33 |   300/  428 batches | lr 0.00013 | ms/batch 19.60 | loss 0.00030964\n",
      "| Epoch  33 |   350/  428 batches | lr 0.00013 | ms/batch 21.47 | loss 0.00035422\n",
      "| Epoch  33 |   400/  428 batches | lr 0.00013 | ms/batch 19.64 | loss 0.00043974\n",
      "\n",
      "Val set: Average loss: 0.00030852\n",
      "\n",
      "| Epoch  34 |    50/  428 batches | lr 0.00013 | ms/batch 19.88 | loss 0.00029399\n",
      "| Epoch  34 |   100/  428 batches | lr 0.00013 | ms/batch 21.95 | loss 0.00046584\n",
      "| Epoch  34 |   150/  428 batches | lr 0.00013 | ms/batch 19.66 | loss 0.00040558\n",
      "| Epoch  34 |   200/  428 batches | lr 0.00013 | ms/batch 19.94 | loss 0.00044392\n",
      "| Epoch  34 |   250/  428 batches | lr 0.00013 | ms/batch 21.26 | loss 0.00028460\n",
      "| Epoch  34 |   300/  428 batches | lr 0.00013 | ms/batch 19.54 | loss 0.00028330\n",
      "| Epoch  34 |   350/  428 batches | lr 0.00013 | ms/batch 19.49 | loss 0.00026503\n",
      "| Epoch  34 |   400/  428 batches | lr 0.00013 | ms/batch 21.33 | loss 0.00029073\n",
      "\n",
      "Val set: Average loss: 0.00029559\n",
      "\n",
      "| Epoch  35 |    50/  428 batches | lr 0.00013 | ms/batch 22.12 | loss 0.00026101\n",
      "| Epoch  35 |   100/  428 batches | lr 0.00013 | ms/batch 19.33 | loss 0.00029526\n",
      "| Epoch  35 |   150/  428 batches | lr 0.00013 | ms/batch 19.60 | loss 0.00041331\n",
      "| Epoch  35 |   200/  428 batches | lr 0.00013 | ms/batch 21.17 | loss 0.00030351\n",
      "| Epoch  35 |   250/  428 batches | lr 0.00013 | ms/batch 19.48 | loss 0.00038764\n",
      "| Epoch  35 |   300/  428 batches | lr 0.00013 | ms/batch 19.94 | loss 0.00031747\n",
      "| Epoch  35 |   350/  428 batches | lr 0.00013 | ms/batch 21.12 | loss 0.00047182\n",
      "| Epoch  35 |   400/  428 batches | lr 0.00013 | ms/batch 19.63 | loss 0.00030179\n",
      "\n",
      "Val set: Average loss: 0.00029123\n",
      "\n",
      "| Epoch  36 |    50/  428 batches | lr 0.00013 | ms/batch 18.08 | loss 0.00025310\n",
      "| Epoch  36 |   100/  428 batches | lr 0.00013 | ms/batch 17.91 | loss 0.00057005\n",
      "| Epoch  36 |   150/  428 batches | lr 0.00013 | ms/batch 19.35 | loss 0.00040056\n",
      "| Epoch  36 |   200/  428 batches | lr 0.00013 | ms/batch 17.57 | loss 0.00040781\n",
      "| Epoch  36 |   250/  428 batches | lr 0.00013 | ms/batch 19.80 | loss 0.00032809\n",
      "| Epoch  36 |   300/  428 batches | lr 0.00013 | ms/batch 17.60 | loss 0.00026755\n",
      "| Epoch  36 |   350/  428 batches | lr 0.00013 | ms/batch 19.40 | loss 0.00025879\n",
      "| Epoch  36 |   400/  428 batches | lr 0.00013 | ms/batch 17.50 | loss 0.00026977\n",
      "\n",
      "Val set: Average loss: 0.00032756\n",
      "\n",
      "EarlyStopping counter: 1 out of 20\n",
      "| Epoch  37 |    50/  428 batches | lr 0.00013 | ms/batch 21.27 | loss 0.00030678\n",
      "| Epoch  37 |   100/  428 batches | lr 0.00013 | ms/batch 19.45 | loss 0.00043598\n",
      "| Epoch  37 |   150/  428 batches | lr 0.00013 | ms/batch 19.31 | loss 0.00031742\n",
      "| Epoch  37 |   200/  428 batches | lr 0.00013 | ms/batch 21.04 | loss 0.00027565\n",
      "| Epoch  37 |   250/  428 batches | lr 0.00013 | ms/batch 19.40 | loss 0.00033190\n",
      "| Epoch  37 |   300/  428 batches | lr 0.00013 | ms/batch 19.45 | loss 0.00035371\n",
      "| Epoch  37 |   350/  428 batches | lr 0.00013 | ms/batch 21.17 | loss 0.00034077\n",
      "| Epoch  37 |   400/  428 batches | lr 0.00013 | ms/batch 19.44 | loss 0.00031913\n",
      "\n",
      "Val set: Average loss: 0.00060443\n",
      "\n",
      "EarlyStopping counter: 2 out of 20\n",
      "| Epoch  38 |    50/  428 batches | lr 0.00013 | ms/batch 18.12 | loss 0.00028743\n",
      "| Epoch  38 |   100/  428 batches | lr 0.00013 | ms/batch 17.71 | loss 0.00032597\n",
      "| Epoch  38 |   150/  428 batches | lr 0.00013 | ms/batch 19.50 | loss 0.00031042\n",
      "| Epoch  38 |   200/  428 batches | lr 0.00013 | ms/batch 17.73 | loss 0.00036925\n",
      "| Epoch  38 |   250/  428 batches | lr 0.00013 | ms/batch 19.50 | loss 0.00052024\n",
      "| Epoch  38 |   300/  428 batches | lr 0.00013 | ms/batch 17.58 | loss 0.00032158\n",
      "| Epoch  38 |   350/  428 batches | lr 0.00013 | ms/batch 19.48 | loss 0.00028377\n",
      "| Epoch  38 |   400/  428 batches | lr 0.00013 | ms/batch 17.87 | loss 0.00035928\n",
      "\n",
      "Val set: Average loss: 0.00037033\n",
      "\n",
      "EarlyStopping counter: 3 out of 20\n",
      "| Epoch  39 |    50/  428 batches | lr 0.00013 | ms/batch 21.40 | loss 0.00032563\n",
      "| Epoch  39 |   100/  428 batches | lr 0.00013 | ms/batch 19.46 | loss 0.00031135\n",
      "| Epoch  39 |   150/  428 batches | lr 0.00013 | ms/batch 19.27 | loss 0.00033826\n",
      "| Epoch  39 |   200/  428 batches | lr 0.00013 | ms/batch 21.22 | loss 0.00031463\n",
      "| Epoch  39 |   250/  428 batches | lr 0.00013 | ms/batch 19.57 | loss 0.00036469\n",
      "| Epoch  39 |   300/  428 batches | lr 0.00013 | ms/batch 19.72 | loss 0.00028077\n",
      "| Epoch  39 |   350/  428 batches | lr 0.00013 | ms/batch 20.96 | loss 0.00027128\n",
      "| Epoch  39 |   400/  428 batches | lr 0.00013 | ms/batch 19.86 | loss 0.00026284\n",
      "\n",
      "Val set: Average loss: 0.00038055\n",
      "\n",
      "EarlyStopping counter: 4 out of 20\n",
      "| Epoch  40 |    50/  428 batches | lr 0.00013 | ms/batch 18.17 | loss 0.00030283\n",
      "| Epoch  40 |   100/  428 batches | lr 0.00013 | ms/batch 19.12 | loss 0.00042220\n",
      "| Epoch  40 |   150/  428 batches | lr 0.00013 | ms/batch 18.17 | loss 0.00045861\n",
      "| Epoch  40 |   200/  428 batches | lr 0.00013 | ms/batch 17.88 | loss 0.00051337\n",
      "| Epoch  40 |   250/  428 batches | lr 0.00013 | ms/batch 19.57 | loss 0.00030427\n",
      "| Epoch  40 |   300/  428 batches | lr 0.00013 | ms/batch 17.92 | loss 0.00032102\n",
      "| Epoch  40 |   350/  428 batches | lr 0.00013 | ms/batch 19.23 | loss 0.00030879\n",
      "| Epoch  40 |   400/  428 batches | lr 0.00013 | ms/batch 17.51 | loss 0.00041794\n",
      "\n",
      "Val set: Average loss: 0.00030282\n",
      "\n",
      "EarlyStopping counter: 5 out of 20\n",
      "| Epoch  41 |    50/  428 batches | lr 0.00013 | ms/batch 21.87 | loss 0.00029462\n",
      "| Epoch  41 |   100/  428 batches | lr 0.00013 | ms/batch 19.67 | loss 0.00046459\n",
      "| Epoch  41 |   150/  428 batches | lr 0.00013 | ms/batch 19.72 | loss 0.00049153\n",
      "| Epoch  41 |   200/  428 batches | lr 0.00013 | ms/batch 21.48 | loss 0.00034468\n",
      "| Epoch  41 |   250/  428 batches | lr 0.00013 | ms/batch 19.76 | loss 0.00024241\n",
      "| Epoch  41 |   300/  428 batches | lr 0.00013 | ms/batch 19.83 | loss 0.00027414\n",
      "| Epoch  41 |   350/  428 batches | lr 0.00013 | ms/batch 21.62 | loss 0.00031106\n",
      "| Epoch  41 |   400/  428 batches | lr 0.00013 | ms/batch 19.50 | loss 0.00048693\n",
      "\n",
      "Val set: Average loss: 0.00028692\n",
      "\n",
      "| Epoch  42 |    50/  428 batches | lr 0.00013 | ms/batch 20.35 | loss 0.00028213\n",
      "| Epoch  42 |   100/  428 batches | lr 0.00013 | ms/batch 21.13 | loss 0.00044430\n",
      "| Epoch  42 |   150/  428 batches | lr 0.00013 | ms/batch 19.44 | loss 0.00035534\n",
      "| Epoch  42 |   200/  428 batches | lr 0.00013 | ms/batch 19.79 | loss 0.00030572\n",
      "| Epoch  42 |   250/  428 batches | lr 0.00013 | ms/batch 21.61 | loss 0.00023120\n",
      "| Epoch  42 |   300/  428 batches | lr 0.00013 | ms/batch 19.50 | loss 0.00025328\n",
      "| Epoch  42 |   350/  428 batches | lr 0.00013 | ms/batch 19.53 | loss 0.00024865\n",
      "| Epoch  42 |   400/  428 batches | lr 0.00013 | ms/batch 21.34 | loss 0.00032569\n",
      "\n",
      "Val set: Average loss: 0.00025421\n",
      "\n",
      "| Epoch  43 |    50/  428 batches | lr 0.00013 | ms/batch 19.87 | loss 0.00024904\n",
      "| Epoch  43 |   100/  428 batches | lr 0.00013 | ms/batch 21.86 | loss 0.00025630\n",
      "| Epoch  43 |   150/  428 batches | lr 0.00013 | ms/batch 19.51 | loss 0.00025312\n",
      "| Epoch  43 |   200/  428 batches | lr 0.00013 | ms/batch 19.52 | loss 0.00024097\n",
      "| Epoch  43 |   250/  428 batches | lr 0.00013 | ms/batch 21.05 | loss 0.00029459\n",
      "| Epoch  43 |   300/  428 batches | lr 0.00013 | ms/batch 19.35 | loss 0.00032450\n",
      "| Epoch  43 |   350/  428 batches | lr 0.00013 | ms/batch 19.36 | loss 0.00026213\n",
      "| Epoch  43 |   400/  428 batches | lr 0.00013 | ms/batch 20.95 | loss 0.00029707\n",
      "\n",
      "Val set: Average loss: 0.00026582\n",
      "\n",
      "EarlyStopping counter: 1 out of 20\n",
      "| Epoch  44 |    50/  428 batches | lr 0.00013 | ms/batch 19.54 | loss 0.00027310\n",
      "| Epoch  44 |   100/  428 batches | lr 0.00013 | ms/batch 17.72 | loss 0.00033209\n",
      "| Epoch  44 |   150/  428 batches | lr 0.00013 | ms/batch 19.41 | loss 0.00035381\n",
      "| Epoch  44 |   200/  428 batches | lr 0.00013 | ms/batch 17.65 | loss 0.00026273\n",
      "| Epoch  44 |   250/  428 batches | lr 0.00013 | ms/batch 19.24 | loss 0.00033918\n",
      "| Epoch  44 |   300/  428 batches | lr 0.00013 | ms/batch 17.49 | loss 0.00028562\n",
      "| Epoch  44 |   350/  428 batches | lr 0.00013 | ms/batch 17.65 | loss 0.00027431\n",
      "| Epoch  44 |   400/  428 batches | lr 0.00013 | ms/batch 20.10 | loss 0.00026258\n",
      "\n",
      "Val set: Average loss: 0.00027279\n",
      "\n",
      "EarlyStopping counter: 2 out of 20\n",
      "| Epoch  45 |    50/  428 batches | lr 0.00013 | ms/batch 20.13 | loss 0.00043637\n",
      "| Epoch  45 |   100/  428 batches | lr 0.00013 | ms/batch 21.22 | loss 0.00028679\n",
      "| Epoch  45 |   150/  428 batches | lr 0.00013 | ms/batch 19.46 | loss 0.00027898\n",
      "| Epoch  45 |   200/  428 batches | lr 0.00013 | ms/batch 19.49 | loss 0.00031154\n",
      "| Epoch  45 |   250/  428 batches | lr 0.00013 | ms/batch 20.87 | loss 0.00041279\n",
      "| Epoch  45 |   300/  428 batches | lr 0.00013 | ms/batch 20.47 | loss 0.00027210\n",
      "| Epoch  45 |   350/  428 batches | lr 0.00013 | ms/batch 19.75 | loss 0.00035537\n",
      "| Epoch  45 |   400/  428 batches | lr 0.00013 | ms/batch 21.54 | loss 0.00030376\n",
      "\n",
      "Val set: Average loss: 0.00026272\n",
      "\n",
      "EarlyStopping counter: 3 out of 20\n",
      "| Epoch  46 |    50/  428 batches | lr 0.00013 | ms/batch 18.33 | loss 0.00025706\n",
      "| Epoch  46 |   100/  428 batches | lr 0.00013 | ms/batch 17.59 | loss 0.00027399\n",
      "| Epoch  46 |   150/  428 batches | lr 0.00013 | ms/batch 19.06 | loss 0.00023540\n",
      "| Epoch  46 |   200/  428 batches | lr 0.00013 | ms/batch 17.50 | loss 0.00027484\n",
      "| Epoch  46 |   250/  428 batches | lr 0.00013 | ms/batch 19.31 | loss 0.00043425\n",
      "| Epoch  46 |   300/  428 batches | lr 0.00013 | ms/batch 18.18 | loss 0.00024052\n",
      "| Epoch  46 |   350/  428 batches | lr 0.00013 | ms/batch 17.64 | loss 0.00030657\n",
      "| Epoch  46 |   400/  428 batches | lr 0.00013 | ms/batch 19.15 | loss 0.00026263\n",
      "\n",
      "Val set: Average loss: 0.00049219\n",
      "\n",
      "EarlyStopping counter: 4 out of 20\n",
      "| Epoch  47 |    50/  428 batches | lr 0.00013 | ms/batch 19.67 | loss 0.00026198\n",
      "| Epoch  47 |   100/  428 batches | lr 0.00013 | ms/batch 21.04 | loss 0.00024333\n",
      "| Epoch  47 |   150/  428 batches | lr 0.00013 | ms/batch 19.37 | loss 0.00029656\n",
      "| Epoch  47 |   200/  428 batches | lr 0.00013 | ms/batch 19.35 | loss 0.00038762\n",
      "| Epoch  47 |   250/  428 batches | lr 0.00013 | ms/batch 20.88 | loss 0.00032187\n",
      "| Epoch  47 |   300/  428 batches | lr 0.00013 | ms/batch 19.29 | loss 0.00022472\n",
      "| Epoch  47 |   350/  428 batches | lr 0.00013 | ms/batch 19.46 | loss 0.00029113\n",
      "| Epoch  47 |   400/  428 batches | lr 0.00013 | ms/batch 21.02 | loss 0.00025849\n",
      "\n",
      "Val set: Average loss: 0.00030821\n",
      "\n",
      "EarlyStopping counter: 5 out of 20\n",
      "| Epoch  48 |    50/  428 batches | lr 0.00013 | ms/batch 17.82 | loss 0.00030108\n",
      "| Epoch  48 |   100/  428 batches | lr 0.00013 | ms/batch 17.46 | loss 0.00029644\n",
      "| Epoch  48 |   150/  428 batches | lr 0.00013 | ms/batch 19.20 | loss 0.00030577\n",
      "| Epoch  48 |   200/  428 batches | lr 0.00013 | ms/batch 17.56 | loss 0.00029750\n",
      "| Epoch  48 |   250/  428 batches | lr 0.00013 | ms/batch 19.07 | loss 0.00028215\n",
      "| Epoch  48 |   300/  428 batches | lr 0.00013 | ms/batch 17.47 | loss 0.00027722\n",
      "| Epoch  48 |   350/  428 batches | lr 0.00013 | ms/batch 17.51 | loss 0.00042740\n",
      "| Epoch  48 |   400/  428 batches | lr 0.00013 | ms/batch 19.02 | loss 0.00032585\n",
      "\n",
      "Val set: Average loss: 0.00026565\n",
      "\n",
      "EarlyStopping counter: 6 out of 20\n",
      "| Epoch  49 |    50/  428 batches | lr 0.00013 | ms/batch 19.69 | loss 0.00027359\n",
      "| Epoch  49 |   100/  428 batches | lr 0.00013 | ms/batch 20.86 | loss 0.00026758\n",
      "| Epoch  49 |   150/  428 batches | lr 0.00013 | ms/batch 19.30 | loss 0.00031115\n",
      "| Epoch  49 |   200/  428 batches | lr 0.00013 | ms/batch 19.32 | loss 0.00044064\n",
      "| Epoch  49 |   250/  428 batches | lr 0.00013 | ms/batch 20.89 | loss 0.00027027\n",
      "| Epoch  49 |   300/  428 batches | lr 0.00013 | ms/batch 19.41 | loss 0.00028516\n",
      "| Epoch  49 |   350/  428 batches | lr 0.00013 | ms/batch 19.45 | loss 0.00025189\n",
      "| Epoch  49 |   400/  428 batches | lr 0.00013 | ms/batch 20.84 | loss 0.00035970\n",
      "\n",
      "Val set: Average loss: 0.00026621\n",
      "\n",
      "EarlyStopping counter: 7 out of 20\n",
      "| Epoch  50 |    50/  428 batches | lr 0.00013 | ms/batch 17.96 | loss 0.00027092\n",
      "| Epoch  50 |   100/  428 batches | lr 0.00013 | ms/batch 17.59 | loss 0.00033003\n",
      "| Epoch  50 |   150/  428 batches | lr 0.00013 | ms/batch 19.16 | loss 0.00031866\n",
      "| Epoch  50 |   200/  428 batches | lr 0.00013 | ms/batch 17.57 | loss 0.00045021\n",
      "| Epoch  50 |   250/  428 batches | lr 0.00013 | ms/batch 19.06 | loss 0.00023827\n",
      "| Epoch  50 |   300/  428 batches | lr 0.00013 | ms/batch 17.43 | loss 0.00025110\n",
      "| Epoch  50 |   350/  428 batches | lr 0.00013 | ms/batch 17.47 | loss 0.00025526\n",
      "| Epoch  50 |   400/  428 batches | lr 0.00013 | ms/batch 19.08 | loss 0.00042786\n",
      "\n",
      "Val set: Average loss: 0.00025937\n",
      "\n",
      "EarlyStopping counter: 8 out of 20\n",
      "| Epoch  51 |    50/  428 batches | lr 0.00013 | ms/batch 19.78 | loss 0.00025466\n",
      "| Epoch  51 |   100/  428 batches | lr 0.00013 | ms/batch 20.84 | loss 0.00037915\n",
      "| Epoch  51 |   150/  428 batches | lr 0.00013 | ms/batch 19.23 | loss 0.00034181\n",
      "| Epoch  51 |   200/  428 batches | lr 0.00013 | ms/batch 19.45 | loss 0.00036109\n",
      "| Epoch  51 |   250/  428 batches | lr 0.00013 | ms/batch 22.33 | loss 0.00023107\n",
      "| Epoch  51 |   300/  428 batches | lr 0.00013 | ms/batch 19.38 | loss 0.00023503\n",
      "| Epoch  51 |   350/  428 batches | lr 0.00013 | ms/batch 19.62 | loss 0.00024582\n",
      "| Epoch  51 |   400/  428 batches | lr 0.00013 | ms/batch 21.34 | loss 0.00067214\n",
      "\n",
      "Val set: Average loss: 0.00027579\n",
      "\n",
      "EarlyStopping counter: 9 out of 20\n",
      "| Epoch  52 |    50/  428 batches | lr 0.00013 | ms/batch 18.15 | loss 0.00030382\n",
      "| Epoch  52 |   100/  428 batches | lr 0.00013 | ms/batch 17.74 | loss 0.00028280\n",
      "| Epoch  52 |   150/  428 batches | lr 0.00013 | ms/batch 19.32 | loss 0.00029912\n",
      "| Epoch  52 |   200/  428 batches | lr 0.00013 | ms/batch 18.03 | loss 0.00031440\n",
      "| Epoch  52 |   250/  428 batches | lr 0.00013 | ms/batch 19.19 | loss 0.00032222\n",
      "| Epoch  52 |   300/  428 batches | lr 0.00013 | ms/batch 17.76 | loss 0.00032805\n",
      "| Epoch  52 |   350/  428 batches | lr 0.00013 | ms/batch 17.81 | loss 0.00025744\n",
      "| Epoch  52 |   400/  428 batches | lr 0.00013 | ms/batch 19.46 | loss 0.00034660\n",
      "\n",
      "Val set: Average loss: 0.00028222\n",
      "\n",
      "EarlyStopping counter: 10 out of 20\n",
      "| Epoch  53 |    50/  428 batches | lr 0.00013 | ms/batch 19.78 | loss 0.00026459\n",
      "| Epoch  53 |   100/  428 batches | lr 0.00013 | ms/batch 21.08 | loss 0.00029767\n",
      "| Epoch  53 |   150/  428 batches | lr 0.00013 | ms/batch 19.64 | loss 0.00023961\n",
      "| Epoch  53 |   200/  428 batches | lr 0.00013 | ms/batch 19.44 | loss 0.00025521\n",
      "| Epoch  53 |   250/  428 batches | lr 0.00013 | ms/batch 20.97 | loss 0.00020690\n",
      "| Epoch  53 |   300/  428 batches | lr 0.00013 | ms/batch 19.33 | loss 0.00020663\n",
      "| Epoch  53 |   350/  428 batches | lr 0.00013 | ms/batch 19.85 | loss 0.00019021\n",
      "| Epoch  53 |   400/  428 batches | lr 0.00013 | ms/batch 21.61 | loss 0.00024707\n",
      "\n",
      "Val set: Average loss: 0.00021947\n",
      "\n",
      "| Epoch  54 |    50/  428 batches | lr 0.00013 | ms/batch 20.04 | loss 0.00020685\n",
      "| Epoch  54 |   100/  428 batches | lr 0.00013 | ms/batch 19.84 | loss 0.00021092\n",
      "| Epoch  54 |   150/  428 batches | lr 0.00013 | ms/batch 21.22 | loss 0.00020106\n",
      "| Epoch  54 |   200/  428 batches | lr 0.00013 | ms/batch 20.00 | loss 0.00023099\n",
      "| Epoch  54 |   250/  428 batches | lr 0.00013 | ms/batch 20.18 | loss 0.00034146\n",
      "| Epoch  54 |   300/  428 batches | lr 0.00013 | ms/batch 21.73 | loss 0.00023340\n",
      "| Epoch  54 |   350/  428 batches | lr 0.00013 | ms/batch 20.42 | loss 0.00024142\n",
      "| Epoch  54 |   400/  428 batches | lr 0.00013 | ms/batch 19.67 | loss 0.00025016\n",
      "\n",
      "Val set: Average loss: 0.00025698\n",
      "\n",
      "EarlyStopping counter: 1 out of 20\n",
      "| Epoch  55 |    50/  428 batches | lr 0.00013 | ms/batch 18.30 | loss 0.00032851\n",
      "| Epoch  55 |   100/  428 batches | lr 0.00013 | ms/batch 19.49 | loss 0.00024100\n",
      "| Epoch  55 |   150/  428 batches | lr 0.00013 | ms/batch 17.49 | loss 0.00021066\n",
      "| Epoch  55 |   200/  428 batches | lr 0.00013 | ms/batch 19.34 | loss 0.00033958\n",
      "| Epoch  55 |   250/  428 batches | lr 0.00013 | ms/batch 17.57 | loss 0.00029275\n",
      "| Epoch  55 |   300/  428 batches | lr 0.00013 | ms/batch 19.14 | loss 0.00024006\n",
      "| Epoch  55 |   350/  428 batches | lr 0.00013 | ms/batch 17.82 | loss 0.00029111\n",
      "| Epoch  55 |   400/  428 batches | lr 0.00013 | ms/batch 17.88 | loss 0.00022080\n",
      "\n",
      "Val set: Average loss: 0.00075480\n",
      "\n",
      "EarlyStopping counter: 2 out of 20\n",
      "| Epoch  56 |    50/  428 batches | lr 0.00013 | ms/batch 19.84 | loss 0.00026989\n",
      "| Epoch  56 |   100/  428 batches | lr 0.00013 | ms/batch 19.58 | loss 0.00024638\n",
      "| Epoch  56 |   150/  428 batches | lr 0.00013 | ms/batch 21.29 | loss 0.00021761\n",
      "| Epoch  56 |   200/  428 batches | lr 0.00013 | ms/batch 20.46 | loss 0.00034344\n",
      "| Epoch  56 |   250/  428 batches | lr 0.00013 | ms/batch 19.64 | loss 0.00028591\n",
      "| Epoch  56 |   300/  428 batches | lr 0.00013 | ms/batch 21.94 | loss 0.00023383\n",
      "| Epoch  56 |   350/  428 batches | lr 0.00013 | ms/batch 19.87 | loss 0.00027454\n",
      "| Epoch  56 |   400/  428 batches | lr 0.00013 | ms/batch 20.18 | loss 0.00020841\n",
      "\n",
      "Val set: Average loss: 0.00067515\n",
      "\n",
      "EarlyStopping counter: 3 out of 20\n",
      "| Epoch  57 |    50/  428 batches | lr 0.00013 | ms/batch 19.95 | loss 0.00035618\n",
      "| Epoch  57 |   100/  428 batches | lr 0.00013 | ms/batch 19.48 | loss 0.00024583\n",
      "| Epoch  57 |   150/  428 batches | lr 0.00013 | ms/batch 17.60 | loss 0.00020715\n",
      "| Epoch  57 |   200/  428 batches | lr 0.00013 | ms/batch 19.19 | loss 0.00030247\n",
      "| Epoch  57 |   250/  428 batches | lr 0.00013 | ms/batch 19.18 | loss 0.00028594\n",
      "| Epoch  57 |   300/  428 batches | lr 0.00013 | ms/batch 19.30 | loss 0.00025709\n",
      "| Epoch  57 |   350/  428 batches | lr 0.00013 | ms/batch 19.23 | loss 0.00035816\n",
      "| Epoch  57 |   400/  428 batches | lr 0.00013 | ms/batch 17.55 | loss 0.00031776\n",
      "\n",
      "Val set: Average loss: 0.00022078\n",
      "\n",
      "EarlyStopping counter: 4 out of 20\n",
      "| Epoch  58 |    50/  428 batches | lr 0.00013 | ms/batch 19.71 | loss 0.00025291\n",
      "| Epoch  58 |   100/  428 batches | lr 0.00013 | ms/batch 21.80 | loss 0.00024930\n",
      "| Epoch  58 |   150/  428 batches | lr 0.00013 | ms/batch 19.66 | loss 0.00024540\n",
      "| Epoch  58 |   200/  428 batches | lr 0.00013 | ms/batch 19.65 | loss 0.00037137\n",
      "| Epoch  58 |   250/  428 batches | lr 0.00013 | ms/batch 21.48 | loss 0.00023347\n",
      "| Epoch  58 |   300/  428 batches | lr 0.00013 | ms/batch 19.63 | loss 0.00024433\n",
      "| Epoch  58 |   350/  428 batches | lr 0.00013 | ms/batch 20.12 | loss 0.00024077\n",
      "| Epoch  58 |   400/  428 batches | lr 0.00013 | ms/batch 21.32 | loss 0.00026414\n",
      "\n",
      "Val set: Average loss: 0.00025044\n",
      "\n",
      "EarlyStopping counter: 5 out of 20\n",
      "| Epoch  59 |    50/  428 batches | lr 0.00013 | ms/batch 20.57 | loss 0.00021384\n",
      "| Epoch  59 |   100/  428 batches | lr 0.00013 | ms/batch 17.98 | loss 0.00020966\n",
      "| Epoch  59 |   150/  428 batches | lr 0.00013 | ms/batch 17.77 | loss 0.00019485\n",
      "| Epoch  59 |   200/  428 batches | lr 0.00013 | ms/batch 19.64 | loss 0.00022367\n",
      "| Epoch  59 |   250/  428 batches | lr 0.00013 | ms/batch 17.66 | loss 0.00030268\n",
      "| Epoch  59 |   300/  428 batches | lr 0.00013 | ms/batch 19.64 | loss 0.00024134\n",
      "| Epoch  59 |   350/  428 batches | lr 0.00013 | ms/batch 17.68 | loss 0.00025648\n",
      "| Epoch  59 |   400/  428 batches | lr 0.00013 | ms/batch 19.21 | loss 0.00020459\n",
      "\n",
      "Val set: Average loss: 0.00025175\n",
      "\n",
      "EarlyStopping counter: 6 out of 20\n",
      "| Epoch  60 |    50/  428 batches | lr 0.00013 | ms/batch 19.91 | loss 0.00023272\n",
      "| Epoch  60 |   100/  428 batches | lr 0.00013 | ms/batch 19.56 | loss 0.00023844\n",
      "| Epoch  60 |   150/  428 batches | lr 0.00013 | ms/batch 21.85 | loss 0.00029307\n",
      "| Epoch  60 |   200/  428 batches | lr 0.00013 | ms/batch 19.77 | loss 0.00023754\n",
      "| Epoch  60 |   250/  428 batches | lr 0.00013 | ms/batch 19.50 | loss 0.00035465\n",
      "| Epoch  60 |   300/  428 batches | lr 0.00013 | ms/batch 21.09 | loss 0.00024961\n",
      "| Epoch  60 |   350/  428 batches | lr 0.00013 | ms/batch 19.49 | loss 0.00025998\n",
      "| Epoch  60 |   400/  428 batches | lr 0.00013 | ms/batch 19.60 | loss 0.00025683\n",
      "\n",
      "Val set: Average loss: 0.00020871\n",
      "\n",
      "| Epoch  61 |    50/  428 batches | lr 0.00013 | ms/batch 19.85 | loss 0.00025807\n",
      "| Epoch  61 |   100/  428 batches | lr 0.00013 | ms/batch 17.98 | loss 0.00022297\n",
      "| Epoch  61 |   150/  428 batches | lr 0.00013 | ms/batch 17.95 | loss 0.00026498\n",
      "| Epoch  61 |   200/  428 batches | lr 0.00013 | ms/batch 19.38 | loss 0.00031045\n",
      "| Epoch  61 |   250/  428 batches | lr 0.00013 | ms/batch 17.76 | loss 0.00025619\n",
      "| Epoch  61 |   300/  428 batches | lr 0.00013 | ms/batch 19.26 | loss 0.00025621\n",
      "| Epoch  61 |   350/  428 batches | lr 0.00013 | ms/batch 17.85 | loss 0.00027189\n",
      "| Epoch  61 |   400/  428 batches | lr 0.00013 | ms/batch 17.68 | loss 0.00026161\n",
      "\n",
      "Val set: Average loss: 0.00026001\n",
      "\n",
      "EarlyStopping counter: 1 out of 20\n",
      "| Epoch  62 |    50/  428 batches | lr 0.00013 | ms/batch 20.11 | loss 0.00021825\n",
      "| Epoch  62 |   100/  428 batches | lr 0.00013 | ms/batch 19.52 | loss 0.00020385\n",
      "| Epoch  62 |   150/  428 batches | lr 0.00013 | ms/batch 21.17 | loss 0.00023234\n",
      "| Epoch  62 |   200/  428 batches | lr 0.00013 | ms/batch 19.36 | loss 0.00022885\n",
      "| Epoch  62 |   250/  428 batches | lr 0.00013 | ms/batch 19.36 | loss 0.00023736\n",
      "| Epoch  62 |   300/  428 batches | lr 0.00013 | ms/batch 21.06 | loss 0.00022084\n",
      "| Epoch  62 |   350/  428 batches | lr 0.00013 | ms/batch 19.31 | loss 0.00029353\n",
      "| Epoch  62 |   400/  428 batches | lr 0.00013 | ms/batch 19.31 | loss 0.00020530\n",
      "\n",
      "Val set: Average loss: 0.00022499\n",
      "\n",
      "EarlyStopping counter: 2 out of 20\n",
      "| Epoch  63 |    50/  428 batches | lr 0.00013 | ms/batch 19.70 | loss 0.00038951\n",
      "| Epoch  63 |   100/  428 batches | lr 0.00013 | ms/batch 19.24 | loss 0.00026865\n",
      "| Epoch  63 |   150/  428 batches | lr 0.00013 | ms/batch 19.20 | loss 0.00025783\n",
      "| Epoch  63 |   200/  428 batches | lr 0.00013 | ms/batch 17.61 | loss 0.00038982\n",
      "| Epoch  63 |   250/  428 batches | lr 0.00013 | ms/batch 19.32 | loss 0.00023167\n",
      "| Epoch  63 |   300/  428 batches | lr 0.00013 | ms/batch 19.51 | loss 0.00022081\n",
      "| Epoch  63 |   350/  428 batches | lr 0.00013 | ms/batch 19.36 | loss 0.00024643\n",
      "| Epoch  63 |   400/  428 batches | lr 0.00013 | ms/batch 17.67 | loss 0.00028789\n",
      "\n",
      "Val set: Average loss: 0.00028868\n",
      "\n",
      "EarlyStopping counter: 3 out of 20\n",
      "| Epoch  64 |    50/  428 batches | lr 0.00013 | ms/batch 19.69 | loss 0.00023201\n",
      "| Epoch  64 |   100/  428 batches | lr 0.00013 | ms/batch 21.00 | loss 0.00023268\n",
      "| Epoch  64 |   150/  428 batches | lr 0.00013 | ms/batch 19.46 | loss 0.00032589\n",
      "| Epoch  64 |   200/  428 batches | lr 0.00013 | ms/batch 19.44 | loss 0.00041347\n",
      "| Epoch  64 |   250/  428 batches | lr 0.00013 | ms/batch 21.01 | loss 0.00021667\n",
      "| Epoch  64 |   300/  428 batches | lr 0.00013 | ms/batch 19.81 | loss 0.00023348\n",
      "| Epoch  64 |   350/  428 batches | lr 0.00013 | ms/batch 19.35 | loss 0.00023954\n",
      "| Epoch  64 |   400/  428 batches | lr 0.00013 | ms/batch 21.01 | loss 0.00030544\n",
      "\n",
      "Val set: Average loss: 0.00024158\n",
      "\n",
      "EarlyStopping counter: 4 out of 20\n",
      "| Epoch  65 |    50/  428 batches | lr 0.00013 | ms/batch 19.81 | loss 0.00024061\n",
      "| Epoch  65 |   100/  428 batches | lr 0.00013 | ms/batch 17.66 | loss 0.00030437\n",
      "| Epoch  65 |   150/  428 batches | lr 0.00013 | ms/batch 20.10 | loss 0.00042030\n",
      "| Epoch  65 |   200/  428 batches | lr 0.00013 | ms/batch 18.08 | loss 0.00027438\n",
      "| Epoch  65 |   250/  428 batches | lr 0.00013 | ms/batch 17.63 | loss 0.00022320\n",
      "| Epoch  65 |   300/  428 batches | lr 0.00013 | ms/batch 19.37 | loss 0.00022302\n",
      "| Epoch  65 |   350/  428 batches | lr 0.00013 | ms/batch 17.69 | loss 0.00021449\n",
      "| Epoch  65 |   400/  428 batches | lr 0.00013 | ms/batch 19.23 | loss 0.00048016\n",
      "\n",
      "Val set: Average loss: 0.00027642\n",
      "\n",
      "EarlyStopping counter: 5 out of 20\n",
      "| Epoch  66 |    50/  428 batches | lr 0.00013 | ms/batch 20.20 | loss 0.00025460\n",
      "| Epoch  66 |   100/  428 batches | lr 0.00013 | ms/batch 20.96 | loss 0.00032577\n",
      "| Epoch  66 |   150/  428 batches | lr 0.00013 | ms/batch 19.55 | loss 0.00026591\n",
      "| Epoch  66 |   200/  428 batches | lr 0.00013 | ms/batch 20.31 | loss 0.00022388\n",
      "| Epoch  66 |   250/  428 batches | lr 0.00013 | ms/batch 21.81 | loss 0.00026016\n",
      "| Epoch  66 |   300/  428 batches | lr 0.00013 | ms/batch 19.79 | loss 0.00029017\n",
      "| Epoch  66 |   350/  428 batches | lr 0.00013 | ms/batch 19.85 | loss 0.00025513\n",
      "| Epoch  66 |   400/  428 batches | lr 0.00013 | ms/batch 21.06 | loss 0.00028855\n",
      "\n",
      "Val set: Average loss: 0.00024477\n",
      "\n",
      "EarlyStopping counter: 6 out of 20\n",
      "| Epoch  67 |    50/  428 batches | lr 0.00013 | ms/batch 19.71 | loss 0.00023292\n",
      "| Epoch  67 |   100/  428 batches | lr 0.00013 | ms/batch 19.14 | loss 0.00029330\n",
      "| Epoch  67 |   150/  428 batches | lr 0.00013 | ms/batch 19.25 | loss 0.00021824\n",
      "| Epoch  67 |   200/  428 batches | lr 0.00013 | ms/batch 19.35 | loss 0.00020123\n",
      "| Epoch  67 |   250/  428 batches | lr 0.00013 | ms/batch 17.68 | loss 0.00019235\n",
      "| Epoch  67 |   300/  428 batches | lr 0.00013 | ms/batch 19.25 | loss 0.00018458\n",
      "| Epoch  67 |   350/  428 batches | lr 0.00013 | ms/batch 19.19 | loss 0.00017209\n",
      "| Epoch  67 |   400/  428 batches | lr 0.00013 | ms/batch 19.61 | loss 0.00021889\n",
      "\n",
      "Val set: Average loss: 0.00019555\n",
      "\n",
      "| Epoch  68 |    50/  428 batches | lr 0.00013 | ms/batch 21.51 | loss 0.00018795\n",
      "| Epoch  68 |   100/  428 batches | lr 0.00013 | ms/batch 19.28 | loss 0.00017818\n",
      "| Epoch  68 |   150/  428 batches | lr 0.00013 | ms/batch 19.24 | loss 0.00019727\n",
      "| Epoch  68 |   200/  428 batches | lr 0.00013 | ms/batch 20.91 | loss 0.00020051\n",
      "| Epoch  68 |   250/  428 batches | lr 0.00013 | ms/batch 19.52 | loss 0.00024416\n",
      "| Epoch  68 |   300/  428 batches | lr 0.00013 | ms/batch 19.50 | loss 0.00023776\n",
      "| Epoch  68 |   350/  428 batches | lr 0.00013 | ms/batch 21.06 | loss 0.00020568\n",
      "| Epoch  68 |   400/  428 batches | lr 0.00013 | ms/batch 19.64 | loss 0.00022755\n",
      "\n",
      "Val set: Average loss: 0.00020475\n",
      "\n",
      "EarlyStopping counter: 1 out of 20\n",
      "| Epoch  69 |    50/  428 batches | lr 0.00013 | ms/batch 18.73 | loss 0.00023128\n",
      "| Epoch  69 |   100/  428 batches | lr 0.00013 | ms/batch 17.54 | loss 0.00026672\n",
      "| Epoch  69 |   150/  428 batches | lr 0.00013 | ms/batch 19.21 | loss 0.00021821\n",
      "| Epoch  69 |   200/  428 batches | lr 0.00013 | ms/batch 17.51 | loss 0.00018733\n",
      "| Epoch  69 |   250/  428 batches | lr 0.00013 | ms/batch 19.19 | loss 0.00036031\n",
      "| Epoch  69 |   300/  428 batches | lr 0.00013 | ms/batch 17.63 | loss 0.00019374\n",
      "| Epoch  69 |   350/  428 batches | lr 0.00013 | ms/batch 19.66 | loss 0.00022164\n",
      "| Epoch  69 |   400/  428 batches | lr 0.00013 | ms/batch 17.98 | loss 0.00022669\n",
      "\n",
      "Val set: Average loss: 0.00049199\n",
      "\n",
      "EarlyStopping counter: 2 out of 20\n",
      "| Epoch  70 |    50/  428 batches | lr 0.00013 | ms/batch 22.60 | loss 0.00022570\n",
      "| Epoch  70 |   100/  428 batches | lr 0.00013 | ms/batch 19.58 | loss 0.00025072\n",
      "| Epoch  70 |   150/  428 batches | lr 0.00013 | ms/batch 20.13 | loss 0.00023235\n",
      "| Epoch  70 |   200/  428 batches | lr 0.00013 | ms/batch 21.68 | loss 0.00023880\n",
      "| Epoch  70 |   250/  428 batches | lr 0.00013 | ms/batch 19.65 | loss 0.00041293\n",
      "| Epoch  70 |   300/  428 batches | lr 0.00013 | ms/batch 19.38 | loss 0.00020187\n",
      "| Epoch  70 |   350/  428 batches | lr 0.00013 | ms/batch 21.38 | loss 0.00020114\n",
      "| Epoch  70 |   400/  428 batches | lr 0.00013 | ms/batch 20.17 | loss 0.00021521\n",
      "\n",
      "Val set: Average loss: 0.00020177\n",
      "\n",
      "EarlyStopping counter: 3 out of 20\n",
      "| Epoch  71 |    50/  428 batches | lr 0.00013 | ms/batch 18.20 | loss 0.00024007\n",
      "| Epoch  71 |   100/  428 batches | lr 0.00013 | ms/batch 17.76 | loss 0.00022709\n",
      "| Epoch  71 |   150/  428 batches | lr 0.00013 | ms/batch 19.48 | loss 0.00025300\n",
      "| Epoch  71 |   200/  428 batches | lr 0.00013 | ms/batch 17.49 | loss 0.00026164\n",
      "| Epoch  71 |   250/  428 batches | lr 0.00013 | ms/batch 19.53 | loss 0.00021673\n",
      "| Epoch  71 |   300/  428 batches | lr 0.00013 | ms/batch 17.73 | loss 0.00017818\n",
      "| Epoch  71 |   350/  428 batches | lr 0.00013 | ms/batch 19.46 | loss 0.00017572\n",
      "| Epoch  71 |   400/  428 batches | lr 0.00013 | ms/batch 17.69 | loss 0.00025710\n",
      "\n",
      "Val set: Average loss: 0.00031177\n",
      "\n",
      "EarlyStopping counter: 4 out of 20\n",
      "| Epoch  72 |    50/  428 batches | lr 0.00013 | ms/batch 22.56 | loss 0.00019412\n",
      "| Epoch  72 |   100/  428 batches | lr 0.00013 | ms/batch 19.72 | loss 0.00026414\n",
      "| Epoch  72 |   150/  428 batches | lr 0.00013 | ms/batch 19.92 | loss 0.00037157\n",
      "| Epoch  72 |   200/  428 batches | lr 0.00013 | ms/batch 21.17 | loss 0.00030384\n",
      "| Epoch  72 |   250/  428 batches | lr 0.00013 | ms/batch 19.71 | loss 0.00021025\n",
      "| Epoch  72 |   300/  428 batches | lr 0.00013 | ms/batch 19.56 | loss 0.00018753\n",
      "| Epoch  72 |   350/  428 batches | lr 0.00013 | ms/batch 21.02 | loss 0.00020107\n",
      "| Epoch  72 |   400/  428 batches | lr 0.00013 | ms/batch 19.36 | loss 0.00022890\n",
      "\n",
      "Val set: Average loss: 0.00028810\n",
      "\n",
      "EarlyStopping counter: 5 out of 20\n",
      "| Epoch  73 |    50/  428 batches | lr 0.00013 | ms/batch 17.86 | loss 0.00027348\n",
      "| Epoch  73 |   100/  428 batches | lr 0.00013 | ms/batch 19.17 | loss 0.00023335\n",
      "| Epoch  73 |   150/  428 batches | lr 0.00013 | ms/batch 17.60 | loss 0.00025380\n",
      "| Epoch  73 |   200/  428 batches | lr 0.00013 | ms/batch 17.53 | loss 0.00021785\n",
      "| Epoch  73 |   250/  428 batches | lr 0.00013 | ms/batch 19.15 | loss 0.00019382\n",
      "| Epoch  73 |   300/  428 batches | lr 0.00013 | ms/batch 17.51 | loss 0.00018708\n",
      "| Epoch  73 |   350/  428 batches | lr 0.00013 | ms/batch 19.06 | loss 0.00021594\n",
      "| Epoch  73 |   400/  428 batches | lr 0.00013 | ms/batch 17.49 | loss 0.00021086\n",
      "\n",
      "Val set: Average loss: 0.00019887\n",
      "\n",
      "EarlyStopping counter: 6 out of 20\n",
      "| Epoch  74 |    50/  428 batches | lr 0.00013 | ms/batch 21.38 | loss 0.00026963\n",
      "| Epoch  74 |   100/  428 batches | lr 0.00013 | ms/batch 19.34 | loss 0.00021535\n",
      "| Epoch  74 |   150/  428 batches | lr 0.00013 | ms/batch 19.28 | loss 0.00020504\n",
      "| Epoch  74 |   200/  428 batches | lr 0.00013 | ms/batch 20.89 | loss 0.00025590\n",
      "| Epoch  74 |   250/  428 batches | lr 0.00013 | ms/batch 19.40 | loss 0.00022652\n",
      "| Epoch  74 |   300/  428 batches | lr 0.00013 | ms/batch 19.22 | loss 0.00026039\n",
      "| Epoch  74 |   350/  428 batches | lr 0.00013 | ms/batch 20.89 | loss 0.00019210\n",
      "| Epoch  74 |   400/  428 batches | lr 0.00013 | ms/batch 19.26 | loss 0.00024020\n",
      "\n",
      "Val set: Average loss: 0.00019994\n",
      "\n",
      "EarlyStopping counter: 7 out of 20\n",
      "| Epoch  75 |    50/  428 batches | lr 0.00013 | ms/batch 18.24 | loss 0.00022975\n",
      "| Epoch  75 |   100/  428 batches | lr 0.00013 | ms/batch 19.85 | loss 0.00020812\n",
      "| Epoch  75 |   150/  428 batches | lr 0.00013 | ms/batch 17.82 | loss 0.00034544\n",
      "| Epoch  75 |   200/  428 batches | lr 0.00013 | ms/batch 17.66 | loss 0.00026400\n",
      "| Epoch  75 |   250/  428 batches | lr 0.00013 | ms/batch 19.15 | loss 0.00020240\n",
      "| Epoch  75 |   300/  428 batches | lr 0.00013 | ms/batch 17.54 | loss 0.00023011\n",
      "| Epoch  75 |   350/  428 batches | lr 0.00013 | ms/batch 19.11 | loss 0.00027071\n",
      "| Epoch  75 |   400/  428 batches | lr 0.00013 | ms/batch 17.54 | loss 0.00031093\n",
      "\n",
      "Val set: Average loss: 0.00022804\n",
      "\n",
      "EarlyStopping counter: 8 out of 20\n",
      "| Epoch  76 |    50/  428 batches | lr 0.00013 | ms/batch 21.37 | loss 0.00021685\n",
      "| Epoch  76 |   100/  428 batches | lr 0.00013 | ms/batch 19.34 | loss 0.00021591\n",
      "| Epoch  76 |   150/  428 batches | lr 0.00013 | ms/batch 19.64 | loss 0.00030972\n",
      "| Epoch  76 |   200/  428 batches | lr 0.00013 | ms/batch 21.49 | loss 0.00023783\n",
      "| Epoch  76 |   250/  428 batches | lr 0.00013 | ms/batch 19.31 | loss 0.00021544\n",
      "| Epoch  76 |   300/  428 batches | lr 0.00013 | ms/batch 19.58 | loss 0.00021377\n",
      "| Epoch  76 |   350/  428 batches | lr 0.00013 | ms/batch 21.03 | loss 0.00023291\n",
      "| Epoch  76 |   400/  428 batches | lr 0.00013 | ms/batch 19.65 | loss 0.00028916\n",
      "\n",
      "Val set: Average loss: 0.00026489\n",
      "\n",
      "EarlyStopping counter: 9 out of 20\n",
      "| Epoch  77 |    50/  428 batches | lr 0.00013 | ms/batch 18.08 | loss 0.00024142\n",
      "| Epoch  77 |   100/  428 batches | lr 0.00013 | ms/batch 19.35 | loss 0.00027253\n",
      "| Epoch  77 |   150/  428 batches | lr 0.00013 | ms/batch 17.49 | loss 0.00037707\n",
      "| Epoch  77 |   200/  428 batches | lr 0.00013 | ms/batch 19.52 | loss 0.00024971\n",
      "| Epoch  77 |   250/  428 batches | lr 0.00013 | ms/batch 17.99 | loss 0.00022740\n",
      "| Epoch  77 |   300/  428 batches | lr 0.00013 | ms/batch 17.78 | loss 0.00022674\n",
      "| Epoch  77 |   350/  428 batches | lr 0.00013 | ms/batch 19.27 | loss 0.00020263\n",
      "| Epoch  77 |   400/  428 batches | lr 0.00013 | ms/batch 17.85 | loss 0.00039339\n",
      "\n",
      "Val set: Average loss: 0.00024714\n",
      "\n",
      "EarlyStopping counter: 10 out of 20\n",
      "| Epoch  78 |    50/  428 batches | lr 0.00013 | ms/batch 21.51 | loss 0.00024893\n",
      "| Epoch  78 |   100/  428 batches | lr 0.00013 | ms/batch 19.47 | loss 0.00030541\n",
      "| Epoch  78 |   150/  428 batches | lr 0.00013 | ms/batch 21.32 | loss 0.00026135\n",
      "| Epoch  78 |   200/  428 batches | lr 0.00013 | ms/batch 20.00 | loss 0.00027099\n",
      "| Epoch  78 |   250/  428 batches | lr 0.00013 | ms/batch 21.01 | loss 0.00029998\n",
      "| Epoch  78 |   300/  428 batches | lr 0.00013 | ms/batch 22.19 | loss 0.00023574\n",
      "| Epoch  78 |   350/  428 batches | lr 0.00013 | ms/batch 20.92 | loss 0.00018949\n",
      "| Epoch  78 |   400/  428 batches | lr 0.00013 | ms/batch 21.79 | loss 0.00024195\n",
      "\n",
      "Val set: Average loss: 0.00021474\n",
      "\n",
      "EarlyStopping counter: 11 out of 20\n",
      "| Epoch  79 |    50/  428 batches | lr 0.00013 | ms/batch 19.26 | loss 0.00022948\n",
      "| Epoch  79 |   100/  428 batches | lr 0.00013 | ms/batch 20.89 | loss 0.00026997\n",
      "| Epoch  79 |   150/  428 batches | lr 0.00013 | ms/batch 19.38 | loss 0.00023516\n",
      "| Epoch  79 |   200/  428 batches | lr 0.00013 | ms/batch 21.01 | loss 0.00022466\n",
      "| Epoch  79 |   250/  428 batches | lr 0.00013 | ms/batch 19.07 | loss 0.00023955\n",
      "| Epoch  79 |   300/  428 batches | lr 0.00013 | ms/batch 18.78 | loss 0.00021145\n",
      "| Epoch  79 |   350/  428 batches | lr 0.00013 | ms/batch 20.48 | loss 0.00018875\n",
      "| Epoch  79 |   400/  428 batches | lr 0.00013 | ms/batch 18.35 | loss 0.00024009\n",
      "\n",
      "Val set: Average loss: 0.00021309\n",
      "\n",
      "EarlyStopping counter: 12 out of 20\n",
      "| Epoch  80 |    50/  428 batches | lr 0.00013 | ms/batch 22.31 | loss 0.00018484\n",
      "| Epoch  80 |   100/  428 batches | lr 0.00013 | ms/batch 19.92 | loss 0.00020305\n",
      "| Epoch  80 |   150/  428 batches | lr 0.00013 | ms/batch 22.23 | loss 0.00022953\n",
      "| Epoch  80 |   200/  428 batches | lr 0.00013 | ms/batch 20.45 | loss 0.00023017\n",
      "| Epoch  80 |   250/  428 batches | lr 0.00013 | ms/batch 20.34 | loss 0.00017126\n",
      "| Epoch  80 |   300/  428 batches | lr 0.00013 | ms/batch 23.23 | loss 0.00016184\n",
      "| Epoch  80 |   350/  428 batches | lr 0.00013 | ms/batch 20.22 | loss 0.00015925\n",
      "| Epoch  80 |   400/  428 batches | lr 0.00013 | ms/batch 20.29 | loss 0.00016411\n",
      "\n",
      "Val set: Average loss: 0.00022380\n",
      "\n",
      "EarlyStopping counter: 13 out of 20\n",
      "| Epoch  81 |    50/  428 batches | lr 0.00013 | ms/batch 20.70 | loss 0.00016007\n",
      "| Epoch  81 |   100/  428 batches | lr 0.00013 | ms/batch 18.29 | loss 0.00022211\n",
      "| Epoch  81 |   150/  428 batches | lr 0.00013 | ms/batch 19.52 | loss 0.00026801\n",
      "| Epoch  81 |   200/  428 batches | lr 0.00013 | ms/batch 20.31 | loss 0.00016819\n",
      "| Epoch  81 |   250/  428 batches | lr 0.00013 | ms/batch 19.20 | loss 0.00020128\n",
      "| Epoch  81 |   300/  428 batches | lr 0.00013 | ms/batch 19.12 | loss 0.00019234\n",
      "| Epoch  81 |   350/  428 batches | lr 0.00013 | ms/batch 17.57 | loss 0.00033447\n",
      "| Epoch  81 |   400/  428 batches | lr 0.00013 | ms/batch 19.21 | loss 0.00019096\n",
      "\n",
      "Val set: Average loss: 0.00022845\n",
      "\n",
      "EarlyStopping counter: 14 out of 20\n",
      "| Epoch  82 |    50/  428 batches | lr 0.00013 | ms/batch 20.70 | loss 0.00019415\n",
      "| Epoch  82 |   100/  428 batches | lr 0.00013 | ms/batch 20.14 | loss 0.00027957\n",
      "| Epoch  82 |   150/  428 batches | lr 0.00013 | ms/batch 21.57 | loss 0.00021786\n",
      "| Epoch  82 |   200/  428 batches | lr 0.00013 | ms/batch 19.96 | loss 0.00017988\n",
      "| Epoch  82 |   250/  428 batches | lr 0.00013 | ms/batch 19.90 | loss 0.00026304\n",
      "| Epoch  82 |   300/  428 batches | lr 0.00013 | ms/batch 21.90 | loss 0.00021144\n",
      "| Epoch  82 |   350/  428 batches | lr 0.00013 | ms/batch 20.72 | loss 0.00032952\n",
      "| Epoch  82 |   400/  428 batches | lr 0.00013 | ms/batch 21.49 | loss 0.00024293\n",
      "\n",
      "Val set: Average loss: 0.00018652\n",
      "\n",
      "| Epoch  83 |    50/  428 batches | lr 0.00013 | ms/batch 20.10 | loss 0.00017441\n",
      "| Epoch  83 |   100/  428 batches | lr 0.00013 | ms/batch 20.98 | loss 0.00020003\n",
      "| Epoch  83 |   150/  428 batches | lr 0.00013 | ms/batch 20.71 | loss 0.00023448\n",
      "| Epoch  83 |   200/  428 batches | lr 0.00013 | ms/batch 20.52 | loss 0.00020045\n",
      "| Epoch  83 |   250/  428 batches | lr 0.00013 | ms/batch 24.04 | loss 0.00020618\n",
      "| Epoch  83 |   300/  428 batches | lr 0.00013 | ms/batch 20.21 | loss 0.00017932\n",
      "| Epoch  83 |   350/  428 batches | lr 0.00013 | ms/batch 19.83 | loss 0.00019670\n",
      "| Epoch  83 |   400/  428 batches | lr 0.00013 | ms/batch 21.18 | loss 0.00016711\n",
      "\n",
      "Val set: Average loss: 0.00018510\n",
      "\n",
      "| Epoch  84 |    50/  428 batches | lr 0.00013 | ms/batch 21.50 | loss 0.00022510\n",
      "| Epoch  84 |   100/  428 batches | lr 0.00013 | ms/batch 19.31 | loss 0.00020012\n",
      "| Epoch  84 |   150/  428 batches | lr 0.00013 | ms/batch 19.38 | loss 0.00030110\n",
      "| Epoch  84 |   200/  428 batches | lr 0.00013 | ms/batch 20.97 | loss 0.00017021\n",
      "| Epoch  84 |   250/  428 batches | lr 0.00013 | ms/batch 19.34 | loss 0.00021166\n",
      "| Epoch  84 |   300/  428 batches | lr 0.00013 | ms/batch 19.42 | loss 0.00020436\n",
      "| Epoch  84 |   350/  428 batches | lr 0.00013 | ms/batch 21.12 | loss 0.00022601\n",
      "| Epoch  84 |   400/  428 batches | lr 0.00013 | ms/batch 19.56 | loss 0.00017710\n",
      "\n",
      "Val set: Average loss: 0.00023190\n",
      "\n",
      "EarlyStopping counter: 1 out of 20\n",
      "| Epoch  85 |    50/  428 batches | lr 0.00013 | ms/batch 19.63 | loss 0.00026585\n",
      "| Epoch  85 |   100/  428 batches | lr 0.00013 | ms/batch 17.79 | loss 0.00019802\n",
      "| Epoch  85 |   150/  428 batches | lr 0.00013 | ms/batch 19.64 | loss 0.00024608\n",
      "| Epoch  85 |   200/  428 batches | lr 0.00013 | ms/batch 19.60 | loss 0.00019043\n",
      "| Epoch  85 |   250/  428 batches | lr 0.00013 | ms/batch 19.26 | loss 0.00025502\n",
      "| Epoch  85 |   300/  428 batches | lr 0.00013 | ms/batch 17.65 | loss 0.00030351\n",
      "| Epoch  85 |   350/  428 batches | lr 0.00013 | ms/batch 19.43 | loss 0.00019254\n",
      "| Epoch  85 |   400/  428 batches | lr 0.00013 | ms/batch 19.29 | loss 0.00021562\n",
      "\n",
      "Val set: Average loss: 0.00019097\n",
      "\n",
      "EarlyStopping counter: 2 out of 20\n",
      "| Epoch  86 |    50/  428 batches | lr 0.00013 | ms/batch 21.45 | loss 0.00017902\n",
      "| Epoch  86 |   100/  428 batches | lr 0.00013 | ms/batch 19.45 | loss 0.00021076\n",
      "| Epoch  86 |   150/  428 batches | lr 0.00013 | ms/batch 21.02 | loss 0.00022138\n",
      "| Epoch  86 |   200/  428 batches | lr 0.00013 | ms/batch 19.55 | loss 0.00029558\n",
      "| Epoch  86 |   250/  428 batches | lr 0.00013 | ms/batch 19.45 | loss 0.00020411\n",
      "| Epoch  86 |   300/  428 batches | lr 0.00013 | ms/batch 21.09 | loss 0.00024085\n",
      "| Epoch  86 |   350/  428 batches | lr 0.00013 | ms/batch 19.48 | loss 0.00019501\n",
      "| Epoch  86 |   400/  428 batches | lr 0.00013 | ms/batch 19.23 | loss 0.00021580\n",
      "\n",
      "Val set: Average loss: 0.00023572\n",
      "\n",
      "EarlyStopping counter: 3 out of 20\n",
      "| Epoch  87 |    50/  428 batches | lr 0.00013 | ms/batch 19.94 | loss 0.00018049\n",
      "| Epoch  87 |   100/  428 batches | lr 0.00013 | ms/batch 17.84 | loss 0.00019506\n",
      "| Epoch  87 |   150/  428 batches | lr 0.00013 | ms/batch 19.51 | loss 0.00023557\n",
      "| Epoch  87 |   200/  428 batches | lr 0.00013 | ms/batch 19.90 | loss 0.00026131\n",
      "| Epoch  87 |   250/  428 batches | lr 0.00013 | ms/batch 19.75 | loss 0.00018999\n",
      "| Epoch  87 |   300/  428 batches | lr 0.00013 | ms/batch 19.78 | loss 0.00021736\n",
      "| Epoch  87 |   350/  428 batches | lr 0.00013 | ms/batch 18.14 | loss 0.00018157\n",
      "| Epoch  87 |   400/  428 batches | lr 0.00013 | ms/batch 19.60 | loss 0.00018336\n",
      "\n",
      "Val set: Average loss: 0.00020712\n",
      "\n",
      "EarlyStopping counter: 4 out of 20\n",
      "| Epoch  88 |    50/  428 batches | lr 0.00013 | ms/batch 20.35 | loss 0.00016130\n",
      "| Epoch  88 |   100/  428 batches | lr 0.00013 | ms/batch 19.68 | loss 0.00018145\n",
      "| Epoch  88 |   150/  428 batches | lr 0.00013 | ms/batch 21.68 | loss 0.00023347\n",
      "| Epoch  88 |   200/  428 batches | lr 0.00013 | ms/batch 19.81 | loss 0.00020863\n",
      "| Epoch  88 |   250/  428 batches | lr 0.00013 | ms/batch 20.93 | loss 0.00017339\n",
      "| Epoch  88 |   300/  428 batches | lr 0.00013 | ms/batch 23.55 | loss 0.00017454\n",
      "| Epoch  88 |   350/  428 batches | lr 0.00013 | ms/batch 20.52 | loss 0.00033687\n",
      "| Epoch  88 |   400/  428 batches | lr 0.00013 | ms/batch 20.78 | loss 0.00020604\n",
      "\n",
      "Val set: Average loss: 0.00020628\n",
      "\n",
      "EarlyStopping counter: 5 out of 20\n",
      "| Epoch  89 |    50/  428 batches | lr 0.00013 | ms/batch 18.50 | loss 0.00016730\n",
      "| Epoch  89 |   100/  428 batches | lr 0.00013 | ms/batch 20.74 | loss 0.00017860\n",
      "| Epoch  89 |   150/  428 batches | lr 0.00013 | ms/batch 17.51 | loss 0.00021695\n",
      "| Epoch  89 |   200/  428 batches | lr 0.00013 | ms/batch 19.30 | loss 0.00018214\n",
      "| Epoch  89 |   250/  428 batches | lr 0.00013 | ms/batch 17.52 | loss 0.00023605\n",
      "| Epoch  89 |   300/  428 batches | lr 0.00013 | ms/batch 19.13 | loss 0.00020888\n",
      "| Epoch  89 |   350/  428 batches | lr 0.00013 | ms/batch 17.62 | loss 0.00019996\n",
      "| Epoch  89 |   400/  428 batches | lr 0.00013 | ms/batch 17.68 | loss 0.00019321\n",
      "\n",
      "Val set: Average loss: 0.00019123\n",
      "\n",
      "EarlyStopping counter: 6 out of 20\n",
      "| Epoch  90 |    50/  428 batches | lr 0.00013 | ms/batch 19.98 | loss 0.00018933\n",
      "| Epoch  90 |   100/  428 batches | lr 0.00013 | ms/batch 19.29 | loss 0.00024784\n",
      "| Epoch  90 |   150/  428 batches | lr 0.00013 | ms/batch 20.90 | loss 0.00020724\n",
      "| Epoch  90 |   200/  428 batches | lr 0.00013 | ms/batch 19.35 | loss 0.00019369\n",
      "| Epoch  90 |   250/  428 batches | lr 0.00013 | ms/batch 19.35 | loss 0.00025510\n",
      "| Epoch  90 |   300/  428 batches | lr 0.00013 | ms/batch 21.00 | loss 0.00019621\n",
      "| Epoch  90 |   350/  428 batches | lr 0.00013 | ms/batch 19.38 | loss 0.00018636\n",
      "| Epoch  90 |   400/  428 batches | lr 0.00013 | ms/batch 19.38 | loss 0.00020994\n",
      "\n",
      "Val set: Average loss: 0.00022921\n",
      "\n",
      "EarlyStopping counter: 7 out of 20\n",
      "| Epoch  91 |    50/  428 batches | lr 0.00013 | ms/batch 19.63 | loss 0.00020866\n",
      "| Epoch  91 |   100/  428 batches | lr 0.00013 | ms/batch 19.22 | loss 0.00025511\n",
      "| Epoch  91 |   150/  428 batches | lr 0.00013 | ms/batch 17.68 | loss 0.00028882\n",
      "| Epoch  91 |   200/  428 batches | lr 0.00013 | ms/batch 19.16 | loss 0.00024093\n",
      "| Epoch  91 |   250/  428 batches | lr 0.00013 | ms/batch 19.21 | loss 0.00018693\n",
      "| Epoch  91 |   300/  428 batches | lr 0.00013 | ms/batch 19.21 | loss 0.00017838\n",
      "| Epoch  91 |   350/  428 batches | lr 0.00013 | ms/batch 19.30 | loss 0.00022722\n",
      "| Epoch  91 |   400/  428 batches | lr 0.00013 | ms/batch 17.62 | loss 0.00026586\n",
      "\n",
      "Val set: Average loss: 0.00029726\n",
      "\n",
      "EarlyStopping counter: 8 out of 20\n",
      "| Epoch  92 |    50/  428 batches | lr 0.00013 | ms/batch 19.87 | loss 0.00021970\n",
      "| Epoch  92 |   100/  428 batches | lr 0.00013 | ms/batch 21.03 | loss 0.00022938\n",
      "| Epoch  92 |   150/  428 batches | lr 0.00013 | ms/batch 19.46 | loss 0.00036563\n",
      "| Epoch  92 |   200/  428 batches | lr 0.00013 | ms/batch 19.31 | loss 0.00023594\n",
      "| Epoch  92 |   250/  428 batches | lr 0.00013 | ms/batch 21.21 | loss 0.00022429\n",
      "| Epoch  92 |   300/  428 batches | lr 0.00013 | ms/batch 19.59 | loss 0.00022232\n",
      "| Epoch  92 |   350/  428 batches | lr 0.00013 | ms/batch 19.37 | loss 0.00018746\n",
      "| Epoch  92 |   400/  428 batches | lr 0.00013 | ms/batch 20.89 | loss 0.00031151\n",
      "\n",
      "Val set: Average loss: 0.00021601\n",
      "\n",
      "EarlyStopping counter: 9 out of 20\n",
      "| Epoch  93 |    50/  428 batches | lr 0.00013 | ms/batch 19.61 | loss 0.00021555\n",
      "| Epoch  93 |   100/  428 batches | lr 0.00013 | ms/batch 17.58 | loss 0.00028499\n",
      "| Epoch  93 |   150/  428 batches | lr 0.00013 | ms/batch 17.53 | loss 0.00025696\n",
      "| Epoch  93 |   200/  428 batches | lr 0.00013 | ms/batch 19.13 | loss 0.00024135\n",
      "| Epoch  93 |   250/  428 batches | lr 0.00013 | ms/batch 17.62 | loss 0.00027890\n",
      "| Epoch  93 |   300/  428 batches | lr 0.00013 | ms/batch 19.19 | loss 0.00022781\n",
      "| Epoch  93 |   350/  428 batches | lr 0.00013 | ms/batch 17.89 | loss 0.00017849\n",
      "| Epoch  93 |   400/  428 batches | lr 0.00013 | ms/batch 19.45 | loss 0.00020545\n",
      "\n",
      "Val set: Average loss: 0.00021895\n",
      "\n",
      "EarlyStopping counter: 10 out of 20\n",
      "| Epoch  94 |    50/  428 batches | lr 0.00013 | ms/batch 19.68 | loss 0.00021489\n",
      "| Epoch  94 |   100/  428 batches | lr 0.00013 | ms/batch 19.28 | loss 0.00029472\n",
      "| Epoch  94 |   150/  428 batches | lr 0.00013 | ms/batch 20.87 | loss 0.00027691\n",
      "| Epoch  94 |   200/  428 batches | lr 0.00013 | ms/batch 19.31 | loss 0.00031380\n",
      "| Epoch  94 |   250/  428 batches | lr 0.00013 | ms/batch 19.20 | loss 0.00020627\n",
      "| Epoch  94 |   300/  428 batches | lr 0.00013 | ms/batch 20.90 | loss 0.00022417\n",
      "| Epoch  94 |   350/  428 batches | lr 0.00013 | ms/batch 19.85 | loss 0.00016581\n",
      "| Epoch  94 |   400/  428 batches | lr 0.00013 | ms/batch 19.61 | loss 0.00019122\n",
      "\n",
      "Val set: Average loss: 0.00020073\n",
      "\n",
      "EarlyStopping counter: 11 out of 20\n",
      "| Epoch  95 |    50/  428 batches | lr 0.00013 | ms/batch 19.52 | loss 0.00020643\n",
      "| Epoch  95 |   100/  428 batches | lr 0.00013 | ms/batch 19.79 | loss 0.00025922\n",
      "| Epoch  95 |   150/  428 batches | lr 0.00013 | ms/batch 19.36 | loss 0.00022689\n",
      "| Epoch  95 |   200/  428 batches | lr 0.00013 | ms/batch 17.70 | loss 0.00022646\n",
      "| Epoch  95 |   250/  428 batches | lr 0.00013 | ms/batch 19.32 | loss 0.00021188\n",
      "| Epoch  95 |   300/  428 batches | lr 0.00013 | ms/batch 20.34 | loss 0.00017157\n",
      "| Epoch  95 |   350/  428 batches | lr 0.00013 | ms/batch 20.35 | loss 0.00015210\n",
      "| Epoch  95 |   400/  428 batches | lr 0.00013 | ms/batch 19.60 | loss 0.00018472\n",
      "\n",
      "Val set: Average loss: 0.00017258\n",
      "\n",
      "| Epoch  96 |    50/  428 batches | lr 0.00013 | ms/batch 20.11 | loss 0.00016313\n",
      "| Epoch  96 |   100/  428 batches | lr 0.00013 | ms/batch 21.06 | loss 0.00016396\n",
      "| Epoch  96 |   150/  428 batches | lr 0.00013 | ms/batch 19.41 | loss 0.00019798\n",
      "| Epoch  96 |   200/  428 batches | lr 0.00013 | ms/batch 19.51 | loss 0.00016127\n",
      "| Epoch  96 |   250/  428 batches | lr 0.00013 | ms/batch 21.28 | loss 0.00016162\n",
      "| Epoch  96 |   300/  428 batches | lr 0.00013 | ms/batch 19.73 | loss 0.00015916\n",
      "| Epoch  96 |   350/  428 batches | lr 0.00013 | ms/batch 19.86 | loss 0.00015960\n",
      "| Epoch  96 |   400/  428 batches | lr 0.00013 | ms/batch 21.33 | loss 0.00020713\n",
      "\n",
      "Val set: Average loss: 0.00019044\n",
      "\n",
      "EarlyStopping counter: 1 out of 20\n",
      "| Epoch  97 |    50/  428 batches | lr 0.00013 | ms/batch 20.33 | loss 0.00019951\n",
      "| Epoch  97 |   100/  428 batches | lr 0.00013 | ms/batch 19.70 | loss 0.00018817\n",
      "| Epoch  97 |   150/  428 batches | lr 0.00013 | ms/batch 20.63 | loss 0.00023567\n",
      "| Epoch  97 |   200/  428 batches | lr 0.00013 | ms/batch 19.47 | loss 0.00017607\n",
      "| Epoch  97 |   250/  428 batches | lr 0.00013 | ms/batch 18.12 | loss 0.00017952\n",
      "| Epoch  97 |   300/  428 batches | lr 0.00013 | ms/batch 21.33 | loss 0.00016835\n",
      "| Epoch  97 |   350/  428 batches | lr 0.00013 | ms/batch 19.54 | loss 0.00020307\n",
      "| Epoch  97 |   400/  428 batches | lr 0.00013 | ms/batch 19.68 | loss 0.00021339\n",
      "\n",
      "Val set: Average loss: 0.00023512\n",
      "\n",
      "EarlyStopping counter: 2 out of 20\n",
      "| Epoch  98 |    50/  428 batches | lr 0.00013 | ms/batch 20.33 | loss 0.00022745\n",
      "| Epoch  98 |   100/  428 batches | lr 0.00013 | ms/batch 21.24 | loss 0.00019819\n",
      "| Epoch  98 |   150/  428 batches | lr 0.00013 | ms/batch 19.76 | loss 0.00020152\n",
      "| Epoch  98 |   200/  428 batches | lr 0.00013 | ms/batch 19.66 | loss 0.00019194\n",
      "| Epoch  98 |   250/  428 batches | lr 0.00013 | ms/batch 21.46 | loss 0.00022423\n",
      "| Epoch  98 |   300/  428 batches | lr 0.00013 | ms/batch 20.31 | loss 0.00022382\n",
      "| Epoch  98 |   350/  428 batches | lr 0.00013 | ms/batch 19.30 | loss 0.00018409\n",
      "| Epoch  98 |   400/  428 batches | lr 0.00013 | ms/batch 20.92 | loss 0.00023728\n",
      "\n",
      "Val set: Average loss: 0.00019106\n",
      "\n",
      "EarlyStopping counter: 3 out of 20\n",
      "| Epoch  99 |    50/  428 batches | lr 0.00013 | ms/batch 19.98 | loss 0.00020042\n",
      "| Epoch  99 |   100/  428 batches | lr 0.00013 | ms/batch 17.82 | loss 0.00020133\n",
      "| Epoch  99 |   150/  428 batches | lr 0.00013 | ms/batch 19.29 | loss 0.00017104\n",
      "| Epoch  99 |   200/  428 batches | lr 0.00013 | ms/batch 17.70 | loss 0.00020641\n",
      "| Epoch  99 |   250/  428 batches | lr 0.00013 | ms/batch 19.23 | loss 0.00018467\n",
      "| Epoch  99 |   300/  428 batches | lr 0.00013 | ms/batch 17.88 | loss 0.00020968\n",
      "| Epoch  99 |   350/  428 batches | lr 0.00013 | ms/batch 18.15 | loss 0.00015603\n",
      "| Epoch  99 |   400/  428 batches | lr 0.00013 | ms/batch 19.55 | loss 0.00018490\n",
      "\n",
      "Val set: Average loss: 0.00022247\n",
      "\n",
      "EarlyStopping counter: 4 out of 20\n",
      "| Epoch 100 |    50/  428 batches | lr 0.00013 | ms/batch 20.28 | loss 0.00019042\n",
      "| Epoch 100 |   100/  428 batches | lr 0.00013 | ms/batch 21.46 | loss 0.00020801\n",
      "| Epoch 100 |   150/  428 batches | lr 0.00013 | ms/batch 19.95 | loss 0.00017858\n",
      "| Epoch 100 |   200/  428 batches | lr 0.00013 | ms/batch 19.98 | loss 0.00018671\n",
      "| Epoch 100 |   250/  428 batches | lr 0.00013 | ms/batch 21.44 | loss 0.00019262\n",
      "| Epoch 100 |   300/  428 batches | lr 0.00013 | ms/batch 19.79 | loss 0.00028920\n",
      "| Epoch 100 |   350/  428 batches | lr 0.00013 | ms/batch 19.87 | loss 0.00018157\n",
      "| Epoch 100 |   400/  428 batches | lr 0.00013 | ms/batch 21.72 | loss 0.00019911\n",
      "\n",
      "Val set: Average loss: 0.00019562\n",
      "\n",
      "EarlyStopping counter: 5 out of 20\n",
      "| Epoch 101 |    50/  428 batches | lr 0.00013 | ms/batch 19.75 | loss 0.00020376\n",
      "| Epoch 101 |   100/  428 batches | lr 0.00013 | ms/batch 18.33 | loss 0.00022349\n",
      "| Epoch 101 |   150/  428 batches | lr 0.00013 | ms/batch 20.18 | loss 0.00021111\n",
      "| Epoch 101 |   200/  428 batches | lr 0.00013 | ms/batch 18.37 | loss 0.00023340\n",
      "| Epoch 101 |   250/  428 batches | lr 0.00013 | ms/batch 20.50 | loss 0.00018911\n",
      "| Epoch 101 |   300/  428 batches | lr 0.00013 | ms/batch 18.91 | loss 0.00021627\n",
      "| Epoch 101 |   350/  428 batches | lr 0.00013 | ms/batch 18.27 | loss 0.00020813\n",
      "| Epoch 101 |   400/  428 batches | lr 0.00013 | ms/batch 19.26 | loss 0.00021425\n",
      "\n",
      "Val set: Average loss: 0.00020775\n",
      "\n",
      "EarlyStopping counter: 6 out of 20\n",
      "| Epoch 102 |    50/  428 batches | lr 0.00013 | ms/batch 20.06 | loss 0.00021587\n",
      "| Epoch 102 |   100/  428 batches | lr 0.00013 | ms/batch 21.73 | loss 0.00021061\n",
      "| Epoch 102 |   150/  428 batches | lr 0.00013 | ms/batch 19.64 | loss 0.00030011\n",
      "| Epoch 102 |   200/  428 batches | lr 0.00013 | ms/batch 20.41 | loss 0.00029783\n",
      "| Epoch 102 |   250/  428 batches | lr 0.00013 | ms/batch 21.47 | loss 0.00020714\n",
      "| Epoch 102 |   300/  428 batches | lr 0.00013 | ms/batch 20.00 | loss 0.00018433\n",
      "| Epoch 102 |   350/  428 batches | lr 0.00013 | ms/batch 20.20 | loss 0.00016689\n",
      "| Epoch 102 |   400/  428 batches | lr 0.00013 | ms/batch 21.93 | loss 0.00027556\n",
      "\n",
      "Val set: Average loss: 0.00019349\n",
      "\n",
      "EarlyStopping counter: 7 out of 20\n",
      "| Epoch 103 |    50/  428 batches | lr 0.00013 | ms/batch 18.38 | loss 0.00018908\n",
      "| Epoch 103 |   100/  428 batches | lr 0.00013 | ms/batch 18.08 | loss 0.00023301\n",
      "| Epoch 103 |   150/  428 batches | lr 0.00013 | ms/batch 19.94 | loss 0.00029101\n",
      "| Epoch 103 |   200/  428 batches | lr 0.00013 | ms/batch 18.18 | loss 0.00025439\n",
      "| Epoch 103 |   250/  428 batches | lr 0.00013 | ms/batch 19.82 | loss 0.00026030\n",
      "| Epoch 103 |   300/  428 batches | lr 0.00013 | ms/batch 18.48 | loss 0.00020592\n",
      "| Epoch 103 |   350/  428 batches | lr 0.00013 | ms/batch 18.83 | loss 0.00017755\n",
      "| Epoch 103 |   400/  428 batches | lr 0.00013 | ms/batch 20.81 | loss 0.00021593\n",
      "\n",
      "Val set: Average loss: 0.00022457\n",
      "\n",
      "EarlyStopping counter: 8 out of 20\n",
      "| Epoch 104 |    50/  428 batches | lr 0.00013 | ms/batch 21.10 | loss 0.00022317\n",
      "| Epoch 104 |   100/  428 batches | lr 0.00013 | ms/batch 22.08 | loss 0.00027731\n",
      "| Epoch 104 |   150/  428 batches | lr 0.00013 | ms/batch 20.38 | loss 0.00025837\n",
      "| Epoch 104 |   200/  428 batches | lr 0.00013 | ms/batch 21.16 | loss 0.00027764\n",
      "| Epoch 104 |   250/  428 batches | lr 0.00013 | ms/batch 20.96 | loss 0.00021096\n",
      "| Epoch 104 |   300/  428 batches | lr 0.00013 | ms/batch 19.34 | loss 0.00023823\n",
      "| Epoch 104 |   350/  428 batches | lr 0.00013 | ms/batch 20.37 | loss 0.00015890\n",
      "| Epoch 104 |   400/  428 batches | lr 0.00013 | ms/batch 22.28 | loss 0.00019467\n",
      "\n",
      "Val set: Average loss: 0.00019661\n",
      "\n",
      "EarlyStopping counter: 9 out of 20\n",
      "| Epoch 105 |    50/  428 batches | lr 0.00013 | ms/batch 17.93 | loss 0.00024040\n",
      "| Epoch 105 |   100/  428 batches | lr 0.00013 | ms/batch 17.54 | loss 0.00023851\n",
      "| Epoch 105 |   150/  428 batches | lr 0.00013 | ms/batch 19.12 | loss 0.00024812\n",
      "| Epoch 105 |   200/  428 batches | lr 0.00013 | ms/batch 17.52 | loss 0.00022524\n",
      "| Epoch 105 |   250/  428 batches | lr 0.00013 | ms/batch 19.15 | loss 0.00018485\n",
      "| Epoch 105 |   300/  428 batches | lr 0.00013 | ms/batch 17.47 | loss 0.00019447\n",
      "| Epoch 105 |   350/  428 batches | lr 0.00013 | ms/batch 17.46 | loss 0.00014801\n",
      "| Epoch 105 |   400/  428 batches | lr 0.00013 | ms/batch 19.01 | loss 0.00017493\n",
      "\n",
      "Val set: Average loss: 0.00017508\n",
      "\n",
      "EarlyStopping counter: 10 out of 20\n",
      "| Epoch 106 |    50/  428 batches | lr 0.00013 | ms/batch 19.80 | loss 0.00017802\n",
      "| Epoch 106 |   100/  428 batches | lr 0.00013 | ms/batch 20.93 | loss 0.00016938\n",
      "| Epoch 106 |   150/  428 batches | lr 0.00013 | ms/batch 19.28 | loss 0.00020119\n",
      "| Epoch 106 |   200/  428 batches | lr 0.00013 | ms/batch 19.53 | loss 0.00019800\n",
      "| Epoch 106 |   250/  428 batches | lr 0.00013 | ms/batch 20.96 | loss 0.00015246\n",
      "| Epoch 106 |   300/  428 batches | lr 0.00013 | ms/batch 19.29 | loss 0.00015036\n",
      "| Epoch 106 |   350/  428 batches | lr 0.00013 | ms/batch 19.31 | loss 0.00014334\n",
      "| Epoch 106 |   400/  428 batches | lr 0.00013 | ms/batch 20.89 | loss 0.00014330\n",
      "\n",
      "Val set: Average loss: 0.00023772\n",
      "\n",
      "EarlyStopping counter: 11 out of 20\n",
      "| Epoch 107 |    50/  428 batches | lr 0.00013 | ms/batch 17.88 | loss 0.00016114\n",
      "| Epoch 107 |   100/  428 batches | lr 0.00013 | ms/batch 17.52 | loss 0.00016642\n",
      "| Epoch 107 |   150/  428 batches | lr 0.00013 | ms/batch 19.11 | loss 0.00020350\n",
      "| Epoch 107 |   200/  428 batches | lr 0.00013 | ms/batch 17.90 | loss 0.00014793\n",
      "| Epoch 107 |   250/  428 batches | lr 0.00013 | ms/batch 19.30 | loss 0.00018552\n",
      "| Epoch 107 |   300/  428 batches | lr 0.00013 | ms/batch 17.72 | loss 0.00017475\n",
      "| Epoch 107 |   350/  428 batches | lr 0.00013 | ms/batch 17.86 | loss 0.00018598\n",
      "| Epoch 107 |   400/  428 batches | lr 0.00013 | ms/batch 19.44 | loss 0.00015768\n",
      "\n",
      "Val set: Average loss: 0.00019328\n",
      "\n",
      "EarlyStopping counter: 12 out of 20\n",
      "| Epoch 108 |    50/  428 batches | lr 0.00013 | ms/batch 20.34 | loss 0.00018270\n",
      "| Epoch 108 |   100/  428 batches | lr 0.00013 | ms/batch 21.63 | loss 0.00020976\n",
      "| Epoch 108 |   150/  428 batches | lr 0.00013 | ms/batch 19.53 | loss 0.00020021\n",
      "| Epoch 108 |   200/  428 batches | lr 0.00013 | ms/batch 19.45 | loss 0.00019654\n",
      "| Epoch 108 |   250/  428 batches | lr 0.00013 | ms/batch 22.40 | loss 0.00021797\n",
      "| Epoch 108 |   300/  428 batches | lr 0.00013 | ms/batch 19.45 | loss 0.00018276\n",
      "| Epoch 108 |   350/  428 batches | lr 0.00013 | ms/batch 19.82 | loss 0.00019095\n",
      "| Epoch 108 |   400/  428 batches | lr 0.00013 | ms/batch 21.49 | loss 0.00016107\n",
      "\n",
      "Val set: Average loss: 0.00023088\n",
      "\n",
      "EarlyStopping counter: 13 out of 20\n",
      "| Epoch 109 |    50/  428 batches | lr 0.00013 | ms/batch 18.27 | loss 0.00021955\n",
      "| Epoch 109 |   100/  428 batches | lr 0.00013 | ms/batch 17.69 | loss 0.00020573\n",
      "| Epoch 109 |   150/  428 batches | lr 0.00013 | ms/batch 19.60 | loss 0.00018597\n",
      "| Epoch 109 |   200/  428 batches | lr 0.00013 | ms/batch 17.82 | loss 0.00019642\n",
      "| Epoch 109 |   250/  428 batches | lr 0.00013 | ms/batch 19.91 | loss 0.00017959\n",
      "| Epoch 109 |   300/  428 batches | lr 0.00013 | ms/batch 18.07 | loss 0.00016987\n",
      "| Epoch 109 |   350/  428 batches | lr 0.00013 | ms/batch 17.73 | loss 0.00017616\n",
      "| Epoch 109 |   400/  428 batches | lr 0.00013 | ms/batch 19.38 | loss 0.00018229\n",
      "\n",
      "Val set: Average loss: 0.00022313\n",
      "\n",
      "EarlyStopping counter: 14 out of 20\n",
      "| Epoch 110 |    50/  428 batches | lr 0.00013 | ms/batch 20.49 | loss 0.00017630\n",
      "| Epoch 110 |   100/  428 batches | lr 0.00013 | ms/batch 21.27 | loss 0.00016650\n",
      "| Epoch 110 |   150/  428 batches | lr 0.00013 | ms/batch 19.93 | loss 0.00017205\n",
      "| Epoch 110 |   200/  428 batches | lr 0.00013 | ms/batch 19.49 | loss 0.00015948\n",
      "| Epoch 110 |   250/  428 batches | lr 0.00013 | ms/batch 21.70 | loss 0.00019671\n",
      "| Epoch 110 |   300/  428 batches | lr 0.00013 | ms/batch 19.86 | loss 0.00016930\n",
      "| Epoch 110 |   350/  428 batches | lr 0.00013 | ms/batch 20.14 | loss 0.00021973\n",
      "| Epoch 110 |   400/  428 batches | lr 0.00013 | ms/batch 21.84 | loss 0.00015911\n",
      "\n",
      "Val set: Average loss: 0.00026374\n",
      "\n",
      "EarlyStopping counter: 15 out of 20\n",
      "| Epoch 111 |    50/  428 batches | lr 0.00013 | ms/batch 18.30 | loss 0.00021585\n",
      "| Epoch 111 |   100/  428 batches | lr 0.00013 | ms/batch 17.78 | loss 0.00017702\n",
      "| Epoch 111 |   150/  428 batches | lr 0.00013 | ms/batch 20.29 | loss 0.00017269\n",
      "| Epoch 111 |   200/  428 batches | lr 0.00013 | ms/batch 17.82 | loss 0.00016165\n",
      "| Epoch 111 |   250/  428 batches | lr 0.00013 | ms/batch 19.61 | loss 0.00024565\n",
      "| Epoch 111 |   300/  428 batches | lr 0.00013 | ms/batch 17.88 | loss 0.00029185\n",
      "| Epoch 111 |   350/  428 batches | lr 0.00013 | ms/batch 18.05 | loss 0.00017820\n",
      "| Epoch 111 |   400/  428 batches | lr 0.00013 | ms/batch 19.66 | loss 0.00017600\n",
      "\n",
      "Val set: Average loss: 0.00020887\n",
      "\n",
      "EarlyStopping counter: 16 out of 20\n",
      "| Epoch 112 |    50/  428 batches | lr 0.00013 | ms/batch 20.33 | loss 0.00017664\n",
      "| Epoch 112 |   100/  428 batches | lr 0.00013 | ms/batch 21.85 | loss 0.00020317\n",
      "| Epoch 112 |   150/  428 batches | lr 0.00013 | ms/batch 20.39 | loss 0.00019791\n",
      "| Epoch 112 |   200/  428 batches | lr 0.00013 | ms/batch 21.91 | loss 0.00019465\n",
      "| Epoch 112 |   250/  428 batches | lr 0.00013 | ms/batch 20.89 | loss 0.00020985\n",
      "| Epoch 112 |   300/  428 batches | lr 0.00013 | ms/batch 19.32 | loss 0.00016872\n",
      "| Epoch 112 |   350/  428 batches | lr 0.00013 | ms/batch 19.35 | loss 0.00014591\n",
      "| Epoch 112 |   400/  428 batches | lr 0.00013 | ms/batch 20.92 | loss 0.00015628\n",
      "\n",
      "Val set: Average loss: 0.00019173\n",
      "\n",
      "EarlyStopping counter: 17 out of 20\n",
      "| Epoch 113 |    50/  428 batches | lr 0.00013 | ms/batch 17.94 | loss 0.00017168\n",
      "| Epoch 113 |   100/  428 batches | lr 0.00013 | ms/batch 17.47 | loss 0.00018311\n",
      "| Epoch 113 |   150/  428 batches | lr 0.00013 | ms/batch 19.16 | loss 0.00022197\n",
      "| Epoch 113 |   200/  428 batches | lr 0.00013 | ms/batch 17.53 | loss 0.00025406\n",
      "| Epoch 113 |   250/  428 batches | lr 0.00013 | ms/batch 19.31 | loss 0.00021732\n",
      "| Epoch 113 |   300/  428 batches | lr 0.00013 | ms/batch 17.54 | loss 0.00016509\n",
      "| Epoch 113 |   350/  428 batches | lr 0.00013 | ms/batch 17.52 | loss 0.00015232\n",
      "| Epoch 113 |   400/  428 batches | lr 0.00013 | ms/batch 19.27 | loss 0.00019879\n",
      "\n",
      "Val set: Average loss: 0.00026492\n",
      "\n",
      "EarlyStopping counter: 18 out of 20\n",
      "| Epoch 114 |    50/  428 batches | lr 0.00013 | ms/batch 19.84 | loss 0.00021952\n",
      "| Epoch 114 |   100/  428 batches | lr 0.00013 | ms/batch 21.11 | loss 0.00022327\n",
      "| Epoch 114 |   150/  428 batches | lr 0.00013 | ms/batch 20.84 | loss 0.00033389\n",
      "| Epoch 114 |   200/  428 batches | lr 0.00013 | ms/batch 19.76 | loss 0.00024750\n",
      "| Epoch 114 |   250/  428 batches | lr 0.00013 | ms/batch 21.08 | loss 0.00020801\n",
      "| Epoch 114 |   300/  428 batches | lr 0.00013 | ms/batch 19.53 | loss 0.00018415\n",
      "| Epoch 114 |   350/  428 batches | lr 0.00013 | ms/batch 19.90 | loss 0.00016357\n",
      "| Epoch 114 |   400/  428 batches | lr 0.00013 | ms/batch 21.44 | loss 0.00023391\n",
      "\n",
      "Val set: Average loss: 0.00019525\n",
      "\n",
      "EarlyStopping counter: 19 out of 20\n",
      "| Epoch 115 |    50/  428 batches | lr 0.00013 | ms/batch 18.03 | loss 0.00017925\n",
      "| Epoch 115 |   100/  428 batches | lr 0.00013 | ms/batch 18.56 | loss 0.00021098\n",
      "| Epoch 115 |   150/  428 batches | lr 0.00013 | ms/batch 19.71 | loss 0.00025891\n",
      "| Epoch 115 |   200/  428 batches | lr 0.00013 | ms/batch 17.90 | loss 0.00016456\n",
      "| Epoch 115 |   250/  428 batches | lr 0.00013 | ms/batch 19.60 | loss 0.00018751\n",
      "| Epoch 115 |   300/  428 batches | lr 0.00013 | ms/batch 17.88 | loss 0.00017029\n",
      "| Epoch 115 |   350/  428 batches | lr 0.00013 | ms/batch 17.93 | loss 0.00015113\n",
      "| Epoch 115 |   400/  428 batches | lr 0.00013 | ms/batch 19.55 | loss 0.00019972\n",
      "\n",
      "Val set: Average loss: 0.00019241\n",
      "\n",
      "EarlyStopping counter: 20 out of 20\n",
      "Stopping at Epoch: 115\n"
     ]
    }
   ],
   "source": [
    "load = False\n",
    "save_model_path = '../models/final_heston_model.chkpt'\n",
    "val_err_df_path = '../results/val_final_heston_model.csv'\n",
    "\n",
    "if not load:\n",
    "  train_losses, val_losses = train(\n",
    "      epochs,\n",
    "      batch_size,\n",
    "      model,\n",
    "      optimizer,\n",
    "      loss_fn,\n",
    "      X_train,\n",
    "      y_train,\n",
    "      X_val,\n",
    "      y_val)\n",
    "  val_err_df = pd.DataFrame({\n",
    "      'Training': train_losses,\n",
    "      'Validation': val_losses})\n",
    "  val_err_df.to_csv(val_err_df_path)\n",
    "  torch.save(model.state_dict(), save_model_path)\n",
    "else:\n",
    "  model = Net(input_size, output_size, hidden_size, num_layers, act_fn)\n",
    "  model.load_state_dict(torch.load(save_model_path, map_location=device))\n",
    "  model = model.to(device)\n",
    "  val_err_df = pd.read_csv(val_err_df_path, index_col=0)"
   ],
   "metadata": {
    "pycharm": {
     "name": "#%%\n"
    },
    "colab": {
     "base_uri": "https://localhost:8080/"
    },
    "id": "hBETWoCfvDpj",
    "executionInfo": {
     "status": "ok",
     "timestamp": 1650894219916,
     "user_tz": -120,
     "elapsed": 2525796,
     "user": {
      "displayName": "Paolo D'Elia",
      "userId": "06873635760880783531"
     }
    },
    "outputId": "30acf99f-3a1e-4d87-d1ff-13068ebe4cd4"
   }
  },
  {
   "cell_type": "code",
   "execution_count": 25,
   "outputs": [
    {
     "data": {
      "text/plain": "<Figure size 432x288 with 1 Axes>",
      "image/png": "[encoded data removed]"
     },
     "metadata": {
      "needs_background": "light"
     },
     "output_type": "display_data"
    }
   ],
   "source": [
    "val_err_df[1:].plot(xlabel='epoch', ylabel='MSE')\n",
    "plt.plot();"
   ],
   "metadata": {
    "pycharm": {
     "name": "#%%\n"
    },
    "colab": {
     "base_uri": "https://localhost:8080/",
     "height": 279
    },
    "id": "KkenWSRYvDpl",
    "executionInfo": {
     "status": "ok",
     "timestamp": 1650894219921,
     "user_tz": -120,
     "elapsed": 35,
     "user": {
      "displayName": "Paolo D'Elia",
      "userId": "06873635760880783531"
     }
    },
    "outputId": "37746aa5-0b46-4a80-d14d-397868e89361"
   }
  },
  {
   "cell_type": "markdown",
   "source": [
    "# Test the model"
   ],
   "metadata": {
    "collapsed": false,
    "pycharm": {
     "name": "#%% md\n"
    },
    "id": "FlG5Ky25vDpm"
   }
  },
  {
   "cell_type": "code",
   "execution_count": 37,
   "outputs": [],
   "source": [
    "model.eval();"
   ],
   "metadata": {
    "collapsed": false,
    "pycharm": {
     "name": "#%%\n"
    }
   }
  },
  {
   "cell_type": "code",
   "execution_count": 38,
   "outputs": [],
   "source": [
    "test_size = 30\n",
    "\n",
    "with torch.no_grad():\n",
    "    test_out = model(X_test[0:test_size])\n",
    "\n",
    "test_out = output_sc.inverse_transform(test_out.cpu().detach().numpy())\n",
    "real_out = output_sc.inverse_transform(y_test[0:test_size].cpu().detach().numpy())"
   ],
   "metadata": {
    "pycharm": {
     "name": "#%%\n"
    },
    "id": "TBZ4eHAdvDpn",
    "executionInfo": {
     "status": "ok",
     "timestamp": 1650894219922,
     "user_tz": -120,
     "elapsed": 28,
     "user": {
      "displayName": "Paolo D'Elia",
      "userId": "06873635760880783531"
     }
    }
   }
  },
  {
   "cell_type": "code",
   "execution_count": 39,
   "outputs": [],
   "source": [
    "cols = ['Price', 'Strike', 'Kappa', 'Rho', 'Theta', 'Xi', 'V_0',\n",
    "       'Interest Rate', 'Time to Expiration', 'C', 'P', 'Prediction', 'Real']\n",
    "test_options = pd.DataFrame(columns=cols)"
   ],
   "metadata": {
    "pycharm": {
     "name": "#%%\n"
    },
    "id": "wK1WeGIZvDpo",
    "executionInfo": {
     "status": "ok",
     "timestamp": 1650894219926,
     "user_tz": -120,
     "elapsed": 27,
     "user": {
      "displayName": "Paolo D'Elia",
      "userId": "06873635760880783531"
     }
    }
   }
  },
  {
   "cell_type": "code",
   "execution_count": 40,
   "outputs": [],
   "source": [
    "for i, item in enumerate(input_sc.inverse_transform(X_test[0:test_size].cpu().detach().numpy())):\n",
    "  opt = {\n",
    "      'Price': item[0],\n",
    "      'Strike': item[1],\n",
    "      'Kappa': item[2],\n",
    "      'Rho': item[3],\n",
    "      'Theta': item[4],\n",
    "      'Xi': item[5],\n",
    "      'V_0': item[6],\n",
    "      'Interest Rate': item[7],\n",
    "      'Time to Expiration': item[8],\n",
    "      'C': item[9],\n",
    "      'P': item[10],\n",
    "      'Prediction': test_out[i][0],\n",
    "      'Real': real_out[i][0]\n",
    "  }\n",
    "  test_options = test_options.append(opt, ignore_index=True)"
   ],
   "metadata": {
    "pycharm": {
     "name": "#%%\n"
    },
    "id": "_dvE5LGXvDpq",
    "executionInfo": {
     "status": "ok",
     "timestamp": 1650894220542,
     "user_tz": -120,
     "elapsed": 68,
     "user": {
      "displayName": "Paolo D'Elia",
      "userId": "06873635760880783531"
     }
    }
   }
  },
  {
   "cell_type": "code",
   "execution_count": 41,
   "outputs": [],
   "source": [
    "test_options['Moneyness'] = test_options.Price / test_options.Strike\n",
    "test_options['Abs Error'] = np.abs(test_options.Prediction - test_options.Real)"
   ],
   "metadata": {
    "pycharm": {
     "name": "#%%\n"
    },
    "id": "TNw5-1jgvDpr",
    "executionInfo": {
     "status": "ok",
     "timestamp": 1650894220545,
     "user_tz": -120,
     "elapsed": 67,
     "user": {
      "displayName": "Paolo D'Elia",
      "userId": "06873635760880783531"
     }
    }
   }
  },
  {
   "cell_type": "code",
   "execution_count": 42,
   "outputs": [
    {
     "data": {
      "text/plain": "    Price      Strike     Kappa       Rho     Theta        Xi       V_0  \\\n23  100.0   93.999641  1.278389 -0.260981  0.348880  0.038147  0.068219   \n29  100.0   75.998573  0.874481 -0.705116  0.037440  0.019823  0.483177   \n2   100.0  119.004692  0.832547 -0.517111  0.150626  0.131811  0.051474   \n11  100.0   69.991096  0.135099 -0.234595  0.015873  0.254887  0.227777   \n27  100.0  139.005875  0.290150 -0.277600  0.241701  0.421684  0.492691   \n21  100.0  130.008911  1.138702 -0.671879  0.383766  0.185550  0.067204   \n18  100.0   78.005814  1.165061 -0.880056  0.105380  0.013057  0.296630   \n7   100.0   64.012093  0.095632 -0.855952  0.348880  0.319598  0.145096   \n9   100.0   69.991096  0.633236 -0.376233  0.375027  0.006432  0.260744   \n5   100.0   57.008118  1.814724 -0.617710  0.412803  0.248779  0.146809   \n8   100.0   79.002312  0.330181 -0.580160  0.204577  0.500055  0.051854   \n10  100.0  135.987915  0.092249 -0.055215  0.344017  0.328372  0.451335   \n16  100.0   50.004143  0.912116 -0.870668  0.460023  0.443814  0.170722   \n24  100.0  139.005875  1.722821 -0.719705  0.131245  0.334715  0.263179   \n4   100.0  141.995377  0.831983 -0.431639  0.284181  0.019118  0.475058   \n15  100.0   65.008591  1.762853 -0.509753  0.240353  0.208385  0.054265   \n6   100.0   59.997620  1.713800 -0.140972  0.075497  0.333235  0.206052   \n0   100.0   87.002785  0.554301 -0.218357  0.455089  0.107567  0.144208   \n14  100.0   69.991096  1.249070 -0.226476  0.377212  0.100167  0.077860   \n12  100.0  101.000061  1.531122 -0.667566  0.006148  0.380385  0.317879   \n19  100.0   64.012093  0.815491 -0.630904  0.278561  0.447761  0.423299   \n25  100.0  114.000832  1.806831 -0.365450  0.442403  0.314453  0.477722   \n22  100.0  131.005402  0.773486 -0.464845  0.169585  0.340565  0.207130   \n1   100.0   71.998337  1.804576 -0.772479  0.183222  0.002063  0.126194   \n28  100.0  127.005165  0.978524 -0.510229  0.404486  0.108060  0.324476   \n26  100.0   59.001118  1.007816 -0.154166  0.115740  0.410690  0.308364   \n3   100.0   79.998810  1.620206 -0.737719  0.300532  0.172477  0.133552   \n17  100.0   82.006042  1.792172 -0.240811  0.070282  0.395467  0.488505   \n20  100.0   71.001831  1.867160 -0.019948  0.381863  0.302260  0.198123   \n13  100.0   79.002312  0.643948 -0.105198  0.447478  0.263181  0.103867   \n\n    Interest Rate  Time to Expiration    C    P  Prediction       Real  \\\n23       0.041807            0.603514  1.0  0.0    7.025473   7.045724   \n29       0.034855            0.216040  0.0  1.0    1.546694   1.526171   \n2        0.027117            0.791562  1.0  0.0    0.434502   0.456434   \n11       0.060150            0.493652  0.0  1.0    0.533010   0.508435   \n27       0.087602            0.225343  1.0  0.0    3.084396   3.056491   \n21       0.080575            0.937451  0.0  1.0   29.292843  29.324509   \n18       0.080942            0.970999  0.0  1.0    1.050046   1.006160   \n7        0.072633            0.799315  1.0  0.0   35.527233  35.475506   \n9        0.048004            0.551761  0.0  1.0    0.825952   0.761011   \n5        0.098335            0.341773  1.0  0.0   42.880741  42.815098   \n8        0.026026            0.440019  0.0  1.0    0.020537   0.092425   \n10       0.065732            0.416056  0.0  1.0   35.729832  35.653793   \n16       0.094301            0.599609  0.0  1.0    0.153381   0.070139   \n24       0.089658            0.174035  1.0  0.0    0.240581   0.151855   \n4        0.019734            0.260018  1.0  0.0    2.142000   2.231901   \n15       0.081615            0.174881  1.0  0.0   34.221874  34.123474   \n6        0.020799            0.820317  0.0  1.0    0.160589   0.055281   \n0        0.059538            0.303996  0.0  1.0    1.631972   1.526171   \n14       0.083797            0.942808  0.0  1.0    0.329992   0.196428   \n12       0.082173            0.558104  1.0  0.0    6.570624   6.436567   \n19       0.057586            0.815525  0.0  1.0    0.717812   0.582722   \n25       0.029578            0.950701  1.0  0.0    7.282694   7.120011   \n22       0.040805            0.450731  0.0  1.0   30.859146  31.062834   \n1        0.054382            0.647964  1.0  0.0   28.179037  27.965050   \n28       0.024047            0.584472  0.0  1.0   27.827295  27.608471   \n26       0.088085            0.351640  1.0  0.0   41.052883  41.284779   \n3        0.062440            0.118781  0.0  1.0    0.295503   0.018137   \n17       0.071847            0.818344  1.0  0.0   19.392666  19.109995   \n20       0.027903            0.477090  1.0  0.0   28.896839  28.589064   \n13       0.077340            0.976919  1.0  0.0   21.074522  20.766603   \n\n    Moneyness  Abs Error  \n23   1.063834   0.020251  \n29   1.315814   0.020523  \n2    0.840303   0.021932  \n11   1.428753   0.024575  \n27   0.719394   0.027905  \n21   0.769178   0.031666  \n18   1.281956   0.043886  \n7    1.562205   0.051727  \n9    1.428753   0.064940  \n5    1.754136   0.065643  \n8    1.265786   0.071888  \n10   0.735359   0.076038  \n16   1.999834   0.083241  \n24   0.719394   0.088726  \n4    0.704248   0.089901  \n15   1.538258   0.098400  \n6    1.666733   0.105308  \n0    1.149388   0.105801  \n14   1.428753   0.133564  \n12   0.990098   0.134057  \n19   1.562205   0.135090  \n25   0.877187   0.162683  \n22   0.763327   0.203688  \n1    1.388921   0.213987  \n28   0.787370   0.218824  \n26   1.694883   0.231895  \n3    1.250019   0.277366  \n17   1.219422   0.282671  \n20   1.408414   0.307775  \n13   1.265786   0.307919  ",
      "text/html": "<div>\n<style scoped>\n    .dataframe tbody tr th:only-of-type {\n        vertical-align: middle;\n    }\n\n    .dataframe tbody tr th {\n        vertical-align: top;\n    }\n\n    .dataframe thead th {\n        text-align: right;\n    }\n</style>\n<table border=\"1\" class=\"dataframe\">\n  <thead>\n    <tr style=\"text-align: right;\">\n      <th></th>\n      <th>Price</th>\n      <th>Strike</th>\n      <th>Kappa</th>\n      <th>Rho</th>\n      <th>Theta</th>\n      <th>Xi</th>\n      <th>V_0</th>\n      <th>Interest Rate</th>\n      <th>Time to Expiration</th>\n      <th>C</th>\n      <th>P</th>\n      <th>Prediction</th>\n      <th>Real</th>\n      <th>Moneyness</th>\n      <th>Abs Error</th>\n    </tr>\n  </thead>\n  <tbody>\n    <tr>\n      <th>23</th>\n      <td>100.0</td>\n      <td>93.999641</td>\n      <td>1.278389</td>\n      <td>-0.260981</td>\n      <td>0.348880</td>\n      <td>0.038147</td>\n      <td>0.068219</td>\n      <td>0.041807</td>\n      <td>0.603514</td>\n      <td>1.0</td>\n      <td>0.0</td>\n      <td>7.025473</td>\n      <td>7.045724</td>\n      <td>1.063834</td>\n      <td>0.020251</td>\n    </tr>\n    <tr>\n      <th>29</th>\n      <td>100.0</td>\n      <td>75.998573</td>\n      <td>0.874481</td>\n      <td>-0.705116</td>\n      <td>0.037440</td>\n      <td>0.019823</td>\n      <td>0.483177</td>\n      <td>0.034855</td>\n      <td>0.216040</td>\n      <td>0.0</td>\n      <td>1.0</td>\n      <td>1.546694</td>\n      <td>1.526171</td>\n      <td>1.315814</td>\n      <td>0.020523</td>\n    </tr>\n    <tr>\n      <th>2</th>\n      <td>100.0</td>\n      <td>119.004692</td>\n      <td>0.832547</td>\n      <td>-0.517111</td>\n      <td>0.150626</td>\n      <td>0.131811</td>\n      <td>0.051474</td>\n      <td>0.027117</td>\n      <td>0.791562</td>\n      <td>1.0</td>\n      <td>0.0</td>\n      <td>0.434502</td>\n      <td>0.456434</td>\n      <td>0.840303</td>\n      <td>0.021932</td>\n    </tr>\n    <tr>\n      <th>11</th>\n      <td>100.0</td>\n      <td>69.991096</td>\n      <td>0.135099</td>\n      <td>-0.234595</td>\n      <td>0.015873</td>\n      <td>0.254887</td>\n      <td>0.227777</td>\n      <td>0.060150</td>\n      <td>0.493652</td>\n      <td>0.0</td>\n      <td>1.0</td>\n      <td>0.533010</td>\n      <td>0.508435</td>\n      <td>1.428753</td>\n      <td>0.024575</td>\n    </tr>\n    <tr>\n      <th>27</th>\n      <td>100.0</td>\n      <td>139.005875</td>\n      <td>0.290150</td>\n      <td>-0.277600</td>\n      <td>0.241701</td>\n      <td>0.421684</td>\n      <td>0.492691</td>\n      <td>0.087602</td>\n      <td>0.225343</td>\n      <td>1.0</td>\n      <td>0.0</td>\n      <td>3.084396</td>\n      <td>3.056491</td>\n      <td>0.719394</td>\n      <td>0.027905</td>\n    </tr>\n    <tr>\n      <th>21</th>\n      <td>100.0</td>\n      <td>130.008911</td>\n      <td>1.138702</td>\n      <td>-0.671879</td>\n      <td>0.383766</td>\n      <td>0.185550</td>\n      <td>0.067204</td>\n      <td>0.080575</td>\n      <td>0.937451</td>\n      <td>0.0</td>\n      <td>1.0</td>\n      <td>29.292843</td>\n      <td>29.324509</td>\n      <td>0.769178</td>\n      <td>0.031666</td>\n    </tr>\n    <tr>\n      <th>18</th>\n      <td>100.0</td>\n      <td>78.005814</td>\n      <td>1.165061</td>\n      <td>-0.880056</td>\n      <td>0.105380</td>\n      <td>0.013057</td>\n      <td>0.296630</td>\n      <td>0.080942</td>\n      <td>0.970999</td>\n      <td>0.0</td>\n      <td>1.0</td>\n      <td>1.050046</td>\n      <td>1.006160</td>\n      <td>1.281956</td>\n      <td>0.043886</td>\n    </tr>\n    <tr>\n      <th>7</th>\n      <td>100.0</td>\n      <td>64.012093</td>\n      <td>0.095632</td>\n      <td>-0.855952</td>\n      <td>0.348880</td>\n      <td>0.319598</td>\n      <td>0.145096</td>\n      <td>0.072633</td>\n      <td>0.799315</td>\n      <td>1.0</td>\n      <td>0.0</td>\n      <td>35.527233</td>\n      <td>35.475506</td>\n      <td>1.562205</td>\n      <td>0.051727</td>\n    </tr>\n    <tr>\n      <th>9</th>\n      <td>100.0</td>\n      <td>69.991096</td>\n      <td>0.633236</td>\n      <td>-0.376233</td>\n      <td>0.375027</td>\n      <td>0.006432</td>\n      <td>0.260744</td>\n      <td>0.048004</td>\n      <td>0.551761</td>\n      <td>0.0</td>\n      <td>1.0</td>\n      <td>0.825952</td>\n      <td>0.761011</td>\n      <td>1.428753</td>\n      <td>0.064940</td>\n    </tr>\n    <tr>\n      <th>5</th>\n      <td>100.0</td>\n      <td>57.008118</td>\n      <td>1.814724</td>\n      <td>-0.617710</td>\n      <td>0.412803</td>\n      <td>0.248779</td>\n      <td>0.146809</td>\n      <td>0.098335</td>\n      <td>0.341773</td>\n      <td>1.0</td>\n      <td>0.0</td>\n      <td>42.880741</td>\n      <td>42.815098</td>\n      <td>1.754136</td>\n      <td>0.065643</td>\n    </tr>\n    <tr>\n      <th>8</th>\n      <td>100.0</td>\n      <td>79.002312</td>\n      <td>0.330181</td>\n      <td>-0.580160</td>\n      <td>0.204577</td>\n      <td>0.500055</td>\n      <td>0.051854</td>\n      <td>0.026026</td>\n      <td>0.440019</td>\n      <td>0.0</td>\n      <td>1.0</td>\n      <td>0.020537</td>\n      <td>0.092425</td>\n      <td>1.265786</td>\n      <td>0.071888</td>\n    </tr>\n    <tr>\n      <th>10</th>\n      <td>100.0</td>\n      <td>135.987915</td>\n      <td>0.092249</td>\n      <td>-0.055215</td>\n      <td>0.344017</td>\n      <td>0.328372</td>\n      <td>0.451335</td>\n      <td>0.065732</td>\n      <td>0.416056</td>\n      <td>0.0</td>\n      <td>1.0</td>\n      <td>35.729832</td>\n      <td>35.653793</td>\n      <td>0.735359</td>\n      <td>0.076038</td>\n    </tr>\n    <tr>\n      <th>16</th>\n      <td>100.0</td>\n      <td>50.004143</td>\n      <td>0.912116</td>\n      <td>-0.870668</td>\n      <td>0.460023</td>\n      <td>0.443814</td>\n      <td>0.170722</td>\n      <td>0.094301</td>\n      <td>0.599609</td>\n      <td>0.0</td>\n      <td>1.0</td>\n      <td>0.153381</td>\n      <td>0.070139</td>\n      <td>1.999834</td>\n      <td>0.083241</td>\n    </tr>\n    <tr>\n      <th>24</th>\n      <td>100.0</td>\n      <td>139.005875</td>\n      <td>1.722821</td>\n      <td>-0.719705</td>\n      <td>0.131245</td>\n      <td>0.334715</td>\n      <td>0.263179</td>\n      <td>0.089658</td>\n      <td>0.174035</td>\n      <td>1.0</td>\n      <td>0.0</td>\n      <td>0.240581</td>\n      <td>0.151855</td>\n      <td>0.719394</td>\n      <td>0.088726</td>\n    </tr>\n    <tr>\n      <th>4</th>\n      <td>100.0</td>\n      <td>141.995377</td>\n      <td>0.831983</td>\n      <td>-0.431639</td>\n      <td>0.284181</td>\n      <td>0.019118</td>\n      <td>0.475058</td>\n      <td>0.019734</td>\n      <td>0.260018</td>\n      <td>1.0</td>\n      <td>0.0</td>\n      <td>2.142000</td>\n      <td>2.231901</td>\n      <td>0.704248</td>\n      <td>0.089901</td>\n    </tr>\n    <tr>\n      <th>15</th>\n      <td>100.0</td>\n      <td>65.008591</td>\n      <td>1.762853</td>\n      <td>-0.509753</td>\n      <td>0.240353</td>\n      <td>0.208385</td>\n      <td>0.054265</td>\n      <td>0.081615</td>\n      <td>0.174881</td>\n      <td>1.0</td>\n      <td>0.0</td>\n      <td>34.221874</td>\n      <td>34.123474</td>\n      <td>1.538258</td>\n      <td>0.098400</td>\n    </tr>\n    <tr>\n      <th>6</th>\n      <td>100.0</td>\n      <td>59.997620</td>\n      <td>1.713800</td>\n      <td>-0.140972</td>\n      <td>0.075497</td>\n      <td>0.333235</td>\n      <td>0.206052</td>\n      <td>0.020799</td>\n      <td>0.820317</td>\n      <td>0.0</td>\n      <td>1.0</td>\n      <td>0.160589</td>\n      <td>0.055281</td>\n      <td>1.666733</td>\n      <td>0.105308</td>\n    </tr>\n    <tr>\n      <th>0</th>\n      <td>100.0</td>\n      <td>87.002785</td>\n      <td>0.554301</td>\n      <td>-0.218357</td>\n      <td>0.455089</td>\n      <td>0.107567</td>\n      <td>0.144208</td>\n      <td>0.059538</td>\n      <td>0.303996</td>\n      <td>0.0</td>\n      <td>1.0</td>\n      <td>1.631972</td>\n      <td>1.526171</td>\n      <td>1.149388</td>\n      <td>0.105801</td>\n    </tr>\n    <tr>\n      <th>14</th>\n      <td>100.0</td>\n      <td>69.991096</td>\n      <td>1.249070</td>\n      <td>-0.226476</td>\n      <td>0.377212</td>\n      <td>0.100167</td>\n      <td>0.077860</td>\n      <td>0.083797</td>\n      <td>0.942808</td>\n      <td>0.0</td>\n      <td>1.0</td>\n      <td>0.329992</td>\n      <td>0.196428</td>\n      <td>1.428753</td>\n      <td>0.133564</td>\n    </tr>\n    <tr>\n      <th>12</th>\n      <td>100.0</td>\n      <td>101.000061</td>\n      <td>1.531122</td>\n      <td>-0.667566</td>\n      <td>0.006148</td>\n      <td>0.380385</td>\n      <td>0.317879</td>\n      <td>0.082173</td>\n      <td>0.558104</td>\n      <td>1.0</td>\n      <td>0.0</td>\n      <td>6.570624</td>\n      <td>6.436567</td>\n      <td>0.990098</td>\n      <td>0.134057</td>\n    </tr>\n    <tr>\n      <th>19</th>\n      <td>100.0</td>\n      <td>64.012093</td>\n      <td>0.815491</td>\n      <td>-0.630904</td>\n      <td>0.278561</td>\n      <td>0.447761</td>\n      <td>0.423299</td>\n      <td>0.057586</td>\n      <td>0.815525</td>\n      <td>0.0</td>\n      <td>1.0</td>\n      <td>0.717812</td>\n      <td>0.582722</td>\n      <td>1.562205</td>\n      <td>0.135090</td>\n    </tr>\n    <tr>\n      <th>25</th>\n      <td>100.0</td>\n      <td>114.000832</td>\n      <td>1.806831</td>\n      <td>-0.365450</td>\n      <td>0.442403</td>\n      <td>0.314453</td>\n      <td>0.477722</td>\n      <td>0.029578</td>\n      <td>0.950701</td>\n      <td>1.0</td>\n      <td>0.0</td>\n      <td>7.282694</td>\n      <td>7.120011</td>\n      <td>0.877187</td>\n      <td>0.162683</td>\n    </tr>\n    <tr>\n      <th>22</th>\n      <td>100.0</td>\n      <td>131.005402</td>\n      <td>0.773486</td>\n      <td>-0.464845</td>\n      <td>0.169585</td>\n      <td>0.340565</td>\n      <td>0.207130</td>\n      <td>0.040805</td>\n      <td>0.450731</td>\n      <td>0.0</td>\n      <td>1.0</td>\n      <td>30.859146</td>\n      <td>31.062834</td>\n      <td>0.763327</td>\n      <td>0.203688</td>\n    </tr>\n    <tr>\n      <th>1</th>\n      <td>100.0</td>\n      <td>71.998337</td>\n      <td>1.804576</td>\n      <td>-0.772479</td>\n      <td>0.183222</td>\n      <td>0.002063</td>\n      <td>0.126194</td>\n      <td>0.054382</td>\n      <td>0.647964</td>\n      <td>1.0</td>\n      <td>0.0</td>\n      <td>28.179037</td>\n      <td>27.965050</td>\n      <td>1.388921</td>\n      <td>0.213987</td>\n    </tr>\n    <tr>\n      <th>28</th>\n      <td>100.0</td>\n      <td>127.005165</td>\n      <td>0.978524</td>\n      <td>-0.510229</td>\n      <td>0.404486</td>\n      <td>0.108060</td>\n      <td>0.324476</td>\n      <td>0.024047</td>\n      <td>0.584472</td>\n      <td>0.0</td>\n      <td>1.0</td>\n      <td>27.827295</td>\n      <td>27.608471</td>\n      <td>0.787370</td>\n      <td>0.218824</td>\n    </tr>\n    <tr>\n      <th>26</th>\n      <td>100.0</td>\n      <td>59.001118</td>\n      <td>1.007816</td>\n      <td>-0.154166</td>\n      <td>0.115740</td>\n      <td>0.410690</td>\n      <td>0.308364</td>\n      <td>0.088085</td>\n      <td>0.351640</td>\n      <td>1.0</td>\n      <td>0.0</td>\n      <td>41.052883</td>\n      <td>41.284779</td>\n      <td>1.694883</td>\n      <td>0.231895</td>\n    </tr>\n    <tr>\n      <th>3</th>\n      <td>100.0</td>\n      <td>79.998810</td>\n      <td>1.620206</td>\n      <td>-0.737719</td>\n      <td>0.300532</td>\n      <td>0.172477</td>\n      <td>0.133552</td>\n      <td>0.062440</td>\n      <td>0.118781</td>\n      <td>0.0</td>\n      <td>1.0</td>\n      <td>0.295503</td>\n      <td>0.018137</td>\n      <td>1.250019</td>\n      <td>0.277366</td>\n    </tr>\n    <tr>\n      <th>17</th>\n      <td>100.0</td>\n      <td>82.006042</td>\n      <td>1.792172</td>\n      <td>-0.240811</td>\n      <td>0.070282</td>\n      <td>0.395467</td>\n      <td>0.488505</td>\n      <td>0.071847</td>\n      <td>0.818344</td>\n      <td>1.0</td>\n      <td>0.0</td>\n      <td>19.392666</td>\n      <td>19.109995</td>\n      <td>1.219422</td>\n      <td>0.282671</td>\n    </tr>\n    <tr>\n      <th>20</th>\n      <td>100.0</td>\n      <td>71.001831</td>\n      <td>1.867160</td>\n      <td>-0.019948</td>\n      <td>0.381863</td>\n      <td>0.302260</td>\n      <td>0.198123</td>\n      <td>0.027903</td>\n      <td>0.477090</td>\n      <td>1.0</td>\n      <td>0.0</td>\n      <td>28.896839</td>\n      <td>28.589064</td>\n      <td>1.408414</td>\n      <td>0.307775</td>\n    </tr>\n    <tr>\n      <th>13</th>\n      <td>100.0</td>\n      <td>79.002312</td>\n      <td>0.643948</td>\n      <td>-0.105198</td>\n      <td>0.447478</td>\n      <td>0.263181</td>\n      <td>0.103867</td>\n      <td>0.077340</td>\n      <td>0.976919</td>\n      <td>1.0</td>\n      <td>0.0</td>\n      <td>21.074522</td>\n      <td>20.766603</td>\n      <td>1.265786</td>\n      <td>0.307919</td>\n    </tr>\n  </tbody>\n</table>\n</div>"
     },
     "execution_count": 42,
     "metadata": {},
     "output_type": "execute_result"
    }
   ],
   "source": [
    "test_options.sort_values('Abs Error')"
   ],
   "metadata": {
    "pycharm": {
     "name": "#%%\n"
    },
    "colab": {
     "base_uri": "https://localhost:8080/",
     "height": 990
    },
    "id": "lAC6AdeVvDpr",
    "executionInfo": {
     "status": "ok",
     "timestamp": 1650894220546,
     "user_tz": -120,
     "elapsed": 65,
     "user": {
      "displayName": "Paolo D'Elia",
      "userId": "06873635760880783531"
     }
    },
    "outputId": "78bd13cc-c5a0-4746-f402-9e84d8b78696"
   }
  },
  {
   "cell_type": "markdown",
   "source": [
    "### MSE on the test set"
   ],
   "metadata": {
    "id": "fDJ-hkrSAqVh",
    "pycharm": {
     "name": "#%% md\n"
    }
   }
  },
  {
   "cell_type": "code",
   "source": [
    "model.eval()\n",
    "with torch.no_grad():\n",
    "    out = model(X_test)\n",
    "    loss = loss_fn(out, y_test)\n",
    "    print('The MSE on the test set is: ', loss.item())"
   ],
   "metadata": {
    "colab": {
     "base_uri": "https://localhost:8080/"
    },
    "id": "GG64Xp3vAib-",
    "executionInfo": {
     "status": "ok",
     "timestamp": 1650895213041,
     "user_tz": -120,
     "elapsed": 276,
     "user": {
      "displayName": "Paolo D'Elia",
      "userId": "06873635760880783531"
     }
    },
    "outputId": "f846ee65-029d-4a76-b006-d65e4ac07a48",
    "pycharm": {
     "name": "#%%\n"
    }
   },
   "execution_count": 43,
   "outputs": [
    {
     "name": "stdout",
     "output_type": "stream",
     "text": [
      "The MSE on the test set is:  0.00018996139988303185\n"
     ]
    }
   ]
  },
  {
   "cell_type": "markdown",
   "source": [
    "### MAE on the test set"
   ],
   "metadata": {
    "id": "HCLf2KQJAvoE",
    "pycharm": {
     "name": "#%% md\n"
    }
   }
  },
  {
   "cell_type": "code",
   "source": [
    "model.eval()\n",
    "mae_loss = nn.L1Loss()\n",
    "with torch.no_grad():\n",
    "    out = model(X_test)\n",
    "    loss = mae_loss(out, y_test)\n",
    "    print('The MAE on the test set is: ', loss.item())"
   ],
   "metadata": {
    "colab": {
     "base_uri": "https://localhost:8080/"
    },
    "id": "mZohsEyLAu7S",
    "executionInfo": {
     "status": "ok",
     "timestamp": 1650895213494,
     "user_tz": -120,
     "elapsed": 27,
     "user": {
      "displayName": "Paolo D'Elia",
      "userId": "06873635760880783531"
     }
    },
    "outputId": "4d6bfba3-5751-478d-d53e-73751702414e",
    "pycharm": {
     "name": "#%%\n"
    }
   },
   "execution_count": 44,
   "outputs": [
    {
     "name": "stdout",
     "output_type": "stream",
     "text": [
      "The MAE on the test set is:  0.009961792267858982\n"
     ]
    }
   ]
  },
  {
   "cell_type": "markdown",
   "source": [
    "### RSME on the test set"
   ],
   "metadata": {
    "id": "VmsZ4aPaA1SJ",
    "pycharm": {
     "name": "#%% md\n"
    }
   }
  },
  {
   "cell_type": "code",
   "source": [
    "model.eval()\n",
    "with torch.no_grad():\n",
    "    out = model(X_test)\n",
    "    loss = loss_fn(out, y_test)\n",
    "    print('The RMSE on the test set is: ', np.sqrt(loss.item()))"
   ],
   "metadata": {
    "colab": {
     "base_uri": "https://localhost:8080/"
    },
    "id": "f01KkBxRA0t7",
    "executionInfo": {
     "status": "ok",
     "timestamp": 1650895213496,
     "user_tz": -120,
     "elapsed": 22,
     "user": {
      "displayName": "Paolo D'Elia",
      "userId": "06873635760880783531"
     }
    },
    "outputId": "6492967a-db0c-49f4-fee1-8eb52ef33119",
    "pycharm": {
     "name": "#%%\n"
    }
   },
   "execution_count": 45,
   "outputs": [
    {
     "name": "stdout",
     "output_type": "stream",
     "text": [
      "The RMSE on the test set is:  0.013782648507563118\n"
     ]
    }
   ]
  },
  {
   "cell_type": "markdown",
   "source": [
    "### MAPE on the test set"
   ],
   "metadata": {
    "id": "j8Jxp0L4A5zb",
    "pycharm": {
     "name": "#%% md\n"
    }
   }
  },
  {
   "cell_type": "code",
   "source": [
    "model.eval()\n",
    "with torch.no_grad():\n",
    "    out = model(X_test)\n",
    "    loss = MAPELoss(out, y_test).item()\n",
    "    print('The MAPE on the test set is: ', loss)"
   ],
   "metadata": {
    "colab": {
     "base_uri": "https://localhost:8080/"
    },
    "id": "fHghkyflA79o",
    "executionInfo": {
     "status": "ok",
     "timestamp": 1650895213818,
     "user_tz": -120,
     "elapsed": 335,
     "user": {
      "displayName": "Paolo D'Elia",
      "userId": "06873635760880783531"
     }
    },
    "outputId": "37838323-11f0-4eb9-d7d7-50303bf4e9ce",
    "pycharm": {
     "name": "#%%\n"
    }
   },
   "execution_count": 46,
   "outputs": [
    {
     "name": "stdout",
     "output_type": "stream",
     "text": [
      "The MAPE on the test set is:  0.05627785623073578\n"
     ]
    }
   ]
  },
  {
   "cell_type": "markdown",
   "source": [
    "### $R^2$"
   ],
   "metadata": {
    "id": "uLLLqkX6BEle",
    "pycharm": {
     "name": "#%% md\n"
    }
   }
  },
  {
   "cell_type": "code",
   "source": [
    "from sklearn.metrics import r2_score\n",
    "\n",
    "model.eval()\n",
    "with torch.no_grad():\n",
    "    out = model(X_test).squeeze().cpu().detach().numpy()\n",
    "\n",
    "y_true = y_test.cpu().squeeze().detach().numpy()\n",
    "\n",
    "r2 = r2_score(y_pred=out, y_true=y_true)\n",
    "\n",
    "print('the R^2 score is: ', r2)"
   ],
   "metadata": {
    "colab": {
     "base_uri": "https://localhost:8080/"
    },
    "id": "sf8FmLxxBGcu",
    "executionInfo": {
     "status": "ok",
     "timestamp": 1650895213820,
     "user_tz": -120,
     "elapsed": 21,
     "user": {
      "displayName": "Paolo D'Elia",
      "userId": "06873635760880783531"
     }
    },
    "outputId": "764313a9-78fc-46ca-dd08-9fb8834e4374",
    "pycharm": {
     "name": "#%%\n"
    }
   },
   "execution_count": 47,
   "outputs": [
    {
     "name": "stdout",
     "output_type": "stream",
     "text": [
      "the R^2 score is:  0.9998100914751962\n"
     ]
    }
   ]
  },
  {
   "cell_type": "code",
   "source": [
    "fig = plt.figure(figsize=(9, 6))\n",
    "ax = fig.add_subplot()\n",
    "\n",
    "ax.scatter(\n",
    "    y=output_sc.inverse_transform(out.reshape(-1, 1)),\n",
    "    x=output_sc.inverse_transform(y_true.squeeze().reshape(-1, 1))\n",
    ")\n",
    "ax.set_xlabel('Actual Value')\n",
    "ax.set_ylabel('Predicted Value')\n",
    "\n",
    "ax.text(20, 80, f'$R^2$ = {np.round(r2, 6)}', fontsize=12)\n",
    "\n",
    "plt.show()"
   ],
   "metadata": {
    "colab": {
     "base_uri": "https://localhost:8080/",
     "height": 551
    },
    "id": "awvWu7WxBIHB",
    "executionInfo": {
     "status": "ok",
     "timestamp": 1650895214553,
     "user_tz": -120,
     "elapsed": 744,
     "user": {
      "displayName": "Paolo D'Elia",
      "userId": "06873635760880783531"
     }
    },
    "outputId": "1b3dccd3-90ef-47d5-9895-267fdf93020c",
    "pycharm": {
     "name": "#%%\n"
    }
   },
   "execution_count": 48,
   "outputs": [
    {
     "data": {
      "text/plain": "<Figure size 648x432 with 1 Axes>",
      "image/png": "[encoded data removed]"
     },
     "metadata": {
      "needs_background": "light"
     },
     "output_type": "display_data"
    }
   ]
  }
 ],
 "metadata": {
  "accelerator": "GPU",
  "colab": {
   "collapsed_sections": [],
   "name": "Model-Testing-Heston.ipynb",
   "provenance": []
  },
  "kernelspec": {
   "name": "pytorch",
   "language": "python",
   "display_name": "pytorch"
  },
  "language_info": {
   "name": "python"
  }
 },
 "nbformat": 4,
 "nbformat_minor": 0
}