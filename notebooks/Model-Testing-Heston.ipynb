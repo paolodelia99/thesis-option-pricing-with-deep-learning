{
 "cells": [
  {
   "cell_type": "markdown",
   "metadata": {
    "id": "ju-WUaXnY5cr",
    "pycharm": {
     "name": "#%% md\n"
    }
   },
   "source": [
    "# Models Testing on Heston data\n"
   ]
  },
  {
   "cell_type": "code",
   "execution_count": 1,
   "metadata": {
    "id": "hH3-v8y-AuXg",
    "pycharm": {
     "name": "#%%\n"
    },
    "executionInfo": {
     "status": "ok",
     "timestamp": 1650891681415,
     "user_tz": -120,
     "elapsed": 824,
     "user": {
      "displayName": "Paolo D'Elia",
      "userId": "06873635760880783531"
     }
    }
   },
   "outputs": [],
   "source": [
    "import time\n",
    "\n",
    "import pandas as pd\n",
    "import numpy as np\n",
    "import matplotlib.pyplot as plt\n",
    "\n",
    "from sklearn.preprocessing import StandardScaler\n",
    "from sklearn.utils import shuffle\n",
    "\n",
    "import torch\n",
    "import torch.nn as nn\n",
    "from torch.autograd import Variable\n",
    "from torch.utils.data import Dataset, DataLoader"
   ]
  },
  {
   "cell_type": "code",
   "execution_count": 2,
   "metadata": {
    "id": "QXEzFQ3iAyj_",
    "pycharm": {
     "name": "#%%\n"
    },
    "executionInfo": {
     "status": "ok",
     "timestamp": 1650891681417,
     "user_tz": -120,
     "elapsed": 21,
     "user": {
      "displayName": "Paolo D'Elia",
      "userId": "06873635760880783531"
     }
    }
   },
   "outputs": [],
   "source": [
    "# Set seeds\n",
    "torch.manual_seed(0)\n",
    "np.random.seed(0)"
   ]
  },
  {
   "cell_type": "code",
   "execution_count": 3,
   "metadata": {
    "id": "gsH02HCWA0gC",
    "pycharm": {
     "name": "#%%\n"
    },
    "executionInfo": {
     "status": "ok",
     "timestamp": 1650891681418,
     "user_tz": -120,
     "elapsed": 17,
     "user": {
      "displayName": "Paolo D'Elia",
      "userId": "06873635760880783531"
     }
    }
   },
   "outputs": [],
   "source": [
    "synthetic_calls_path = '../data/heston_mc_synthetic_calls_tot.csv'\n",
    "synthetic_puts_path = '../data/heston_mc_synthetic_puts_tot.csv'"
   ]
  },
  {
   "cell_type": "code",
   "execution_count": 4,
   "metadata": {
    "id": "jT4n95T6A4S6",
    "pycharm": {
     "name": "#%%\n"
    },
    "executionInfo": {
     "status": "ok",
     "timestamp": 1650891681421,
     "user_tz": -120,
     "elapsed": 15,
     "user": {
      "displayName": "Paolo D'Elia",
      "userId": "06873635760880783531"
     }
    }
   },
   "outputs": [],
   "source": [
    "def reduce_mem_usage(df):\n",
    "    \"\"\" iterate through all the columns of a dataframe and modify the data type\n",
    "        to reduce memory usage.        \n",
    "    \"\"\"    \n",
    "    for col in df.columns:\n",
    "        col_type = df[col].dtype\n",
    "        \n",
    "        if col_type != object:\n",
    "            c_min = df[col].min()\n",
    "            c_max = df[col].max()\n",
    "            if str(col_type)[:3] == 'int':\n",
    "                if c_min > np.iinfo(np.int8).min and c_max < np.iinfo(np.int8).max:\n",
    "                    df[col] = df[col].astype(np.int8)\n",
    "                elif c_min > np.iinfo(np.int16).min and c_max < np.iinfo(np.int16).max:\n",
    "                    df[col] = df[col].astype(np.int16)\n",
    "                elif c_min > np.iinfo(np.int32).min and c_max < np.iinfo(np.int32).max:\n",
    "                    df[col] = df[col].astype(np.int32)\n",
    "                elif c_min > np.iinfo(np.int64).min and c_max < np.iinfo(np.int64).max:\n",
    "                    df[col] = df[col].astype(np.int64)  \n",
    "            else:\n",
    "                if c_min > np.finfo(np.float16).min and c_max < np.finfo(np.float16).max:\n",
    "                    df[col] = df[col].astype(np.float16)\n",
    "                elif c_min > np.finfo(np.float32).min and c_max < np.finfo(np.float32).max:\n",
    "                    df[col] = df[col].astype(np.float32)\n",
    "                else:\n",
    "                    df[col] = df[col].astype(np.float64)\n",
    "        else:\n",
    "            df[col] = df[col].astype('category')\n",
    "    \n",
    "    return df"
   ]
  },
  {
   "cell_type": "code",
   "execution_count": 5,
   "metadata": {
    "id": "7H8lEQPCA5IS",
    "pycharm": {
     "name": "#%%\n"
    },
    "executionInfo": {
     "status": "ok",
     "timestamp": 1650891684820,
     "user_tz": -120,
     "elapsed": 3413,
     "user": {
      "displayName": "Paolo D'Elia",
      "userId": "06873635760880783531"
     }
    }
   },
   "outputs": [],
   "source": [
    "synthetic_calls = pd.read_csv(synthetic_calls_path, index_col=0)\n",
    "synthetic_puts = pd.read_csv(synthetic_puts_path, index_col=0)\n",
    "\n",
    "synthetic_calls = reduce_mem_usage(synthetic_calls)\n",
    "synthetic_puts = reduce_mem_usage(synthetic_puts)"
   ]
  },
  {
   "cell_type": "code",
   "execution_count": 6,
   "metadata": {
    "id": "9TKRgvuOA8pC",
    "pycharm": {
     "name": "#%%\n"
    },
    "executionInfo": {
     "status": "ok",
     "timestamp": 1650891684821,
     "user_tz": -120,
     "elapsed": 20,
     "user": {
      "displayName": "Paolo D'Elia",
      "userId": "06873635760880783531"
     }
    }
   },
   "outputs": [],
   "source": [
    "synthetic_options = pd.concat([synthetic_calls, synthetic_puts], axis=0)\n",
    "synthetic_options = shuffle(synthetic_options, random_state=0)\n",
    "synthetic_options = synthetic_options.reset_index()\n",
    "synthetic_options = synthetic_options.drop('index', axis=1)"
   ]
  },
  {
   "cell_type": "code",
   "execution_count": 7,
   "metadata": {
    "colab": {
     "base_uri": "https://localhost:8080/",
     "height": 424
    },
    "id": "3HXliAsq132p",
    "outputId": "09bc2eb1-d20d-4471-ed50-5fa0eba727fb",
    "pycharm": {
     "name": "#%%\n"
    },
    "executionInfo": {
     "status": "ok",
     "timestamp": 1650891684822,
     "user_tz": -120,
     "elapsed": 19,
     "user": {
      "displayName": "Paolo D'Elia",
      "userId": "06873635760880783531"
     }
    }
   },
   "outputs": [
    {
     "data": {
      "text/plain": "        Price  Strike Type     Kappa       Rho     Theta        Xi       V_0  \\\n0         100   143.0    C  1.728516  0.158936  0.158936  0.158936  0.158936   \n1         100    68.0    P  1.207031  0.547852  0.547852  0.547852  0.547852   \n2         100   127.0    P  0.997070  0.672363  0.672363  0.672363  0.672363   \n3         100   140.0    P  1.411133  0.494629  0.494629  0.494629  0.494629   \n4         100    60.0    C  0.271729  0.102478  0.102478  0.102478  0.102478   \n...       ...     ...  ...       ...       ...       ...       ...       ...   \n807995    100    71.0    C  0.553223  0.829590  0.829590  0.829590  0.829590   \n807996    100    57.0    C  1.411133  0.825684  0.825684  0.825684  0.825684   \n807997    100   135.0    C  1.419922  1.062500  1.062500  1.062500  1.062500   \n807998    100    64.0    P  1.577148  1.038086  1.038086  1.038086  1.038086   \n807999    100   135.0    C  1.232422  0.161743  0.161743  0.161743  0.161743   \n\n        Interest Rate  Time to Expiration  Option Price  \n0            0.058685            0.158936      0.000000  \n1            0.073486            0.547852      0.957520  \n2            0.014740            0.672363     26.546875  \n3            0.052063            0.494629     38.750000  \n4            0.035553            0.102478     38.593750  \n...               ...                 ...           ...  \n807995       0.076904            0.829590     27.875000  \n807996       0.084656            0.825684     42.437500  \n807997       0.073792            1.062500      2.345703  \n807998       0.091187            1.038086      0.202026  \n807999       0.038239            0.161743      0.061554  \n\n[808000 rows x 11 columns]",
      "text/html": "<div>\n<style scoped>\n    .dataframe tbody tr th:only-of-type {\n        vertical-align: middle;\n    }\n\n    .dataframe tbody tr th {\n        vertical-align: top;\n    }\n\n    .dataframe thead th {\n        text-align: right;\n    }\n</style>\n<table border=\"1\" class=\"dataframe\">\n  <thead>\n    <tr style=\"text-align: right;\">\n      <th></th>\n      <th>Price</th>\n      <th>Strike</th>\n      <th>Type</th>\n      <th>Kappa</th>\n      <th>Rho</th>\n      <th>Theta</th>\n      <th>Xi</th>\n      <th>V_0</th>\n      <th>Interest Rate</th>\n      <th>Time to Expiration</th>\n      <th>Option Price</th>\n    </tr>\n  </thead>\n  <tbody>\n    <tr>\n      <th>0</th>\n      <td>100</td>\n      <td>143.0</td>\n      <td>C</td>\n      <td>1.728516</td>\n      <td>0.158936</td>\n      <td>0.158936</td>\n      <td>0.158936</td>\n      <td>0.158936</td>\n      <td>0.058685</td>\n      <td>0.158936</td>\n      <td>0.000000</td>\n    </tr>\n    <tr>\n      <th>1</th>\n      <td>100</td>\n      <td>68.0</td>\n      <td>P</td>\n      <td>1.207031</td>\n      <td>0.547852</td>\n      <td>0.547852</td>\n      <td>0.547852</td>\n      <td>0.547852</td>\n      <td>0.073486</td>\n      <td>0.547852</td>\n      <td>0.957520</td>\n    </tr>\n    <tr>\n      <th>2</th>\n      <td>100</td>\n      <td>127.0</td>\n      <td>P</td>\n      <td>0.997070</td>\n      <td>0.672363</td>\n      <td>0.672363</td>\n      <td>0.672363</td>\n      <td>0.672363</td>\n      <td>0.014740</td>\n      <td>0.672363</td>\n      <td>26.546875</td>\n    </tr>\n    <tr>\n      <th>3</th>\n      <td>100</td>\n      <td>140.0</td>\n      <td>P</td>\n      <td>1.411133</td>\n      <td>0.494629</td>\n      <td>0.494629</td>\n      <td>0.494629</td>\n      <td>0.494629</td>\n      <td>0.052063</td>\n      <td>0.494629</td>\n      <td>38.750000</td>\n    </tr>\n    <tr>\n      <th>4</th>\n      <td>100</td>\n      <td>60.0</td>\n      <td>C</td>\n      <td>0.271729</td>\n      <td>0.102478</td>\n      <td>0.102478</td>\n      <td>0.102478</td>\n      <td>0.102478</td>\n      <td>0.035553</td>\n      <td>0.102478</td>\n      <td>38.593750</td>\n    </tr>\n    <tr>\n      <th>...</th>\n      <td>...</td>\n      <td>...</td>\n      <td>...</td>\n      <td>...</td>\n      <td>...</td>\n      <td>...</td>\n      <td>...</td>\n      <td>...</td>\n      <td>...</td>\n      <td>...</td>\n      <td>...</td>\n    </tr>\n    <tr>\n      <th>807995</th>\n      <td>100</td>\n      <td>71.0</td>\n      <td>C</td>\n      <td>0.553223</td>\n      <td>0.829590</td>\n      <td>0.829590</td>\n      <td>0.829590</td>\n      <td>0.829590</td>\n      <td>0.076904</td>\n      <td>0.829590</td>\n      <td>27.875000</td>\n    </tr>\n    <tr>\n      <th>807996</th>\n      <td>100</td>\n      <td>57.0</td>\n      <td>C</td>\n      <td>1.411133</td>\n      <td>0.825684</td>\n      <td>0.825684</td>\n      <td>0.825684</td>\n      <td>0.825684</td>\n      <td>0.084656</td>\n      <td>0.825684</td>\n      <td>42.437500</td>\n    </tr>\n    <tr>\n      <th>807997</th>\n      <td>100</td>\n      <td>135.0</td>\n      <td>C</td>\n      <td>1.419922</td>\n      <td>1.062500</td>\n      <td>1.062500</td>\n      <td>1.062500</td>\n      <td>1.062500</td>\n      <td>0.073792</td>\n      <td>1.062500</td>\n      <td>2.345703</td>\n    </tr>\n    <tr>\n      <th>807998</th>\n      <td>100</td>\n      <td>64.0</td>\n      <td>P</td>\n      <td>1.577148</td>\n      <td>1.038086</td>\n      <td>1.038086</td>\n      <td>1.038086</td>\n      <td>1.038086</td>\n      <td>0.091187</td>\n      <td>1.038086</td>\n      <td>0.202026</td>\n    </tr>\n    <tr>\n      <th>807999</th>\n      <td>100</td>\n      <td>135.0</td>\n      <td>C</td>\n      <td>1.232422</td>\n      <td>0.161743</td>\n      <td>0.161743</td>\n      <td>0.161743</td>\n      <td>0.161743</td>\n      <td>0.038239</td>\n      <td>0.161743</td>\n      <td>0.061554</td>\n    </tr>\n  </tbody>\n</table>\n<p>808000 rows × 11 columns</p>\n</div>"
     },
     "execution_count": 7,
     "metadata": {},
     "output_type": "execute_result"
    }
   ],
   "source": [
    "synthetic_options"
   ]
  },
  {
   "cell_type": "markdown",
   "metadata": {
    "id": "pn28_RUMBAFH",
    "pycharm": {
     "name": "#%% md\n"
    }
   },
   "source": [
    "# Preprocessing"
   ]
  },
  {
   "cell_type": "code",
   "execution_count": 8,
   "metadata": {
    "id": "32oPe6XUBCTF",
    "pycharm": {
     "name": "#%%\n"
    },
    "executionInfo": {
     "status": "ok",
     "timestamp": 1650891685322,
     "user_tz": -120,
     "elapsed": 515,
     "user": {
      "displayName": "Paolo D'Elia",
      "userId": "06873635760880783531"
     }
    }
   },
   "outputs": [],
   "source": [
    "synthetic_options = pd.get_dummies(synthetic_options, prefix='', prefix_sep='')"
   ]
  },
  {
   "cell_type": "code",
   "execution_count": 9,
   "metadata": {
    "id": "_Tlc7k7xBDPV",
    "pycharm": {
     "name": "#%%\n"
    },
    "executionInfo": {
     "status": "ok",
     "timestamp": 1650891686346,
     "user_tz": -120,
     "elapsed": 1032,
     "user": {
      "displayName": "Paolo D'Elia",
      "userId": "06873635760880783531"
     }
    }
   },
   "outputs": [],
   "source": [
    "input_sc = StandardScaler()\n",
    "output_sc = StandardScaler()\n",
    "input_data = input_sc.fit_transform(synthetic_options.drop('Option Price', axis=1))\n",
    "output_data = output_sc.fit_transform(synthetic_options['Option Price'].values.reshape(-1, 1))\n",
    "\n",
    "train_size = 0.8\n",
    "val_size = 0.1\n",
    "\n",
    "last_train_idx = int(np.round(len(input_data) * train_size))\n",
    "last_val_idx = last_train_idx + int(np.round(len(input_data) * val_size))\n",
    "\n",
    "X_train = input_data[0:last_train_idx]\n",
    "X_val = input_data[last_train_idx:last_val_idx]\n",
    "X_test = input_data[last_val_idx:]\n",
    "\n",
    "y_train = output_data[0:last_train_idx]\n",
    "y_val = output_data[last_train_idx:last_val_idx]\n",
    "y_test = output_data[last_val_idx:]"
   ]
  },
  {
   "cell_type": "code",
   "execution_count": 10,
   "outputs": [
    {
     "data": {
      "text/plain": "Index(['Price', 'Strike', 'Kappa', 'Rho', 'Theta', 'Xi', 'V_0',\n       'Interest Rate', 'Time to Expiration', 'C', 'P'],\n      dtype='object')"
     },
     "execution_count": 10,
     "metadata": {},
     "output_type": "execute_result"
    }
   ],
   "source": [
    "synthetic_options.drop('Option Price', axis=1).columns"
   ],
   "metadata": {
    "pycharm": {
     "name": "#%%\n"
    },
    "colab": {
     "base_uri": "https://localhost:8080/"
    },
    "id": "7nEEoQGvvDpL",
    "executionInfo": {
     "status": "ok",
     "timestamp": 1650891686347,
     "user_tz": -120,
     "elapsed": 21,
     "user": {
      "displayName": "Paolo D'Elia",
      "userId": "06873635760880783531"
     }
    },
    "outputId": "88b4d863-d037-439b-e625-5ebb52ad41ef"
   }
  },
  {
   "cell_type": "code",
   "execution_count": 11,
   "metadata": {
    "id": "IwMVtvfABIhR",
    "pycharm": {
     "name": "#%%\n"
    },
    "executionInfo": {
     "status": "ok",
     "timestamp": 1650891686349,
     "user_tz": -120,
     "elapsed": 19,
     "user": {
      "displayName": "Paolo D'Elia",
      "userId": "06873635760880783531"
     }
    }
   },
   "outputs": [],
   "source": [
    "X_train = Variable(torch.Tensor(X_train))\n",
    "X_val = Variable(torch.Tensor(X_val))\n",
    "X_test = Variable(torch.Tensor(X_test))\n",
    "\n",
    "y_train = Variable(torch.Tensor(y_train))\n",
    "y_val = Variable(torch.Tensor(y_val))\n",
    "y_test = Variable(torch.Tensor(y_test))"
   ]
  },
  {
   "cell_type": "markdown",
   "metadata": {
    "id": "Ra2l5P1nBVCz",
    "pycharm": {
     "name": "#%% md\n"
    }
   },
   "source": [
    "# Model"
   ]
  },
  {
   "cell_type": "code",
   "execution_count": 12,
   "metadata": {
    "id": "xTLMLFoSBWDy",
    "pycharm": {
     "name": "#%%\n"
    },
    "executionInfo": {
     "status": "ok",
     "timestamp": 1650891686350,
     "user_tz": -120,
     "elapsed": 17,
     "user": {
      "displayName": "Paolo D'Elia",
      "userId": "06873635760880783531"
     }
    }
   },
   "outputs": [],
   "source": [
    "CUDA = torch.cuda.is_available()\n",
    "device = 'cuda:0' if CUDA else 'cpu'"
   ]
  },
  {
   "cell_type": "code",
   "execution_count": 13,
   "metadata": {
    "id": "CQ9Gl3bUBWsj",
    "pycharm": {
     "name": "#%%\n"
    },
    "executionInfo": {
     "status": "ok",
     "timestamp": 1650891686352,
     "user_tz": -120,
     "elapsed": 18,
     "user": {
      "displayName": "Paolo D'Elia",
      "userId": "06873635760880783531"
     }
    }
   },
   "outputs": [],
   "source": [
    "class ResBlock(nn.Module):\n",
    "\n",
    "  def __init__(self, module):\n",
    "    super(ResBlock, self).__init__()\n",
    "    self.module = module\n",
    "\n",
    "  def forward(self, x):\n",
    "    return self.module(x) + x"
   ]
  },
  {
   "cell_type": "code",
   "execution_count": 14,
   "metadata": {
    "id": "YL3SicQPBYq0",
    "pycharm": {
     "name": "#%%\n"
    },
    "executionInfo": {
     "status": "ok",
     "timestamp": 1650891686353,
     "user_tz": -120,
     "elapsed": 17,
     "user": {
      "displayName": "Paolo D'Elia",
      "userId": "06873635760880783531"
     }
    }
   },
   "outputs": [],
   "source": [
    "class HiddenLayer(nn.Module):\n",
    "\n",
    "  def __init__(self, layer_size, act_fn):\n",
    "      super(HiddenLayer, self).__init__()\n",
    "      \n",
    "      if act_fn == 'ReLU':\n",
    "        self.layer = nn.Sequential(\n",
    "          nn.Linear(layer_size, layer_size),\n",
    "          nn.ReLU())\n",
    "      elif act_fn == 'LeakyReLU':\n",
    "        self.layer = nn.Sequential(\n",
    "          nn.Linear(layer_size, layer_size),\n",
    "          nn.LeakyReLU())\n",
    "      elif act_fn == 'ELU':\n",
    "        self.layer = nn.Sequential(\n",
    "          nn.Linear(layer_size, layer_size),\n",
    "          nn.ELU())\n",
    "    \n",
    "  def forward(self, x):\n",
    "    return self.layer(x)"
   ]
  },
  {
   "cell_type": "code",
   "execution_count": 15,
   "metadata": {
    "id": "lHUFGf9xBawS",
    "pycharm": {
     "name": "#%%\n"
    },
    "executionInfo": {
     "status": "ok",
     "timestamp": 1650891686792,
     "user_tz": -120,
     "elapsed": 455,
     "user": {
      "displayName": "Paolo D'Elia",
      "userId": "06873635760880783531"
     }
    }
   },
   "outputs": [],
   "source": [
    "class Net(nn.Module):\n",
    "\n",
    "  def __init__(self, input_size, output_size, hidden_size, num_layers, act_fn):\n",
    "    super(Net, self).__init__()\n",
    "    self.input_size = input_size\n",
    "    self.output_size = output_size\n",
    "    self.hidden_size = hidden_size\n",
    "\n",
    "    if act_fn == 'ReLU':\n",
    "      self.initial_layer = nn.Sequential(\n",
    "          nn.Linear(self.input_size, self.hidden_size),\n",
    "          nn.ReLU())\n",
    "    elif act_fn == 'LeakyReLU':\n",
    "      self.initial_layer = nn.Sequential(\n",
    "          nn.Linear(self.input_size, self.hidden_size),\n",
    "          nn.LeakyReLU())\n",
    "    elif act_fn == 'ELU':\n",
    "      self.initial_layer = nn.Sequential(\n",
    "          nn.Linear(self.input_size, self.hidden_size),\n",
    "          nn.ELU())\n",
    "\n",
    "    self.hidden_layers_list = []\n",
    "\n",
    "    for i in range(num_layers // 2):\n",
    "      self.hidden_layers_list.append(\n",
    "          ResBlock(\n",
    "            nn.Sequential(\n",
    "                HiddenLayer(self.hidden_size, act_fn),\n",
    "                HiddenLayer(self.hidden_size, act_fn)\n",
    "            )\n",
    "        )\n",
    "      )\n",
    "\n",
    "    self.hidden_layers = nn.Sequential(*self.hidden_layers_list)\n",
    "\n",
    "    self.net = nn.Sequential(\n",
    "        self.initial_layer,\n",
    "        self.hidden_layers,\n",
    "        nn.Linear(self.hidden_size, self.output_size)\n",
    "    )\n",
    "  \n",
    "  def forward(self, x):\n",
    "    return self.net(x)"
   ]
  },
  {
   "cell_type": "code",
   "execution_count": 16,
   "metadata": {
    "id": "zcq_lQrHBdH8",
    "pycharm": {
     "name": "#%%\n"
    },
    "executionInfo": {
     "status": "ok",
     "timestamp": 1650891686793,
     "user_tz": -120,
     "elapsed": 11,
     "user": {
      "displayName": "Paolo D'Elia",
      "userId": "06873635760880783531"
     }
    }
   },
   "outputs": [],
   "source": [
    "def init_weights(m, init_m: str):\n",
    "\n",
    "  @torch.no_grad()\n",
    "  def init_uniform(m):\n",
    "    if isinstance(m, nn.Linear):\n",
    "      torch.nn.init.uniform_(m.weight)\n",
    "      m.bias.data.fill_(0.01)\n",
    "\n",
    "  @torch.no_grad()\n",
    "  def init_normal(m):\n",
    "    if isinstance(m, nn.Linear):\n",
    "      torch.nn.init.normal_(m.weight)\n",
    "      m.bias.data.fill_(0.01)\n",
    "\n",
    "  @torch.no_grad()\n",
    "  def init_xuniform(m):\n",
    "    if isinstance(m, nn.Linear):\n",
    "      torch.nn.init.xavier_uniform_(m.weight)\n",
    "      m.bias.data.fill_(0.01)\n",
    "\n",
    "  @torch.no_grad()\n",
    "  def init_xnormal(m):\n",
    "    if isinstance(m, nn.Linear):\n",
    "      torch.nn.init.xavier_normal_(m.weight)\n",
    "      m.bias.data.fill_(0.01)\n",
    "\n",
    "  if init_m == 'uniform':\n",
    "    m.apply(init_uniform)\n",
    "  elif init_m == 'normal':\n",
    "    m.apply(init_normal)\n",
    "  elif init_m == 'xaiver uniform':\n",
    "    m.apply(init_xuniform)\n",
    "  elif init_m == 'xavier normal':\n",
    "    m.apply(init_xnormal)"
   ]
  },
  {
   "cell_type": "markdown",
   "metadata": {
    "id": "vuCpyycNCKEZ",
    "pycharm": {
     "name": "#%% md\n"
    }
   },
   "source": [
    "# Training"
   ]
  },
  {
   "cell_type": "code",
   "execution_count": 17,
   "metadata": {
    "id": "YbCOnCSNCL25",
    "pycharm": {
     "name": "#%%\n"
    },
    "executionInfo": {
     "status": "ok",
     "timestamp": 1650891686794,
     "user_tz": -120,
     "elapsed": 10,
     "user": {
      "displayName": "Paolo D'Elia",
      "userId": "06873635760880783531"
     }
    }
   },
   "outputs": [],
   "source": [
    "input_size = 11\n",
    "output_size = 1\n",
    "num_layers = 4\n",
    "hidden_size = 600\n",
    "batch_size = 1160\n",
    "epochs = 2000\n",
    "lr = 0.000125\n",
    "init_method = 'xaiver uniform'\n",
    "act_fn = 'LeakyReLU'\n",
    "\n",
    "model = Net(input_size, output_size, hidden_size, num_layers, act_fn)\n",
    "init_weights(model, init_method)\n",
    "\n",
    "loss_fn = nn.MSELoss()\n",
    "optimizer = torch.optim.Adam(model.parameters(), lr=lr)"
   ]
  },
  {
   "cell_type": "code",
   "execution_count": 18,
   "outputs": [],
   "source": [
    "model = model.to(device)\n",
    "\n",
    "X_train = X_train.to(device)\n",
    "y_train = y_train.to(device)\n",
    "\n",
    "X_val = X_val.to(device)\n",
    "y_val = y_val.to(device)\n",
    "\n",
    "X_test = X_test.to(device)\n",
    "y_test = y_test.to(device)"
   ],
   "metadata": {
    "pycharm": {
     "name": "#%%\n"
    },
    "id": "QqZbxrppvDpZ",
    "executionInfo": {
     "status": "ok",
     "timestamp": 1650891694138,
     "user_tz": -120,
     "elapsed": 7351,
     "user": {
      "displayName": "Paolo D'Elia",
      "userId": "06873635760880783531"
     }
    }
   }
  },
  {
   "cell_type": "code",
   "execution_count": 19,
   "metadata": {
    "id": "Q-9T0GArCMgp",
    "pycharm": {
     "name": "#%%\n"
    },
    "executionInfo": {
     "status": "ok",
     "timestamp": 1650891694142,
     "user_tz": -120,
     "elapsed": 42,
     "user": {
      "displayName": "Paolo D'Elia",
      "userId": "06873635760880783531"
     }
    }
   },
   "outputs": [],
   "source": [
    "class OptDataset(Dataset):\n",
    "\n",
    "  def __init__(self, X, y):\n",
    "    self.X = X\n",
    "    self.y = y\n",
    "\n",
    "  def __getitem__(self, idx):\n",
    "    return self.X[idx], self.y[idx]\n",
    "\n",
    "  def __len__(self):\n",
    "    return len(self.X)"
   ]
  },
  {
   "cell_type": "markdown",
   "source": [
    "### Losses Metrics"
   ],
   "metadata": {
    "collapsed": false,
    "pycharm": {
     "name": "#%% md\n"
    },
    "id": "J6-hCH2ivDpb"
   }
  },
  {
   "cell_type": "code",
   "execution_count": 39,
   "metadata": {
    "id": "mVaO8TruHW4M",
    "pycharm": {
     "name": "#%%\n"
    },
    "executionInfo": {
     "status": "ok",
     "timestamp": 1650891694144,
     "user_tz": -120,
     "elapsed": 40,
     "user": {
      "displayName": "Paolo D'Elia",
      "userId": "06873635760880783531"
     }
    }
   },
   "outputs": [],
   "source": [
    "def MAPELoss(output, target):\n",
    "  return torch.mean(torch.abs((target - output) / target))"
   ]
  },
  {
   "cell_type": "code",
   "execution_count": 22,
   "outputs": [],
   "source": [
    "def evaluate(model, loss_fn, X_val, y_val):\n",
    "  model.eval()\n",
    "  with torch.no_grad():\n",
    "    out = model(X_val)\n",
    "    loss = loss_fn(out, y_val)\n",
    "    print('\\nVal set: Average loss: {:.8f}\\n'.format(\n",
    "            loss.item()))\n",
    "    return loss.item()"
   ],
   "metadata": {
    "pycharm": {
     "name": "#%%\n"
    },
    "id": "tVLW5dHhvDpe",
    "executionInfo": {
     "status": "ok",
     "timestamp": 1650891694149,
     "user_tz": -120,
     "elapsed": 37,
     "user": {
      "displayName": "Paolo D'Elia",
      "userId": "06873635760880783531"
     }
    }
   }
  },
  {
   "cell_type": "markdown",
   "source": [
    "### Early Stopping class"
   ],
   "metadata": {
    "collapsed": false,
    "pycharm": {
     "name": "#%% md\n"
    },
    "id": "68eF5_EovDpf"
   }
  },
  {
   "cell_type": "code",
   "execution_count": 23,
   "outputs": [],
   "source": [
    "# Code took form: https://github.com/Bjarten/early-stopping-pytorch/blob/master/pytorchtools.py\n",
    "\n",
    "class EarlyStopping:\n",
    "    \"\"\"Early stops the training if validation loss doesn't improve after a given patience.\"\"\"\n",
    "    def __init__(self, \n",
    "                 patience=10, \n",
    "                 verbose=False, \n",
    "                 delta=0, \n",
    "                 path='../models/final_heston_model.chkpt',\n",
    "                 trace_func=print):\n",
    "        \"\"\"\n",
    "        Args:\n",
    "            patience (int): How long to wait after last time validation loss improved.\n",
    "                            Default: 7\n",
    "            verbose (bool): If True, prints a message for each validation loss improvement.\n",
    "                            Default: False\n",
    "            delta (float): Minimum change in the monitored quantity to qualify as an improvement.\n",
    "                            Default: 0\n",
    "            path (str): Path for the checkpoint to be saved to.\n",
    "                            Default: 'checkpoint.pt'\n",
    "            trace_func (function): trace print function.\n",
    "                            Default: print\n",
    "        \"\"\"\n",
    "        self.patience = patience\n",
    "        self.verbose = verbose\n",
    "        self.counter = 0\n",
    "        self.best_score = None\n",
    "        self.early_stop = False\n",
    "        self.val_loss_min = np.Inf\n",
    "        self.delta = delta\n",
    "        self.path = path\n",
    "        self.trace_func = trace_func\n",
    "\n",
    "    def __call__(self, val_loss, model):\n",
    "\n",
    "        score = val_loss\n",
    "\n",
    "        if self.best_score is None:\n",
    "            self.best_score = score\n",
    "            self.save_checkpoint(val_loss, model)\n",
    "        elif score > self.best_score + self.delta:\n",
    "            self.counter += 1\n",
    "            self.trace_func(f'EarlyStopping counter: {self.counter} out of {self.patience}')\n",
    "            if self.counter >= self.patience:\n",
    "                self.early_stop = True\n",
    "        else:\n",
    "            self.best_score = score\n",
    "            self.save_checkpoint(val_loss, model)\n",
    "            self.counter = 0\n",
    "\n",
    "    def save_checkpoint(self, val_loss, model):\n",
    "        '''Saves model when validation loss decrease.'''\n",
    "        if self.verbose:\n",
    "            self.trace_func(f'Validation loss decreased ({self.val_loss_min:.6f} --> {val_loss:.6f}).  Saving model ...')\n",
    "        torch.save(model.state_dict(), self.path)\n",
    "        self.val_loss_min = val_loss"
   ],
   "metadata": {
    "pycharm": {
     "name": "#%%\n"
    },
    "id": "n2So2ffSvDpg",
    "executionInfo": {
     "status": "ok",
     "timestamp": 1650891694150,
     "user_tz": -120,
     "elapsed": 35,
     "user": {
      "displayName": "Paolo D'Elia",
      "userId": "06873635760880783531"
     }
    }
   }
  },
  {
   "cell_type": "markdown",
   "source": [
    "### Train Loop"
   ],
   "metadata": {
    "collapsed": false,
    "pycharm": {
     "name": "#%% md\n"
    },
    "id": "dL_xmnKXvDph"
   }
  },
  {
   "cell_type": "code",
   "execution_count": 24,
   "outputs": [],
   "source": [
    "def train(\n",
    "    epochs,\n",
    "    batch_size,\n",
    "    model,\n",
    "    optimizer,\n",
    "    loss_fn,\n",
    "    X_train,\n",
    "    y_train,\n",
    "    X_val,\n",
    "    y_val\n",
    "):\n",
    "\n",
    "  training_losses = []\n",
    "  validation_losses = []\n",
    "\n",
    "  early_stopping = EarlyStopping(patience=20)\n",
    "\n",
    "  for epoch in range(epochs):\n",
    "    model.train()\n",
    "    epoch_losses = []\n",
    "    total_loss = 0\n",
    "    start_time = time.time()\n",
    "    i = 0\n",
    "\n",
    "    for batch, batch_labels in DataLoader(OptDataset(X_train, y_train), batch_size=batch_size):\n",
    "      out = model(batch.to(device))\n",
    "      optimizer.zero_grad()\n",
    "\n",
    "      loss = loss_fn(out, batch_labels.to(device))\n",
    "      epoch_losses.append(loss.item())\n",
    "      total_loss += loss.item()\n",
    "      loss.backward()\n",
    "      optimizer.step()\n",
    "\n",
    "      if i > 0 and i % 50 == 0:\n",
    "        avg_loss = total_loss / 50\n",
    "        elapsed = time.time() - start_time\n",
    "        print('| Epoch {:3d} | {:5d}/{:5d} batches | lr {:2.5f} | ms/batch {:5.2f} | '\n",
    "                  'loss {:5.8f}'.format(\n",
    "              epoch, i, len(X_train) // batch_size+1, lr, elapsed * 1000 / 50,\n",
    "              avg_loss))\n",
    "        start_time = time.time()\n",
    "        total_loss = 0\n",
    "\n",
    "      i += 1\n",
    "\n",
    "    training_losses.append(np.array(epoch_losses).mean())\n",
    "    val_loss = evaluate(model, loss_fn, X_val, y_val)\n",
    "    validation_losses.append(val_loss)\n",
    "\n",
    "    early_stopping(val_loss, model)\n",
    "\n",
    "    if early_stopping.early_stop:\n",
    "        print(f\"Stopping at Epoch: {epoch}\")\n",
    "        break\n",
    "\n",
    "  return training_losses, validation_losses"
   ],
   "metadata": {
    "pycharm": {
     "name": "#%%\n"
    },
    "id": "DrBBTGKJvDph",
    "executionInfo": {
     "status": "ok",
     "timestamp": 1650891694152,
     "user_tz": -120,
     "elapsed": 34,
     "user": {
      "displayName": "Paolo D'Elia",
      "userId": "06873635760880783531"
     }
    }
   }
  },
  {
   "cell_type": "code",
   "execution_count": 25,
   "outputs": [],
   "source": [
    "load = True\n",
    "save_model_path = '../models/final_heston_model.chkpt'\n",
    "val_err_df_path = '../results/val_final_heston_model.csv'\n",
    "\n",
    "if not load:\n",
    "  train_losses, val_losses = train(\n",
    "      epochs,\n",
    "      batch_size,\n",
    "      model,\n",
    "      optimizer,\n",
    "      loss_fn,\n",
    "      X_train,\n",
    "      y_train,\n",
    "      X_val,\n",
    "      y_val)\n",
    "  val_err_df = pd.DataFrame({\n",
    "      'Training': train_losses,\n",
    "      'Validation': val_losses})\n",
    "  val_err_df.to_csv(val_err_df_path)\n",
    "  torch.save(model.state_dict(), save_model_path)\n",
    "else:\n",
    "  model = Net(input_size, output_size, hidden_size, num_layers, act_fn)\n",
    "  model.load_state_dict(torch.load(save_model_path, map_location=device))\n",
    "  model = model.to(device)\n",
    "  val_err_df = pd.read_csv(val_err_df_path, index_col=0)"
   ],
   "metadata": {
    "pycharm": {
     "name": "#%%\n"
    },
    "colab": {
     "base_uri": "https://localhost:8080/"
    },
    "id": "hBETWoCfvDpj",
    "executionInfo": {
     "status": "ok",
     "timestamp": 1650894219916,
     "user_tz": -120,
     "elapsed": 2525796,
     "user": {
      "displayName": "Paolo D'Elia",
      "userId": "06873635760880783531"
     }
    },
    "outputId": "30acf99f-3a1e-4d87-d1ff-13068ebe4cd4"
   }
  },
  {
   "cell_type": "code",
   "execution_count": 26,
   "outputs": [
    {
     "data": {
      "text/plain": "<Figure size 432x288 with 1 Axes>",
      "image/png": "[encoded data removed]"
     },
     "metadata": {
      "needs_background": "light"
     },
     "output_type": "display_data"
    }
   ],
   "source": [
    "val_err_df[1:].plot(xlabel='epoch', ylabel='MSE')\n",
    "plt.plot();"
   ],
   "metadata": {
    "pycharm": {
     "name": "#%%\n"
    },
    "colab": {
     "base_uri": "https://localhost:8080/",
     "height": 279
    },
    "id": "KkenWSRYvDpl",
    "executionInfo": {
     "status": "ok",
     "timestamp": 1650894219921,
     "user_tz": -120,
     "elapsed": 35,
     "user": {
      "displayName": "Paolo D'Elia",
      "userId": "06873635760880783531"
     }
    },
    "outputId": "37746aa5-0b46-4a80-d14d-397868e89361"
   }
  },
  {
   "cell_type": "markdown",
   "source": [
    "# Test the model"
   ],
   "metadata": {
    "collapsed": false,
    "pycharm": {
     "name": "#%% md\n"
    },
    "id": "FlG5Ky25vDpm"
   }
  },
  {
   "cell_type": "code",
   "execution_count": 27,
   "outputs": [],
   "source": [
    "test_size = 30\n",
    "\n",
    "with torch.no_grad():\n",
    "    test_out = model(X_test[0:test_size])\n",
    "\n",
    "test_out = output_sc.inverse_transform(test_out.cpu().detach().numpy())\n",
    "real_out = output_sc.inverse_transform(y_test[0:test_size].cpu().detach().numpy())"
   ],
   "metadata": {
    "pycharm": {
     "name": "#%%\n"
    },
    "id": "TBZ4eHAdvDpn",
    "executionInfo": {
     "status": "ok",
     "timestamp": 1650894219922,
     "user_tz": -120,
     "elapsed": 28,
     "user": {
      "displayName": "Paolo D'Elia",
      "userId": "06873635760880783531"
     }
    }
   }
  },
  {
   "cell_type": "code",
   "execution_count": 28,
   "outputs": [],
   "source": [
    "cols = ['Price', 'Strike', 'Kappa', 'Rho', 'Theta', 'Xi', 'V_0',\n",
    "       'Interest Rate', 'Time to Expiration', 'C', 'P', 'Prediction', 'Real']\n",
    "test_options = pd.DataFrame(columns=cols)"
   ],
   "metadata": {
    "pycharm": {
     "name": "#%%\n"
    },
    "id": "wK1WeGIZvDpo",
    "executionInfo": {
     "status": "ok",
     "timestamp": 1650894219926,
     "user_tz": -120,
     "elapsed": 27,
     "user": {
      "displayName": "Paolo D'Elia",
      "userId": "06873635760880783531"
     }
    }
   }
  },
  {
   "cell_type": "code",
   "execution_count": 29,
   "outputs": [],
   "source": [
    "for i, item in enumerate(input_sc.inverse_transform(X_test[0:test_size].cpu().detach().numpy())):\n",
    "  opt = {\n",
    "      'Price': item[0],\n",
    "      'Strike': item[1],\n",
    "      'Kappa': item[2],\n",
    "      'Rho': item[3],\n",
    "      'Theta': item[4],\n",
    "      'Xi': item[5],\n",
    "      'V_0': item[6],\n",
    "      'Interest Rate': item[7],\n",
    "      'Time to Expiration': item[8],\n",
    "      'C': item[9],\n",
    "      'P': item[10],\n",
    "      'Prediction': test_out[i][0],\n",
    "      'Real': real_out[i][0]\n",
    "  }\n",
    "  test_options = test_options.append(opt, ignore_index=True)"
   ],
   "metadata": {
    "pycharm": {
     "name": "#%%\n"
    },
    "id": "_dvE5LGXvDpq",
    "executionInfo": {
     "status": "ok",
     "timestamp": 1650894220542,
     "user_tz": -120,
     "elapsed": 68,
     "user": {
      "displayName": "Paolo D'Elia",
      "userId": "06873635760880783531"
     }
    }
   }
  },
  {
   "cell_type": "code",
   "execution_count": 30,
   "outputs": [],
   "source": [
    "test_options['Moneyness'] = test_options.Price / test_options.Strike\n",
    "test_options['Abs Error'] = np.abs(test_options.Prediction - test_options.Real)"
   ],
   "metadata": {
    "pycharm": {
     "name": "#%%\n"
    },
    "id": "TNw5-1jgvDpr",
    "executionInfo": {
     "status": "ok",
     "timestamp": 1650894220545,
     "user_tz": -120,
     "elapsed": 67,
     "user": {
      "displayName": "Paolo D'Elia",
      "userId": "06873635760880783531"
     }
    }
   }
  },
  {
   "cell_type": "code",
   "execution_count": 31,
   "outputs": [
    {
     "data": {
      "text/plain": "    Price      Strike     Kappa       Rho     Theta        Xi       V_0  \\\n15  100.0   98.999939  1.808519  0.192360  0.192360  0.192360  0.192360   \n14  100.0   78.005814  0.875466  0.777322  0.777322  0.777322  0.777322   \n8   100.0  116.000954  0.099578  0.354458  0.354458  0.354458  0.354458   \n24  100.0  149.995850  1.836710  1.045699  1.045699  1.045699  1.045699   \n28  100.0   54.986645  1.090845  0.310198  0.310198  0.310198  0.310198   \n4   100.0  135.987915  1.854752  1.023429  1.023429  1.023429  1.023429   \n2   100.0  116.000954  1.230461  0.197152  0.197152  0.197152  0.197152   \n19  100.0   64.012093  0.385999  0.884165  0.884165  0.884165  0.884165   \n27  100.0  132.001907  0.952145  0.154584  0.154584  0.154584  0.154584   \n6   100.0   87.002785  1.485450  0.642569  0.642569  0.642569  0.642569   \n22  100.0  132.001907  1.298825  0.355726  0.355726  0.355726  0.355726   \n9   100.0   59.001118  1.199170  0.785638  0.785638  0.785638  0.785638   \n18  100.0   75.998573  1.037106  0.669950  0.669950  0.669950  0.669950   \n25  100.0  106.000359  0.311011  0.641582  0.641582  0.641582  0.641582   \n29  100.0  149.995850  0.115365  0.644049  0.644049  0.644049  0.644049   \n13  100.0  114.000832  0.351042  0.804244  0.804244  0.804244  0.804244   \n11  100.0  148.002853  1.630915  0.437339  0.437339  0.437339  0.437339   \n23  100.0  145.013351  0.345968  0.892341  0.892341  0.892341  0.892341   \n12  100.0  138.009384  0.211214  0.980860  0.980860  0.980860  0.980860   \n7   100.0  139.005875  1.455003  0.364748  0.364748  0.364748  0.364748   \n21  100.0  140.998886  1.664181  0.168680  0.168680  0.168680  0.168680   \n17  100.0  131.005402  1.309537  0.895442  0.895442  0.895442  0.895442   \n26  100.0   72.994835  1.344776  1.012716  1.012716  1.012716  1.012716   \n3   100.0   54.986645  1.358308  0.314568  0.314568  0.314568  0.314568   \n5   100.0   89.002907  0.322287  0.867110  0.867110  0.867110  0.867110   \n10  100.0   67.998093  1.460923  0.779859  0.779859  0.779859  0.779859   \n1   100.0  120.997688  0.194300  0.507816  0.507816  0.507816  0.507816   \n0   100.0   96.999825  1.037106  0.653810  0.653810  0.653810  0.653810   \n20  100.0  110.000595  0.577134  1.063460  1.063460  1.063460  1.063460   \n16  100.0  124.997925  1.469663  0.120755  0.120755  0.120755  0.120755   \n\n    Interest Rate  Time to Expiration    C    P  Prediction       Real  \\\n15       0.074346            0.192360  1.0  0.0    4.805756   4.813341   \n14       0.051147            0.777322  0.0  1.0    1.013983   1.024335   \n8        0.026660            0.354458  1.0  0.0    2.526577   2.510219   \n24       0.033726            1.045699  1.0  0.0    0.290168   0.266534   \n28       0.090090            0.310198  0.0  1.0    0.248952   0.281393   \n4        0.074841            1.023429  1.0  0.0    1.134876   1.187782   \n2        0.019200            0.197152  1.0  0.0    0.728913   0.675152   \n19       0.078621            0.884165  0.0  1.0    0.899621   0.831170   \n27       0.023843            0.154584  1.0  0.0   -0.048717   0.043650   \n6        0.051909            0.642569  0.0  1.0    2.016200   2.123890   \n22       0.068536            0.355726  0.0  1.0   31.536232  31.418106   \n9        0.092830            0.785638  1.0  0.0   40.285069  40.407707   \n18       0.072088            0.669950  0.0  1.0    0.668977   0.801452   \n25       0.039828            0.641582  1.0  0.0    7.851316   7.993134   \n29       0.096737            0.644049  0.0  1.0   48.589870  48.743523   \n13       0.059386            0.804244  0.0  1.0   13.846616  14.007818   \n11       0.052582            0.437339  1.0  0.0    0.758608   0.593428   \n23       0.010574            0.892341  1.0  0.0    1.711774   1.878718   \n12       0.061736            0.980860  1.0  0.0    0.320599   0.147663   \n7        0.097727            0.364748  1.0  0.0    2.485034   2.302195   \n21       0.018921            0.168680  1.0  0.0    0.240573   0.051080   \n17       0.055481            0.895442  1.0  0.0    0.899412   1.143205   \n26       0.059783            1.012716  1.0  0.0   28.015446  28.282890   \n3        0.058045            0.314568  1.0  0.0   43.571613  43.840103   \n5        0.042752            0.867110  0.0  1.0    4.438715   4.724187   \n10       0.036479            0.779859  1.0  0.0   31.913490  31.626129   \n1        0.096559            0.507816  0.0  1.0   21.198746  21.559261   \n0        0.097473            0.653810  0.0  1.0    4.800901   5.184812   \n20       0.078799            1.063460  0.0  1.0   10.846278  11.273225   \n16       0.061705            0.120755  0.0  1.0   25.092136  24.657331   \n\n    Moneyness  Abs Error  \n15   1.010102   0.007585  \n14   1.281956   0.010352  \n8    0.862062   0.016357  \n24   0.666685   0.023635  \n28   1.818623   0.032441  \n4    0.735359   0.052906  \n2    0.862062   0.053761  \n19   1.562205   0.068451  \n27   0.757565   0.092367  \n6    1.149388   0.107690  \n22   0.757565   0.118126  \n9    1.694883   0.122639  \n18   1.315814   0.132475  \n25   0.943393   0.141817  \n29   0.666685   0.153652  \n13   0.877187   0.161202  \n11   0.675663   0.165179  \n23   0.689592   0.166945  \n12   0.724588   0.172936  \n7    0.719394   0.182838  \n21   0.709225   0.189492  \n17   0.763327   0.243793  \n26   1.369960   0.267445  \n3    1.818623   0.268490  \n5    1.123559   0.285473  \n10   1.470629   0.287361  \n1    0.826462   0.360516  \n0    1.030930   0.383911  \n20   0.909086   0.426947  \n16   0.800013   0.434805  ",
      "text/html": "<div>\n<style scoped>\n    .dataframe tbody tr th:only-of-type {\n        vertical-align: middle;\n    }\n\n    .dataframe tbody tr th {\n        vertical-align: top;\n    }\n\n    .dataframe thead th {\n        text-align: right;\n    }\n</style>\n<table border=\"1\" class=\"dataframe\">\n  <thead>\n    <tr style=\"text-align: right;\">\n      <th></th>\n      <th>Price</th>\n      <th>Strike</th>\n      <th>Kappa</th>\n      <th>Rho</th>\n      <th>Theta</th>\n      <th>Xi</th>\n      <th>V_0</th>\n      <th>Interest Rate</th>\n      <th>Time to Expiration</th>\n      <th>C</th>\n      <th>P</th>\n      <th>Prediction</th>\n      <th>Real</th>\n      <th>Moneyness</th>\n      <th>Abs Error</th>\n    </tr>\n  </thead>\n  <tbody>\n    <tr>\n      <th>15</th>\n      <td>100.0</td>\n      <td>98.999939</td>\n      <td>1.808519</td>\n      <td>0.192360</td>\n      <td>0.192360</td>\n      <td>0.192360</td>\n      <td>0.192360</td>\n      <td>0.074346</td>\n      <td>0.192360</td>\n      <td>1.0</td>\n      <td>0.0</td>\n      <td>4.805756</td>\n      <td>4.813341</td>\n      <td>1.010102</td>\n      <td>0.007585</td>\n    </tr>\n    <tr>\n      <th>14</th>\n      <td>100.0</td>\n      <td>78.005814</td>\n      <td>0.875466</td>\n      <td>0.777322</td>\n      <td>0.777322</td>\n      <td>0.777322</td>\n      <td>0.777322</td>\n      <td>0.051147</td>\n      <td>0.777322</td>\n      <td>0.0</td>\n      <td>1.0</td>\n      <td>1.013983</td>\n      <td>1.024335</td>\n      <td>1.281956</td>\n      <td>0.010352</td>\n    </tr>\n    <tr>\n      <th>8</th>\n      <td>100.0</td>\n      <td>116.000954</td>\n      <td>0.099578</td>\n      <td>0.354458</td>\n      <td>0.354458</td>\n      <td>0.354458</td>\n      <td>0.354458</td>\n      <td>0.026660</td>\n      <td>0.354458</td>\n      <td>1.0</td>\n      <td>0.0</td>\n      <td>2.526577</td>\n      <td>2.510219</td>\n      <td>0.862062</td>\n      <td>0.016357</td>\n    </tr>\n    <tr>\n      <th>24</th>\n      <td>100.0</td>\n      <td>149.995850</td>\n      <td>1.836710</td>\n      <td>1.045699</td>\n      <td>1.045699</td>\n      <td>1.045699</td>\n      <td>1.045699</td>\n      <td>0.033726</td>\n      <td>1.045699</td>\n      <td>1.0</td>\n      <td>0.0</td>\n      <td>0.290168</td>\n      <td>0.266534</td>\n      <td>0.666685</td>\n      <td>0.023635</td>\n    </tr>\n    <tr>\n      <th>28</th>\n      <td>100.0</td>\n      <td>54.986645</td>\n      <td>1.090845</td>\n      <td>0.310198</td>\n      <td>0.310198</td>\n      <td>0.310198</td>\n      <td>0.310198</td>\n      <td>0.090090</td>\n      <td>0.310198</td>\n      <td>0.0</td>\n      <td>1.0</td>\n      <td>0.248952</td>\n      <td>0.281393</td>\n      <td>1.818623</td>\n      <td>0.032441</td>\n    </tr>\n    <tr>\n      <th>4</th>\n      <td>100.0</td>\n      <td>135.987915</td>\n      <td>1.854752</td>\n      <td>1.023429</td>\n      <td>1.023429</td>\n      <td>1.023429</td>\n      <td>1.023429</td>\n      <td>0.074841</td>\n      <td>1.023429</td>\n      <td>1.0</td>\n      <td>0.0</td>\n      <td>1.134876</td>\n      <td>1.187782</td>\n      <td>0.735359</td>\n      <td>0.052906</td>\n    </tr>\n    <tr>\n      <th>2</th>\n      <td>100.0</td>\n      <td>116.000954</td>\n      <td>1.230461</td>\n      <td>0.197152</td>\n      <td>0.197152</td>\n      <td>0.197152</td>\n      <td>0.197152</td>\n      <td>0.019200</td>\n      <td>0.197152</td>\n      <td>1.0</td>\n      <td>0.0</td>\n      <td>0.728913</td>\n      <td>0.675152</td>\n      <td>0.862062</td>\n      <td>0.053761</td>\n    </tr>\n    <tr>\n      <th>19</th>\n      <td>100.0</td>\n      <td>64.012093</td>\n      <td>0.385999</td>\n      <td>0.884165</td>\n      <td>0.884165</td>\n      <td>0.884165</td>\n      <td>0.884165</td>\n      <td>0.078621</td>\n      <td>0.884165</td>\n      <td>0.0</td>\n      <td>1.0</td>\n      <td>0.899621</td>\n      <td>0.831170</td>\n      <td>1.562205</td>\n      <td>0.068451</td>\n    </tr>\n    <tr>\n      <th>27</th>\n      <td>100.0</td>\n      <td>132.001907</td>\n      <td>0.952145</td>\n      <td>0.154584</td>\n      <td>0.154584</td>\n      <td>0.154584</td>\n      <td>0.154584</td>\n      <td>0.023843</td>\n      <td>0.154584</td>\n      <td>1.0</td>\n      <td>0.0</td>\n      <td>-0.048717</td>\n      <td>0.043650</td>\n      <td>0.757565</td>\n      <td>0.092367</td>\n    </tr>\n    <tr>\n      <th>6</th>\n      <td>100.0</td>\n      <td>87.002785</td>\n      <td>1.485450</td>\n      <td>0.642569</td>\n      <td>0.642569</td>\n      <td>0.642569</td>\n      <td>0.642569</td>\n      <td>0.051909</td>\n      <td>0.642569</td>\n      <td>0.0</td>\n      <td>1.0</td>\n      <td>2.016200</td>\n      <td>2.123890</td>\n      <td>1.149388</td>\n      <td>0.107690</td>\n    </tr>\n    <tr>\n      <th>22</th>\n      <td>100.0</td>\n      <td>132.001907</td>\n      <td>1.298825</td>\n      <td>0.355726</td>\n      <td>0.355726</td>\n      <td>0.355726</td>\n      <td>0.355726</td>\n      <td>0.068536</td>\n      <td>0.355726</td>\n      <td>0.0</td>\n      <td>1.0</td>\n      <td>31.536232</td>\n      <td>31.418106</td>\n      <td>0.757565</td>\n      <td>0.118126</td>\n    </tr>\n    <tr>\n      <th>9</th>\n      <td>100.0</td>\n      <td>59.001118</td>\n      <td>1.199170</td>\n      <td>0.785638</td>\n      <td>0.785638</td>\n      <td>0.785638</td>\n      <td>0.785638</td>\n      <td>0.092830</td>\n      <td>0.785638</td>\n      <td>1.0</td>\n      <td>0.0</td>\n      <td>40.285069</td>\n      <td>40.407707</td>\n      <td>1.694883</td>\n      <td>0.122639</td>\n    </tr>\n    <tr>\n      <th>18</th>\n      <td>100.0</td>\n      <td>75.998573</td>\n      <td>1.037106</td>\n      <td>0.669950</td>\n      <td>0.669950</td>\n      <td>0.669950</td>\n      <td>0.669950</td>\n      <td>0.072088</td>\n      <td>0.669950</td>\n      <td>0.0</td>\n      <td>1.0</td>\n      <td>0.668977</td>\n      <td>0.801452</td>\n      <td>1.315814</td>\n      <td>0.132475</td>\n    </tr>\n    <tr>\n      <th>25</th>\n      <td>100.0</td>\n      <td>106.000359</td>\n      <td>0.311011</td>\n      <td>0.641582</td>\n      <td>0.641582</td>\n      <td>0.641582</td>\n      <td>0.641582</td>\n      <td>0.039828</td>\n      <td>0.641582</td>\n      <td>1.0</td>\n      <td>0.0</td>\n      <td>7.851316</td>\n      <td>7.993134</td>\n      <td>0.943393</td>\n      <td>0.141817</td>\n    </tr>\n    <tr>\n      <th>29</th>\n      <td>100.0</td>\n      <td>149.995850</td>\n      <td>0.115365</td>\n      <td>0.644049</td>\n      <td>0.644049</td>\n      <td>0.644049</td>\n      <td>0.644049</td>\n      <td>0.096737</td>\n      <td>0.644049</td>\n      <td>0.0</td>\n      <td>1.0</td>\n      <td>48.589870</td>\n      <td>48.743523</td>\n      <td>0.666685</td>\n      <td>0.153652</td>\n    </tr>\n    <tr>\n      <th>13</th>\n      <td>100.0</td>\n      <td>114.000832</td>\n      <td>0.351042</td>\n      <td>0.804244</td>\n      <td>0.804244</td>\n      <td>0.804244</td>\n      <td>0.804244</td>\n      <td>0.059386</td>\n      <td>0.804244</td>\n      <td>0.0</td>\n      <td>1.0</td>\n      <td>13.846616</td>\n      <td>14.007818</td>\n      <td>0.877187</td>\n      <td>0.161202</td>\n    </tr>\n    <tr>\n      <th>11</th>\n      <td>100.0</td>\n      <td>148.002853</td>\n      <td>1.630915</td>\n      <td>0.437339</td>\n      <td>0.437339</td>\n      <td>0.437339</td>\n      <td>0.437339</td>\n      <td>0.052582</td>\n      <td>0.437339</td>\n      <td>1.0</td>\n      <td>0.0</td>\n      <td>0.758608</td>\n      <td>0.593428</td>\n      <td>0.675663</td>\n      <td>0.165179</td>\n    </tr>\n    <tr>\n      <th>23</th>\n      <td>100.0</td>\n      <td>145.013351</td>\n      <td>0.345968</td>\n      <td>0.892341</td>\n      <td>0.892341</td>\n      <td>0.892341</td>\n      <td>0.892341</td>\n      <td>0.010574</td>\n      <td>0.892341</td>\n      <td>1.0</td>\n      <td>0.0</td>\n      <td>1.711774</td>\n      <td>1.878718</td>\n      <td>0.689592</td>\n      <td>0.166945</td>\n    </tr>\n    <tr>\n      <th>12</th>\n      <td>100.0</td>\n      <td>138.009384</td>\n      <td>0.211214</td>\n      <td>0.980860</td>\n      <td>0.980860</td>\n      <td>0.980860</td>\n      <td>0.980860</td>\n      <td>0.061736</td>\n      <td>0.980860</td>\n      <td>1.0</td>\n      <td>0.0</td>\n      <td>0.320599</td>\n      <td>0.147663</td>\n      <td>0.724588</td>\n      <td>0.172936</td>\n    </tr>\n    <tr>\n      <th>7</th>\n      <td>100.0</td>\n      <td>139.005875</td>\n      <td>1.455003</td>\n      <td>0.364748</td>\n      <td>0.364748</td>\n      <td>0.364748</td>\n      <td>0.364748</td>\n      <td>0.097727</td>\n      <td>0.364748</td>\n      <td>1.0</td>\n      <td>0.0</td>\n      <td>2.485034</td>\n      <td>2.302195</td>\n      <td>0.719394</td>\n      <td>0.182838</td>\n    </tr>\n    <tr>\n      <th>21</th>\n      <td>100.0</td>\n      <td>140.998886</td>\n      <td>1.664181</td>\n      <td>0.168680</td>\n      <td>0.168680</td>\n      <td>0.168680</td>\n      <td>0.168680</td>\n      <td>0.018921</td>\n      <td>0.168680</td>\n      <td>1.0</td>\n      <td>0.0</td>\n      <td>0.240573</td>\n      <td>0.051080</td>\n      <td>0.709225</td>\n      <td>0.189492</td>\n    </tr>\n    <tr>\n      <th>17</th>\n      <td>100.0</td>\n      <td>131.005402</td>\n      <td>1.309537</td>\n      <td>0.895442</td>\n      <td>0.895442</td>\n      <td>0.895442</td>\n      <td>0.895442</td>\n      <td>0.055481</td>\n      <td>0.895442</td>\n      <td>1.0</td>\n      <td>0.0</td>\n      <td>0.899412</td>\n      <td>1.143205</td>\n      <td>0.763327</td>\n      <td>0.243793</td>\n    </tr>\n    <tr>\n      <th>26</th>\n      <td>100.0</td>\n      <td>72.994835</td>\n      <td>1.344776</td>\n      <td>1.012716</td>\n      <td>1.012716</td>\n      <td>1.012716</td>\n      <td>1.012716</td>\n      <td>0.059783</td>\n      <td>1.012716</td>\n      <td>1.0</td>\n      <td>0.0</td>\n      <td>28.015446</td>\n      <td>28.282890</td>\n      <td>1.369960</td>\n      <td>0.267445</td>\n    </tr>\n    <tr>\n      <th>3</th>\n      <td>100.0</td>\n      <td>54.986645</td>\n      <td>1.358308</td>\n      <td>0.314568</td>\n      <td>0.314568</td>\n      <td>0.314568</td>\n      <td>0.314568</td>\n      <td>0.058045</td>\n      <td>0.314568</td>\n      <td>1.0</td>\n      <td>0.0</td>\n      <td>43.571613</td>\n      <td>43.840103</td>\n      <td>1.818623</td>\n      <td>0.268490</td>\n    </tr>\n    <tr>\n      <th>5</th>\n      <td>100.0</td>\n      <td>89.002907</td>\n      <td>0.322287</td>\n      <td>0.867110</td>\n      <td>0.867110</td>\n      <td>0.867110</td>\n      <td>0.867110</td>\n      <td>0.042752</td>\n      <td>0.867110</td>\n      <td>0.0</td>\n      <td>1.0</td>\n      <td>4.438715</td>\n      <td>4.724187</td>\n      <td>1.123559</td>\n      <td>0.285473</td>\n    </tr>\n    <tr>\n      <th>10</th>\n      <td>100.0</td>\n      <td>67.998093</td>\n      <td>1.460923</td>\n      <td>0.779859</td>\n      <td>0.779859</td>\n      <td>0.779859</td>\n      <td>0.779859</td>\n      <td>0.036479</td>\n      <td>0.779859</td>\n      <td>1.0</td>\n      <td>0.0</td>\n      <td>31.913490</td>\n      <td>31.626129</td>\n      <td>1.470629</td>\n      <td>0.287361</td>\n    </tr>\n    <tr>\n      <th>1</th>\n      <td>100.0</td>\n      <td>120.997688</td>\n      <td>0.194300</td>\n      <td>0.507816</td>\n      <td>0.507816</td>\n      <td>0.507816</td>\n      <td>0.507816</td>\n      <td>0.096559</td>\n      <td>0.507816</td>\n      <td>0.0</td>\n      <td>1.0</td>\n      <td>21.198746</td>\n      <td>21.559261</td>\n      <td>0.826462</td>\n      <td>0.360516</td>\n    </tr>\n    <tr>\n      <th>0</th>\n      <td>100.0</td>\n      <td>96.999825</td>\n      <td>1.037106</td>\n      <td>0.653810</td>\n      <td>0.653810</td>\n      <td>0.653810</td>\n      <td>0.653810</td>\n      <td>0.097473</td>\n      <td>0.653810</td>\n      <td>0.0</td>\n      <td>1.0</td>\n      <td>4.800901</td>\n      <td>5.184812</td>\n      <td>1.030930</td>\n      <td>0.383911</td>\n    </tr>\n    <tr>\n      <th>20</th>\n      <td>100.0</td>\n      <td>110.000595</td>\n      <td>0.577134</td>\n      <td>1.063460</td>\n      <td>1.063460</td>\n      <td>1.063460</td>\n      <td>1.063460</td>\n      <td>0.078799</td>\n      <td>1.063460</td>\n      <td>0.0</td>\n      <td>1.0</td>\n      <td>10.846278</td>\n      <td>11.273225</td>\n      <td>0.909086</td>\n      <td>0.426947</td>\n    </tr>\n    <tr>\n      <th>16</th>\n      <td>100.0</td>\n      <td>124.997925</td>\n      <td>1.469663</td>\n      <td>0.120755</td>\n      <td>0.120755</td>\n      <td>0.120755</td>\n      <td>0.120755</td>\n      <td>0.061705</td>\n      <td>0.120755</td>\n      <td>0.0</td>\n      <td>1.0</td>\n      <td>25.092136</td>\n      <td>24.657331</td>\n      <td>0.800013</td>\n      <td>0.434805</td>\n    </tr>\n  </tbody>\n</table>\n</div>"
     },
     "execution_count": 31,
     "metadata": {},
     "output_type": "execute_result"
    }
   ],
   "source": [
    "test_options.sort_values('Abs Error')"
   ],
   "metadata": {
    "pycharm": {
     "name": "#%%\n"
    },
    "colab": {
     "base_uri": "https://localhost:8080/",
     "height": 990
    },
    "id": "lAC6AdeVvDpr",
    "executionInfo": {
     "status": "ok",
     "timestamp": 1650894220546,
     "user_tz": -120,
     "elapsed": 65,
     "user": {
      "displayName": "Paolo D'Elia",
      "userId": "06873635760880783531"
     }
    },
    "outputId": "78bd13cc-c5a0-4746-f402-9e84d8b78696"
   }
  },
  {
   "cell_type": "markdown",
   "source": [
    "### MSE on the test set"
   ],
   "metadata": {
    "id": "fDJ-hkrSAqVh",
    "pycharm": {
     "name": "#%% md\n"
    }
   }
  },
  {
   "cell_type": "code",
   "source": [
    "model.eval()\n",
    "with torch.no_grad():\n",
    "    out = model(X_test)\n",
    "    loss = loss_fn(out, y_test)\n",
    "    print('The MSE on the test set is: ', loss.item())"
   ],
   "metadata": {
    "colab": {
     "base_uri": "https://localhost:8080/"
    },
    "id": "GG64Xp3vAib-",
    "executionInfo": {
     "status": "ok",
     "timestamp": 1650895213041,
     "user_tz": -120,
     "elapsed": 276,
     "user": {
      "displayName": "Paolo D'Elia",
      "userId": "06873635760880783531"
     }
    },
    "outputId": "f846ee65-029d-4a76-b006-d65e4ac07a48",
    "pycharm": {
     "name": "#%%\n"
    }
   },
   "execution_count": 32,
   "outputs": [
    {
     "name": "stdout",
     "output_type": "stream",
     "text": [
      "The MSE on the test set is:  0.00042578487773425877\n"
     ]
    }
   ]
  },
  {
   "cell_type": "markdown",
   "source": [
    "### MAE on the test set"
   ],
   "metadata": {
    "id": "HCLf2KQJAvoE",
    "pycharm": {
     "name": "#%% md\n"
    }
   }
  },
  {
   "cell_type": "code",
   "source": [
    "model.eval()\n",
    "mae_loss = nn.L1Loss()\n",
    "with torch.no_grad():\n",
    "    out = model(X_test)\n",
    "    loss = mae_loss(out, y_test)\n",
    "    print('The MAE on the test set is: ', loss.item())"
   ],
   "metadata": {
    "colab": {
     "base_uri": "https://localhost:8080/"
    },
    "id": "mZohsEyLAu7S",
    "executionInfo": {
     "status": "ok",
     "timestamp": 1650895213494,
     "user_tz": -120,
     "elapsed": 27,
     "user": {
      "displayName": "Paolo D'Elia",
      "userId": "06873635760880783531"
     }
    },
    "outputId": "4d6bfba3-5751-478d-d53e-73751702414e",
    "pycharm": {
     "name": "#%%\n"
    }
   },
   "execution_count": 33,
   "outputs": [
    {
     "name": "stdout",
     "output_type": "stream",
     "text": [
      "The MAE on the test set is:  0.015048138797283173\n"
     ]
    }
   ]
  },
  {
   "cell_type": "markdown",
   "source": [
    "### RSME on the test set"
   ],
   "metadata": {
    "id": "VmsZ4aPaA1SJ",
    "pycharm": {
     "name": "#%% md\n"
    }
   }
  },
  {
   "cell_type": "code",
   "source": [
    "model.eval()\n",
    "with torch.no_grad():\n",
    "    out = model(X_test)\n",
    "    loss = loss_fn(out, y_test)\n",
    "    print('The RMSE on the test set is: ', np.sqrt(loss.item()))"
   ],
   "metadata": {
    "colab": {
     "base_uri": "https://localhost:8080/"
    },
    "id": "f01KkBxRA0t7",
    "executionInfo": {
     "status": "ok",
     "timestamp": 1650895213496,
     "user_tz": -120,
     "elapsed": 22,
     "user": {
      "displayName": "Paolo D'Elia",
      "userId": "06873635760880783531"
     }
    },
    "outputId": "6492967a-db0c-49f4-fee1-8eb52ef33119",
    "pycharm": {
     "name": "#%%\n"
    }
   },
   "execution_count": 34,
   "outputs": [
    {
     "name": "stdout",
     "output_type": "stream",
     "text": [
      "The RMSE on the test set is:  0.02063455542855864\n"
     ]
    }
   ]
  },
  {
   "cell_type": "markdown",
   "source": [
    "### MAPE on the test set"
   ],
   "metadata": {
    "id": "j8Jxp0L4A5zb",
    "pycharm": {
     "name": "#%% md\n"
    }
   }
  },
  {
   "cell_type": "code",
   "source": [
    "model.eval()\n",
    "with torch.no_grad():\n",
    "    out = model(X_test)\n",
    "    loss = MAPELoss(out, y_test).item()\n",
    "    print('The MAPE on the test set is: ', loss)"
   ],
   "metadata": {
    "colab": {
     "base_uri": "https://localhost:8080/"
    },
    "id": "fHghkyflA79o",
    "executionInfo": {
     "status": "ok",
     "timestamp": 1650895213818,
     "user_tz": -120,
     "elapsed": 335,
     "user": {
      "displayName": "Paolo D'Elia",
      "userId": "06873635760880783531"
     }
    },
    "outputId": "37838323-11f0-4eb9-d7d7-50303bf4e9ce",
    "pycharm": {
     "name": "#%%\n"
    }
   },
   "execution_count": 41,
   "outputs": [
    {
     "name": "stdout",
     "output_type": "stream",
     "text": [
      "The MAPE on the test set is:  0.09712301939725876\n"
     ]
    }
   ]
  },
  {
   "cell_type": "markdown",
   "source": [
    "### $R^2$"
   ],
   "metadata": {
    "id": "uLLLqkX6BEle",
    "pycharm": {
     "name": "#%% md\n"
    }
   }
  },
  {
   "cell_type": "code",
   "source": [
    "from sklearn.metrics import r2_score\n",
    "\n",
    "model.eval()\n",
    "with torch.no_grad():\n",
    "    out = model(X_test).squeeze().cpu().detach().numpy()\n",
    "\n",
    "y_true = y_test.cpu().squeeze().detach().numpy()\n",
    "\n",
    "r2 = r2_score(y_pred=out, y_true=y_true)\n",
    "\n",
    "print('the R^2 score is: ', r2)"
   ],
   "metadata": {
    "colab": {
     "base_uri": "https://localhost:8080/"
    },
    "id": "sf8FmLxxBGcu",
    "executionInfo": {
     "status": "ok",
     "timestamp": 1650895213820,
     "user_tz": -120,
     "elapsed": 21,
     "user": {
      "displayName": "Paolo D'Elia",
      "userId": "06873635760880783531"
     }
    },
    "outputId": "764313a9-78fc-46ca-dd08-9fb8834e4374",
    "pycharm": {
     "name": "#%%\n"
    }
   },
   "execution_count": 36,
   "outputs": [
    {
     "name": "stdout",
     "output_type": "stream",
     "text": [
      "the R^2 score is:  0.9995750044076741\n"
     ]
    }
   ]
  },
  {
   "cell_type": "code",
   "source": [
    "fig = plt.figure(figsize=(9, 6))\n",
    "ax = fig.add_subplot()\n",
    "\n",
    "ax.scatter(\n",
    "    y=output_sc.inverse_transform(out.reshape(-1, 1)),\n",
    "    x=output_sc.inverse_transform(y_true.squeeze().reshape(-1, 1))\n",
    ")\n",
    "ax.set_xlabel('Actual Value')\n",
    "ax.set_ylabel('Predicted Value')\n",
    "\n",
    "ax.text(20, 80, f'$R^2$ = {np.round(r2, 6)}', fontsize=12)\n",
    "\n",
    "plt.show()"
   ],
   "metadata": {
    "colab": {
     "base_uri": "https://localhost:8080/",
     "height": 551
    },
    "id": "awvWu7WxBIHB",
    "executionInfo": {
     "status": "ok",
     "timestamp": 1650895214553,
     "user_tz": -120,
     "elapsed": 744,
     "user": {
      "displayName": "Paolo D'Elia",
      "userId": "06873635760880783531"
     }
    },
    "outputId": "1b3dccd3-90ef-47d5-9895-267fdf93020c",
    "pycharm": {
     "name": "#%%\n"
    }
   },
   "execution_count": 37,
   "outputs": [
    {
     "data": {
      "text/plain": "<Figure size 648x432 with 1 Axes>",
      "image/png": "[encoded data removed]"
     },
     "metadata": {
      "needs_background": "light"
     },
     "output_type": "display_data"
    }
   ]
  }
 ],
 "metadata": {
  "accelerator": "GPU",
  "colab": {
   "collapsed_sections": [],
   "name": "Model-Testing-Heston.ipynb",
   "provenance": []
  },
  "kernelspec": {
   "name": "pytorch",
   "language": "python",
   "display_name": "pytorch"
  },
  "language_info": {
   "name": "python"
  }
 },
 "nbformat": 4,
 "nbformat_minor": 0
}