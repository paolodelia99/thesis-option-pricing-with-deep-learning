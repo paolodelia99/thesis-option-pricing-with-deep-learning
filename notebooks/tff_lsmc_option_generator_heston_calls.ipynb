{
 "cells": [
  {
   "cell_type": "markdown",
   "metadata": {
    "id": "J7oe5rM9CfHq",
    "pycharm": {
     "name": "#%% md\n"
    }
   },
   "source": [
    "# Generating Option Data using the Heston Model with Least Square Montecarlo"
   ]
  },
  {
   "cell_type": "code",
   "execution_count": null,
   "metadata": {
    "id": "bEUjuRSZlNSI",
    "pycharm": {
     "name": "#%%\n"
    }
   },
   "outputs": [],
   "source": [
    "#@title **Imports** { display-mode: \"form\" }\n",
    "\n",
    "import matplotlib.pyplot as plt\n",
    "import numpy as np\n",
    "import time\n",
    "\n",
    "import pandas as pd\n",
    "import seaborn as sns\n",
    "\n",
    "import tensorflow as tf\n",
    "\n",
    "# Import for Tensorflow Quant Finance\n",
    "import tf_quant_finance as tff \n",
    "\n",
    "# Shortcut alias\n",
    "pde = tff.math.pde\n",
    "\n",
    "from IPython.core.pylabtools import figsize\n",
    "figsize(21, 14)  # better graph size for Colab \n",
    "\n",
    "from tf_quant_finance.experimental.lsm_algorithm import lsm\n",
    "from tf_quant_finance.experimental.lsm_algorithm import payoff\n",
    "from typing import Tuple\n",
    "from itertools import product\n",
    "\n",
    "from skopt.space import Space\n",
    "from skopt.sampler import Lhs"
   ]
  },
  {
   "cell_type": "markdown",
   "metadata": {
    "id": "Zx9ogpa3H7hp",
    "pycharm": {
     "name": "#%% md\n"
    }
   },
   "source": [
    "# Heston model \n",
    "\n",
    "Different form the Geometric Browian process that assumes that the volatility is constant, the Heston model is a stochastic volatility model: the volatility follows a random process.\n",
    "\n",
    "The Heston model assumes that $S_t$, the price of the asset, is determined by a stochastic process:\n",
    "\n",
    "$$\n",
    "dS_t = \\mu S_t dt + \\sqrt{v_t} S_t dW_t^S, S_{t_0} = S_0,\n",
    "$$\n",
    "\n",
    "$$\n",
    "v_t = \\kappa (\\theta - v_t) dt + \\gamma \\sqrt{v_t} dW_t^v, v_{t_0} = v_0\n",
    "$$\n",
    "\n",
    "$$\n",
    "dW_t^S dW_t^v = \\rho dt\n",
    "$$\n",
    "\n",
    "with $v_t$ the instantaneous variance, and $W_t^S$, $W_t^v$ are two Wiener processes with correlation correlation coefficient $\\rho$. The second equation models a mean reversion process for the variance, where $\\kappa$ is the reversion speed, $\\theta$ is the log average variance, $\\gamma$ is the volatility of the variance and $v_0$ is the initial volatility."
   ]
  },
  {
   "cell_type": "code",
   "execution_count": null,
   "metadata": {
    "id": "4dQ9T8m6nLqi",
    "pycharm": {
     "name": "#%%\n"
    }
   },
   "outputs": [],
   "source": [
    "def generate_heston_path(S, T, r, kappa, theta, v_0, rho, xi,\n",
    "                         steps, n_paths, return_vol: bool = False):\n",
    "    \"\"\"\n",
    "    \n",
    "    :param S: Underlying price at time t=0\n",
    "    :param T: Time to Expiration (in years)\n",
    "    :param r: Interest Free rate\n",
    "    :param kappa: rate of mean reversion\n",
    "    :param theta: long run average variance\n",
    "    :param v_0: Volatility at time t=0\n",
    "    :param rho: instantaneous correlation of the Weiner processes\n",
    "    :param xi: volatility of volatility\n",
    "    :param steps: number of steps of the simulation\n",
    "    :param n_paths: number of simulations\n",
    "    :param return_vol: return volatility\n",
    "    :return: \n",
    "    \"\"\"\n",
    "    dt = T / steps\n",
    "    size = (n_paths, steps)\n",
    "    prices = np.zeros(size)\n",
    "    sigs = np.zeros(size)\n",
    "    S_t = S\n",
    "    v_t = v_0\n",
    "\n",
    "    for t in range(steps):\n",
    "        mu = np.array([0, 0])\n",
    "        cov = np.array([[1, rho],\n",
    "                        [rho, 1]])\n",
    "        WT = np.random.multivariate_normal(mu, cov=cov, size=n_paths) * np.sqrt(dt)\n",
    "        S_t = S_t * (np.exp((r - v_t / 2) * dt + np.sqrt(v_t) * WT[:, 0]))\n",
    "        v_t = np.abs(v_t + kappa * (theta - v_t) * dt + xi * np.sqrt(v_t) * WT[:, 1])\n",
    "        prices[:, t] = S_t\n",
    "        sigs[:, t] = v_t\n",
    "\n",
    "    if return_vol:\n",
    "        return prices, sigs\n",
    "\n",
    "    return prices"
   ]
  },
  {
   "cell_type": "code",
   "execution_count": null,
   "metadata": {
    "id": "zBwf2Cah6Qsn",
    "pycharm": {
     "name": "#%%\n"
    }
   },
   "outputs": [],
   "source": [
    "import functools\n",
    "\n",
    "def make_basket_call_payoff(strike_price, dtype=None, name=None):\n",
    "  \"\"\"Produces a callable from samples to payoff of a simple basket call option.\n",
    "  Args:\n",
    "    strike_price: A `Tensor` of `dtype` consistent with `samples` and shape\n",
    "      `[num_samples, num_strikes]`.\n",
    "    dtype: Optional `dtype`. Either `tf.float32` or `tf.float64`. The `dtype`\n",
    "      If supplied, represents the `dtype` for the 'strike_price' as well as\n",
    "      for the input argument of the output payoff callable.\n",
    "      Default value: `None`, which means that the `dtype` inferred by TensorFlow\n",
    "      is used.\n",
    "    name: Python `str` name prefixed to Ops created by the callable created\n",
    "      by this function.\n",
    "      Default value: `None` which is mapped to the default name 'put_valuer'\n",
    "  Returns:\n",
    "    A callable from `Tensor` of shape `[num_samples, num_exercise_times, dim]`\n",
    "    and a scalar `Tensor` representing current time to a `Tensor` of shape\n",
    "    `[num_samples, num_strikes]`.\n",
    "  \"\"\"\n",
    "  strike_price = tf.convert_to_tensor(strike_price, dtype=dtype,\n",
    "                                      name=\"strike_price\")\n",
    "  call_valuer = functools.partial(_call_valuer, strike_price=strike_price,\n",
    "                                 dtype=dtype, name=name)\n",
    "\n",
    "  return call_valuer\n",
    "\n",
    "\n",
    "def _call_valuer(sample_paths, time_index, strike_price, dtype=None, name=None):\n",
    "  \"\"\"Produces a callable from samples to payoff of a simple basket call option.\n",
    "  Args:\n",
    "    sample_paths: A `Tensor` of either `float32` or `float64` dtype and of\n",
    "      either shape `[num_samples, num_times, dim]` or\n",
    "      `[batch_size, num_samples, num_times, dim]`.\n",
    "    time_index: An integer scalar `Tensor` that corresponds to the time\n",
    "      coordinate at which the basis function is computed.\n",
    "    strike_price: A `Tensor` of the same `dtype` as `sample_paths` and shape\n",
    "      compatible with `[num_samples, batch_size]`.\n",
    "    dtype: Optional `dtype`. Either `tf.float32` or `tf.float64`. The `dtype`\n",
    "      If supplied, represents the `dtype` for the 'strike_price' as well as\n",
    "      for the input argument of the output payoff callable.\n",
    "      Default value: `None`, which means that the `dtype` inferred by TensorFlow\n",
    "      is used.\n",
    "    name: Python `str` name prefixed to Ops created by the callable created\n",
    "      by this function.\n",
    "      Default value: `None` which is mapped to the default name 'put_valuer'\n",
    "  Returns:\n",
    "    A callable from `Tensor` of shape `sample_paths.shape`\n",
    "    and a scalar `Tensor` representing current time to a `Tensor` of shape\n",
    "    `[num_samples, batch_size]`.\n",
    "  \"\"\"\n",
    "  name = name or \"call_valuer\"\n",
    "  with tf.name_scope(name):\n",
    "    strike_price = tf.convert_to_tensor(strike_price, dtype=dtype,\n",
    "                                        name=\"strike_price\")\n",
    "    sample_paths = tf.convert_to_tensor(sample_paths, dtype=dtype,\n",
    "                                        name=\"sample_paths\")\n",
    "    if sample_paths.shape.rank == 3:\n",
    "      # Expand shape to [num_samples, 1, num_times, dim]\n",
    "      sample_paths = tf.expand_dims(sample_paths, axis=1)\n",
    "    else:\n",
    "      # Transpose to [num_samples, batch_size, num_times, dim]\n",
    "      sample_paths = tf.transpose(sample_paths, [1, 0, 2, 3])\n",
    "    num_samples, batch_size, _, dim = sample_paths.shape.as_list()\n",
    "\n",
    "    slice_sample_paths = tf.slice(sample_paths, [0, 0, time_index, 0],\n",
    "                                  [num_samples, batch_size, 1, dim])\n",
    "    slice_sample_paths = tf.squeeze(slice_sample_paths, 2)\n",
    "    average = tf.math.reduce_mean(slice_sample_paths, axis=-1)\n",
    "    return tf.nn.relu(average - strike_price)"
   ]
  },
  {
   "cell_type": "code",
   "execution_count": null,
   "metadata": {
    "id": "yzx0E43TuQCV",
    "pycharm": {
     "name": "#%%\n"
    }
   },
   "outputs": [],
   "source": [
    "S = 100 # Underlying Price\n",
    "N = 50 # Number of simulations\n",
    "\n",
    "dtype = np.float64"
   ]
  },
  {
   "cell_type": "code",
   "execution_count": null,
   "metadata": {
    "id": "3BoePJY9ABu_",
    "pycharm": {
     "name": "#%%\n"
    }
   },
   "outputs": [],
   "source": [
    "def params_ranges(S,\n",
    "                  strike_step: float = 1.0,\n",
    "                  vol_range: Tuple[float, float, float] = (0.02, 1.02, 0.02),\n",
    "                  interest_range: Tuple[float, float, float] = (0.002, 0.1, 0.01),\n",
    "                  tau_range: Tuple[float, float, float] = (0.15, 1.1, 0.02)) -> Tuple[\n",
    "    np.array, np.array, np.array, np.array]:\n",
    "    \"\"\"\n",
    "    Generate ranges for strike prices, volatility, interest rates and time to expiration\n",
    "    :param strike_step:\n",
    "    :param S: the underlying price\n",
    "    :param vol_range: (start_vol, end_vol, step_vol) for the volatility range\n",
    "    :param interest_range: (start_vol, end_vol, step_vol) for the volatility range\n",
    "    :param tau_range: (start_vol, end_vol, step_vol) for the volatility range\n",
    "    :return: (strike_range, volatility_range, interest_rates_range, time_to_expiration_range)\n",
    "    \"\"\"\n",
    "    strikes = np.arange(S // 2, S + (S // 2) + 1, strike_step)\n",
    "    vols = np.arange(vol_range[0], vol_range[1], vol_range[2])\n",
    "    interests = np.arange(interest_range[0], interest_range[1], interest_range[2])\n",
    "    taus = np.arange(tau_range[0], tau_range[1], tau_range[2])\n",
    "\n",
    "    return strikes, vols, interests, taus"
   ]
  },
  {
   "cell_type": "code",
   "execution_count": null,
   "metadata": {
    "id": "8rfm5EK3AQT2",
    "pycharm": {
     "name": "#%%\n"
    }
   },
   "outputs": [],
   "source": [
    "s_range, vol_range, r_range, t_range = params_ranges(100, \n",
    "              vol_range=(0.1, 1.05, 0.05), \n",
    "              interest_range=(0.01, 0.11, 0.01),\n",
    "              tau_range=(0.1, 1.2, 0.1))"
   ]
  },
  {
   "cell_type": "markdown",
   "metadata": {
    "id": "mxr7xQIMDilS",
    "pycharm": {
     "name": "#%% md\n"
    }
   },
   "source": [
    "For sampling tecnique used is the ***Latin hypercube sampling (LHS)***, which is able to generate random samples of the parameter values form a multinomial distribution.\n",
    "\n",
    "In our case the variables (dimension of the hyperspace) are 7, namely:\n",
    "\n",
    "- interest rate $r$\n",
    "- time to expiration $\\tau$\n",
    "- correlation $\\rho$\n",
    "- reversion speed $\\kappa$\n",
    "- the volatility of the volatility $x_i$\n",
    "- the long average variance $\\theta$\n",
    "- the initial volatility $v_0$\n"
   ]
  },
  {
   "cell_type": "code",
   "execution_count": null,
   "metadata": {
    "id": "9QFwDkvixhKA",
    "pycharm": {
     "name": "#%%\n"
    }
   },
   "outputs": [],
   "source": [
    "space = Space([\n",
    "               (0.01, 0.10), # interest rate\n",
    "               (0.1, 1.1), # time range\n",
    "               (-0.9, 0.0), # correlation\n",
    "               (0.0, 2.0), # reversion speed\n",
    "               (0.0, 0.5), # volatility of volatility\n",
    "               (0.0, 0.5),  # long average variance\n",
    "               (0.05, 0.50), # initial volatility\n",
    "               ])\n",
    "lhs = Lhs(lhs_type=\"classic\", criterion=None)\n",
    "x = lhs.generate(space.dimensions, 3000)"
   ]
  },
  {
   "cell_type": "markdown",
   "metadata": {
    "id": "WxIzZjlWGBD9",
    "pycharm": {
     "name": "#%% md\n"
    }
   },
   "source": [
    "After we've generated our samples, we are going to generate the heston paths for each of these points whit the following list comprehension."
   ]
  },
  {
   "cell_type": "code",
   "execution_count": null,
   "metadata": {
    "id": "9FAE1pP5zXn1",
    "pycharm": {
     "name": "#%%\n"
    }
   },
   "outputs": [],
   "source": [
    "paths_list = [(generate_heston_path(S, t, r, k, theta, v0, rho, xi,\n",
    "                         int(365 * t), N), r, t, rho, k, xi, theta, v0) for r, t, rho, k, xi, theta, v0 in x]"
   ]
  },
  {
   "cell_type": "code",
   "execution_count": null,
   "metadata": {
    "id": "tzppKWEr_mUn",
    "pycharm": {
     "name": "#%%\n"
    }
   },
   "outputs": [],
   "source": [
    "option_data = pd.DataFrame(\n",
    "        columns=['Price', \n",
    "                 'Strike', \n",
    "                 'Type', \n",
    "                 'Kappa',\n",
    "                 'Rho',\n",
    "                 'Theta',\n",
    "                 'Xi',\n",
    "                 'V_0', \n",
    "                 'Interest Rate', \n",
    "                 'Time to Expiration', \n",
    "                 'Option Price'])"
   ]
  },
  {
   "cell_type": "markdown",
   "metadata": {
    "id": "_9G_UQN3GX_J",
    "pycharm": {
     "name": "#%% md\n"
    }
   },
   "source": [
    "The generation option loop is going to calculate an option chain for each of the paths generated in the previous step, and append this option chain to the option dataframe. Each option chain is generated in a way that the moneyness values ($m = S/K$ for a call and $m = K/S$ for a put) are between $0.5$ and $1.5$, so in this particular case the strikes are between $50 \\$$ and $150 \\$ $."
   ]
  },
  {
   "cell_type": "code",
   "execution_count": null,
   "metadata": {
    "id": "gXZZANjDBZyY",
    "pycharm": {
     "name": "#%%\n"
    }
   },
   "outputs": [],
   "source": [
    "basis_fn = lsm.make_polynomial_basis(2)\n",
    "payoff_fn = make_basket_call_payoff(s_range, dtype=dtype)\n",
    "\n",
    "for path, r ,t, rho, k, xi, theta, v0 in paths_list:\n",
    "  # Option price\n",
    "  path = np.expand_dims(path, -1)\n",
    "  steps = int(365 * t)\n",
    "  interest_rates = np.array([0.015] * (steps - 1))\n",
    "  discount_factors = np.exp(-np.cumsum(interest_rates))\n",
    "  opt_prices = lsm.least_square_mc(\n",
    "        path, np.arange(1, steps, 1), payoff_fn, basis_fn,\n",
    "        discount_factors=discount_factors, dtype=dtype).numpy()\n",
    "  opt_chain = pd.DataFrame(\n",
    "        columns=['Price', \n",
    "                 'Strike', \n",
    "                 'Type', \n",
    "                 'Kappa',\n",
    "                 'Rho',\n",
    "                 'Theta',\n",
    "                 'Xi',\n",
    "                 'V_0', \n",
    "                 'Interest Rate', \n",
    "                 'Time to Expiration', \n",
    "                 'Option Price'])\n",
    "  opt_chain['Strike'] = s_range\n",
    "  opt_chain['Option Price'] = opt_prices\n",
    "  opt_chain['Type'] = 'C'\n",
    "  opt_chain['Price'] = S\n",
    "  opt_chain['Interest Rate'] = r\n",
    "  opt_chain['Time to Expiration'] = t\n",
    "  opt_chain['Kappa'] = k\n",
    "  opt_chain['Rho'] = rho\n",
    "  opt_chain['V_0'] = v0\n",
    "  opt_chain['Theta'] = theta\n",
    "  opt_chain['Xi'] = xi\n",
    "\n",
    "  option_data = pd.concat([option_data, opt_chain], ignore_index=True)"
   ]
  },
  {
   "cell_type": "code",
   "execution_count": null,
   "metadata": {
    "colab": {
     "base_uri": "https://localhost:8080/",
     "height": 505
    },
    "id": "1xHggqVC--Tx",
    "outputId": "517ff089-d8e0-4240-b835-7e1323bbc5e0",
    "pycharm": {
     "name": "#%%\n"
    }
   },
   "outputs": [
    {
     "data": {
      "text/html": [
       "\n",
       "  <div id=\"df-1380b801-5083-4884-9361-566bd0a37f21\">\n",
       "    <div class=\"colab-df-container\">\n",
       "      <div>\n",
       "<style scoped>\n",
       "    .dataframe tbody tr th:only-of-type {\n",
       "        vertical-align: middle;\n",
       "    }\n",
       "\n",
       "    .dataframe tbody tr th {\n",
       "        vertical-align: top;\n",
       "    }\n",
       "\n",
       "    .dataframe thead th {\n",
       "        text-align: right;\n",
       "    }\n",
       "</style>\n",
       "<table border=\"1\" class=\"dataframe\">\n",
       "  <thead>\n",
       "    <tr style=\"text-align: right;\">\n",
       "      <th></th>\n",
       "      <th>Price</th>\n",
       "      <th>Strike</th>\n",
       "      <th>Type</th>\n",
       "      <th>Kappa</th>\n",
       "      <th>Rho</th>\n",
       "      <th>Theta</th>\n",
       "      <th>Xi</th>\n",
       "      <th>V_0</th>\n",
       "      <th>Interest Rate</th>\n",
       "      <th>Time to Expiration</th>\n",
       "      <th>Option Price</th>\n",
       "    </tr>\n",
       "  </thead>\n",
       "  <tbody>\n",
       "    <tr>\n",
       "      <th>0</th>\n",
       "      <td>100</td>\n",
       "      <td>50.0</td>\n",
       "      <td>C</td>\n",
       "      <td>1.060178</td>\n",
       "      <td>0.419183</td>\n",
       "      <td>0.419183</td>\n",
       "      <td>0.419183</td>\n",
       "      <td>0.419183</td>\n",
       "      <td>0.016073</td>\n",
       "      <td>0.419183</td>\n",
       "      <td>48.830315</td>\n",
       "    </tr>\n",
       "    <tr>\n",
       "      <th>1</th>\n",
       "      <td>100</td>\n",
       "      <td>51.0</td>\n",
       "      <td>C</td>\n",
       "      <td>1.060178</td>\n",
       "      <td>0.419183</td>\n",
       "      <td>0.419183</td>\n",
       "      <td>0.419183</td>\n",
       "      <td>0.419183</td>\n",
       "      <td>0.016073</td>\n",
       "      <td>0.419183</td>\n",
       "      <td>47.847520</td>\n",
       "    </tr>\n",
       "    <tr>\n",
       "      <th>2</th>\n",
       "      <td>100</td>\n",
       "      <td>52.0</td>\n",
       "      <td>C</td>\n",
       "      <td>1.060178</td>\n",
       "      <td>0.419183</td>\n",
       "      <td>0.419183</td>\n",
       "      <td>0.419183</td>\n",
       "      <td>0.419183</td>\n",
       "      <td>0.016073</td>\n",
       "      <td>0.419183</td>\n",
       "      <td>46.960240</td>\n",
       "    </tr>\n",
       "    <tr>\n",
       "      <th>3</th>\n",
       "      <td>100</td>\n",
       "      <td>53.0</td>\n",
       "      <td>C</td>\n",
       "      <td>1.060178</td>\n",
       "      <td>0.419183</td>\n",
       "      <td>0.419183</td>\n",
       "      <td>0.419183</td>\n",
       "      <td>0.419183</td>\n",
       "      <td>0.016073</td>\n",
       "      <td>0.419183</td>\n",
       "      <td>45.985095</td>\n",
       "    </tr>\n",
       "    <tr>\n",
       "      <th>4</th>\n",
       "      <td>100</td>\n",
       "      <td>54.0</td>\n",
       "      <td>C</td>\n",
       "      <td>1.060178</td>\n",
       "      <td>0.419183</td>\n",
       "      <td>0.419183</td>\n",
       "      <td>0.419183</td>\n",
       "      <td>0.419183</td>\n",
       "      <td>0.016073</td>\n",
       "      <td>0.419183</td>\n",
       "      <td>45.003753</td>\n",
       "    </tr>\n",
       "    <tr>\n",
       "      <th>...</th>\n",
       "      <td>...</td>\n",
       "      <td>...</td>\n",
       "      <td>...</td>\n",
       "      <td>...</td>\n",
       "      <td>...</td>\n",
       "      <td>...</td>\n",
       "      <td>...</td>\n",
       "      <td>...</td>\n",
       "      <td>...</td>\n",
       "      <td>...</td>\n",
       "      <td>...</td>\n",
       "    </tr>\n",
       "    <tr>\n",
       "      <th>302995</th>\n",
       "      <td>100</td>\n",
       "      <td>146.0</td>\n",
       "      <td>C</td>\n",
       "      <td>1.218421</td>\n",
       "      <td>0.625924</td>\n",
       "      <td>0.625924</td>\n",
       "      <td>0.625924</td>\n",
       "      <td>0.625924</td>\n",
       "      <td>0.060765</td>\n",
       "      <td>0.625924</td>\n",
       "      <td>0.495096</td>\n",
       "    </tr>\n",
       "    <tr>\n",
       "      <th>302996</th>\n",
       "      <td>100</td>\n",
       "      <td>147.0</td>\n",
       "      <td>C</td>\n",
       "      <td>1.218421</td>\n",
       "      <td>0.625924</td>\n",
       "      <td>0.625924</td>\n",
       "      <td>0.625924</td>\n",
       "      <td>0.625924</td>\n",
       "      <td>0.060765</td>\n",
       "      <td>0.625924</td>\n",
       "      <td>0.469051</td>\n",
       "    </tr>\n",
       "    <tr>\n",
       "      <th>302997</th>\n",
       "      <td>100</td>\n",
       "      <td>148.0</td>\n",
       "      <td>C</td>\n",
       "      <td>1.218421</td>\n",
       "      <td>0.625924</td>\n",
       "      <td>0.625924</td>\n",
       "      <td>0.625924</td>\n",
       "      <td>0.625924</td>\n",
       "      <td>0.060765</td>\n",
       "      <td>0.625924</td>\n",
       "      <td>0.444840</td>\n",
       "    </tr>\n",
       "    <tr>\n",
       "      <th>302998</th>\n",
       "      <td>100</td>\n",
       "      <td>149.0</td>\n",
       "      <td>C</td>\n",
       "      <td>1.218421</td>\n",
       "      <td>0.625924</td>\n",
       "      <td>0.625924</td>\n",
       "      <td>0.625924</td>\n",
       "      <td>0.625924</td>\n",
       "      <td>0.060765</td>\n",
       "      <td>0.625924</td>\n",
       "      <td>0.428042</td>\n",
       "    </tr>\n",
       "    <tr>\n",
       "      <th>302999</th>\n",
       "      <td>100</td>\n",
       "      <td>150.0</td>\n",
       "      <td>C</td>\n",
       "      <td>1.218421</td>\n",
       "      <td>0.625924</td>\n",
       "      <td>0.625924</td>\n",
       "      <td>0.625924</td>\n",
       "      <td>0.625924</td>\n",
       "      <td>0.060765</td>\n",
       "      <td>0.625924</td>\n",
       "      <td>0.364256</td>\n",
       "    </tr>\n",
       "  </tbody>\n",
       "</table>\n",
       "<p>303000 rows × 11 columns</p>\n",
       "</div>\n",
       "      <button class=\"colab-df-convert\" onclick=\"convertToInteractive('df-1380b801-5083-4884-9361-566bd0a37f21')\"\n",
       "              title=\"Convert this dataframe to an interactive table.\"\n",
       "              style=\"display:none;\">\n",
       "        \n",
       "  <svg xmlns=\"http://www.w3.org/2000/svg\" height=\"24px\"viewBox=\"0 0 24 24\"\n",
       "       width=\"24px\">\n",
       "    <path d=\"M0 0h24v24H0V0z\" fill=\"none\"/>\n",
       "    <path d=\"M18.56 5.44l.94 2.06.94-2.06 2.06-.94-2.06-.94-.94-2.06-.94 2.06-2.06.94zm-11 1L8.5 8.5l.94-2.06 2.06-.94-2.06-.94L8.5 2.5l-.94 2.06-2.06.94zm10 10l.94 2.06.94-2.06 2.06-.94-2.06-.94-.94-2.06-.94 2.06-2.06.94z\"/><path d=\"M17.41 7.96l-1.37-1.37c-.4-.4-.92-.59-1.43-.59-.52 0-1.04.2-1.43.59L10.3 9.45l-7.72 7.72c-.78.78-.78 2.05 0 2.83L4 21.41c.39.39.9.59 1.41.59.51 0 1.02-.2 1.41-.59l7.78-7.78 2.81-2.81c.8-.78.8-2.07 0-2.86zM5.41 20L4 18.59l7.72-7.72 1.47 1.35L5.41 20z\"/>\n",
       "  </svg>\n",
       "      </button>\n",
       "      \n",
       "  <style>\n",
       "    .colab-df-container {\n",
       "      display:flex;\n",
       "      flex-wrap:wrap;\n",
       "      gap: 12px;\n",
       "    }\n",
       "\n",
       "    .colab-df-convert {\n",
       "      background-color: #E8F0FE;\n",
       "      border: none;\n",
       "      border-radius: 50%;\n",
       "      cursor: pointer;\n",
       "      display: none;\n",
       "      fill: #1967D2;\n",
       "      height: 32px;\n",
       "      padding: 0 0 0 0;\n",
       "      width: 32px;\n",
       "    }\n",
       "\n",
       "    .colab-df-convert:hover {\n",
       "      background-color: #E2EBFA;\n",
       "      box-shadow: 0px 1px 2px rgba(60, 64, 67, 0.3), 0px 1px 3px 1px rgba(60, 64, 67, 0.15);\n",
       "      fill: #174EA6;\n",
       "    }\n",
       "\n",
       "    [theme=dark] .colab-df-convert {\n",
       "      background-color: #3B4455;\n",
       "      fill: #D2E3FC;\n",
       "    }\n",
       "\n",
       "    [theme=dark] .colab-df-convert:hover {\n",
       "      background-color: #434B5C;\n",
       "      box-shadow: 0px 1px 3px 1px rgba(0, 0, 0, 0.15);\n",
       "      filter: drop-shadow(0px 1px 2px rgba(0, 0, 0, 0.3));\n",
       "      fill: #FFFFFF;\n",
       "    }\n",
       "  </style>\n",
       "\n",
       "      <script>\n",
       "        const buttonEl =\n",
       "          document.querySelector('#df-1380b801-5083-4884-9361-566bd0a37f21 button.colab-df-convert');\n",
       "        buttonEl.style.display =\n",
       "          google.colab.kernel.accessAllowed ? 'block' : 'none';\n",
       "\n",
       "        async function convertToInteractive(key) {\n",
       "          const element = document.querySelector('#df-1380b801-5083-4884-9361-566bd0a37f21');\n",
       "          const dataTable =\n",
       "            await google.colab.kernel.invokeFunction('convertToInteractive',\n",
       "                                                     [key], {});\n",
       "          if (!dataTable) return;\n",
       "\n",
       "          const docLinkHtml = 'Like what you see? Visit the ' +\n",
       "            '<a target=\"_blank\" href=https://colab.research.google.com/notebooks/data_table.ipynb>data table notebook</a>'\n",
       "            + ' to learn more about interactive tables.';\n",
       "          element.innerHTML = '';\n",
       "          dataTable['output_type'] = 'display_data';\n",
       "          await google.colab.output.renderOutput(dataTable, element);\n",
       "          const docLink = document.createElement('div');\n",
       "          docLink.innerHTML = docLinkHtml;\n",
       "          element.appendChild(docLink);\n",
       "        }\n",
       "      </script>\n",
       "    </div>\n",
       "  </div>\n",
       "  "
      ],
      "text/plain": [
       "       Price  Strike Type     Kappa       Rho     Theta        Xi       V_0  \\\n",
       "0        100    50.0    C  1.060178  0.419183  0.419183  0.419183  0.419183   \n",
       "1        100    51.0    C  1.060178  0.419183  0.419183  0.419183  0.419183   \n",
       "2        100    52.0    C  1.060178  0.419183  0.419183  0.419183  0.419183   \n",
       "3        100    53.0    C  1.060178  0.419183  0.419183  0.419183  0.419183   \n",
       "4        100    54.0    C  1.060178  0.419183  0.419183  0.419183  0.419183   \n",
       "...      ...     ...  ...       ...       ...       ...       ...       ...   \n",
       "302995   100   146.0    C  1.218421  0.625924  0.625924  0.625924  0.625924   \n",
       "302996   100   147.0    C  1.218421  0.625924  0.625924  0.625924  0.625924   \n",
       "302997   100   148.0    C  1.218421  0.625924  0.625924  0.625924  0.625924   \n",
       "302998   100   149.0    C  1.218421  0.625924  0.625924  0.625924  0.625924   \n",
       "302999   100   150.0    C  1.218421  0.625924  0.625924  0.625924  0.625924   \n",
       "\n",
       "        Interest Rate  Time to Expiration  Option Price  \n",
       "0            0.016073            0.419183     48.830315  \n",
       "1            0.016073            0.419183     47.847520  \n",
       "2            0.016073            0.419183     46.960240  \n",
       "3            0.016073            0.419183     45.985095  \n",
       "4            0.016073            0.419183     45.003753  \n",
       "...               ...                 ...           ...  \n",
       "302995       0.060765            0.625924      0.495096  \n",
       "302996       0.060765            0.625924      0.469051  \n",
       "302997       0.060765            0.625924      0.444840  \n",
       "302998       0.060765            0.625924      0.428042  \n",
       "302999       0.060765            0.625924      0.364256  \n",
       "\n",
       "[303000 rows x 11 columns]"
      ]
     },
     "execution_count": 15,
     "metadata": {},
     "output_type": "execute_result"
    }
   ],
   "source": [
    "option_data"
   ]
  },
  {
   "cell_type": "code",
   "execution_count": null,
   "metadata": {
    "id": "Q-QUM_Ko7Vd5",
    "pycharm": {
     "name": "#%%\n"
    }
   },
   "outputs": [],
   "source": [
    "option_data.to_csv('../data/heston_mc_synthetic_calls.csv')"
   ]
  }
 ],
 "metadata": {
  "accelerator": "GPU",
  "colab": {
   "collapsed_sections": [],
   "name": "tff_lsmc_option_generator_heston_calls.ipynb",
   "provenance": []
  },
  "kernelspec": {
   "display_name": "Python 3 (ipykernel)",
   "language": "python",
   "name": "python3"
  },
  "language_info": {
   "codemirror_mode": {
    "name": "ipython",
    "version": 3
   },
   "file_extension": ".py",
   "mimetype": "text/x-python",
   "name": "python",
   "nbconvert_exporter": "python",
   "pygments_lexer": "ipython3",
   "version": "3.8.10"
  }
 },
 "nbformat": 4,
 "nbformat_minor": 1
}
