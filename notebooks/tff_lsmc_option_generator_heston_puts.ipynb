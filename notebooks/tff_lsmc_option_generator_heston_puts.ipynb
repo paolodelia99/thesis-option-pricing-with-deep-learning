{
 "cells": [
  {
   "cell_type": "markdown",
   "metadata": {
    "id": "J7oe5rM9CfHq",
    "pycharm": {
     "name": "#%% md\n"
    }
   },
   "source": [
    "# Generating Option Data using the Heston Model with Least Square Montecarlo"
   ]
  },
  {
   "cell_type": "code",
   "execution_count": 1,
   "metadata": {
    "pycharm": {
     "name": "#%%\n"
    }
   },
   "outputs": [
    {
     "name": "stdout",
     "output_type": "stream",
     "text": [
      "Requirement already up-to-date: tensorflow in /home/paolo/.local/lib/python3.8/site-packages (2.8.0)\n",
      "Requirement already satisfied, skipping upgrade: keras<2.9,>=2.8.0rc0 in /home/paolo/.local/lib/python3.8/site-packages (from tensorflow) (2.8.0)\n",
      "Requirement already satisfied, skipping upgrade: absl-py>=0.4.0 in /home/paolo/.local/lib/python3.8/site-packages (from tensorflow) (1.0.0)\n",
      "Requirement already satisfied, skipping upgrade: opt-einsum>=2.3.2 in /home/paolo/.local/lib/python3.8/site-packages (from tensorflow) (3.3.0)\n",
      "Requirement already satisfied, skipping upgrade: h5py>=2.9.0 in /home/paolo/.local/lib/python3.8/site-packages (from tensorflow) (3.6.0)\n",
      "Requirement already satisfied, skipping upgrade: google-pasta>=0.1.1 in /home/paolo/.local/lib/python3.8/site-packages (from tensorflow) (0.2.0)\n",
      "Requirement already satisfied, skipping upgrade: numpy>=1.20 in /home/paolo/.local/lib/python3.8/site-packages (from tensorflow) (1.22.3)\n",
      "Requirement already satisfied, skipping upgrade: tensorboard<2.9,>=2.8 in /home/paolo/.local/lib/python3.8/site-packages (from tensorflow) (2.8.0)\n",
      "Requirement already satisfied, skipping upgrade: wrapt>=1.11.0 in /home/paolo/.local/lib/python3.8/site-packages (from tensorflow) (1.14.0)\n",
      "Requirement already satisfied, skipping upgrade: grpcio<2.0,>=1.24.3 in /home/paolo/.local/lib/python3.8/site-packages (from tensorflow) (1.44.0)\n",
      "Requirement already satisfied, skipping upgrade: keras-preprocessing>=1.1.1 in /home/paolo/.local/lib/python3.8/site-packages (from tensorflow) (1.1.2)\n",
      "Requirement already satisfied, skipping upgrade: tensorflow-io-gcs-filesystem>=0.23.1 in /home/paolo/.local/lib/python3.8/site-packages (from tensorflow) (0.25.0)\n",
      "Requirement already satisfied, skipping upgrade: termcolor>=1.1.0 in /home/paolo/.local/lib/python3.8/site-packages (from tensorflow) (1.1.0)\n",
      "Requirement already satisfied, skipping upgrade: tf-estimator-nightly==2.8.0.dev2021122109 in /home/paolo/.local/lib/python3.8/site-packages (from tensorflow) (2.8.0.dev2021122109)\n",
      "Requirement already satisfied, skipping upgrade: flatbuffers>=1.12 in /home/paolo/.local/lib/python3.8/site-packages (from tensorflow) (2.0)\n",
      "Requirement already satisfied, skipping upgrade: protobuf>=3.9.2 in /home/paolo/.local/lib/python3.8/site-packages (from tensorflow) (3.20.1)\n",
      "Requirement already satisfied, skipping upgrade: setuptools in /usr/lib/python3/dist-packages (from tensorflow) (45.2.0)\n",
      "Requirement already satisfied, skipping upgrade: six>=1.12.0 in /usr/lib/python3/dist-packages (from tensorflow) (1.14.0)\n",
      "Requirement already satisfied, skipping upgrade: gast>=0.2.1 in /home/paolo/.local/lib/python3.8/site-packages (from tensorflow) (0.5.3)\n",
      "Requirement already satisfied, skipping upgrade: typing-extensions>=3.6.6 in /home/paolo/.local/lib/python3.8/site-packages (from tensorflow) (4.2.0)\n",
      "Requirement already satisfied, skipping upgrade: libclang>=9.0.1 in /home/paolo/.local/lib/python3.8/site-packages (from tensorflow) (14.0.1)\n",
      "Requirement already satisfied, skipping upgrade: astunparse>=1.6.0 in /home/paolo/.local/lib/python3.8/site-packages (from tensorflow) (1.6.3)\n",
      "Requirement already satisfied, skipping upgrade: markdown>=2.6.8 in /home/paolo/.local/lib/python3.8/site-packages (from tensorboard<2.9,>=2.8->tensorflow) (3.3.6)\n",
      "Requirement already satisfied, skipping upgrade: google-auth-oauthlib<0.5,>=0.4.1 in /home/paolo/.local/lib/python3.8/site-packages (from tensorboard<2.9,>=2.8->tensorflow) (0.4.6)\n",
      "Requirement already satisfied, skipping upgrade: google-auth<3,>=1.6.3 in /home/paolo/.local/lib/python3.8/site-packages (from tensorboard<2.9,>=2.8->tensorflow) (2.6.6)\n",
      "Requirement already satisfied, skipping upgrade: werkzeug>=0.11.15 in /home/paolo/.local/lib/python3.8/site-packages (from tensorboard<2.9,>=2.8->tensorflow) (2.1.1)\n",
      "Requirement already satisfied, skipping upgrade: tensorboard-plugin-wit>=1.6.0 in /home/paolo/.local/lib/python3.8/site-packages (from tensorboard<2.9,>=2.8->tensorflow) (1.8.1)\n",
      "Requirement already satisfied, skipping upgrade: requests<3,>=2.21.0 in /usr/lib/python3/dist-packages (from tensorboard<2.9,>=2.8->tensorflow) (2.22.0)\n",
      "Requirement already satisfied, skipping upgrade: wheel>=0.26 in /usr/lib/python3/dist-packages (from tensorboard<2.9,>=2.8->tensorflow) (0.34.2)\n",
      "Requirement already satisfied, skipping upgrade: tensorboard-data-server<0.7.0,>=0.6.0 in /home/paolo/.local/lib/python3.8/site-packages (from tensorboard<2.9,>=2.8->tensorflow) (0.6.1)\n",
      "Requirement already satisfied, skipping upgrade: importlib-metadata>=4.4; python_version < \"3.10\" in /home/paolo/.local/lib/python3.8/site-packages (from markdown>=2.6.8->tensorboard<2.9,>=2.8->tensorflow) (4.11.3)\n",
      "Requirement already satisfied, skipping upgrade: requests-oauthlib>=0.7.0 in /home/paolo/.local/lib/python3.8/site-packages (from google-auth-oauthlib<0.5,>=0.4.1->tensorboard<2.9,>=2.8->tensorflow) (1.3.1)\n",
      "Requirement already satisfied, skipping upgrade: rsa<5,>=3.1.4; python_version >= \"3.6\" in /home/paolo/.local/lib/python3.8/site-packages (from google-auth<3,>=1.6.3->tensorboard<2.9,>=2.8->tensorflow) (4.8)\n",
      "Requirement already satisfied, skipping upgrade: cachetools<6.0,>=2.0.0 in /home/paolo/.local/lib/python3.8/site-packages (from google-auth<3,>=1.6.3->tensorboard<2.9,>=2.8->tensorflow) (5.0.0)\n",
      "Requirement already satisfied, skipping upgrade: pyasn1-modules>=0.2.1 in /home/paolo/.local/lib/python3.8/site-packages (from google-auth<3,>=1.6.3->tensorboard<2.9,>=2.8->tensorflow) (0.2.8)\n",
      "Requirement already satisfied, skipping upgrade: zipp>=0.5 in /home/paolo/.local/lib/python3.8/site-packages (from importlib-metadata>=4.4; python_version < \"3.10\"->markdown>=2.6.8->tensorboard<2.9,>=2.8->tensorflow) (3.8.0)\n",
      "Requirement already satisfied, skipping upgrade: oauthlib>=3.0.0 in /usr/lib/python3/dist-packages (from requests-oauthlib>=0.7.0->google-auth-oauthlib<0.5,>=0.4.1->tensorboard<2.9,>=2.8->tensorflow) (3.1.0)\n",
      "Requirement already satisfied, skipping upgrade: pyasn1>=0.1.3 in /home/paolo/.local/lib/python3.8/site-packages (from rsa<5,>=3.1.4; python_version >= \"3.6\"->google-auth<3,>=1.6.3->tensorboard<2.9,>=2.8->tensorflow) (0.4.8)\n"
     ]
    }
   ],
   "source": [
    "!pip install --upgrade tensorflow"
   ]
  },
  {
   "cell_type": "code",
   "execution_count": 2,
   "metadata": {},
   "outputs": [
    {
     "name": "stdout",
     "output_type": "stream",
     "text": [
      "Requirement already up-to-date: tf-quant-finance in /home/paolo/.local/lib/python3.8/site-packages (0.0.1.dev31)\n",
      "Requirement already satisfied, skipping upgrade: numpy>=1.21 in /home/paolo/.local/lib/python3.8/site-packages (from tf-quant-finance) (1.22.3)\n",
      "Requirement already satisfied, skipping upgrade: protobuf in /home/paolo/.local/lib/python3.8/site-packages (from tf-quant-finance) (3.20.1)\n",
      "Requirement already satisfied, skipping upgrade: tensorflow-probability>=0.12.1 in /home/paolo/.local/lib/python3.8/site-packages (from tf-quant-finance) (0.16.0)\n",
      "Requirement already satisfied, skipping upgrade: attrs>=18.2.0 in /home/paolo/.local/lib/python3.8/site-packages (from tf-quant-finance) (21.2.0)\n",
      "Requirement already satisfied, skipping upgrade: dm-tree in /home/paolo/.local/lib/python3.8/site-packages (from tensorflow-probability>=0.12.1->tf-quant-finance) (0.1.7)\n",
      "Requirement already satisfied, skipping upgrade: six>=1.10.0 in /usr/lib/python3/dist-packages (from tensorflow-probability>=0.12.1->tf-quant-finance) (1.14.0)\n",
      "Requirement already satisfied, skipping upgrade: cloudpickle>=1.3 in /home/paolo/.local/lib/python3.8/site-packages (from tensorflow-probability>=0.12.1->tf-quant-finance) (2.0.0)\n",
      "Requirement already satisfied, skipping upgrade: decorator in /home/paolo/.local/lib/python3.8/site-packages (from tensorflow-probability>=0.12.1->tf-quant-finance) (5.1.0)\n",
      "Requirement already satisfied, skipping upgrade: absl-py in /home/paolo/.local/lib/python3.8/site-packages (from tensorflow-probability>=0.12.1->tf-quant-finance) (1.0.0)\n",
      "Requirement already satisfied, skipping upgrade: gast>=0.3.2 in /home/paolo/.local/lib/python3.8/site-packages (from tensorflow-probability>=0.12.1->tf-quant-finance) (0.5.3)\n"
     ]
    }
   ],
   "source": [
    "!pip install --upgrade tf-quant-finance"
   ]
  },
  {
   "cell_type": "code",
   "execution_count": 3,
   "metadata": {},
   "outputs": [
    {
     "name": "stdout",
     "output_type": "stream",
     "text": [
      "Requirement already satisfied: scikit-optimize in /home/paolo/.local/lib/python3.8/site-packages (0.9.0)\n",
      "Requirement already satisfied: scipy>=0.19.1 in /home/paolo/.local/lib/python3.8/site-packages (from scikit-optimize) (1.8.0)\n",
      "Requirement already satisfied: pyaml>=16.9 in /home/paolo/.local/lib/python3.8/site-packages (from scikit-optimize) (21.10.1)\n",
      "Requirement already satisfied: scikit-learn>=0.20.0 in /home/paolo/.local/lib/python3.8/site-packages (from scikit-optimize) (1.0.2)\n",
      "Requirement already satisfied: joblib>=0.11 in /home/paolo/.local/lib/python3.8/site-packages (from scikit-optimize) (1.1.0)\n",
      "Requirement already satisfied: numpy>=1.13.3 in /home/paolo/.local/lib/python3.8/site-packages (from scikit-optimize) (1.22.3)\n",
      "Requirement already satisfied: PyYAML in /usr/lib/python3/dist-packages (from pyaml>=16.9->scikit-optimize) (5.3.1)\n",
      "Requirement already satisfied: threadpoolctl>=2.0.0 in /home/paolo/.local/lib/python3.8/site-packages (from scikit-learn>=0.20.0->scikit-optimize) (3.1.0)\n"
     ]
    }
   ],
   "source": [
    "!pip install scikit-optimize"
   ]
  },
  {
   "cell_type": "code",
   "execution_count": 9,
   "metadata": {
    "id": "bEUjuRSZlNSI",
    "pycharm": {
     "name": "#%%\n"
    }
   },
   "outputs": [
    {
     "ename": "ModuleNotFoundError",
     "evalue": "No module named 'tf_quant_finance'",
     "output_type": "error",
     "traceback": [
      "\u001b[0;31m---------------------------------------------------------------------------\u001b[0m",
      "\u001b[0;31mModuleNotFoundError\u001b[0m                       Traceback (most recent call last)",
      "\u001b[0;32m<ipython-input-9-4ca3c6b0ee41>\u001b[0m in \u001b[0;36m<module>\u001b[0;34m\u001b[0m\n\u001b[1;32m      8\u001b[0m \u001b[0;34m\u001b[0m\u001b[0m\n\u001b[1;32m      9\u001b[0m \u001b[0;31m# Import for Tensorflow Quant Finance\u001b[0m\u001b[0;34m\u001b[0m\u001b[0;34m\u001b[0m\u001b[0;34m\u001b[0m\u001b[0m\n\u001b[0;32m---> 10\u001b[0;31m \u001b[0;32mimport\u001b[0m \u001b[0mtf_quant_finance\u001b[0m \u001b[0;32mas\u001b[0m \u001b[0mtff\u001b[0m\u001b[0;34m\u001b[0m\u001b[0;34m\u001b[0m\u001b[0m\n\u001b[0m\u001b[1;32m     11\u001b[0m \u001b[0;34m\u001b[0m\u001b[0m\n\u001b[1;32m     12\u001b[0m \u001b[0;31m# Shortcut alias\u001b[0m\u001b[0;34m\u001b[0m\u001b[0;34m\u001b[0m\u001b[0;34m\u001b[0m\u001b[0m\n",
      "\u001b[0;31mModuleNotFoundError\u001b[0m: No module named 'tf_quant_finance'"
     ]
    }
   ],
   "source": [
    "#@title **Imports** { display-mode: \"form\" }\n",
    "\n",
    "from typing import Tuple\n",
    "\n",
    "import numpy as np\n",
    "\n",
    "import pandas as pd\n",
    "\n",
    "# Import for Tensorflow Quant Finance\n",
    "import tf_quant_finance as tff \n",
    "\n",
    "# Shortcut alias\n",
    "pde = tff.math.pde\n",
    "\n",
    "from IPython.core.pylabtools import figsize\n",
    "figsize(21, 14)  # better graph size for Colab \n",
    "\n",
    "from tf_quant_finance.experimental.lsm_algorithm import lsm\n",
    "from tf_quant_finance.experimental.lsm_algorithm import payoff\n",
    "from typing import Tuple\n",
    "\n",
    "from skopt.space import Space\n",
    "from skopt.sampler import Lhs"
   ]
  },
  {
   "cell_type": "markdown",
   "metadata": {
    "id": "Zx9ogpa3H7hp",
    "pycharm": {
     "name": "#%% md\n"
    }
   },
   "source": [
    "# Heston model \n",
    "\n",
    "Different form the Geometric Browian process that assumes that the volatility is constant, the Heston model is a stochastic volatility model: the volatility follows a random process.\n",
    "\n",
    "The Heston model assumes that $S_t$, the price of the asset, is determined by a stochastic process:\n",
    "\n",
    "$$\n",
    "dS_t = \\mu S_t dt + \\sqrt{v_t} S_t dW_t^S, S_{t_0} = S_0,\n",
    "$$\n",
    "\n",
    "$$\n",
    "v_t = \\kappa (\\theta - v_t) dt + \\gamma \\sqrt{v_t} dW_t^v, v_{t_0} = v_0\n",
    "$$\n",
    "\n",
    "$$\n",
    "dW_t^S dW_t^v = \\rho dt\n",
    "$$\n",
    "\n",
    "with $v_t$ the instantaneous variance, and $W_t^S$, $W_t^v$ are two Wiener processes with correlation correlation coefficient $\\rho$. The second equation models a mean reversion process for the variance, where $\\kappa$ is the reversion speed, $\\theta$ is the log average variance, $\\gamma$ is the volatility of the variance and $v_0$ is the initial volatility."
   ]
  },
  {
   "cell_type": "code",
   "execution_count": 5,
   "metadata": {
    "id": "4dQ9T8m6nLqi",
    "pycharm": {
     "name": "#%%\n"
    }
   },
   "outputs": [],
   "source": [
    "def generate_heston_path(S, T, r, kappa, theta, v_0, rho, xi,\n",
    "                         steps, n_paths, return_vol: bool = False):\n",
    "    \"\"\"\n",
    "    \n",
    "    :param S: Underlying price at time t=0\n",
    "    :param T: Time to Expiration (in years)\n",
    "    :param r: Interest Free rate\n",
    "    :param kappa: rate of mean reversion\n",
    "    :param theta: long run average variance\n",
    "    :param v_0: Volatility at time t=0\n",
    "    :param rho: instantaneous correlation of the Weiner processes\n",
    "    :param xi: volatility of volatility\n",
    "    :param steps: number of steps of the simulation\n",
    "    :param n_paths: number of simulations\n",
    "    :param return_vol: return volatility\n",
    "    :return: \n",
    "    \"\"\"\n",
    "    dt = T / steps\n",
    "    size = (n_paths, steps)\n",
    "    prices = np.zeros(size)\n",
    "    sigs = np.zeros(size)\n",
    "    S_t = S\n",
    "    v_t = v_0\n",
    "\n",
    "    for t in range(steps):\n",
    "        mu = np.array([0, 0])\n",
    "        cov = np.array([[1, rho],\n",
    "                        [rho, 1]])\n",
    "        WT = np.random.multivariate_normal(mu, cov=cov, size=n_paths) * np.sqrt(dt)\n",
    "        S_t = S_t * (np.exp((r - v_t / 2) * dt + np.sqrt(v_t) * WT[:, 0]))\n",
    "        v_t = np.abs(v_t + kappa * (theta - v_t) * dt + xi * np.sqrt(v_t) * WT[:, 1])\n",
    "        prices[:, t] = S_t\n",
    "        sigs[:, t] = v_t\n",
    "\n",
    "    if return_vol:\n",
    "        return prices, sigs\n",
    "\n",
    "    return prices"
   ]
  },
  {
   "cell_type": "code",
   "execution_count": 6,
   "metadata": {
    "id": "yzx0E43TuQCV",
    "pycharm": {
     "name": "#%%\n"
    }
   },
   "outputs": [],
   "source": [
    "S = 100 # Underlying Price\n",
    "N = 50 # Number of simulations\n",
    "\n",
    "dtype = np.float64"
   ]
  },
  {
   "cell_type": "code",
   "execution_count": 10,
   "metadata": {
    "id": "3BoePJY9ABu_",
    "pycharm": {
     "name": "#%%\n"
    }
   },
   "outputs": [],
   "source": [
    "def params_ranges(S,\n",
    "                  strike_step: float = 1.0,\n",
    "                  vol_range: Tuple[float, float, float] = (0.02, 1.02, 0.02),\n",
    "                  interest_range: Tuple[float, float, float] = (0.002, 0.1, 0.01),\n",
    "                  tau_range: Tuple[float, float, float] = (0.15, 1.1, 0.02)) -> Tuple[\n",
    "    np.array, np.array, np.array, np.array]:\n",
    "    \"\"\"\n",
    "    Generate ranges for strike prices, volatility, interest rates and time to expiration\n",
    "    :param strike_step:\n",
    "    :param S: the underlying price\n",
    "    :param vol_range: (start_vol, end_vol, step_vol) for the volatility range\n",
    "    :param interest_range: (start_vol, end_vol, step_vol) for the volatility range\n",
    "    :param tau_range: (start_vol, end_vol, step_vol) for the volatility range\n",
    "    :return: (strike_range, volatility_range, interest_rates_range, time_to_expiration_range)\n",
    "    \"\"\"\n",
    "    strikes = np.arange(S // 2, S + (S // 2) + 1, strike_step)\n",
    "    vols = np.arange(vol_range[0], vol_range[1], vol_range[2])\n",
    "    interests = np.arange(interest_range[0], interest_range[1], interest_range[2])\n",
    "    taus = np.arange(tau_range[0], tau_range[1], tau_range[2])\n",
    "\n",
    "    return strikes, vols, interests, taus"
   ]
  },
  {
   "cell_type": "code",
   "execution_count": 11,
   "metadata": {
    "id": "8rfm5EK3AQT2",
    "pycharm": {
     "name": "#%%\n"
    }
   },
   "outputs": [],
   "source": [
    "s_range, vol_range, r_range, t_range = params_ranges(100, \n",
    "              vol_range=(0.1, 1.05, 0.05), \n",
    "              interest_range=(0.01, 0.11, 0.01),\n",
    "              tau_range=(0.1, 1.2, 0.1))"
   ]
  },
  {
   "cell_type": "markdown",
   "metadata": {
    "id": "mxr7xQIMDilS",
    "pycharm": {
     "name": "#%% md\n"
    }
   },
   "source": [
    "For sampling tecnique used is the ***Latin hypercube sampling (LHS)***, which is able to generate random samples of the parameter values form a multinomial distribution.\n",
    "\n",
    "In our case the variables (dimension of the hyperspace) are 7, namely:\n",
    "\n",
    "- interest rate $r$\n",
    "- time to expiration $\\tau$\n",
    "- correlation $\\rho$\n",
    "- reversion speed $\\kappa$\n",
    "- the volatility of the volatility $x_i$\n",
    "- the long average variance $\\theta$\n",
    "- the initial volatility $v_0$\n"
   ]
  },
  {
   "cell_type": "code",
   "execution_count": 12,
   "metadata": {
    "id": "9QFwDkvixhKA",
    "pycharm": {
     "name": "#%%\n"
    }
   },
   "outputs": [
    {
     "ename": "NameError",
     "evalue": "name 'Space' is not defined",
     "output_type": "error",
     "traceback": [
      "\u001b[0;31m---------------------------------------------------------------------------\u001b[0m",
      "\u001b[0;31mNameError\u001b[0m                                 Traceback (most recent call last)",
      "\u001b[0;32m<ipython-input-12-31240f598d32>\u001b[0m in \u001b[0;36m<module>\u001b[0;34m\u001b[0m\n\u001b[0;32m----> 1\u001b[0;31m space = Space([\n\u001b[0m\u001b[1;32m      2\u001b[0m                \u001b[0;34m(\u001b[0m\u001b[0;36m0.01\u001b[0m\u001b[0;34m,\u001b[0m \u001b[0;36m0.10\u001b[0m\u001b[0;34m)\u001b[0m\u001b[0;34m,\u001b[0m \u001b[0;31m# interest rate\u001b[0m\u001b[0;34m\u001b[0m\u001b[0;34m\u001b[0m\u001b[0m\n\u001b[1;32m      3\u001b[0m                \u001b[0;34m(\u001b[0m\u001b[0;36m0.1\u001b[0m\u001b[0;34m,\u001b[0m \u001b[0;36m1.1\u001b[0m\u001b[0;34m)\u001b[0m\u001b[0;34m,\u001b[0m \u001b[0;31m# time to expiration\u001b[0m\u001b[0;34m\u001b[0m\u001b[0;34m\u001b[0m\u001b[0m\n\u001b[1;32m      4\u001b[0m                \u001b[0;34m(\u001b[0m\u001b[0;34m-\u001b[0m\u001b[0;36m0.9\u001b[0m\u001b[0;34m,\u001b[0m \u001b[0;36m0.0\u001b[0m\u001b[0;34m)\u001b[0m\u001b[0;34m,\u001b[0m \u001b[0;31m# correlation\u001b[0m\u001b[0;34m\u001b[0m\u001b[0;34m\u001b[0m\u001b[0m\n\u001b[1;32m      5\u001b[0m                \u001b[0;34m(\u001b[0m\u001b[0;36m0.0\u001b[0m\u001b[0;34m,\u001b[0m \u001b[0;36m2.0\u001b[0m\u001b[0;34m)\u001b[0m\u001b[0;34m,\u001b[0m \u001b[0;31m# reversion speed\u001b[0m\u001b[0;34m\u001b[0m\u001b[0;34m\u001b[0m\u001b[0m\n",
      "\u001b[0;31mNameError\u001b[0m: name 'Space' is not defined"
     ]
    }
   ],
   "source": [
    "space = Space([\n",
    "               (0.01, 0.10), # interest rate\n",
    "               (0.1, 1.1), # time to expiration\n",
    "               (-0.9, 0.0), # correlation\n",
    "               (0.0, 2.0), # reversion speed\n",
    "               (0.0, 0.5), # volatility of volatility\n",
    "               (0.0, 0.5),  # long average variance\n",
    "               (0.05, 0.50), # initial volatility\n",
    "               ])\n",
    "lhs = Lhs(lhs_type=\"classic\", criterion=None)\n",
    "x = lhs.generate(space.dimensions, 3000)"
   ]
  },
  {
   "cell_type": "markdown",
   "metadata": {
    "id": "WxIzZjlWGBD9",
    "pycharm": {
     "name": "#%% md\n"
    }
   },
   "source": [
    "After we've generated our samples, we are going to generate the heston paths for each of these points whit the following list comprehension."
   ]
  },
  {
   "cell_type": "code",
   "execution_count": null,
   "metadata": {
    "id": "9FAE1pP5zXn1",
    "pycharm": {
     "name": "#%%\n"
    }
   },
   "outputs": [],
   "source": [
    "paths_list = [(generate_heston_path(S, t, r, k, theta, v0, rho, xi,\n",
    "                         int(365 * t), N), r ,t, rho, k, xi, theta, v0) for r, t, rho, k, xi, theta, v0 in x]"
   ]
  },
  {
   "cell_type": "code",
   "execution_count": null,
   "metadata": {
    "id": "tzppKWEr_mUn",
    "pycharm": {
     "name": "#%%\n"
    }
   },
   "outputs": [],
   "source": [
    "option_data = pd.DataFrame(\n",
    "        columns=['Price', \n",
    "                 'Strike', \n",
    "                 'Type', \n",
    "                 'Kappa',\n",
    "                 'Rho',\n",
    "                 'Theta',\n",
    "                 'Xi',\n",
    "                 'V_0', \n",
    "                 'Interest Rate', \n",
    "                 'Time to Expiration', \n",
    "                 'Option Price'])"
   ]
  },
  {
   "cell_type": "markdown",
   "metadata": {
    "id": "_9G_UQN3GX_J",
    "pycharm": {
     "name": "#%% md\n"
    }
   },
   "source": [
    "The generation option loop is going to calculate an option chain for each of the paths generated in the previous step, and append this option chain to the option dataframe. Each option chain is generated in a way that the moneyness values ($m = S/K$ for a call and $m = K/S$ for a put) are between $0.5$ and $1.5$, so in this particular case the strikes are between $50 \\$$ and $150 \\$ $."
   ]
  },
  {
   "cell_type": "code",
   "execution_count": null,
   "metadata": {
    "id": "gXZZANjDBZyY",
    "pycharm": {
     "name": "#%%\n"
    }
   },
   "outputs": [],
   "source": [
    "basis_fn = lsm.make_polynomial_basis(2)\n",
    "payoff_fn = payoff.make_basket_put_payoff(s_range, dtype=dtype)\n",
    "\n",
    "for path, r ,t, rho, k, xi, theta, v0 in paths_list:\n",
    "  # Option price\n",
    "  path = np.expand_dims(path, -1)\n",
    "  steps = int(365 * t)\n",
    "  interest_rates = np.array([0.015] * (steps - 1))\n",
    "  discount_factors = np.exp(-np.cumsum(interest_rates))\n",
    "  opt_prices = lsm.least_square_mc(\n",
    "        path, np.arange(1, steps, 1), payoff_fn, basis_fn,\n",
    "        discount_factors=discount_factors, dtype=dtype).numpy()\n",
    "  opt_chain = pd.DataFrame(\n",
    "        columns=['Price', \n",
    "                 'Strike', \n",
    "                 'Type', \n",
    "                 'Kappa',\n",
    "                 'Rho',\n",
    "                 'Theta',\n",
    "                 'Xi',\n",
    "                 'V_0', \n",
    "                 'Interest Rate', \n",
    "                 'Time to Expiration', \n",
    "                 'Option Price'])\n",
    "  opt_chain['Strike'] = s_range\n",
    "  opt_chain['Option Price'] = opt_prices\n",
    "  opt_chain['Type'] = 'P'\n",
    "  opt_chain['Price'] = S\n",
    "  opt_chain['Interest Rate'] = r\n",
    "  opt_chain['Time to Expiration'] = t\n",
    "  opt_chain['Kappa'] = k\n",
    "  opt_chain['Rho'] = rho\n",
    "  opt_chain['V_0'] = v0\n",
    "  opt_chain['Theta'] = theta\n",
    "  opt_chain['Xi'] = xi\n",
    "\n",
    "  option_data = pd.concat([option_data, opt_chain], ignore_index=True)"
   ]
  },
  {
   "cell_type": "code",
   "execution_count": null,
   "metadata": {
    "colab": {
     "base_uri": "https://localhost:8080/",
     "height": 424
    },
    "id": "1xHggqVC--Tx",
    "outputId": "fc6f170b-aaf5-4b30-98b7-5c7b248eb601",
    "pycharm": {
     "name": "#%%\n"
    }
   },
   "outputs": [],
   "source": [
    "option_data"
   ]
  },
  {
   "cell_type": "code",
   "execution_count": null,
   "metadata": {
    "id": "Q-QUM_Ko7Vd5",
    "pycharm": {
     "name": "#%%\n"
    }
   },
   "outputs": [],
   "source": [
    "option_data.to_csv('../data/heston_mc_synthetic_puts.csv')"
   ]
  }
 ],
 "metadata": {
  "accelerator": "GPU",
  "colab": {
   "collapsed_sections": [],
   "name": "tff-lsmc-option-generator heston puts.ipynb",
   "provenance": []
  },
  "kernelspec": {
   "display_name": "pytorch",
   "language": "python",
   "name": "pytorch"
  },
  "language_info": {
   "codemirror_mode": {
    "name": "ipython",
    "version": 3
   },
   "file_extension": ".py",
   "mimetype": "text/x-python",
   "name": "python",
   "nbconvert_exporter": "python",
   "pygments_lexer": "ipython3",
   "version": "3.8.10"
  }
 },
 "nbformat": 4,
 "nbformat_minor": 1
}
