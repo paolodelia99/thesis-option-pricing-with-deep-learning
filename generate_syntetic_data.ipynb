{
 "cells": [
  {
   "cell_type": "code",
   "execution_count": 1,
   "metadata": {
    "collapsed": true
   },
   "outputs": [],
   "source": [
    "from pricing_models.generate_data import binom_option_data, trinomial_option_data, mc_option_data_geo"
   ]
  },
  {
   "cell_type": "code",
   "execution_count": 2,
   "outputs": [],
   "source": [
    "S = 100"
   ],
   "metadata": {
    "collapsed": false,
    "pycharm": {
     "name": "#%%\n"
    }
   }
  },
  {
   "cell_type": "code",
   "execution_count": null,
   "outputs": [],
   "source": [
    "binom_synthetic_calls = binom_option_data(\n",
    "    S,\n",
    "    'C',\n",
    "    vol_range=(0.05, 1.05, 0.05),\n",
    "    interest_range=(0.01, 0.11, 0.01),\n",
    "    tau_range=(0.1, 1.1, 0.1)\n",
    ")\n",
    "binom_synthetic_puts = binom_option_data(\n",
    "    S,\n",
    "    'P',\n",
    "    vol_range=(0.05, 1.05, 0.05),\n",
    "    interest_range=(0.01, 0.11, 0.01),\n",
    "    tau_range=(0.1, 1.1, 0.1)\n",
    ")"
   ],
   "metadata": {
    "collapsed": false,
    "pycharm": {
     "name": "#%%\n",
     "is_executing": true
    }
   }
  },
  {
   "cell_type": "code",
   "execution_count": null,
   "outputs": [],
   "source": [
    "binom_synthetic_calls.to_csv('data/binom_synthetic_calls.csv')\n",
    "binom_synthetic_puts.to_csv('data/binom_synthetic_puts.csv')"
   ],
   "metadata": {
    "collapsed": false,
    "pycharm": {
     "name": "#%%\n",
     "is_executing": true
    }
   }
  },
  {
   "cell_type": "code",
   "execution_count": null,
   "outputs": [],
   "source": [
    "trinomial_synthetic_calls = trinomial_option_data(S, 'C')\n",
    "trinomial_synthetic_puts = trinomial_option_data(S, 'P')"
   ],
   "metadata": {
    "collapsed": false,
    "pycharm": {
     "name": "#%%\n"
    }
   }
  },
  {
   "cell_type": "code",
   "execution_count": null,
   "outputs": [],
   "source": [
    "trinomial_synthetic_calls.to_csv('data/trinomial_synthetic_calls.csv')\n",
    "trinomial_synthetic_puts.to_csv('data/trinomial_synthetic_puts.csv')"
   ],
   "metadata": {
    "collapsed": false,
    "pycharm": {
     "name": "#%%\n"
    }
   }
  },
  {
   "cell_type": "code",
   "execution_count": null,
   "outputs": [],
   "source": [
    "mc_opt_calls = mc_option_data_geo(S, 30, 'C')\n",
    "mc_opt_puts = mc_option_data_geo(S, 30, 'P')"
   ],
   "metadata": {
    "collapsed": false,
    "pycharm": {
     "name": "#%%\n"
    }
   }
  },
  {
   "cell_type": "code",
   "execution_count": null,
   "outputs": [],
   "source": [
    "mc_opt_calls.to_csv('data/gbm_mc_calls.csv')\n",
    "mc_opt_puts.to_csv('data/gbm_mc_puts.csv')"
   ],
   "metadata": {
    "collapsed": false,
    "pycharm": {
     "name": "#%%\n"
    }
   }
  }
 ],
 "metadata": {
  "kernelspec": {
   "display_name": "Python 3",
   "language": "python",
   "name": "python3"
  },
  "language_info": {
   "codemirror_mode": {
    "name": "ipython",
    "version": 2
   },
   "file_extension": ".py",
   "mimetype": "text/x-python",
   "name": "python",
   "nbconvert_exporter": "python",
   "pygments_lexer": "ipython2",
   "version": "2.7.6"
  }
 },
 "nbformat": 4,
 "nbformat_minor": 0
}